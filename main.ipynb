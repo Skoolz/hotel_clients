{
 "cells": [
  {
   "cell_type": "markdown",
   "metadata": {},
   "source": [
    "# Прогнозирование оттока клиентов в сети отелей «Как в гостях»"
   ]
  },
  {
   "cell_type": "code",
   "execution_count": 1,
   "metadata": {
    "scrolled": true
   },
   "outputs": [
    {
     "name": "stdout",
     "output_type": "stream",
     "text": [
      "Requirement already satisfied: ydata-profiling in /opt/conda/lib/python3.9/site-packages (4.1.2)\n",
      "Requirement already satisfied: pydantic<1.11,>=1.8.1 in /opt/conda/lib/python3.9/site-packages (from ydata-profiling) (1.8.2)\n",
      "Requirement already satisfied: requests<2.29,>=2.24.0 in /opt/conda/lib/python3.9/site-packages (from ydata-profiling) (2.25.1)\n",
      "Requirement already satisfied: jinja2<3.2,>=2.11.1 in /opt/conda/lib/python3.9/site-packages (from ydata-profiling) (3.0.1)\n",
      "Requirement already satisfied: PyYAML<6.1,>=5.0.0 in /opt/conda/lib/python3.9/site-packages (from ydata-profiling) (6.0)\n",
      "Requirement already satisfied: multimethod<1.10,>=1.4 in /opt/conda/lib/python3.9/site-packages (from ydata-profiling) (1.9.1)\n",
      "Requirement already satisfied: tqdm<4.65,>=4.48.2 in /opt/conda/lib/python3.9/site-packages (from ydata-profiling) (4.61.2)\n",
      "Requirement already satisfied: typeguard<2.14,>=2.13.2 in /opt/conda/lib/python3.9/site-packages (from ydata-profiling) (2.13.3)\n",
      "Requirement already satisfied: matplotlib<3.7,>=3.2 in /opt/conda/lib/python3.9/site-packages (from ydata-profiling) (3.3.4)\n",
      "Requirement already satisfied: scipy<1.10,>=1.4.1 in /opt/conda/lib/python3.9/site-packages (from ydata-profiling) (1.9.1)\n",
      "Requirement already satisfied: statsmodels<0.14,>=0.13.2 in /opt/conda/lib/python3.9/site-packages (from ydata-profiling) (0.13.2)\n",
      "Requirement already satisfied: phik<0.13,>=0.11.1 in /opt/conda/lib/python3.9/site-packages (from ydata-profiling) (0.12.3)\n",
      "Requirement already satisfied: htmlmin==0.1.12 in /opt/conda/lib/python3.9/site-packages (from ydata-profiling) (0.1.12)\n",
      "Requirement already satisfied: seaborn<0.13,>=0.10.1 in /opt/conda/lib/python3.9/site-packages (from ydata-profiling) (0.11.1)\n",
      "Requirement already satisfied: pandas!=1.4.0,<1.6,>1.1 in /opt/conda/lib/python3.9/site-packages (from ydata-profiling) (1.2.4)\n",
      "Requirement already satisfied: numpy<1.24,>=1.16.0 in /opt/conda/lib/python3.9/site-packages (from ydata-profiling) (1.21.1)\n",
      "Requirement already satisfied: visions[type_image_path]==0.7.5 in /opt/conda/lib/python3.9/site-packages (from ydata-profiling) (0.7.5)\n",
      "Requirement already satisfied: imagehash==4.3.1 in /opt/conda/lib/python3.9/site-packages (from ydata-profiling) (4.3.1)\n",
      "Requirement already satisfied: pillow in /opt/conda/lib/python3.9/site-packages (from imagehash==4.3.1->ydata-profiling) (8.4.0)\n",
      "Requirement already satisfied: PyWavelets in /opt/conda/lib/python3.9/site-packages (from imagehash==4.3.1->ydata-profiling) (1.4.1)\n",
      "Requirement already satisfied: attrs>=19.3.0 in /opt/conda/lib/python3.9/site-packages (from visions[type_image_path]==0.7.5->ydata-profiling) (21.2.0)\n",
      "Requirement already satisfied: tangled-up-in-unicode>=0.0.4 in /opt/conda/lib/python3.9/site-packages (from visions[type_image_path]==0.7.5->ydata-profiling) (0.2.0)\n",
      "Requirement already satisfied: networkx>=2.4 in /opt/conda/lib/python3.9/site-packages (from visions[type_image_path]==0.7.5->ydata-profiling) (3.1)\n",
      "Requirement already satisfied: MarkupSafe>=2.0 in /opt/conda/lib/python3.9/site-packages (from jinja2<3.2,>=2.11.1->ydata-profiling) (2.1.1)\n",
      "Requirement already satisfied: cycler>=0.10 in /opt/conda/lib/python3.9/site-packages (from matplotlib<3.7,>=3.2->ydata-profiling) (0.11.0)\n",
      "Requirement already satisfied: python-dateutil>=2.1 in /opt/conda/lib/python3.9/site-packages (from matplotlib<3.7,>=3.2->ydata-profiling) (2.8.1)\n",
      "Requirement already satisfied: pyparsing!=2.0.4,!=2.1.2,!=2.1.6,>=2.0.3 in /opt/conda/lib/python3.9/site-packages (from matplotlib<3.7,>=3.2->ydata-profiling) (2.4.7)\n",
      "Requirement already satisfied: kiwisolver>=1.0.1 in /opt/conda/lib/python3.9/site-packages (from matplotlib<3.7,>=3.2->ydata-profiling) (1.4.4)\n",
      "Requirement already satisfied: pytz>=2017.3 in /opt/conda/lib/python3.9/site-packages (from pandas!=1.4.0,<1.6,>1.1->ydata-profiling) (2021.1)\n",
      "Requirement already satisfied: joblib>=0.14.1 in /opt/conda/lib/python3.9/site-packages (from phik<0.13,>=0.11.1->ydata-profiling) (1.1.0)\n",
      "Requirement already satisfied: typing-extensions>=3.7.4.3 in /opt/conda/lib/python3.9/site-packages (from pydantic<1.11,>=1.8.1->ydata-profiling) (4.3.0)\n",
      "Requirement already satisfied: six>=1.5 in /opt/conda/lib/python3.9/site-packages (from python-dateutil>=2.1->matplotlib<3.7,>=3.2->ydata-profiling) (1.16.0)\n",
      "Requirement already satisfied: chardet<5,>=3.0.2 in /opt/conda/lib/python3.9/site-packages (from requests<2.29,>=2.24.0->ydata-profiling) (4.0.0)\n",
      "Requirement already satisfied: idna<3,>=2.5 in /opt/conda/lib/python3.9/site-packages (from requests<2.29,>=2.24.0->ydata-profiling) (2.10)\n",
      "Requirement already satisfied: certifi>=2017.4.17 in /opt/conda/lib/python3.9/site-packages (from requests<2.29,>=2.24.0->ydata-profiling) (2022.6.15)\n",
      "Requirement already satisfied: urllib3<1.27,>=1.21.1 in /opt/conda/lib/python3.9/site-packages (from requests<2.29,>=2.24.0->ydata-profiling) (1.26.6)\n",
      "Requirement already satisfied: patsy>=0.5.2 in /opt/conda/lib/python3.9/site-packages (from statsmodels<0.14,>=0.13.2->ydata-profiling) (0.5.2)\n",
      "Requirement already satisfied: packaging>=21.3 in /opt/conda/lib/python3.9/site-packages (from statsmodels<0.14,>=0.13.2->ydata-profiling) (21.3)\n",
      "Note: you may need to restart the kernel to use updated packages.\n"
     ]
    }
   ],
   "source": [
    "%pip install ydata-profiling"
   ]
  },
  {
   "cell_type": "code",
   "execution_count": 2,
   "metadata": {},
   "outputs": [],
   "source": [
    "from ydata_profiling import ProfileReport\n",
    "import pandas as pd\n",
    "import math\n",
    "\n",
    "from statsmodels.stats.outliers_influence import variance_inflation_factor\n",
    "from sklearn.preprocessing import StandardScaler\n",
    "from sklearn.model_selection import train_test_split\n",
    "from sklearn.linear_model import LogisticRegression\n",
    "from sklearn.metrics import f1_score\n",
    "from sklearn.metrics import roc_auc_score\n",
    "from sklearn.ensemble import RandomForestClassifier\n",
    "from sklearn.tree import DecisionTreeClassifier\n",
    "from sklearn.metrics import roc_curve\n",
    "from matplotlib import pyplot as plt\n",
    "import numpy as np\n",
    "from sklearn.preprocessing import OneHotEncoder\n",
    "from sklearn.compose import ColumnTransformer\n",
    "from sklearn.model_selection import cross_val_score\n",
    "from sklearn.pipeline import Pipeline\n",
    "from sklearn.metrics import confusion_matrix\n",
    "from sklearn.metrics import ConfusionMatrixDisplay\n",
    "from sklearn.preprocessing import OrdinalEncoder\n",
    "from sklearn.model_selection import KFold"
   ]
  },
  {
   "cell_type": "code",
   "execution_count": 3,
   "metadata": {},
   "outputs": [],
   "source": [
    "df = pd.read_csv('/datasets/hotel_train.csv',index_col='id')"
   ]
  },
  {
   "cell_type": "code",
   "execution_count": 4,
   "metadata": {},
   "outputs": [
    {
     "name": "stdout",
     "output_type": "stream",
     "text": [
      "<class 'pandas.core.frame.DataFrame'>\n",
      "Int64Index: 65229 entries, 0 to 84121\n",
      "Data columns (total 24 columns):\n",
      " #   Column                          Non-Null Count  Dtype  \n",
      "---  ------                          --------------  -----  \n",
      " 0   is_canceled                     65229 non-null  int64  \n",
      " 1   lead_time                       65229 non-null  float64\n",
      " 2   arrival_date_year               65229 non-null  int64  \n",
      " 3   arrival_date_month              65229 non-null  object \n",
      " 4   arrival_date_week_number        65229 non-null  int64  \n",
      " 5   arrival_date_day_of_month       65229 non-null  int64  \n",
      " 6   stays_in_weekend_nights         65229 non-null  int64  \n",
      " 7   stays_in_week_nights            65229 non-null  int64  \n",
      " 8   adults                          65229 non-null  float64\n",
      " 9   children                        65229 non-null  float64\n",
      " 10  babies                          65229 non-null  float64\n",
      " 11  meal                            65229 non-null  object \n",
      " 12  country                         65229 non-null  object \n",
      " 13  distribution_channel            65229 non-null  object \n",
      " 14  is_repeated_guest               65229 non-null  int64  \n",
      " 15  previous_cancellations          65229 non-null  int64  \n",
      " 16  previous_bookings_not_canceled  65229 non-null  int64  \n",
      " 17  reserved_room_type              65229 non-null  object \n",
      " 18  booking_changes                 65229 non-null  int64  \n",
      " 19  days_in_waiting_list            65229 non-null  int64  \n",
      " 20  customer_type                   65229 non-null  object \n",
      " 21  required_car_parking_spaces     65229 non-null  int64  \n",
      " 22  total_of_special_requests       65229 non-null  int64  \n",
      " 23  total_nights                    65229 non-null  int64  \n",
      "dtypes: float64(4), int64(14), object(6)\n",
      "memory usage: 12.4+ MB\n"
     ]
    }
   ],
   "source": [
    "df.info()"
   ]
  },
  {
   "cell_type": "code",
   "execution_count": null,
   "metadata": {
    "scrolled": true
   },
   "outputs": [],
   "source": [
    "ProfileReport(df)"
   ]
  },
  {
   "cell_type": "markdown",
   "metadata": {},
   "source": [
    "#### Вывод"
   ]
  },
  {
   "cell_type": "markdown",
   "metadata": {},
   "source": [
    "Количество объектов: 65 229<br/>\n",
    "Отсутствуют пропуски в столбцах<br/>\n",
    "Признаки:<br/>\n",
    "id — номер записи;<br/>\n",
    "adults — количество взрослых постояльцев;<br/>\n",
    "arrival_date_year — год заезда;<br/>\n",
    "arrival_date_month — месяц заезда;<br/>\n",
    "arrival_date_week_number — неделя заезда;<br/>\n",
    "arrival_date_day_of_month — день заезда;<br/>\n",
    "babies — количество младенцев;<br/>\n",
    "booking_changes — количество изменений параметров заказа;<br/>\n",
    "children — количество детей от 3 до 14 лет;<br/>\n",
    "country — гражданство постояльца;<br/>\n",
    "customer_type — тип заказчика:<br/>\n",
    "Contract — договор с юридическим лицом;<br/>\n",
    "Group — групповой заезд;<br/>\n",
    "Transient — не связано с договором или групповым заездом;<br/>\n",
    "Transient-party — не связано с договором или групповым заездом, но связано с бронированием типа Transient.<br/>\n",
    "days_in_waiting_list — сколько дней заказ ожидал подтверждения;<br/>\n",
    "distribution_channel — канал дистрибуции заказа;<br/>\n",
    "is_canceled — отмена заказа;<br/>\n",
    "is_repeated_guest — признак того, что гость бронирует номер второй раз;<br/>\n",
    "lead_time — количество дней между датой бронирования и датой прибытия;<br/>\n",
    "meal — опции заказа:<br/>\n",
    "SC — нет дополнительных опций;<br/>\n",
    "BB — включён завтрак;<br/>\n",
    "HB — включён завтрак и обед;<br/>\n",
    "FB — включён завтрак, обед и ужин.<br/>\n",
    "previous_bookings_not_canceled — количество подтверждённых заказов у клиента;<br/>\n",
    "previous_cancellations — количество отменённых заказов у клиента;<br/>\n",
    "required_car_parking_spaces — необходимость места для автомобиля;<br/>\n",
    "reserved_room_type — тип забронированной комнаты;<br/>\n",
    "stays_in_weekend_nights — количество ночей в выходные дни;<br/>\n",
    "stays_in_week_nights — количество ночей в будние дни;<br/>\n",
    "total_nights — общее количество ночей;<br/>\n",
    "total_of_special_requests — количество специальных отметок.<br/>\n",
    "Целевой признак:is_canceled<br/>"
   ]
  },
  {
   "cell_type": "markdown",
   "metadata": {},
   "source": [
    "### Шаг 2. Предобработка и исследовательский анализ данных"
   ]
  },
  {
   "cell_type": "code",
   "execution_count": 6,
   "metadata": {},
   "outputs": [
    {
     "data": {
      "text/html": [
       "<div>\n",
       "<style scoped>\n",
       "    .dataframe tbody tr th:only-of-type {\n",
       "        vertical-align: middle;\n",
       "    }\n",
       "\n",
       "    .dataframe tbody tr th {\n",
       "        vertical-align: top;\n",
       "    }\n",
       "\n",
       "    .dataframe thead th {\n",
       "        text-align: right;\n",
       "    }\n",
       "</style>\n",
       "<table border=\"1\" class=\"dataframe\">\n",
       "  <thead>\n",
       "    <tr style=\"text-align: right;\">\n",
       "      <th></th>\n",
       "      <th>is_canceled</th>\n",
       "      <th>lead_time</th>\n",
       "      <th>arrival_date_year</th>\n",
       "      <th>arrival_date_month</th>\n",
       "      <th>arrival_date_week_number</th>\n",
       "      <th>arrival_date_day_of_month</th>\n",
       "      <th>stays_in_weekend_nights</th>\n",
       "      <th>stays_in_week_nights</th>\n",
       "      <th>adults</th>\n",
       "      <th>children</th>\n",
       "      <th>...</th>\n",
       "      <th>is_repeated_guest</th>\n",
       "      <th>previous_cancellations</th>\n",
       "      <th>previous_bookings_not_canceled</th>\n",
       "      <th>reserved_room_type</th>\n",
       "      <th>booking_changes</th>\n",
       "      <th>days_in_waiting_list</th>\n",
       "      <th>customer_type</th>\n",
       "      <th>required_car_parking_spaces</th>\n",
       "      <th>total_of_special_requests</th>\n",
       "      <th>total_nights</th>\n",
       "    </tr>\n",
       "    <tr>\n",
       "      <th>id</th>\n",
       "      <th></th>\n",
       "      <th></th>\n",
       "      <th></th>\n",
       "      <th></th>\n",
       "      <th></th>\n",
       "      <th></th>\n",
       "      <th></th>\n",
       "      <th></th>\n",
       "      <th></th>\n",
       "      <th></th>\n",
       "      <th></th>\n",
       "      <th></th>\n",
       "      <th></th>\n",
       "      <th></th>\n",
       "      <th></th>\n",
       "      <th></th>\n",
       "      <th></th>\n",
       "      <th></th>\n",
       "      <th></th>\n",
       "      <th></th>\n",
       "      <th></th>\n",
       "    </tr>\n",
       "  </thead>\n",
       "  <tbody>\n",
       "    <tr>\n",
       "      <th>13</th>\n",
       "      <td>0</td>\n",
       "      <td>72.0</td>\n",
       "      <td>2015</td>\n",
       "      <td>July</td>\n",
       "      <td>27</td>\n",
       "      <td>1</td>\n",
       "      <td>2</td>\n",
       "      <td>4</td>\n",
       "      <td>2.0</td>\n",
       "      <td>0.0</td>\n",
       "      <td>...</td>\n",
       "      <td>0</td>\n",
       "      <td>0</td>\n",
       "      <td>0</td>\n",
       "      <td>A</td>\n",
       "      <td>1</td>\n",
       "      <td>0</td>\n",
       "      <td>Transient</td>\n",
       "      <td>0</td>\n",
       "      <td>1</td>\n",
       "      <td>6</td>\n",
       "    </tr>\n",
       "    <tr>\n",
       "      <th>87</th>\n",
       "      <td>1</td>\n",
       "      <td>5.0</td>\n",
       "      <td>2015</td>\n",
       "      <td>July</td>\n",
       "      <td>28</td>\n",
       "      <td>5</td>\n",
       "      <td>1</td>\n",
       "      <td>0</td>\n",
       "      <td>2.0</td>\n",
       "      <td>0.0</td>\n",
       "      <td>...</td>\n",
       "      <td>0</td>\n",
       "      <td>0</td>\n",
       "      <td>0</td>\n",
       "      <td>D</td>\n",
       "      <td>0</td>\n",
       "      <td>0</td>\n",
       "      <td>Transient</td>\n",
       "      <td>0</td>\n",
       "      <td>0</td>\n",
       "      <td>1</td>\n",
       "    </tr>\n",
       "    <tr>\n",
       "      <th>118</th>\n",
       "      <td>0</td>\n",
       "      <td>0.0</td>\n",
       "      <td>2015</td>\n",
       "      <td>July</td>\n",
       "      <td>28</td>\n",
       "      <td>7</td>\n",
       "      <td>0</td>\n",
       "      <td>1</td>\n",
       "      <td>1.0</td>\n",
       "      <td>0.0</td>\n",
       "      <td>...</td>\n",
       "      <td>0</td>\n",
       "      <td>0</td>\n",
       "      <td>0</td>\n",
       "      <td>A</td>\n",
       "      <td>0</td>\n",
       "      <td>0</td>\n",
       "      <td>Transient</td>\n",
       "      <td>0</td>\n",
       "      <td>3</td>\n",
       "      <td>1</td>\n",
       "    </tr>\n",
       "    <tr>\n",
       "      <th>130</th>\n",
       "      <td>1</td>\n",
       "      <td>1.0</td>\n",
       "      <td>2015</td>\n",
       "      <td>July</td>\n",
       "      <td>28</td>\n",
       "      <td>8</td>\n",
       "      <td>0</td>\n",
       "      <td>1</td>\n",
       "      <td>2.0</td>\n",
       "      <td>0.0</td>\n",
       "      <td>...</td>\n",
       "      <td>0</td>\n",
       "      <td>0</td>\n",
       "      <td>0</td>\n",
       "      <td>A</td>\n",
       "      <td>0</td>\n",
       "      <td>0</td>\n",
       "      <td>Transient</td>\n",
       "      <td>0</td>\n",
       "      <td>1</td>\n",
       "      <td>1</td>\n",
       "    </tr>\n",
       "    <tr>\n",
       "      <th>224</th>\n",
       "      <td>0</td>\n",
       "      <td>40.0</td>\n",
       "      <td>2015</td>\n",
       "      <td>July</td>\n",
       "      <td>29</td>\n",
       "      <td>13</td>\n",
       "      <td>1</td>\n",
       "      <td>4</td>\n",
       "      <td>2.0</td>\n",
       "      <td>0.0</td>\n",
       "      <td>...</td>\n",
       "      <td>0</td>\n",
       "      <td>0</td>\n",
       "      <td>0</td>\n",
       "      <td>D</td>\n",
       "      <td>0</td>\n",
       "      <td>0</td>\n",
       "      <td>Transient</td>\n",
       "      <td>0</td>\n",
       "      <td>2</td>\n",
       "      <td>5</td>\n",
       "    </tr>\n",
       "    <tr>\n",
       "      <th>...</th>\n",
       "      <td>...</td>\n",
       "      <td>...</td>\n",
       "      <td>...</td>\n",
       "      <td>...</td>\n",
       "      <td>...</td>\n",
       "      <td>...</td>\n",
       "      <td>...</td>\n",
       "      <td>...</td>\n",
       "      <td>...</td>\n",
       "      <td>...</td>\n",
       "      <td>...</td>\n",
       "      <td>...</td>\n",
       "      <td>...</td>\n",
       "      <td>...</td>\n",
       "      <td>...</td>\n",
       "      <td>...</td>\n",
       "      <td>...</td>\n",
       "      <td>...</td>\n",
       "      <td>...</td>\n",
       "      <td>...</td>\n",
       "      <td>...</td>\n",
       "    </tr>\n",
       "    <tr>\n",
       "      <th>83965</th>\n",
       "      <td>0</td>\n",
       "      <td>269.0</td>\n",
       "      <td>2016</td>\n",
       "      <td>December</td>\n",
       "      <td>53</td>\n",
       "      <td>29</td>\n",
       "      <td>2</td>\n",
       "      <td>3</td>\n",
       "      <td>1.0</td>\n",
       "      <td>0.0</td>\n",
       "      <td>...</td>\n",
       "      <td>0</td>\n",
       "      <td>0</td>\n",
       "      <td>0</td>\n",
       "      <td>A</td>\n",
       "      <td>0</td>\n",
       "      <td>0</td>\n",
       "      <td>Transient-Party</td>\n",
       "      <td>0</td>\n",
       "      <td>0</td>\n",
       "      <td>5</td>\n",
       "    </tr>\n",
       "    <tr>\n",
       "      <th>83966</th>\n",
       "      <td>0</td>\n",
       "      <td>269.0</td>\n",
       "      <td>2016</td>\n",
       "      <td>December</td>\n",
       "      <td>53</td>\n",
       "      <td>29</td>\n",
       "      <td>2</td>\n",
       "      <td>3</td>\n",
       "      <td>1.0</td>\n",
       "      <td>0.0</td>\n",
       "      <td>...</td>\n",
       "      <td>0</td>\n",
       "      <td>0</td>\n",
       "      <td>0</td>\n",
       "      <td>A</td>\n",
       "      <td>0</td>\n",
       "      <td>0</td>\n",
       "      <td>Transient-Party</td>\n",
       "      <td>0</td>\n",
       "      <td>0</td>\n",
       "      <td>5</td>\n",
       "    </tr>\n",
       "    <tr>\n",
       "      <th>83969</th>\n",
       "      <td>0</td>\n",
       "      <td>269.0</td>\n",
       "      <td>2016</td>\n",
       "      <td>December</td>\n",
       "      <td>53</td>\n",
       "      <td>29</td>\n",
       "      <td>2</td>\n",
       "      <td>3</td>\n",
       "      <td>1.0</td>\n",
       "      <td>0.0</td>\n",
       "      <td>...</td>\n",
       "      <td>0</td>\n",
       "      <td>0</td>\n",
       "      <td>0</td>\n",
       "      <td>A</td>\n",
       "      <td>0</td>\n",
       "      <td>0</td>\n",
       "      <td>Transient-Party</td>\n",
       "      <td>0</td>\n",
       "      <td>0</td>\n",
       "      <td>5</td>\n",
       "    </tr>\n",
       "    <tr>\n",
       "      <th>83970</th>\n",
       "      <td>0</td>\n",
       "      <td>269.0</td>\n",
       "      <td>2016</td>\n",
       "      <td>December</td>\n",
       "      <td>53</td>\n",
       "      <td>29</td>\n",
       "      <td>2</td>\n",
       "      <td>3</td>\n",
       "      <td>1.0</td>\n",
       "      <td>0.0</td>\n",
       "      <td>...</td>\n",
       "      <td>0</td>\n",
       "      <td>0</td>\n",
       "      <td>0</td>\n",
       "      <td>A</td>\n",
       "      <td>0</td>\n",
       "      <td>0</td>\n",
       "      <td>Transient-Party</td>\n",
       "      <td>0</td>\n",
       "      <td>1</td>\n",
       "      <td>5</td>\n",
       "    </tr>\n",
       "    <tr>\n",
       "      <th>83980</th>\n",
       "      <td>0</td>\n",
       "      <td>291.0</td>\n",
       "      <td>2016</td>\n",
       "      <td>December</td>\n",
       "      <td>53</td>\n",
       "      <td>28</td>\n",
       "      <td>2</td>\n",
       "      <td>4</td>\n",
       "      <td>2.0</td>\n",
       "      <td>0.0</td>\n",
       "      <td>...</td>\n",
       "      <td>0</td>\n",
       "      <td>0</td>\n",
       "      <td>0</td>\n",
       "      <td>A</td>\n",
       "      <td>2</td>\n",
       "      <td>0</td>\n",
       "      <td>Transient</td>\n",
       "      <td>0</td>\n",
       "      <td>2</td>\n",
       "      <td>6</td>\n",
       "    </tr>\n",
       "  </tbody>\n",
       "</table>\n",
       "<p>21377 rows × 24 columns</p>\n",
       "</div>"
      ],
      "text/plain": [
       "       is_canceled  lead_time  arrival_date_year arrival_date_month  \\\n",
       "id                                                                    \n",
       "13               0       72.0               2015               July   \n",
       "87               1        5.0               2015               July   \n",
       "118              0        0.0               2015               July   \n",
       "130              1        1.0               2015               July   \n",
       "224              0       40.0               2015               July   \n",
       "...            ...        ...                ...                ...   \n",
       "83965            0      269.0               2016           December   \n",
       "83966            0      269.0               2016           December   \n",
       "83969            0      269.0               2016           December   \n",
       "83970            0      269.0               2016           December   \n",
       "83980            0      291.0               2016           December   \n",
       "\n",
       "       arrival_date_week_number  arrival_date_day_of_month  \\\n",
       "id                                                           \n",
       "13                           27                          1   \n",
       "87                           28                          5   \n",
       "118                          28                          7   \n",
       "130                          28                          8   \n",
       "224                          29                         13   \n",
       "...                         ...                        ...   \n",
       "83965                        53                         29   \n",
       "83966                        53                         29   \n",
       "83969                        53                         29   \n",
       "83970                        53                         29   \n",
       "83980                        53                         28   \n",
       "\n",
       "       stays_in_weekend_nights  stays_in_week_nights  adults  children  ...  \\\n",
       "id                                                                      ...   \n",
       "13                           2                     4     2.0       0.0  ...   \n",
       "87                           1                     0     2.0       0.0  ...   \n",
       "118                          0                     1     1.0       0.0  ...   \n",
       "130                          0                     1     2.0       0.0  ...   \n",
       "224                          1                     4     2.0       0.0  ...   \n",
       "...                        ...                   ...     ...       ...  ...   \n",
       "83965                        2                     3     1.0       0.0  ...   \n",
       "83966                        2                     3     1.0       0.0  ...   \n",
       "83969                        2                     3     1.0       0.0  ...   \n",
       "83970                        2                     3     1.0       0.0  ...   \n",
       "83980                        2                     4     2.0       0.0  ...   \n",
       "\n",
       "       is_repeated_guest previous_cancellations  \\\n",
       "id                                                \n",
       "13                     0                      0   \n",
       "87                     0                      0   \n",
       "118                    0                      0   \n",
       "130                    0                      0   \n",
       "224                    0                      0   \n",
       "...                  ...                    ...   \n",
       "83965                  0                      0   \n",
       "83966                  0                      0   \n",
       "83969                  0                      0   \n",
       "83970                  0                      0   \n",
       "83980                  0                      0   \n",
       "\n",
       "      previous_bookings_not_canceled reserved_room_type  booking_changes  \\\n",
       "id                                                                         \n",
       "13                                 0   A                               1   \n",
       "87                                 0   D                               0   \n",
       "118                                0   A                               0   \n",
       "130                                0   A                               0   \n",
       "224                                0   D                               0   \n",
       "...                              ...                ...              ...   \n",
       "83965                              0   A                               0   \n",
       "83966                              0   A                               0   \n",
       "83969                              0   A                               0   \n",
       "83970                              0   A                               0   \n",
       "83980                              0   A                               2   \n",
       "\n",
       "       days_in_waiting_list    customer_type required_car_parking_spaces  \\\n",
       "id                                                                         \n",
       "13                        0        Transient                           0   \n",
       "87                        0        Transient                           0   \n",
       "118                       0        Transient                           0   \n",
       "130                       0        Transient                           0   \n",
       "224                       0        Transient                           0   \n",
       "...                     ...              ...                         ...   \n",
       "83965                     0  Transient-Party                           0   \n",
       "83966                     0  Transient-Party                           0   \n",
       "83969                     0  Transient-Party                           0   \n",
       "83970                     0  Transient-Party                           0   \n",
       "83980                     0        Transient                           0   \n",
       "\n",
       "       total_of_special_requests  total_nights  \n",
       "id                                              \n",
       "13                             1             6  \n",
       "87                             0             1  \n",
       "118                            3             1  \n",
       "130                            1             1  \n",
       "224                            2             5  \n",
       "...                          ...           ...  \n",
       "83965                          0             5  \n",
       "83966                          0             5  \n",
       "83969                          0             5  \n",
       "83970                          1             5  \n",
       "83980                          2             6  \n",
       "\n",
       "[21377 rows x 24 columns]"
      ]
     },
     "execution_count": 6,
     "metadata": {},
     "output_type": "execute_result"
    }
   ],
   "source": [
    "df.loc[df.duplicated()]"
   ]
  },
  {
   "cell_type": "code",
   "execution_count": 7,
   "metadata": {},
   "outputs": [],
   "source": [
    "df = df.drop_duplicates()"
   ]
  },
  {
   "cell_type": "code",
   "execution_count": 8,
   "metadata": {},
   "outputs": [],
   "source": [
    "df = df.reset_index(drop=True)"
   ]
  },
  {
   "cell_type": "code",
   "execution_count": 9,
   "metadata": {},
   "outputs": [
    {
     "name": "stdout",
     "output_type": "stream",
     "text": [
      "<class 'pandas.core.frame.DataFrame'>\n",
      "RangeIndex: 43852 entries, 0 to 43851\n",
      "Data columns (total 24 columns):\n",
      " #   Column                          Non-Null Count  Dtype  \n",
      "---  ------                          --------------  -----  \n",
      " 0   is_canceled                     43852 non-null  int64  \n",
      " 1   lead_time                       43852 non-null  float64\n",
      " 2   arrival_date_year               43852 non-null  int64  \n",
      " 3   arrival_date_month              43852 non-null  object \n",
      " 4   arrival_date_week_number        43852 non-null  int64  \n",
      " 5   arrival_date_day_of_month       43852 non-null  int64  \n",
      " 6   stays_in_weekend_nights         43852 non-null  int64  \n",
      " 7   stays_in_week_nights            43852 non-null  int64  \n",
      " 8   adults                          43852 non-null  float64\n",
      " 9   children                        43852 non-null  float64\n",
      " 10  babies                          43852 non-null  float64\n",
      " 11  meal                            43852 non-null  object \n",
      " 12  country                         43852 non-null  object \n",
      " 13  distribution_channel            43852 non-null  object \n",
      " 14  is_repeated_guest               43852 non-null  int64  \n",
      " 15  previous_cancellations          43852 non-null  int64  \n",
      " 16  previous_bookings_not_canceled  43852 non-null  int64  \n",
      " 17  reserved_room_type              43852 non-null  object \n",
      " 18  booking_changes                 43852 non-null  int64  \n",
      " 19  days_in_waiting_list            43852 non-null  int64  \n",
      " 20  customer_type                   43852 non-null  object \n",
      " 21  required_car_parking_spaces     43852 non-null  int64  \n",
      " 22  total_of_special_requests       43852 non-null  int64  \n",
      " 23  total_nights                    43852 non-null  int64  \n",
      "dtypes: float64(4), int64(14), object(6)\n",
      "memory usage: 8.0+ MB\n"
     ]
    }
   ],
   "source": [
    "df.info()"
   ]
  },
  {
   "cell_type": "code",
   "execution_count": 10,
   "metadata": {},
   "outputs": [],
   "source": [
    "df['reserved_room_type']= df['reserved_room_type'].str.strip()\n",
    "df['country']= df['country'].str.strip()"
   ]
  },
  {
   "cell_type": "code",
   "execution_count": 11,
   "metadata": {},
   "outputs": [
    {
     "data": {
      "text/plain": [
       "1.8562893368603484"
      ]
     },
     "execution_count": 11,
     "metadata": {},
     "output_type": "execute_result"
    }
   ],
   "source": [
    "df['adults'].mean()"
   ]
  },
  {
   "cell_type": "code",
   "execution_count": 12,
   "metadata": {},
   "outputs": [
    {
     "data": {
      "text/html": [
       "<div>\n",
       "<style scoped>\n",
       "    .dataframe tbody tr th:only-of-type {\n",
       "        vertical-align: middle;\n",
       "    }\n",
       "\n",
       "    .dataframe tbody tr th {\n",
       "        vertical-align: top;\n",
       "    }\n",
       "\n",
       "    .dataframe thead th {\n",
       "        text-align: right;\n",
       "    }\n",
       "</style>\n",
       "<table border=\"1\" class=\"dataframe\">\n",
       "  <thead>\n",
       "    <tr style=\"text-align: right;\">\n",
       "      <th></th>\n",
       "      <th>is_canceled</th>\n",
       "      <th>lead_time</th>\n",
       "      <th>arrival_date_year</th>\n",
       "      <th>arrival_date_month</th>\n",
       "      <th>arrival_date_week_number</th>\n",
       "      <th>arrival_date_day_of_month</th>\n",
       "      <th>stays_in_weekend_nights</th>\n",
       "      <th>stays_in_week_nights</th>\n",
       "      <th>adults</th>\n",
       "      <th>children</th>\n",
       "      <th>...</th>\n",
       "      <th>is_repeated_guest</th>\n",
       "      <th>previous_cancellations</th>\n",
       "      <th>previous_bookings_not_canceled</th>\n",
       "      <th>reserved_room_type</th>\n",
       "      <th>booking_changes</th>\n",
       "      <th>days_in_waiting_list</th>\n",
       "      <th>customer_type</th>\n",
       "      <th>required_car_parking_spaces</th>\n",
       "      <th>total_of_special_requests</th>\n",
       "      <th>total_nights</th>\n",
       "    </tr>\n",
       "  </thead>\n",
       "  <tbody>\n",
       "    <tr>\n",
       "      <th>13828</th>\n",
       "      <td>0</td>\n",
       "      <td>1.0</td>\n",
       "      <td>2015</td>\n",
       "      <td>August</td>\n",
       "      <td>33</td>\n",
       "      <td>10</td>\n",
       "      <td>1</td>\n",
       "      <td>1</td>\n",
       "      <td>0.0</td>\n",
       "      <td>3.0</td>\n",
       "      <td>...</td>\n",
       "      <td>0</td>\n",
       "      <td>0</td>\n",
       "      <td>0</td>\n",
       "      <td>B</td>\n",
       "      <td>1</td>\n",
       "      <td>0</td>\n",
       "      <td>Transient-Party</td>\n",
       "      <td>0</td>\n",
       "      <td>0</td>\n",
       "      <td>2</td>\n",
       "    </tr>\n",
       "    <tr>\n",
       "      <th>13879</th>\n",
       "      <td>0</td>\n",
       "      <td>104.0</td>\n",
       "      <td>2015</td>\n",
       "      <td>August</td>\n",
       "      <td>33</td>\n",
       "      <td>11</td>\n",
       "      <td>0</td>\n",
       "      <td>3</td>\n",
       "      <td>0.0</td>\n",
       "      <td>2.0</td>\n",
       "      <td>...</td>\n",
       "      <td>0</td>\n",
       "      <td>0</td>\n",
       "      <td>0</td>\n",
       "      <td>B</td>\n",
       "      <td>1</td>\n",
       "      <td>0</td>\n",
       "      <td>Transient-Party</td>\n",
       "      <td>0</td>\n",
       "      <td>2</td>\n",
       "      <td>3</td>\n",
       "    </tr>\n",
       "    <tr>\n",
       "      <th>14016</th>\n",
       "      <td>0</td>\n",
       "      <td>3.0</td>\n",
       "      <td>2015</td>\n",
       "      <td>August</td>\n",
       "      <td>34</td>\n",
       "      <td>16</td>\n",
       "      <td>2</td>\n",
       "      <td>0</td>\n",
       "      <td>0.0</td>\n",
       "      <td>2.0</td>\n",
       "      <td>...</td>\n",
       "      <td>0</td>\n",
       "      <td>0</td>\n",
       "      <td>0</td>\n",
       "      <td>B</td>\n",
       "      <td>1</td>\n",
       "      <td>0</td>\n",
       "      <td>Transient-Party</td>\n",
       "      <td>0</td>\n",
       "      <td>1</td>\n",
       "      <td>2</td>\n",
       "    </tr>\n",
       "    <tr>\n",
       "      <th>15641</th>\n",
       "      <td>1</td>\n",
       "      <td>48.0</td>\n",
       "      <td>2015</td>\n",
       "      <td>October</td>\n",
       "      <td>43</td>\n",
       "      <td>19</td>\n",
       "      <td>1</td>\n",
       "      <td>3</td>\n",
       "      <td>0.0</td>\n",
       "      <td>2.0</td>\n",
       "      <td>...</td>\n",
       "      <td>0</td>\n",
       "      <td>0</td>\n",
       "      <td>0</td>\n",
       "      <td>B</td>\n",
       "      <td>0</td>\n",
       "      <td>0</td>\n",
       "      <td>Transient-Party</td>\n",
       "      <td>0</td>\n",
       "      <td>1</td>\n",
       "      <td>4</td>\n",
       "    </tr>\n",
       "    <tr>\n",
       "      <th>15960</th>\n",
       "      <td>1</td>\n",
       "      <td>6.0</td>\n",
       "      <td>2015</td>\n",
       "      <td>December</td>\n",
       "      <td>51</td>\n",
       "      <td>13</td>\n",
       "      <td>1</td>\n",
       "      <td>0</td>\n",
       "      <td>0.0</td>\n",
       "      <td>3.0</td>\n",
       "      <td>...</td>\n",
       "      <td>0</td>\n",
       "      <td>0</td>\n",
       "      <td>0</td>\n",
       "      <td>B</td>\n",
       "      <td>0</td>\n",
       "      <td>0</td>\n",
       "      <td>Transient-Party</td>\n",
       "      <td>0</td>\n",
       "      <td>1</td>\n",
       "      <td>1</td>\n",
       "    </tr>\n",
       "    <tr>\n",
       "      <th>...</th>\n",
       "      <td>...</td>\n",
       "      <td>...</td>\n",
       "      <td>...</td>\n",
       "      <td>...</td>\n",
       "      <td>...</td>\n",
       "      <td>...</td>\n",
       "      <td>...</td>\n",
       "      <td>...</td>\n",
       "      <td>...</td>\n",
       "      <td>...</td>\n",
       "      <td>...</td>\n",
       "      <td>...</td>\n",
       "      <td>...</td>\n",
       "      <td>...</td>\n",
       "      <td>...</td>\n",
       "      <td>...</td>\n",
       "      <td>...</td>\n",
       "      <td>...</td>\n",
       "      <td>...</td>\n",
       "      <td>...</td>\n",
       "      <td>...</td>\n",
       "    </tr>\n",
       "    <tr>\n",
       "      <th>43455</th>\n",
       "      <td>0</td>\n",
       "      <td>197.0</td>\n",
       "      <td>2016</td>\n",
       "      <td>December</td>\n",
       "      <td>52</td>\n",
       "      <td>21</td>\n",
       "      <td>1</td>\n",
       "      <td>4</td>\n",
       "      <td>0.0</td>\n",
       "      <td>3.0</td>\n",
       "      <td>...</td>\n",
       "      <td>0</td>\n",
       "      <td>0</td>\n",
       "      <td>0</td>\n",
       "      <td>A</td>\n",
       "      <td>7</td>\n",
       "      <td>0</td>\n",
       "      <td>Transient-Party</td>\n",
       "      <td>0</td>\n",
       "      <td>0</td>\n",
       "      <td>5</td>\n",
       "    </tr>\n",
       "    <tr>\n",
       "      <th>43563</th>\n",
       "      <td>0</td>\n",
       "      <td>104.0</td>\n",
       "      <td>2016</td>\n",
       "      <td>December</td>\n",
       "      <td>53</td>\n",
       "      <td>25</td>\n",
       "      <td>2</td>\n",
       "      <td>1</td>\n",
       "      <td>0.0</td>\n",
       "      <td>2.0</td>\n",
       "      <td>...</td>\n",
       "      <td>0</td>\n",
       "      <td>0</td>\n",
       "      <td>0</td>\n",
       "      <td>B</td>\n",
       "      <td>1</td>\n",
       "      <td>0</td>\n",
       "      <td>Transient</td>\n",
       "      <td>0</td>\n",
       "      <td>2</td>\n",
       "      <td>3</td>\n",
       "    </tr>\n",
       "    <tr>\n",
       "      <th>43571</th>\n",
       "      <td>0</td>\n",
       "      <td>104.0</td>\n",
       "      <td>2016</td>\n",
       "      <td>December</td>\n",
       "      <td>53</td>\n",
       "      <td>25</td>\n",
       "      <td>2</td>\n",
       "      <td>1</td>\n",
       "      <td>0.0</td>\n",
       "      <td>2.0</td>\n",
       "      <td>...</td>\n",
       "      <td>0</td>\n",
       "      <td>0</td>\n",
       "      <td>0</td>\n",
       "      <td>B</td>\n",
       "      <td>0</td>\n",
       "      <td>0</td>\n",
       "      <td>Transient</td>\n",
       "      <td>0</td>\n",
       "      <td>2</td>\n",
       "      <td>3</td>\n",
       "    </tr>\n",
       "    <tr>\n",
       "      <th>43580</th>\n",
       "      <td>0</td>\n",
       "      <td>247.0</td>\n",
       "      <td>2016</td>\n",
       "      <td>December</td>\n",
       "      <td>52</td>\n",
       "      <td>24</td>\n",
       "      <td>2</td>\n",
       "      <td>3</td>\n",
       "      <td>0.0</td>\n",
       "      <td>2.0</td>\n",
       "      <td>...</td>\n",
       "      <td>0</td>\n",
       "      <td>0</td>\n",
       "      <td>0</td>\n",
       "      <td>B</td>\n",
       "      <td>0</td>\n",
       "      <td>0</td>\n",
       "      <td>Transient</td>\n",
       "      <td>0</td>\n",
       "      <td>1</td>\n",
       "      <td>5</td>\n",
       "    </tr>\n",
       "    <tr>\n",
       "      <th>43647</th>\n",
       "      <td>0</td>\n",
       "      <td>255.0</td>\n",
       "      <td>2016</td>\n",
       "      <td>December</td>\n",
       "      <td>53</td>\n",
       "      <td>27</td>\n",
       "      <td>0</td>\n",
       "      <td>3</td>\n",
       "      <td>0.0</td>\n",
       "      <td>0.0</td>\n",
       "      <td>...</td>\n",
       "      <td>0</td>\n",
       "      <td>0</td>\n",
       "      <td>0</td>\n",
       "      <td>A</td>\n",
       "      <td>3</td>\n",
       "      <td>0</td>\n",
       "      <td>Transient</td>\n",
       "      <td>0</td>\n",
       "      <td>0</td>\n",
       "      <td>3</td>\n",
       "    </tr>\n",
       "  </tbody>\n",
       "</table>\n",
       "<p>164 rows × 24 columns</p>\n",
       "</div>"
      ],
      "text/plain": [
       "       is_canceled  lead_time  arrival_date_year arrival_date_month  \\\n",
       "13828            0        1.0               2015             August   \n",
       "13879            0      104.0               2015             August   \n",
       "14016            0        3.0               2015             August   \n",
       "15641            1       48.0               2015            October   \n",
       "15960            1        6.0               2015           December   \n",
       "...            ...        ...                ...                ...   \n",
       "43455            0      197.0               2016           December   \n",
       "43563            0      104.0               2016           December   \n",
       "43571            0      104.0               2016           December   \n",
       "43580            0      247.0               2016           December   \n",
       "43647            0      255.0               2016           December   \n",
       "\n",
       "       arrival_date_week_number  arrival_date_day_of_month  \\\n",
       "13828                        33                         10   \n",
       "13879                        33                         11   \n",
       "14016                        34                         16   \n",
       "15641                        43                         19   \n",
       "15960                        51                         13   \n",
       "...                         ...                        ...   \n",
       "43455                        52                         21   \n",
       "43563                        53                         25   \n",
       "43571                        53                         25   \n",
       "43580                        52                         24   \n",
       "43647                        53                         27   \n",
       "\n",
       "       stays_in_weekend_nights  stays_in_week_nights  adults  children  ...  \\\n",
       "13828                        1                     1     0.0       3.0  ...   \n",
       "13879                        0                     3     0.0       2.0  ...   \n",
       "14016                        2                     0     0.0       2.0  ...   \n",
       "15641                        1                     3     0.0       2.0  ...   \n",
       "15960                        1                     0     0.0       3.0  ...   \n",
       "...                        ...                   ...     ...       ...  ...   \n",
       "43455                        1                     4     0.0       3.0  ...   \n",
       "43563                        2                     1     0.0       2.0  ...   \n",
       "43571                        2                     1     0.0       2.0  ...   \n",
       "43580                        2                     3     0.0       2.0  ...   \n",
       "43647                        0                     3     0.0       0.0  ...   \n",
       "\n",
       "       is_repeated_guest previous_cancellations  \\\n",
       "13828                  0                      0   \n",
       "13879                  0                      0   \n",
       "14016                  0                      0   \n",
       "15641                  0                      0   \n",
       "15960                  0                      0   \n",
       "...                  ...                    ...   \n",
       "43455                  0                      0   \n",
       "43563                  0                      0   \n",
       "43571                  0                      0   \n",
       "43580                  0                      0   \n",
       "43647                  0                      0   \n",
       "\n",
       "      previous_bookings_not_canceled reserved_room_type  booking_changes  \\\n",
       "13828                              0                  B                1   \n",
       "13879                              0                  B                1   \n",
       "14016                              0                  B                1   \n",
       "15641                              0                  B                0   \n",
       "15960                              0                  B                0   \n",
       "...                              ...                ...              ...   \n",
       "43455                              0                  A                7   \n",
       "43563                              0                  B                1   \n",
       "43571                              0                  B                0   \n",
       "43580                              0                  B                0   \n",
       "43647                              0                  A                3   \n",
       "\n",
       "       days_in_waiting_list    customer_type required_car_parking_spaces  \\\n",
       "13828                     0  Transient-Party                           0   \n",
       "13879                     0  Transient-Party                           0   \n",
       "14016                     0  Transient-Party                           0   \n",
       "15641                     0  Transient-Party                           0   \n",
       "15960                     0  Transient-Party                           0   \n",
       "...                     ...              ...                         ...   \n",
       "43455                     0  Transient-Party                           0   \n",
       "43563                     0        Transient                           0   \n",
       "43571                     0        Transient                           0   \n",
       "43580                     0        Transient                           0   \n",
       "43647                     0        Transient                           0   \n",
       "\n",
       "       total_of_special_requests  total_nights  \n",
       "13828                          0             2  \n",
       "13879                          2             3  \n",
       "14016                          1             2  \n",
       "15641                          1             4  \n",
       "15960                          1             1  \n",
       "...                          ...           ...  \n",
       "43455                          0             5  \n",
       "43563                          2             3  \n",
       "43571                          2             3  \n",
       "43580                          1             5  \n",
       "43647                          0             3  \n",
       "\n",
       "[164 rows x 24 columns]"
      ]
     },
     "execution_count": 12,
     "metadata": {},
     "output_type": "execute_result"
    }
   ],
   "source": [
    "df.query('adults == 0')"
   ]
  },
  {
   "cell_type": "code",
   "execution_count": 13,
   "metadata": {},
   "outputs": [],
   "source": [
    "df['adults'] = df['adults'].replace(0,df['adults'].median())"
   ]
  },
  {
   "cell_type": "code",
   "execution_count": 14,
   "metadata": {},
   "outputs": [
    {
     "data": {
      "text/plain": [
       "1.8637690413208063"
      ]
     },
     "execution_count": 14,
     "metadata": {},
     "output_type": "execute_result"
    }
   ],
   "source": [
    "df['adults'].mean()"
   ]
  },
  {
   "cell_type": "markdown",
   "metadata": {},
   "source": []
  },
  {
   "cell_type": "code",
   "execution_count": 15,
   "metadata": {},
   "outputs": [
    {
     "data": {
      "text/plain": [
       "0     42701\n",
       "1       995\n",
       "2        52\n",
       "3        47\n",
       "11       27\n",
       "5        13\n",
       "4         5\n",
       "13        3\n",
       "6         2\n",
       "24        2\n",
       "14        1\n",
       "19        1\n",
       "21        1\n",
       "25        1\n",
       "26        1\n",
       "Name: previous_cancellations, dtype: int64"
      ]
     },
     "execution_count": 15,
     "metadata": {},
     "output_type": "execute_result"
    }
   ],
   "source": [
    "df['previous_cancellations'].value_counts()"
   ]
  },
  {
   "cell_type": "code",
   "execution_count": 16,
   "metadata": {},
   "outputs": [
    {
     "data": {
      "text/plain": [
       "156"
      ]
     },
     "execution_count": 16,
     "metadata": {},
     "output_type": "execute_result"
    }
   ],
   "source": [
    "len(df.query('previous_cancellations > 1'))"
   ]
  },
  {
   "cell_type": "code",
   "execution_count": 17,
   "metadata": {},
   "outputs": [
    {
     "data": {
      "text/html": [
       "<div>\n",
       "<style scoped>\n",
       "    .dataframe tbody tr th:only-of-type {\n",
       "        vertical-align: middle;\n",
       "    }\n",
       "\n",
       "    .dataframe tbody tr th {\n",
       "        vertical-align: top;\n",
       "    }\n",
       "\n",
       "    .dataframe thead tr th {\n",
       "        text-align: left;\n",
       "    }\n",
       "</style>\n",
       "<table border=\"1\" class=\"dataframe\">\n",
       "  <thead>\n",
       "    <tr>\n",
       "      <th></th>\n",
       "      <th colspan=\"2\" halign=\"left\">is_canceled</th>\n",
       "      <th colspan=\"2\" halign=\"left\">lead_time</th>\n",
       "      <th colspan=\"2\" halign=\"left\">arrival_date_year</th>\n",
       "      <th colspan=\"2\" halign=\"left\">arrival_date_week_number</th>\n",
       "      <th colspan=\"2\" halign=\"left\">arrival_date_day_of_month</th>\n",
       "      <th>...</th>\n",
       "      <th colspan=\"2\" halign=\"left\">booking_changes</th>\n",
       "      <th colspan=\"2\" halign=\"left\">days_in_waiting_list</th>\n",
       "      <th colspan=\"2\" halign=\"left\">required_car_parking_spaces</th>\n",
       "      <th colspan=\"2\" halign=\"left\">total_of_special_requests</th>\n",
       "      <th colspan=\"2\" halign=\"left\">total_nights</th>\n",
       "    </tr>\n",
       "    <tr>\n",
       "      <th></th>\n",
       "      <th>self</th>\n",
       "      <th>other</th>\n",
       "      <th>self</th>\n",
       "      <th>other</th>\n",
       "      <th>self</th>\n",
       "      <th>other</th>\n",
       "      <th>self</th>\n",
       "      <th>other</th>\n",
       "      <th>self</th>\n",
       "      <th>other</th>\n",
       "      <th>...</th>\n",
       "      <th>self</th>\n",
       "      <th>other</th>\n",
       "      <th>self</th>\n",
       "      <th>other</th>\n",
       "      <th>self</th>\n",
       "      <th>other</th>\n",
       "      <th>self</th>\n",
       "      <th>other</th>\n",
       "      <th>self</th>\n",
       "      <th>other</th>\n",
       "    </tr>\n",
       "  </thead>\n",
       "  <tbody>\n",
       "    <tr>\n",
       "      <th>count</th>\n",
       "      <td>156.000000</td>\n",
       "      <td>43696.000000</td>\n",
       "      <td>156.000000</td>\n",
       "      <td>43696.000000</td>\n",
       "      <td>156.000000</td>\n",
       "      <td>43696.000000</td>\n",
       "      <td>156.000000</td>\n",
       "      <td>43696.000000</td>\n",
       "      <td>156.000000</td>\n",
       "      <td>43696.000000</td>\n",
       "      <td>...</td>\n",
       "      <td>156.000000</td>\n",
       "      <td>43696.000000</td>\n",
       "      <td>156.000000</td>\n",
       "      <td>43696.000000</td>\n",
       "      <td>156.000000</td>\n",
       "      <td>43696.000000</td>\n",
       "      <td>156.000000</td>\n",
       "      <td>43696.000000</td>\n",
       "      <td>156.000000</td>\n",
       "      <td>43696.000000</td>\n",
       "    </tr>\n",
       "    <tr>\n",
       "      <th>mean</th>\n",
       "      <td>0.314103</td>\n",
       "      <td>0.254005</td>\n",
       "      <td>53.115385</td>\n",
       "      <td>67.946540</td>\n",
       "      <td>2015.807692</td>\n",
       "      <td>2015.775403</td>\n",
       "      <td>26.551282</td>\n",
       "      <td>31.107424</td>\n",
       "      <td>14.538462</td>\n",
       "      <td>15.924204</td>\n",
       "      <td>...</td>\n",
       "      <td>0.275641</td>\n",
       "      <td>0.249359</td>\n",
       "      <td>1.474359</td>\n",
       "      <td>0.819022</td>\n",
       "      <td>0.115385</td>\n",
       "      <td>0.082250</td>\n",
       "      <td>0.570513</td>\n",
       "      <td>0.671206</td>\n",
       "      <td>2.506410</td>\n",
       "      <td>3.210660</td>\n",
       "    </tr>\n",
       "    <tr>\n",
       "      <th>std</th>\n",
       "      <td>0.465652</td>\n",
       "      <td>0.435305</td>\n",
       "      <td>91.159906</td>\n",
       "      <td>73.918267</td>\n",
       "      <td>0.395383</td>\n",
       "      <td>0.417322</td>\n",
       "      <td>16.894853</td>\n",
       "      <td>13.880028</td>\n",
       "      <td>7.667598</td>\n",
       "      <td>8.862865</td>\n",
       "      <td>...</td>\n",
       "      <td>0.628092</td>\n",
       "      <td>0.679973</td>\n",
       "      <td>6.892210</td>\n",
       "      <td>9.911298</td>\n",
       "      <td>0.320514</td>\n",
       "      <td>0.275912</td>\n",
       "      <td>0.796056</td>\n",
       "      <td>0.802976</td>\n",
       "      <td>1.783425</td>\n",
       "      <td>1.877078</td>\n",
       "    </tr>\n",
       "    <tr>\n",
       "      <th>min</th>\n",
       "      <td>NaN</td>\n",
       "      <td>NaN</td>\n",
       "      <td>NaN</td>\n",
       "      <td>NaN</td>\n",
       "      <td>NaN</td>\n",
       "      <td>NaN</td>\n",
       "      <td>2.000000</td>\n",
       "      <td>1.000000</td>\n",
       "      <td>NaN</td>\n",
       "      <td>NaN</td>\n",
       "      <td>...</td>\n",
       "      <td>NaN</td>\n",
       "      <td>NaN</td>\n",
       "      <td>NaN</td>\n",
       "      <td>NaN</td>\n",
       "      <td>NaN</td>\n",
       "      <td>NaN</td>\n",
       "      <td>NaN</td>\n",
       "      <td>NaN</td>\n",
       "      <td>NaN</td>\n",
       "      <td>NaN</td>\n",
       "    </tr>\n",
       "    <tr>\n",
       "      <th>25%</th>\n",
       "      <td>NaN</td>\n",
       "      <td>NaN</td>\n",
       "      <td>2.000000</td>\n",
       "      <td>9.000000</td>\n",
       "      <td>NaN</td>\n",
       "      <td>NaN</td>\n",
       "      <td>9.000000</td>\n",
       "      <td>20.000000</td>\n",
       "      <td>9.000000</td>\n",
       "      <td>8.000000</td>\n",
       "      <td>...</td>\n",
       "      <td>NaN</td>\n",
       "      <td>NaN</td>\n",
       "      <td>NaN</td>\n",
       "      <td>NaN</td>\n",
       "      <td>NaN</td>\n",
       "      <td>NaN</td>\n",
       "      <td>NaN</td>\n",
       "      <td>NaN</td>\n",
       "      <td>1.000000</td>\n",
       "      <td>2.000000</td>\n",
       "    </tr>\n",
       "    <tr>\n",
       "      <th>50%</th>\n",
       "      <td>NaN</td>\n",
       "      <td>NaN</td>\n",
       "      <td>6.000000</td>\n",
       "      <td>41.000000</td>\n",
       "      <td>NaN</td>\n",
       "      <td>NaN</td>\n",
       "      <td>28.500000</td>\n",
       "      <td>33.000000</td>\n",
       "      <td>14.000000</td>\n",
       "      <td>16.000000</td>\n",
       "      <td>...</td>\n",
       "      <td>NaN</td>\n",
       "      <td>NaN</td>\n",
       "      <td>NaN</td>\n",
       "      <td>NaN</td>\n",
       "      <td>NaN</td>\n",
       "      <td>NaN</td>\n",
       "      <td>NaN</td>\n",
       "      <td>NaN</td>\n",
       "      <td>2.000000</td>\n",
       "      <td>3.000000</td>\n",
       "    </tr>\n",
       "    <tr>\n",
       "      <th>75%</th>\n",
       "      <td>NaN</td>\n",
       "      <td>NaN</td>\n",
       "      <td>38.750000</td>\n",
       "      <td>103.000000</td>\n",
       "      <td>NaN</td>\n",
       "      <td>NaN</td>\n",
       "      <td>42.000000</td>\n",
       "      <td>43.000000</td>\n",
       "      <td>20.000000</td>\n",
       "      <td>24.000000</td>\n",
       "      <td>...</td>\n",
       "      <td>NaN</td>\n",
       "      <td>NaN</td>\n",
       "      <td>NaN</td>\n",
       "      <td>NaN</td>\n",
       "      <td>NaN</td>\n",
       "      <td>NaN</td>\n",
       "      <td>NaN</td>\n",
       "      <td>NaN</td>\n",
       "      <td>3.000000</td>\n",
       "      <td>4.000000</td>\n",
       "    </tr>\n",
       "    <tr>\n",
       "      <th>max</th>\n",
       "      <td>NaN</td>\n",
       "      <td>NaN</td>\n",
       "      <td>355.000000</td>\n",
       "      <td>374.000000</td>\n",
       "      <td>NaN</td>\n",
       "      <td>NaN</td>\n",
       "      <td>NaN</td>\n",
       "      <td>NaN</td>\n",
       "      <td>NaN</td>\n",
       "      <td>NaN</td>\n",
       "      <td>...</td>\n",
       "      <td>3.000000</td>\n",
       "      <td>17.000000</td>\n",
       "      <td>44.000000</td>\n",
       "      <td>259.000000</td>\n",
       "      <td>1.000000</td>\n",
       "      <td>3.000000</td>\n",
       "      <td>4.000000</td>\n",
       "      <td>5.000000</td>\n",
       "      <td>9.000000</td>\n",
       "      <td>10.000000</td>\n",
       "    </tr>\n",
       "  </tbody>\n",
       "</table>\n",
       "<p>8 rows × 36 columns</p>\n",
       "</div>"
      ],
      "text/plain": [
       "      is_canceled                 lead_time               arrival_date_year  \\\n",
       "             self         other        self         other              self   \n",
       "count  156.000000  43696.000000  156.000000  43696.000000        156.000000   \n",
       "mean     0.314103      0.254005   53.115385     67.946540       2015.807692   \n",
       "std      0.465652      0.435305   91.159906     73.918267          0.395383   \n",
       "min           NaN           NaN         NaN           NaN               NaN   \n",
       "25%           NaN           NaN    2.000000      9.000000               NaN   \n",
       "50%           NaN           NaN    6.000000     41.000000               NaN   \n",
       "75%           NaN           NaN   38.750000    103.000000               NaN   \n",
       "max           NaN           NaN  355.000000    374.000000               NaN   \n",
       "\n",
       "                    arrival_date_week_number                \\\n",
       "              other                     self         other   \n",
       "count  43696.000000               156.000000  43696.000000   \n",
       "mean    2015.775403                26.551282     31.107424   \n",
       "std        0.417322                16.894853     13.880028   \n",
       "min             NaN                 2.000000      1.000000   \n",
       "25%             NaN                 9.000000     20.000000   \n",
       "50%             NaN                28.500000     33.000000   \n",
       "75%             NaN                42.000000     43.000000   \n",
       "max             NaN                      NaN           NaN   \n",
       "\n",
       "      arrival_date_day_of_month                ... booking_changes  \\\n",
       "                           self         other  ...            self   \n",
       "count                156.000000  43696.000000  ...      156.000000   \n",
       "mean                  14.538462     15.924204  ...        0.275641   \n",
       "std                    7.667598      8.862865  ...        0.628092   \n",
       "min                         NaN           NaN  ...             NaN   \n",
       "25%                    9.000000      8.000000  ...             NaN   \n",
       "50%                   14.000000     16.000000  ...             NaN   \n",
       "75%                   20.000000     24.000000  ...             NaN   \n",
       "max                         NaN           NaN  ...        3.000000   \n",
       "\n",
       "                    days_in_waiting_list                \\\n",
       "              other                 self         other   \n",
       "count  43696.000000           156.000000  43696.000000   \n",
       "mean       0.249359             1.474359      0.819022   \n",
       "std        0.679973             6.892210      9.911298   \n",
       "min             NaN                  NaN           NaN   \n",
       "25%             NaN                  NaN           NaN   \n",
       "50%             NaN                  NaN           NaN   \n",
       "75%             NaN                  NaN           NaN   \n",
       "max       17.000000            44.000000    259.000000   \n",
       "\n",
       "      required_car_parking_spaces               total_of_special_requests  \\\n",
       "                             self         other                      self   \n",
       "count                  156.000000  43696.000000                156.000000   \n",
       "mean                     0.115385      0.082250                  0.570513   \n",
       "std                      0.320514      0.275912                  0.796056   \n",
       "min                           NaN           NaN                       NaN   \n",
       "25%                           NaN           NaN                       NaN   \n",
       "50%                           NaN           NaN                       NaN   \n",
       "75%                           NaN           NaN                       NaN   \n",
       "max                      1.000000      3.000000                  4.000000   \n",
       "\n",
       "                    total_nights                \n",
       "              other         self         other  \n",
       "count  43696.000000   156.000000  43696.000000  \n",
       "mean       0.671206     2.506410      3.210660  \n",
       "std        0.802976     1.783425      1.877078  \n",
       "min             NaN          NaN           NaN  \n",
       "25%             NaN     1.000000      2.000000  \n",
       "50%             NaN     2.000000      3.000000  \n",
       "75%             NaN     3.000000      4.000000  \n",
       "max        5.000000     9.000000     10.000000  \n",
       "\n",
       "[8 rows x 36 columns]"
      ]
     },
     "execution_count": 17,
     "metadata": {},
     "output_type": "execute_result"
    }
   ],
   "source": [
    "df.query('previous_cancellations > 1').describe().compare(df.query('previous_cancellations <= 1').describe())"
   ]
  },
  {
   "cell_type": "code",
   "execution_count": 18,
   "metadata": {},
   "outputs": [],
   "source": [
    "df.loc[df['previous_cancellations']>1,'previous_cancellations'] = 1"
   ]
  },
  {
   "cell_type": "code",
   "execution_count": 19,
   "metadata": {},
   "outputs": [
    {
     "data": {
      "text/plain": [
       "0"
      ]
     },
     "execution_count": 19,
     "metadata": {},
     "output_type": "execute_result"
    }
   ],
   "source": [
    "len(df.query('previous_cancellations > 1'))"
   ]
  },
  {
   "cell_type": "code",
   "execution_count": 20,
   "metadata": {},
   "outputs": [
    {
     "data": {
      "text/plain": [
       "0     42368\n",
       "1       598\n",
       "2       251\n",
       "3       134\n",
       "4       113\n",
       "5        89\n",
       "6        55\n",
       "7        34\n",
       "8        25\n",
       "9        23\n",
       "10       21\n",
       "11       16\n",
       "12       14\n",
       "13        9\n",
       "21        8\n",
       "14        8\n",
       "22        7\n",
       "15        7\n",
       "16        6\n",
       "20        5\n",
       "19        5\n",
       "18        5\n",
       "17        5\n",
       "27        3\n",
       "25        3\n",
       "24        3\n",
       "29        2\n",
       "28        2\n",
       "44        2\n",
       "23        2\n",
       "48        2\n",
       "40        1\n",
       "55        1\n",
       "54        1\n",
       "56        1\n",
       "53        1\n",
       "57        1\n",
       "26        1\n",
       "58        1\n",
       "30        1\n",
       "33        1\n",
       "51        1\n",
       "34        1\n",
       "52        1\n",
       "41        1\n",
       "50        1\n",
       "49        1\n",
       "47        1\n",
       "32        1\n",
       "35        1\n",
       "45        1\n",
       "36        1\n",
       "37        1\n",
       "43        1\n",
       "38        1\n",
       "42        1\n",
       "39        1\n",
       "31        1\n",
       "Name: previous_bookings_not_canceled, dtype: int64"
      ]
     },
     "execution_count": 20,
     "metadata": {},
     "output_type": "execute_result"
    }
   ],
   "source": [
    "df['previous_bookings_not_canceled'].value_counts()"
   ]
  },
  {
   "cell_type": "code",
   "execution_count": 21,
   "metadata": {},
   "outputs": [
    {
     "data": {
      "text/plain": [
       "<AxesSubplot:xlabel='previous_bookings_not_canceled'>"
      ]
     },
     "execution_count": 21,
     "metadata": {},
     "output_type": "execute_result"
    },
    {
     "data": {
      "image/png": "[encoded data removed]",
      "text/plain": [
       "<Figure size 432x288 with 1 Axes>"
      ]
     },
     "metadata": {
      "needs_background": "light"
     },
     "output_type": "display_data"
    }
   ],
   "source": [
    "df.pivot_table(index='previous_bookings_not_canceled',values='is_canceled',aggfunc=lambda x:sum(x)/len(x)).plot()"
   ]
  },
  {
   "cell_type": "code",
   "execution_count": 22,
   "metadata": {},
   "outputs": [],
   "source": [
    "df.loc[df['previous_bookings_not_canceled']>1,'previous_bookings_not_canceled'] = 1"
   ]
  },
  {
   "cell_type": "code",
   "execution_count": 23,
   "metadata": {},
   "outputs": [
    {
     "data": {
      "text/plain": [
       "0"
      ]
     },
     "execution_count": 23,
     "metadata": {},
     "output_type": "execute_result"
    }
   ],
   "source": [
    "len(df.query('previous_bookings_not_canceled > 1'))"
   ]
  },
  {
   "cell_type": "code",
   "execution_count": 24,
   "metadata": {},
   "outputs": [
    {
     "data": {
      "text/plain": [
       "1484"
      ]
     },
     "execution_count": 24,
     "metadata": {},
     "output_type": "execute_result"
    }
   ],
   "source": [
    "len(df.query('previous_bookings_not_canceled == 1'))"
   ]
  },
  {
   "cell_type": "code",
   "execution_count": 25,
   "metadata": {},
   "outputs": [],
   "source": [
    "df.loc[df['days_in_waiting_list']>10,'days_in_waiting_list'] = df['days_in_waiting_list']/10"
   ]
  },
  {
   "cell_type": "code",
   "execution_count": 26,
   "metadata": {},
   "outputs": [
    {
     "data": {
      "text/plain": [
       "<AxesSubplot:>"
      ]
     },
     "execution_count": 26,
     "metadata": {},
     "output_type": "execute_result"
    },
    {
     "data": {
      "image/png": "[encoded data removed]",
      "text/plain": [
       "<Figure size 432x288 with 1 Axes>"
      ]
     },
     "metadata": {
      "needs_background": "light"
     },
     "output_type": "display_data"
    }
   ],
   "source": [
    "df['days_in_waiting_list'].hist()"
   ]
  },
  {
   "cell_type": "code",
   "execution_count": 27,
   "metadata": {},
   "outputs": [
    {
     "data": {
      "text/html": [
       "<div>\n",
       "<style scoped>\n",
       "    .dataframe tbody tr th:only-of-type {\n",
       "        vertical-align: middle;\n",
       "    }\n",
       "\n",
       "    .dataframe tbody tr th {\n",
       "        vertical-align: top;\n",
       "    }\n",
       "\n",
       "    .dataframe thead th {\n",
       "        text-align: right;\n",
       "    }\n",
       "</style>\n",
       "<table border=\"1\" class=\"dataframe\">\n",
       "  <thead>\n",
       "    <tr style=\"text-align: right;\">\n",
       "      <th></th>\n",
       "      <th>&lt;lambda_0&gt;</th>\n",
       "      <th>count</th>\n",
       "    </tr>\n",
       "    <tr>\n",
       "      <th>country</th>\n",
       "      <th></th>\n",
       "      <th></th>\n",
       "    </tr>\n",
       "  </thead>\n",
       "  <tbody>\n",
       "    <tr>\n",
       "      <th>PRT</th>\n",
       "      <td>0.351559</td>\n",
       "      <td>14467.0</td>\n",
       "    </tr>\n",
       "    <tr>\n",
       "      <th>FRA</th>\n",
       "      <td>0.155440</td>\n",
       "      <td>4825.0</td>\n",
       "    </tr>\n",
       "    <tr>\n",
       "      <th>GBR</th>\n",
       "      <td>0.167057</td>\n",
       "      <td>4274.0</td>\n",
       "    </tr>\n",
       "    <tr>\n",
       "      <th>ESP</th>\n",
       "      <td>0.221853</td>\n",
       "      <td>3908.0</td>\n",
       "    </tr>\n",
       "    <tr>\n",
       "      <th>DEU</th>\n",
       "      <td>0.166667</td>\n",
       "      <td>2754.0</td>\n",
       "    </tr>\n",
       "    <tr>\n",
       "      <th>...</th>\n",
       "      <td>...</td>\n",
       "      <td>...</td>\n",
       "    </tr>\n",
       "    <tr>\n",
       "      <th>NAM</th>\n",
       "      <td>0.000000</td>\n",
       "      <td>1.0</td>\n",
       "    </tr>\n",
       "    <tr>\n",
       "      <th>NIC</th>\n",
       "      <td>1.000000</td>\n",
       "      <td>1.0</td>\n",
       "    </tr>\n",
       "    <tr>\n",
       "      <th>PLW</th>\n",
       "      <td>0.000000</td>\n",
       "      <td>1.0</td>\n",
       "    </tr>\n",
       "    <tr>\n",
       "      <th>PRY</th>\n",
       "      <td>0.000000</td>\n",
       "      <td>1.0</td>\n",
       "    </tr>\n",
       "    <tr>\n",
       "      <th>ZWE</th>\n",
       "      <td>0.000000</td>\n",
       "      <td>1.0</td>\n",
       "    </tr>\n",
       "  </tbody>\n",
       "</table>\n",
       "<p>155 rows × 2 columns</p>\n",
       "</div>"
      ],
      "text/plain": [
       "         <lambda_0>    count\n",
       "country                     \n",
       "PRT        0.351559  14467.0\n",
       "FRA        0.155440   4825.0\n",
       "GBR        0.167057   4274.0\n",
       "ESP        0.221853   3908.0\n",
       "DEU        0.166667   2754.0\n",
       "...             ...      ...\n",
       "NAM        0.000000      1.0\n",
       "NIC        1.000000      1.0\n",
       "PLW        0.000000      1.0\n",
       "PRY        0.000000      1.0\n",
       "ZWE        0.000000      1.0\n",
       "\n",
       "[155 rows x 2 columns]"
      ]
     },
     "execution_count": 27,
     "metadata": {},
     "output_type": "execute_result"
    }
   ],
   "source": [
    "df.pivot_table(index='country',values='is_canceled',aggfunc = ('count',lambda x:sum(x)/len(x))).sort_values(by='count',ascending=False)"
   ]
  },
  {
   "cell_type": "code",
   "execution_count": null,
   "metadata": {},
   "outputs": [],
   "source": [
    "ProfileReport(df)"
   ]
  },
  {
   "cell_type": "code",
   "execution_count": 29,
   "metadata": {},
   "outputs": [
    {
     "data": {
      "text/plain": [
       "is_canceled                       1.000000\n",
       "previous_cancellations            0.201926\n",
       "lead_time                         0.176093\n",
       "required_car_parking_spaces       0.174187\n",
       "total_of_special_requests         0.134206\n",
       "previous_bookings_not_canceled    0.085808\n",
       "booking_changes                   0.080964\n",
       "total_nights                      0.069679\n",
       "stays_in_week_nights              0.068193\n",
       "adults                            0.067246\n",
       "arrival_date_year                 0.057680\n",
       "is_repeated_guest                 0.056963\n",
       "children                          0.041750\n",
       "stays_in_weekend_nights           0.036411\n",
       "arrival_date_week_number          0.023653\n",
       "arrival_date_day_of_month         0.017457\n",
       "babies                            0.016678\n",
       "days_in_waiting_list              0.004443\n",
       "Name: is_canceled, dtype: float64"
      ]
     },
     "execution_count": 29,
     "metadata": {},
     "output_type": "execute_result"
    }
   ],
   "source": [
    "df.corr()['is_canceled'].abs().sort_values(ascending=False)"
   ]
  },
  {
   "cell_type": "markdown",
   "metadata": {},
   "source": [
    "#### Вывод"
   ]
  },
  {
   "cell_type": "markdown",
   "metadata": {},
   "source": [
    "Предобработка данных:<br/>\n",
    "&nbsp;    1)После удаление дубликатов количество объектов - 43 852<br/>\n",
    "&nbsp;    2)Изменения:<br/>\n",
    "&nbsp;&nbsp;        а)Пропуски со взрослыми (0 взрослых) заполнены медианным значением.<br/>\n",
    "&nbsp;&nbsp;        б)Удалены пробелы в типах комнат.<br/>\n",
    "&nbsp;&nbsp;        в)Были выявлены следующие аномалии: <br/>\n",
    "&nbsp;&nbsp;&nbsp;         Количество подтвержденных заказов и отмененных:так как значений больше 1 очень мало, им всем присвоено значение 1.<br/>\n",
    "&nbsp;&nbsp;&nbsp;          Время ожидание подтверждение заказа: значения больше 10 были поделены на 10.<br/>\n",
    "&nbsp;&nbsp;&nbsp;          Количество изменений параметров заказа: значения не были изменены, так как вполне могли быть реальными (17).<br/>\n",
    "          \n",
    "Исследовательский анализ данных:<br/>\n",
    "&nbsp;Присутствуют множественные корреляции:<br/>\n",
    "&nbsp;&nbsp;1)Между временными данными<br/>\n",
    "&nbsp;&nbsp;2)Между столбцами \"is_repeated_guest\" и \"previous_bookings_not_canceled\"<br/>\n",
    "\n",
    "&nbsp;Во многих признаках наблюдается дисбаланс.<br/>\n",
    "\n",
    "Также можно сразу выявить признаки, которые коррелируют с целевым признаком: <br/>\n",
    "previous_cancellations-0.2<br/>\n",
    "lead_time-0.18<br/>\n",
    "required_car_parking_spaces-0.17<br/>\n",
    "total_of_special_requests-0.13<br/>\n",
    "Примечание:в списке учтены только признаки с численными значениями. "
   ]
  },
  {
   "cell_type": "markdown",
   "metadata": {},
   "source": [
    "### Шаг 3. Формулировка ML-задачи на основе бизнес-задачи"
   ]
  },
  {
   "cell_type": "code",
   "execution_count": 30,
   "metadata": {},
   "outputs": [
    {
     "data": {
      "text/plain": [
       "array(['July', 'August', 'September', 'October', 'November', 'December',\n",
       "       'January', 'February', 'March', 'April', 'May', 'June'],\n",
       "      dtype=object)"
      ]
     },
     "execution_count": 30,
     "metadata": {},
     "output_type": "execute_result"
    }
   ],
   "source": [
    "df['arrival_date_month'].unique()"
   ]
  },
  {
   "cell_type": "code",
   "execution_count": 31,
   "metadata": {},
   "outputs": [],
   "source": [
    "seasons = {'Summer':['June','July','August'],'Winter':['December','January','February'],'Autumn':['September','October','November'],'Spring':['March','April','May']}"
   ]
  },
  {
   "cell_type": "code",
   "execution_count": 32,
   "metadata": {},
   "outputs": [],
   "source": [
    "NIGHT_PRICE_TYPES = {'A':1000,'B':800,'C':600,'D':550,'E':500,'F':450,'G':350}\n",
    "SERVICE_PRICE_TYPES = {'A':400,'B':350,'C':350,'D':150,'E':150,'F':150,'G':150}\n",
    "SEASON_PRICE = {'Summer':1.4,'Winter':1,'Autumn':1.2,'Spring':1.2}"
   ]
  },
  {
   "cell_type": "code",
   "execution_count": 33,
   "metadata": {},
   "outputs": [],
   "source": [
    "def apply_season(month):\n",
    "    for s in seasons:\n",
    "        if (month in seasons[s]):\n",
    "            return s\n",
    "    return 'None'"
   ]
  },
  {
   "cell_type": "code",
   "execution_count": 34,
   "metadata": {},
   "outputs": [],
   "source": [
    "df['season'] = df['arrival_date_month'].apply(apply_season)"
   ]
  },
  {
   "cell_type": "code",
   "execution_count": 35,
   "metadata": {},
   "outputs": [
    {
     "data": {
      "text/plain": [
       "array(['Summer', 'Autumn', 'Winter', 'Spring'], dtype=object)"
      ]
     },
     "execution_count": 35,
     "metadata": {},
     "output_type": "execute_result"
    }
   ],
   "source": [
    "df['season'].unique()"
   ]
  },
  {
   "cell_type": "code",
   "execution_count": 36,
   "metadata": {},
   "outputs": [],
   "source": [
    "def calculate_cost(row):\n",
    "    total_cost = 0\n",
    "    season = row['season']\n",
    "    room_type = row['reserved_room_type']\n",
    "    if (row['is_canceled']==1):\n",
    "        total_cost -= NIGHT_PRICE_TYPES[room_type]*SEASON_PRICE[season]+SERVICE_PRICE_TYPES[room_type]\n",
    "        return total_cost\n",
    "    nights = row['total_nights']\n",
    "    nights_service = math.floor(nights/2)+1\n",
    "    nights_cost = nights*NIGHT_PRICE_TYPES[room_type]*SEASON_PRICE[season]\n",
    "    nights_service_cost = nights_service*SERVICE_PRICE_TYPES[room_type]\n",
    "    cost = nights_cost-nights_service_cost\n",
    "    total_cost += cost\n",
    "    return total_cost"
   ]
  },
  {
   "cell_type": "code",
   "execution_count": 37,
   "metadata": {},
   "outputs": [],
   "source": [
    "df['profit'] = df.apply(calculate_cost, axis=1)"
   ]
  },
  {
   "cell_type": "code",
   "execution_count": 38,
   "metadata": {},
   "outputs": [
    {
     "data": {
      "text/plain": [
       "4   -1800.0\n",
       "Name: profit, dtype: float64"
      ]
     },
     "execution_count": 38,
     "metadata": {},
     "output_type": "execute_result"
    }
   ],
   "source": [
    "df.query('is_canceled == 1').iloc[0:1]['profit']"
   ]
  },
  {
   "cell_type": "code",
   "execution_count": 39,
   "metadata": {},
   "outputs": [
    {
     "name": "stdout",
     "output_type": "stream",
     "text": [
      "90,321,219.0\n"
     ]
    }
   ],
   "source": [
    "print(f'{sum(df[\"profit\"]):,}')"
   ]
  },
  {
   "cell_type": "markdown",
   "metadata": {},
   "source": [
    "#### Вывод"
   ]
  },
  {
   "cell_type": "markdown",
   "metadata": {},
   "source": [
    "Функция calculate_cost - расчет прибыли:<br/>\n",
    "1)если клиент не отменил бронь: стоимость номера за количество ночей, из которой вычитается стоимость уборок, которые происходят каждый второй день.<br/>\n",
    "2)если клиент отменил бронь: из прибыли вычитается стоимость номера за одну ночь и стоимость одной уборки.<br/>\n",
    "Примечание: также цены меняются в зависимости от времени года: весной и осенью цены повышаются на 20%, летом — на 40%.<br/>"
   ]
  },
  {
   "cell_type": "markdown",
   "metadata": {},
   "source": [
    "### Шаг 4. Разработка модели ML"
   ]
  },
  {
   "cell_type": "code",
   "execution_count": 40,
   "metadata": {},
   "outputs": [
    {
     "data": {
      "text/plain": [
       "Index(['is_canceled', 'lead_time', 'arrival_date_year', 'arrival_date_month',\n",
       "       'arrival_date_week_number', 'arrival_date_day_of_month',\n",
       "       'stays_in_weekend_nights', 'stays_in_week_nights', 'adults', 'children',\n",
       "       'babies', 'meal', 'country', 'distribution_channel',\n",
       "       'is_repeated_guest', 'previous_cancellations',\n",
       "       'previous_bookings_not_canceled', 'reserved_room_type',\n",
       "       'booking_changes', 'days_in_waiting_list', 'customer_type',\n",
       "       'required_car_parking_spaces', 'total_of_special_requests',\n",
       "       'total_nights', 'season', 'profit'],\n",
       "      dtype='object')"
      ]
     },
     "execution_count": 40,
     "metadata": {},
     "output_type": "execute_result"
    }
   ],
   "source": [
    "df.columns"
   ]
  },
  {
   "cell_type": "code",
   "execution_count": 41,
   "metadata": {},
   "outputs": [],
   "source": [
    "features_list = ['lead_time', 'arrival_date_year',\n",
    "       'adults', 'children',\n",
    "       'babies', 'meal', 'country', 'distribution_channel',\n",
    "       'is_repeated_guest', 'previous_cancellations',\n",
    "       'previous_bookings_not_canceled', 'reserved_room_type',\n",
    "       'booking_changes', 'days_in_waiting_list', 'customer_type',\n",
    "       'required_car_parking_spaces', 'total_of_special_requests',\n",
    "       'total_nights', 'season']"
   ]
  },
  {
   "cell_type": "code",
   "execution_count": 42,
   "metadata": {},
   "outputs": [
    {
     "data": {
      "text/plain": [
       "['lead_time',\n",
       " 'arrival_date_year',\n",
       " 'adults',\n",
       " 'children',\n",
       " 'babies',\n",
       " 'meal',\n",
       " 'country',\n",
       " 'distribution_channel',\n",
       " 'is_repeated_guest',\n",
       " 'previous_cancellations',\n",
       " 'previous_bookings_not_canceled',\n",
       " 'reserved_room_type',\n",
       " 'booking_changes',\n",
       " 'days_in_waiting_list',\n",
       " 'customer_type',\n",
       " 'required_car_parking_spaces',\n",
       " 'total_of_special_requests',\n",
       " 'total_nights',\n",
       " 'season']"
      ]
     },
     "execution_count": 42,
     "metadata": {},
     "output_type": "execute_result"
    }
   ],
   "source": [
    "features_list"
   ]
  },
  {
   "cell_type": "code",
   "execution_count": 43,
   "metadata": {},
   "outputs": [],
   "source": [
    "features = df[features_list]\n",
    "target = df['is_canceled']"
   ]
  },
  {
   "cell_type": "code",
   "execution_count": 44,
   "metadata": {},
   "outputs": [
    {
     "data": {
      "text/html": [
       "<div>\n",
       "<style scoped>\n",
       "    .dataframe tbody tr th:only-of-type {\n",
       "        vertical-align: middle;\n",
       "    }\n",
       "\n",
       "    .dataframe tbody tr th {\n",
       "        vertical-align: top;\n",
       "    }\n",
       "\n",
       "    .dataframe thead th {\n",
       "        text-align: right;\n",
       "    }\n",
       "</style>\n",
       "<table border=\"1\" class=\"dataframe\">\n",
       "  <thead>\n",
       "    <tr style=\"text-align: right;\">\n",
       "      <th></th>\n",
       "      <th>lead_time</th>\n",
       "      <th>arrival_date_year</th>\n",
       "      <th>adults</th>\n",
       "      <th>children</th>\n",
       "      <th>babies</th>\n",
       "      <th>meal</th>\n",
       "      <th>country</th>\n",
       "      <th>distribution_channel</th>\n",
       "      <th>is_repeated_guest</th>\n",
       "      <th>previous_cancellations</th>\n",
       "      <th>previous_bookings_not_canceled</th>\n",
       "      <th>reserved_room_type</th>\n",
       "      <th>booking_changes</th>\n",
       "      <th>days_in_waiting_list</th>\n",
       "      <th>customer_type</th>\n",
       "      <th>required_car_parking_spaces</th>\n",
       "      <th>total_of_special_requests</th>\n",
       "      <th>total_nights</th>\n",
       "      <th>season</th>\n",
       "    </tr>\n",
       "  </thead>\n",
       "  <tbody>\n",
       "    <tr>\n",
       "      <th>0</th>\n",
       "      <td>7.0</td>\n",
       "      <td>2015</td>\n",
       "      <td>1.0</td>\n",
       "      <td>0.0</td>\n",
       "      <td>0.0</td>\n",
       "      <td>BB</td>\n",
       "      <td>GBR</td>\n",
       "      <td>Direct</td>\n",
       "      <td>0</td>\n",
       "      <td>0</td>\n",
       "      <td>0</td>\n",
       "      <td>A</td>\n",
       "      <td>0</td>\n",
       "      <td>0.0</td>\n",
       "      <td>Transient</td>\n",
       "      <td>0</td>\n",
       "      <td>0</td>\n",
       "      <td>1</td>\n",
       "      <td>Summer</td>\n",
       "    </tr>\n",
       "    <tr>\n",
       "      <th>1</th>\n",
       "      <td>14.0</td>\n",
       "      <td>2015</td>\n",
       "      <td>2.0</td>\n",
       "      <td>0.0</td>\n",
       "      <td>0.0</td>\n",
       "      <td>BB</td>\n",
       "      <td>GBR</td>\n",
       "      <td>TA/TO</td>\n",
       "      <td>0</td>\n",
       "      <td>0</td>\n",
       "      <td>0</td>\n",
       "      <td>A</td>\n",
       "      <td>0</td>\n",
       "      <td>0.0</td>\n",
       "      <td>Transient</td>\n",
       "      <td>0</td>\n",
       "      <td>1</td>\n",
       "      <td>2</td>\n",
       "      <td>Summer</td>\n",
       "    </tr>\n",
       "    <tr>\n",
       "      <th>2</th>\n",
       "      <td>0.0</td>\n",
       "      <td>2015</td>\n",
       "      <td>2.0</td>\n",
       "      <td>0.0</td>\n",
       "      <td>0.0</td>\n",
       "      <td>BB</td>\n",
       "      <td>PRT</td>\n",
       "      <td>Direct</td>\n",
       "      <td>0</td>\n",
       "      <td>0</td>\n",
       "      <td>0</td>\n",
       "      <td>C</td>\n",
       "      <td>0</td>\n",
       "      <td>0.0</td>\n",
       "      <td>Transient</td>\n",
       "      <td>0</td>\n",
       "      <td>0</td>\n",
       "      <td>2</td>\n",
       "      <td>Summer</td>\n",
       "    </tr>\n",
       "    <tr>\n",
       "      <th>3</th>\n",
       "      <td>9.0</td>\n",
       "      <td>2015</td>\n",
       "      <td>2.0</td>\n",
       "      <td>0.0</td>\n",
       "      <td>0.0</td>\n",
       "      <td>FB</td>\n",
       "      <td>PRT</td>\n",
       "      <td>Direct</td>\n",
       "      <td>0</td>\n",
       "      <td>0</td>\n",
       "      <td>0</td>\n",
       "      <td>C</td>\n",
       "      <td>0</td>\n",
       "      <td>0.0</td>\n",
       "      <td>Transient</td>\n",
       "      <td>0</td>\n",
       "      <td>1</td>\n",
       "      <td>2</td>\n",
       "      <td>Summer</td>\n",
       "    </tr>\n",
       "    <tr>\n",
       "      <th>4</th>\n",
       "      <td>85.0</td>\n",
       "      <td>2015</td>\n",
       "      <td>2.0</td>\n",
       "      <td>0.0</td>\n",
       "      <td>0.0</td>\n",
       "      <td>BB</td>\n",
       "      <td>PRT</td>\n",
       "      <td>TA/TO</td>\n",
       "      <td>0</td>\n",
       "      <td>0</td>\n",
       "      <td>0</td>\n",
       "      <td>A</td>\n",
       "      <td>0</td>\n",
       "      <td>0.0</td>\n",
       "      <td>Transient</td>\n",
       "      <td>0</td>\n",
       "      <td>1</td>\n",
       "      <td>3</td>\n",
       "      <td>Summer</td>\n",
       "    </tr>\n",
       "    <tr>\n",
       "      <th>...</th>\n",
       "      <td>...</td>\n",
       "      <td>...</td>\n",
       "      <td>...</td>\n",
       "      <td>...</td>\n",
       "      <td>...</td>\n",
       "      <td>...</td>\n",
       "      <td>...</td>\n",
       "      <td>...</td>\n",
       "      <td>...</td>\n",
       "      <td>...</td>\n",
       "      <td>...</td>\n",
       "      <td>...</td>\n",
       "      <td>...</td>\n",
       "      <td>...</td>\n",
       "      <td>...</td>\n",
       "      <td>...</td>\n",
       "      <td>...</td>\n",
       "      <td>...</td>\n",
       "      <td>...</td>\n",
       "    </tr>\n",
       "    <tr>\n",
       "      <th>43847</th>\n",
       "      <td>23.0</td>\n",
       "      <td>2016</td>\n",
       "      <td>2.0</td>\n",
       "      <td>0.0</td>\n",
       "      <td>0.0</td>\n",
       "      <td>BB</td>\n",
       "      <td>CHN</td>\n",
       "      <td>TA/TO</td>\n",
       "      <td>0</td>\n",
       "      <td>0</td>\n",
       "      <td>0</td>\n",
       "      <td>D</td>\n",
       "      <td>0</td>\n",
       "      <td>0.0</td>\n",
       "      <td>Transient</td>\n",
       "      <td>0</td>\n",
       "      <td>2</td>\n",
       "      <td>6</td>\n",
       "      <td>Winter</td>\n",
       "    </tr>\n",
       "    <tr>\n",
       "      <th>43848</th>\n",
       "      <td>53.0</td>\n",
       "      <td>2016</td>\n",
       "      <td>2.0</td>\n",
       "      <td>0.0</td>\n",
       "      <td>0.0</td>\n",
       "      <td>HB</td>\n",
       "      <td>FRA</td>\n",
       "      <td>TA/TO</td>\n",
       "      <td>0</td>\n",
       "      <td>0</td>\n",
       "      <td>0</td>\n",
       "      <td>D</td>\n",
       "      <td>0</td>\n",
       "      <td>0.0</td>\n",
       "      <td>Transient</td>\n",
       "      <td>0</td>\n",
       "      <td>3</td>\n",
       "      <td>5</td>\n",
       "      <td>Winter</td>\n",
       "    </tr>\n",
       "    <tr>\n",
       "      <th>43849</th>\n",
       "      <td>7.0</td>\n",
       "      <td>2016</td>\n",
       "      <td>2.0</td>\n",
       "      <td>0.0</td>\n",
       "      <td>0.0</td>\n",
       "      <td>BB</td>\n",
       "      <td>FRA</td>\n",
       "      <td>TA/TO</td>\n",
       "      <td>0</td>\n",
       "      <td>0</td>\n",
       "      <td>0</td>\n",
       "      <td>D</td>\n",
       "      <td>0</td>\n",
       "      <td>0.0</td>\n",
       "      <td>Transient</td>\n",
       "      <td>0</td>\n",
       "      <td>1</td>\n",
       "      <td>6</td>\n",
       "      <td>Winter</td>\n",
       "    </tr>\n",
       "    <tr>\n",
       "      <th>43850</th>\n",
       "      <td>17.0</td>\n",
       "      <td>2016</td>\n",
       "      <td>2.0</td>\n",
       "      <td>0.0</td>\n",
       "      <td>0.0</td>\n",
       "      <td>SC</td>\n",
       "      <td>FRA</td>\n",
       "      <td>TA/TO</td>\n",
       "      <td>0</td>\n",
       "      <td>0</td>\n",
       "      <td>0</td>\n",
       "      <td>A</td>\n",
       "      <td>0</td>\n",
       "      <td>0.0</td>\n",
       "      <td>Transient</td>\n",
       "      <td>0</td>\n",
       "      <td>1</td>\n",
       "      <td>7</td>\n",
       "      <td>Winter</td>\n",
       "    </tr>\n",
       "    <tr>\n",
       "      <th>43851</th>\n",
       "      <td>107.0</td>\n",
       "      <td>2016</td>\n",
       "      <td>2.0</td>\n",
       "      <td>0.0</td>\n",
       "      <td>0.0</td>\n",
       "      <td>BB</td>\n",
       "      <td>FRA</td>\n",
       "      <td>TA/TO</td>\n",
       "      <td>0</td>\n",
       "      <td>0</td>\n",
       "      <td>0</td>\n",
       "      <td>A</td>\n",
       "      <td>0</td>\n",
       "      <td>0.0</td>\n",
       "      <td>Transient</td>\n",
       "      <td>0</td>\n",
       "      <td>0</td>\n",
       "      <td>7</td>\n",
       "      <td>Winter</td>\n",
       "    </tr>\n",
       "  </tbody>\n",
       "</table>\n",
       "<p>43852 rows × 19 columns</p>\n",
       "</div>"
      ],
      "text/plain": [
       "       lead_time  arrival_date_year  adults  children  babies       meal  \\\n",
       "0            7.0               2015     1.0       0.0     0.0  BB          \n",
       "1           14.0               2015     2.0       0.0     0.0  BB          \n",
       "2            0.0               2015     2.0       0.0     0.0  BB          \n",
       "3            9.0               2015     2.0       0.0     0.0  FB          \n",
       "4           85.0               2015     2.0       0.0     0.0  BB          \n",
       "...          ...                ...     ...       ...     ...        ...   \n",
       "43847       23.0               2016     2.0       0.0     0.0  BB          \n",
       "43848       53.0               2016     2.0       0.0     0.0  HB          \n",
       "43849        7.0               2016     2.0       0.0     0.0  BB          \n",
       "43850       17.0               2016     2.0       0.0     0.0  SC          \n",
       "43851      107.0               2016     2.0       0.0     0.0  BB          \n",
       "\n",
       "      country distribution_channel  is_repeated_guest  previous_cancellations  \\\n",
       "0         GBR               Direct                  0                       0   \n",
       "1         GBR                TA/TO                  0                       0   \n",
       "2         PRT               Direct                  0                       0   \n",
       "3         PRT               Direct                  0                       0   \n",
       "4         PRT                TA/TO                  0                       0   \n",
       "...       ...                  ...                ...                     ...   \n",
       "43847     CHN                TA/TO                  0                       0   \n",
       "43848     FRA                TA/TO                  0                       0   \n",
       "43849     FRA                TA/TO                  0                       0   \n",
       "43850     FRA                TA/TO                  0                       0   \n",
       "43851     FRA                TA/TO                  0                       0   \n",
       "\n",
       "       previous_bookings_not_canceled reserved_room_type  booking_changes  \\\n",
       "0                                   0                  A                0   \n",
       "1                                   0                  A                0   \n",
       "2                                   0                  C                0   \n",
       "3                                   0                  C                0   \n",
       "4                                   0                  A                0   \n",
       "...                               ...                ...              ...   \n",
       "43847                               0                  D                0   \n",
       "43848                               0                  D                0   \n",
       "43849                               0                  D                0   \n",
       "43850                               0                  A                0   \n",
       "43851                               0                  A                0   \n",
       "\n",
       "       days_in_waiting_list customer_type  required_car_parking_spaces  \\\n",
       "0                       0.0     Transient                            0   \n",
       "1                       0.0     Transient                            0   \n",
       "2                       0.0     Transient                            0   \n",
       "3                       0.0     Transient                            0   \n",
       "4                       0.0     Transient                            0   \n",
       "...                     ...           ...                          ...   \n",
       "43847                   0.0     Transient                            0   \n",
       "43848                   0.0     Transient                            0   \n",
       "43849                   0.0     Transient                            0   \n",
       "43850                   0.0     Transient                            0   \n",
       "43851                   0.0     Transient                            0   \n",
       "\n",
       "       total_of_special_requests  total_nights  season  \n",
       "0                              0             1  Summer  \n",
       "1                              1             2  Summer  \n",
       "2                              0             2  Summer  \n",
       "3                              1             2  Summer  \n",
       "4                              1             3  Summer  \n",
       "...                          ...           ...     ...  \n",
       "43847                          2             6  Winter  \n",
       "43848                          3             5  Winter  \n",
       "43849                          1             6  Winter  \n",
       "43850                          1             7  Winter  \n",
       "43851                          0             7  Winter  \n",
       "\n",
       "[43852 rows x 19 columns]"
      ]
     },
     "execution_count": 44,
     "metadata": {},
     "output_type": "execute_result"
    }
   ],
   "source": [
    "features"
   ]
  },
  {
   "cell_type": "code",
   "execution_count": 45,
   "metadata": {},
   "outputs": [],
   "source": [
    "ore_list = features_list.copy()\n",
    "ore_list.remove('lead_time')"
   ]
  },
  {
   "cell_type": "code",
   "execution_count": 46,
   "metadata": {},
   "outputs": [
    {
     "data": {
      "text/html": [
       "<div>\n",
       "<style scoped>\n",
       "    .dataframe tbody tr th:only-of-type {\n",
       "        vertical-align: middle;\n",
       "    }\n",
       "\n",
       "    .dataframe tbody tr th {\n",
       "        vertical-align: top;\n",
       "    }\n",
       "\n",
       "    .dataframe thead th {\n",
       "        text-align: right;\n",
       "    }\n",
       "</style>\n",
       "<table border=\"1\" class=\"dataframe\">\n",
       "  <thead>\n",
       "    <tr style=\"text-align: right;\">\n",
       "      <th></th>\n",
       "      <th>lead_time</th>\n",
       "      <th>arrival_date_year</th>\n",
       "      <th>adults</th>\n",
       "      <th>children</th>\n",
       "      <th>babies</th>\n",
       "      <th>meal</th>\n",
       "      <th>country</th>\n",
       "      <th>distribution_channel</th>\n",
       "      <th>is_repeated_guest</th>\n",
       "      <th>previous_cancellations</th>\n",
       "      <th>previous_bookings_not_canceled</th>\n",
       "      <th>reserved_room_type</th>\n",
       "      <th>booking_changes</th>\n",
       "      <th>days_in_waiting_list</th>\n",
       "      <th>customer_type</th>\n",
       "      <th>required_car_parking_spaces</th>\n",
       "      <th>total_of_special_requests</th>\n",
       "      <th>total_nights</th>\n",
       "      <th>season</th>\n",
       "    </tr>\n",
       "  </thead>\n",
       "  <tbody>\n",
       "    <tr>\n",
       "      <th>0</th>\n",
       "      <td>7.0</td>\n",
       "      <td>2015</td>\n",
       "      <td>1.0</td>\n",
       "      <td>0.0</td>\n",
       "      <td>0.0</td>\n",
       "      <td>BB</td>\n",
       "      <td>GBR</td>\n",
       "      <td>Direct</td>\n",
       "      <td>0</td>\n",
       "      <td>0</td>\n",
       "      <td>0</td>\n",
       "      <td>A</td>\n",
       "      <td>0</td>\n",
       "      <td>0.0</td>\n",
       "      <td>Transient</td>\n",
       "      <td>0</td>\n",
       "      <td>0</td>\n",
       "      <td>1</td>\n",
       "      <td>Summer</td>\n",
       "    </tr>\n",
       "    <tr>\n",
       "      <th>1</th>\n",
       "      <td>14.0</td>\n",
       "      <td>2015</td>\n",
       "      <td>2.0</td>\n",
       "      <td>0.0</td>\n",
       "      <td>0.0</td>\n",
       "      <td>BB</td>\n",
       "      <td>GBR</td>\n",
       "      <td>TA/TO</td>\n",
       "      <td>0</td>\n",
       "      <td>0</td>\n",
       "      <td>0</td>\n",
       "      <td>A</td>\n",
       "      <td>0</td>\n",
       "      <td>0.0</td>\n",
       "      <td>Transient</td>\n",
       "      <td>0</td>\n",
       "      <td>1</td>\n",
       "      <td>2</td>\n",
       "      <td>Summer</td>\n",
       "    </tr>\n",
       "    <tr>\n",
       "      <th>2</th>\n",
       "      <td>0.0</td>\n",
       "      <td>2015</td>\n",
       "      <td>2.0</td>\n",
       "      <td>0.0</td>\n",
       "      <td>0.0</td>\n",
       "      <td>BB</td>\n",
       "      <td>PRT</td>\n",
       "      <td>Direct</td>\n",
       "      <td>0</td>\n",
       "      <td>0</td>\n",
       "      <td>0</td>\n",
       "      <td>C</td>\n",
       "      <td>0</td>\n",
       "      <td>0.0</td>\n",
       "      <td>Transient</td>\n",
       "      <td>0</td>\n",
       "      <td>0</td>\n",
       "      <td>2</td>\n",
       "      <td>Summer</td>\n",
       "    </tr>\n",
       "    <tr>\n",
       "      <th>3</th>\n",
       "      <td>9.0</td>\n",
       "      <td>2015</td>\n",
       "      <td>2.0</td>\n",
       "      <td>0.0</td>\n",
       "      <td>0.0</td>\n",
       "      <td>FB</td>\n",
       "      <td>PRT</td>\n",
       "      <td>Direct</td>\n",
       "      <td>0</td>\n",
       "      <td>0</td>\n",
       "      <td>0</td>\n",
       "      <td>C</td>\n",
       "      <td>0</td>\n",
       "      <td>0.0</td>\n",
       "      <td>Transient</td>\n",
       "      <td>0</td>\n",
       "      <td>1</td>\n",
       "      <td>2</td>\n",
       "      <td>Summer</td>\n",
       "    </tr>\n",
       "    <tr>\n",
       "      <th>4</th>\n",
       "      <td>85.0</td>\n",
       "      <td>2015</td>\n",
       "      <td>2.0</td>\n",
       "      <td>0.0</td>\n",
       "      <td>0.0</td>\n",
       "      <td>BB</td>\n",
       "      <td>PRT</td>\n",
       "      <td>TA/TO</td>\n",
       "      <td>0</td>\n",
       "      <td>0</td>\n",
       "      <td>0</td>\n",
       "      <td>A</td>\n",
       "      <td>0</td>\n",
       "      <td>0.0</td>\n",
       "      <td>Transient</td>\n",
       "      <td>0</td>\n",
       "      <td>1</td>\n",
       "      <td>3</td>\n",
       "      <td>Summer</td>\n",
       "    </tr>\n",
       "    <tr>\n",
       "      <th>...</th>\n",
       "      <td>...</td>\n",
       "      <td>...</td>\n",
       "      <td>...</td>\n",
       "      <td>...</td>\n",
       "      <td>...</td>\n",
       "      <td>...</td>\n",
       "      <td>...</td>\n",
       "      <td>...</td>\n",
       "      <td>...</td>\n",
       "      <td>...</td>\n",
       "      <td>...</td>\n",
       "      <td>...</td>\n",
       "      <td>...</td>\n",
       "      <td>...</td>\n",
       "      <td>...</td>\n",
       "      <td>...</td>\n",
       "      <td>...</td>\n",
       "      <td>...</td>\n",
       "      <td>...</td>\n",
       "    </tr>\n",
       "    <tr>\n",
       "      <th>43847</th>\n",
       "      <td>23.0</td>\n",
       "      <td>2016</td>\n",
       "      <td>2.0</td>\n",
       "      <td>0.0</td>\n",
       "      <td>0.0</td>\n",
       "      <td>BB</td>\n",
       "      <td>CHN</td>\n",
       "      <td>TA/TO</td>\n",
       "      <td>0</td>\n",
       "      <td>0</td>\n",
       "      <td>0</td>\n",
       "      <td>D</td>\n",
       "      <td>0</td>\n",
       "      <td>0.0</td>\n",
       "      <td>Transient</td>\n",
       "      <td>0</td>\n",
       "      <td>2</td>\n",
       "      <td>6</td>\n",
       "      <td>Winter</td>\n",
       "    </tr>\n",
       "    <tr>\n",
       "      <th>43848</th>\n",
       "      <td>53.0</td>\n",
       "      <td>2016</td>\n",
       "      <td>2.0</td>\n",
       "      <td>0.0</td>\n",
       "      <td>0.0</td>\n",
       "      <td>HB</td>\n",
       "      <td>FRA</td>\n",
       "      <td>TA/TO</td>\n",
       "      <td>0</td>\n",
       "      <td>0</td>\n",
       "      <td>0</td>\n",
       "      <td>D</td>\n",
       "      <td>0</td>\n",
       "      <td>0.0</td>\n",
       "      <td>Transient</td>\n",
       "      <td>0</td>\n",
       "      <td>3</td>\n",
       "      <td>5</td>\n",
       "      <td>Winter</td>\n",
       "    </tr>\n",
       "    <tr>\n",
       "      <th>43849</th>\n",
       "      <td>7.0</td>\n",
       "      <td>2016</td>\n",
       "      <td>2.0</td>\n",
       "      <td>0.0</td>\n",
       "      <td>0.0</td>\n",
       "      <td>BB</td>\n",
       "      <td>FRA</td>\n",
       "      <td>TA/TO</td>\n",
       "      <td>0</td>\n",
       "      <td>0</td>\n",
       "      <td>0</td>\n",
       "      <td>D</td>\n",
       "      <td>0</td>\n",
       "      <td>0.0</td>\n",
       "      <td>Transient</td>\n",
       "      <td>0</td>\n",
       "      <td>1</td>\n",
       "      <td>6</td>\n",
       "      <td>Winter</td>\n",
       "    </tr>\n",
       "    <tr>\n",
       "      <th>43850</th>\n",
       "      <td>17.0</td>\n",
       "      <td>2016</td>\n",
       "      <td>2.0</td>\n",
       "      <td>0.0</td>\n",
       "      <td>0.0</td>\n",
       "      <td>SC</td>\n",
       "      <td>FRA</td>\n",
       "      <td>TA/TO</td>\n",
       "      <td>0</td>\n",
       "      <td>0</td>\n",
       "      <td>0</td>\n",
       "      <td>A</td>\n",
       "      <td>0</td>\n",
       "      <td>0.0</td>\n",
       "      <td>Transient</td>\n",
       "      <td>0</td>\n",
       "      <td>1</td>\n",
       "      <td>7</td>\n",
       "      <td>Winter</td>\n",
       "    </tr>\n",
       "    <tr>\n",
       "      <th>43851</th>\n",
       "      <td>107.0</td>\n",
       "      <td>2016</td>\n",
       "      <td>2.0</td>\n",
       "      <td>0.0</td>\n",
       "      <td>0.0</td>\n",
       "      <td>BB</td>\n",
       "      <td>FRA</td>\n",
       "      <td>TA/TO</td>\n",
       "      <td>0</td>\n",
       "      <td>0</td>\n",
       "      <td>0</td>\n",
       "      <td>A</td>\n",
       "      <td>0</td>\n",
       "      <td>0.0</td>\n",
       "      <td>Transient</td>\n",
       "      <td>0</td>\n",
       "      <td>0</td>\n",
       "      <td>7</td>\n",
       "      <td>Winter</td>\n",
       "    </tr>\n",
       "  </tbody>\n",
       "</table>\n",
       "<p>43852 rows × 19 columns</p>\n",
       "</div>"
      ],
      "text/plain": [
       "       lead_time  arrival_date_year  adults  children  babies       meal  \\\n",
       "0            7.0               2015     1.0       0.0     0.0  BB          \n",
       "1           14.0               2015     2.0       0.0     0.0  BB          \n",
       "2            0.0               2015     2.0       0.0     0.0  BB          \n",
       "3            9.0               2015     2.0       0.0     0.0  FB          \n",
       "4           85.0               2015     2.0       0.0     0.0  BB          \n",
       "...          ...                ...     ...       ...     ...        ...   \n",
       "43847       23.0               2016     2.0       0.0     0.0  BB          \n",
       "43848       53.0               2016     2.0       0.0     0.0  HB          \n",
       "43849        7.0               2016     2.0       0.0     0.0  BB          \n",
       "43850       17.0               2016     2.0       0.0     0.0  SC          \n",
       "43851      107.0               2016     2.0       0.0     0.0  BB          \n",
       "\n",
       "      country distribution_channel  is_repeated_guest  previous_cancellations  \\\n",
       "0         GBR               Direct                  0                       0   \n",
       "1         GBR                TA/TO                  0                       0   \n",
       "2         PRT               Direct                  0                       0   \n",
       "3         PRT               Direct                  0                       0   \n",
       "4         PRT                TA/TO                  0                       0   \n",
       "...       ...                  ...                ...                     ...   \n",
       "43847     CHN                TA/TO                  0                       0   \n",
       "43848     FRA                TA/TO                  0                       0   \n",
       "43849     FRA                TA/TO                  0                       0   \n",
       "43850     FRA                TA/TO                  0                       0   \n",
       "43851     FRA                TA/TO                  0                       0   \n",
       "\n",
       "       previous_bookings_not_canceled reserved_room_type  booking_changes  \\\n",
       "0                                   0                  A                0   \n",
       "1                                   0                  A                0   \n",
       "2                                   0                  C                0   \n",
       "3                                   0                  C                0   \n",
       "4                                   0                  A                0   \n",
       "...                               ...                ...              ...   \n",
       "43847                               0                  D                0   \n",
       "43848                               0                  D                0   \n",
       "43849                               0                  D                0   \n",
       "43850                               0                  A                0   \n",
       "43851                               0                  A                0   \n",
       "\n",
       "       days_in_waiting_list customer_type  required_car_parking_spaces  \\\n",
       "0                       0.0     Transient                            0   \n",
       "1                       0.0     Transient                            0   \n",
       "2                       0.0     Transient                            0   \n",
       "3                       0.0     Transient                            0   \n",
       "4                       0.0     Transient                            0   \n",
       "...                     ...           ...                          ...   \n",
       "43847                   0.0     Transient                            0   \n",
       "43848                   0.0     Transient                            0   \n",
       "43849                   0.0     Transient                            0   \n",
       "43850                   0.0     Transient                            0   \n",
       "43851                   0.0     Transient                            0   \n",
       "\n",
       "       total_of_special_requests  total_nights  season  \n",
       "0                              0             1  Summer  \n",
       "1                              1             2  Summer  \n",
       "2                              0             2  Summer  \n",
       "3                              1             2  Summer  \n",
       "4                              1             3  Summer  \n",
       "...                          ...           ...     ...  \n",
       "43847                          2             6  Winter  \n",
       "43848                          3             5  Winter  \n",
       "43849                          1             6  Winter  \n",
       "43850                          1             7  Winter  \n",
       "43851                          0             7  Winter  \n",
       "\n",
       "[43852 rows x 19 columns]"
      ]
     },
     "execution_count": 46,
     "metadata": {},
     "output_type": "execute_result"
    }
   ],
   "source": [
    "features"
   ]
  },
  {
   "cell_type": "code",
   "execution_count": 47,
   "metadata": {},
   "outputs": [
    {
     "data": {
      "text/html": [
       "<div>\n",
       "<style scoped>\n",
       "    .dataframe tbody tr th:only-of-type {\n",
       "        vertical-align: middle;\n",
       "    }\n",
       "\n",
       "    .dataframe tbody tr th {\n",
       "        vertical-align: top;\n",
       "    }\n",
       "\n",
       "    .dataframe thead th {\n",
       "        text-align: right;\n",
       "    }\n",
       "</style>\n",
       "<table border=\"1\" class=\"dataframe\">\n",
       "  <thead>\n",
       "    <tr style=\"text-align: right;\">\n",
       "      <th></th>\n",
       "      <th>arrival_date_year</th>\n",
       "      <th>adults</th>\n",
       "      <th>children</th>\n",
       "      <th>babies</th>\n",
       "      <th>meal</th>\n",
       "      <th>country</th>\n",
       "      <th>distribution_channel</th>\n",
       "      <th>is_repeated_guest</th>\n",
       "      <th>previous_cancellations</th>\n",
       "      <th>previous_bookings_not_canceled</th>\n",
       "      <th>reserved_room_type</th>\n",
       "      <th>booking_changes</th>\n",
       "      <th>days_in_waiting_list</th>\n",
       "      <th>customer_type</th>\n",
       "      <th>required_car_parking_spaces</th>\n",
       "      <th>total_of_special_requests</th>\n",
       "      <th>total_nights</th>\n",
       "      <th>season</th>\n",
       "    </tr>\n",
       "  </thead>\n",
       "  <tbody>\n",
       "    <tr>\n",
       "      <th>0</th>\n",
       "      <td>0.0</td>\n",
       "      <td>0.0</td>\n",
       "      <td>0.0</td>\n",
       "      <td>0.0</td>\n",
       "      <td>0.0</td>\n",
       "      <td>50.0</td>\n",
       "      <td>1.0</td>\n",
       "      <td>0.0</td>\n",
       "      <td>0.0</td>\n",
       "      <td>0.0</td>\n",
       "      <td>0.0</td>\n",
       "      <td>0.0</td>\n",
       "      <td>0.0</td>\n",
       "      <td>2.0</td>\n",
       "      <td>0.0</td>\n",
       "      <td>0.0</td>\n",
       "      <td>0.0</td>\n",
       "      <td>2.0</td>\n",
       "    </tr>\n",
       "    <tr>\n",
       "      <th>1</th>\n",
       "      <td>0.0</td>\n",
       "      <td>1.0</td>\n",
       "      <td>0.0</td>\n",
       "      <td>0.0</td>\n",
       "      <td>0.0</td>\n",
       "      <td>50.0</td>\n",
       "      <td>3.0</td>\n",
       "      <td>0.0</td>\n",
       "      <td>0.0</td>\n",
       "      <td>0.0</td>\n",
       "      <td>0.0</td>\n",
       "      <td>0.0</td>\n",
       "      <td>0.0</td>\n",
       "      <td>2.0</td>\n",
       "      <td>0.0</td>\n",
       "      <td>1.0</td>\n",
       "      <td>1.0</td>\n",
       "      <td>2.0</td>\n",
       "    </tr>\n",
       "    <tr>\n",
       "      <th>2</th>\n",
       "      <td>0.0</td>\n",
       "      <td>1.0</td>\n",
       "      <td>0.0</td>\n",
       "      <td>0.0</td>\n",
       "      <td>0.0</td>\n",
       "      <td>117.0</td>\n",
       "      <td>1.0</td>\n",
       "      <td>0.0</td>\n",
       "      <td>0.0</td>\n",
       "      <td>0.0</td>\n",
       "      <td>2.0</td>\n",
       "      <td>0.0</td>\n",
       "      <td>0.0</td>\n",
       "      <td>2.0</td>\n",
       "      <td>0.0</td>\n",
       "      <td>0.0</td>\n",
       "      <td>1.0</td>\n",
       "      <td>2.0</td>\n",
       "    </tr>\n",
       "    <tr>\n",
       "      <th>3</th>\n",
       "      <td>0.0</td>\n",
       "      <td>1.0</td>\n",
       "      <td>0.0</td>\n",
       "      <td>0.0</td>\n",
       "      <td>1.0</td>\n",
       "      <td>117.0</td>\n",
       "      <td>1.0</td>\n",
       "      <td>0.0</td>\n",
       "      <td>0.0</td>\n",
       "      <td>0.0</td>\n",
       "      <td>2.0</td>\n",
       "      <td>0.0</td>\n",
       "      <td>0.0</td>\n",
       "      <td>2.0</td>\n",
       "      <td>0.0</td>\n",
       "      <td>1.0</td>\n",
       "      <td>1.0</td>\n",
       "      <td>2.0</td>\n",
       "    </tr>\n",
       "    <tr>\n",
       "      <th>4</th>\n",
       "      <td>0.0</td>\n",
       "      <td>1.0</td>\n",
       "      <td>0.0</td>\n",
       "      <td>0.0</td>\n",
       "      <td>0.0</td>\n",
       "      <td>117.0</td>\n",
       "      <td>3.0</td>\n",
       "      <td>0.0</td>\n",
       "      <td>0.0</td>\n",
       "      <td>0.0</td>\n",
       "      <td>0.0</td>\n",
       "      <td>0.0</td>\n",
       "      <td>0.0</td>\n",
       "      <td>2.0</td>\n",
       "      <td>0.0</td>\n",
       "      <td>1.0</td>\n",
       "      <td>2.0</td>\n",
       "      <td>2.0</td>\n",
       "    </tr>\n",
       "    <tr>\n",
       "      <th>...</th>\n",
       "      <td>...</td>\n",
       "      <td>...</td>\n",
       "      <td>...</td>\n",
       "      <td>...</td>\n",
       "      <td>...</td>\n",
       "      <td>...</td>\n",
       "      <td>...</td>\n",
       "      <td>...</td>\n",
       "      <td>...</td>\n",
       "      <td>...</td>\n",
       "      <td>...</td>\n",
       "      <td>...</td>\n",
       "      <td>...</td>\n",
       "      <td>...</td>\n",
       "      <td>...</td>\n",
       "      <td>...</td>\n",
       "      <td>...</td>\n",
       "      <td>...</td>\n",
       "    </tr>\n",
       "    <tr>\n",
       "      <th>43847</th>\n",
       "      <td>1.0</td>\n",
       "      <td>1.0</td>\n",
       "      <td>0.0</td>\n",
       "      <td>0.0</td>\n",
       "      <td>0.0</td>\n",
       "      <td>26.0</td>\n",
       "      <td>3.0</td>\n",
       "      <td>0.0</td>\n",
       "      <td>0.0</td>\n",
       "      <td>0.0</td>\n",
       "      <td>3.0</td>\n",
       "      <td>0.0</td>\n",
       "      <td>0.0</td>\n",
       "      <td>2.0</td>\n",
       "      <td>0.0</td>\n",
       "      <td>2.0</td>\n",
       "      <td>5.0</td>\n",
       "      <td>3.0</td>\n",
       "    </tr>\n",
       "    <tr>\n",
       "      <th>43848</th>\n",
       "      <td>1.0</td>\n",
       "      <td>1.0</td>\n",
       "      <td>0.0</td>\n",
       "      <td>0.0</td>\n",
       "      <td>2.0</td>\n",
       "      <td>48.0</td>\n",
       "      <td>3.0</td>\n",
       "      <td>0.0</td>\n",
       "      <td>0.0</td>\n",
       "      <td>0.0</td>\n",
       "      <td>3.0</td>\n",
       "      <td>0.0</td>\n",
       "      <td>0.0</td>\n",
       "      <td>2.0</td>\n",
       "      <td>0.0</td>\n",
       "      <td>3.0</td>\n",
       "      <td>4.0</td>\n",
       "      <td>3.0</td>\n",
       "    </tr>\n",
       "    <tr>\n",
       "      <th>43849</th>\n",
       "      <td>1.0</td>\n",
       "      <td>1.0</td>\n",
       "      <td>0.0</td>\n",
       "      <td>0.0</td>\n",
       "      <td>0.0</td>\n",
       "      <td>48.0</td>\n",
       "      <td>3.0</td>\n",
       "      <td>0.0</td>\n",
       "      <td>0.0</td>\n",
       "      <td>0.0</td>\n",
       "      <td>3.0</td>\n",
       "      <td>0.0</td>\n",
       "      <td>0.0</td>\n",
       "      <td>2.0</td>\n",
       "      <td>0.0</td>\n",
       "      <td>1.0</td>\n",
       "      <td>5.0</td>\n",
       "      <td>3.0</td>\n",
       "    </tr>\n",
       "    <tr>\n",
       "      <th>43850</th>\n",
       "      <td>1.0</td>\n",
       "      <td>1.0</td>\n",
       "      <td>0.0</td>\n",
       "      <td>0.0</td>\n",
       "      <td>4.0</td>\n",
       "      <td>48.0</td>\n",
       "      <td>3.0</td>\n",
       "      <td>0.0</td>\n",
       "      <td>0.0</td>\n",
       "      <td>0.0</td>\n",
       "      <td>0.0</td>\n",
       "      <td>0.0</td>\n",
       "      <td>0.0</td>\n",
       "      <td>2.0</td>\n",
       "      <td>0.0</td>\n",
       "      <td>1.0</td>\n",
       "      <td>6.0</td>\n",
       "      <td>3.0</td>\n",
       "    </tr>\n",
       "    <tr>\n",
       "      <th>43851</th>\n",
       "      <td>1.0</td>\n",
       "      <td>1.0</td>\n",
       "      <td>0.0</td>\n",
       "      <td>0.0</td>\n",
       "      <td>0.0</td>\n",
       "      <td>48.0</td>\n",
       "      <td>3.0</td>\n",
       "      <td>0.0</td>\n",
       "      <td>0.0</td>\n",
       "      <td>0.0</td>\n",
       "      <td>0.0</td>\n",
       "      <td>0.0</td>\n",
       "      <td>0.0</td>\n",
       "      <td>2.0</td>\n",
       "      <td>0.0</td>\n",
       "      <td>0.0</td>\n",
       "      <td>6.0</td>\n",
       "      <td>3.0</td>\n",
       "    </tr>\n",
       "  </tbody>\n",
       "</table>\n",
       "<p>43852 rows × 18 columns</p>\n",
       "</div>"
      ],
      "text/plain": [
       "       arrival_date_year  adults  children  babies  meal  country  \\\n",
       "0                    0.0     0.0       0.0     0.0   0.0     50.0   \n",
       "1                    0.0     1.0       0.0     0.0   0.0     50.0   \n",
       "2                    0.0     1.0       0.0     0.0   0.0    117.0   \n",
       "3                    0.0     1.0       0.0     0.0   1.0    117.0   \n",
       "4                    0.0     1.0       0.0     0.0   0.0    117.0   \n",
       "...                  ...     ...       ...     ...   ...      ...   \n",
       "43847                1.0     1.0       0.0     0.0   0.0     26.0   \n",
       "43848                1.0     1.0       0.0     0.0   2.0     48.0   \n",
       "43849                1.0     1.0       0.0     0.0   0.0     48.0   \n",
       "43850                1.0     1.0       0.0     0.0   4.0     48.0   \n",
       "43851                1.0     1.0       0.0     0.0   0.0     48.0   \n",
       "\n",
       "       distribution_channel  is_repeated_guest  previous_cancellations  \\\n",
       "0                       1.0                0.0                     0.0   \n",
       "1                       3.0                0.0                     0.0   \n",
       "2                       1.0                0.0                     0.0   \n",
       "3                       1.0                0.0                     0.0   \n",
       "4                       3.0                0.0                     0.0   \n",
       "...                     ...                ...                     ...   \n",
       "43847                   3.0                0.0                     0.0   \n",
       "43848                   3.0                0.0                     0.0   \n",
       "43849                   3.0                0.0                     0.0   \n",
       "43850                   3.0                0.0                     0.0   \n",
       "43851                   3.0                0.0                     0.0   \n",
       "\n",
       "       previous_bookings_not_canceled  reserved_room_type  booking_changes  \\\n",
       "0                                 0.0                 0.0              0.0   \n",
       "1                                 0.0                 0.0              0.0   \n",
       "2                                 0.0                 2.0              0.0   \n",
       "3                                 0.0                 2.0              0.0   \n",
       "4                                 0.0                 0.0              0.0   \n",
       "...                               ...                 ...              ...   \n",
       "43847                             0.0                 3.0              0.0   \n",
       "43848                             0.0                 3.0              0.0   \n",
       "43849                             0.0                 3.0              0.0   \n",
       "43850                             0.0                 0.0              0.0   \n",
       "43851                             0.0                 0.0              0.0   \n",
       "\n",
       "       days_in_waiting_list  customer_type  required_car_parking_spaces  \\\n",
       "0                       0.0            2.0                          0.0   \n",
       "1                       0.0            2.0                          0.0   \n",
       "2                       0.0            2.0                          0.0   \n",
       "3                       0.0            2.0                          0.0   \n",
       "4                       0.0            2.0                          0.0   \n",
       "...                     ...            ...                          ...   \n",
       "43847                   0.0            2.0                          0.0   \n",
       "43848                   0.0            2.0                          0.0   \n",
       "43849                   0.0            2.0                          0.0   \n",
       "43850                   0.0            2.0                          0.0   \n",
       "43851                   0.0            2.0                          0.0   \n",
       "\n",
       "       total_of_special_requests  total_nights  season  \n",
       "0                            0.0           0.0     2.0  \n",
       "1                            1.0           1.0     2.0  \n",
       "2                            0.0           1.0     2.0  \n",
       "3                            1.0           1.0     2.0  \n",
       "4                            1.0           2.0     2.0  \n",
       "...                          ...           ...     ...  \n",
       "43847                        2.0           5.0     3.0  \n",
       "43848                        3.0           4.0     3.0  \n",
       "43849                        1.0           5.0     3.0  \n",
       "43850                        1.0           6.0     3.0  \n",
       "43851                        0.0           6.0     3.0  \n",
       "\n",
       "[43852 rows x 18 columns]"
      ]
     },
     "execution_count": 47,
     "metadata": {},
     "output_type": "execute_result"
    }
   ],
   "source": [
    "ordi = OrdinalEncoder()\n",
    "\n",
    "test_df = pd.DataFrame(data=ordi.fit_transform(features[ore_list]))\n",
    "test_df.columns = ore_list\n",
    "test_df"
   ]
  },
  {
   "cell_type": "markdown",
   "metadata": {},
   "source": [
    "#### Выбор метрики"
   ]
  },
  {
   "cell_type": "markdown",
   "metadata": {},
   "source": [
    "Классы несбалансированы - соотношение количества людей, не отменивших броню к отменившим - 3 к 1.\n",
    "Поэтому, чтобы правильно определять качество модели, будем считать **F1 метрику**, которая учитывает полноту и точность."
   ]
  },
  {
   "cell_type": "code",
   "execution_count": 48,
   "metadata": {},
   "outputs": [],
   "source": [
    "def train_model(features,target,model,tree=False):\n",
    "    preprocessor = None\n",
    "    if(tree==False):\n",
    "        preprocessor = ColumnTransformer(\n",
    "        transformers=[\n",
    "            ('num', StandardScaler(), ['lead_time']),\n",
    "            ('encoder', OneHotEncoder(sparse=False,handle_unknown='ignore'), ore_list)\n",
    "        ],remainder='passthrough')\n",
    "    else:\n",
    "        preprocessor = ColumnTransformer(\n",
    "        transformers=[\n",
    "            ('encoder', OrdinalEncoder(handle_unknown = 'use_encoded_value', unknown_value = -1), ore_list)\n",
    "        ],remainder='passthrough')\n",
    "    clf = Pipeline(\n",
    "        steps=[(\"preprocessor\", preprocessor), (\"classifier\", model)]\n",
    "    )\n",
    "    return cross_val_score(clf, features, target, cv=5,scoring=\"f1\").mean(),model\n",
    "    "
   ]
  },
  {
   "cell_type": "code",
   "execution_count": 49,
   "metadata": {},
   "outputs": [
    {
     "name": "stdout",
     "output_type": "stream",
     "text": [
      "cross validation F1: 0.37925770107782286\n"
     ]
    }
   ],
   "source": [
    "print(f'cross validation F1: {train_model(features,target,LogisticRegression(solver=\"liblinear\"))[0]}')"
   ]
  },
  {
   "cell_type": "code",
   "execution_count": 50,
   "metadata": {},
   "outputs": [],
   "source": [
    "max_score = 0\n",
    "best_n = 0\n",
    "best_d = 0\n",
    "for n in range(1,33,3):\n",
    "    for d in range(4,44,4):\n",
    "        score,model = train_model(features,target,RandomForestClassifier(n_estimators=n,max_depth=d,random_state=12345),True)\n",
    "        if (score>max_score):\n",
    "            best_n=n\n",
    "            best_d=d\n",
    "            max_score=score\n"
   ]
  },
  {
   "cell_type": "code",
   "execution_count": 51,
   "metadata": {},
   "outputs": [
    {
     "name": "stdout",
     "output_type": "stream",
     "text": [
      "cross validation F1: 0.4293856038785533\n",
      "best n:4\n",
      "best d:16\n"
     ]
    }
   ],
   "source": [
    "print(f'cross validation F1: {max_score}')\n",
    "print(f'best n:{best_n}')\n",
    "print(f'best d:{best_d}')"
   ]
  },
  {
   "cell_type": "code",
   "execution_count": 52,
   "metadata": {},
   "outputs": [],
   "source": [
    "kf = KFold(n_splits=5,shuffle=True,random_state=12345)"
   ]
  },
  {
   "cell_type": "code",
   "execution_count": 53,
   "metadata": {},
   "outputs": [],
   "source": [
    "preprocessor = ColumnTransformer(\n",
    "        transformers=[\n",
    "            ('encoder', OrdinalEncoder(handle_unknown = 'use_encoded_value', unknown_value = -1), ore_list)\n",
    "        ],remainder='passthrough')\n",
    "features_ore = pd.DataFrame(preprocessor.fit_transform(features))\n",
    "\n",
    "best_tr = 0\n",
    "max_score=0\n",
    "trs = np.arange(0.05,0.55,0.05)\n",
    "for tr in trs:\n",
    "    scores=[]\n",
    "    for train_index, test_index in kf.split(features_ore):\n",
    "        \n",
    "        model = RandomForestClassifier(n_estimators=best_n,max_depth=best_d,random_state=12345)\n",
    "        model.fit(features_ore.iloc[train_index],target.iloc[train_index])\n",
    "        probs = model.predict_proba(features_ore.iloc[test_index])[:,1]\n",
    "        predictions_valid = probs>tr\n",
    "        score = f1_score(target.iloc[test_index],predictions_valid)\n",
    "        scores.append(score)\n",
    "    score = sum(scores)/5\n",
    "    if (score>max_score):\n",
    "        max_score=score\n",
    "        best_tr=tr"
   ]
  },
  {
   "cell_type": "code",
   "execution_count": 54,
   "metadata": {},
   "outputs": [
    {
     "name": "stdout",
     "output_type": "stream",
     "text": [
      "cross validation F1: 0.6209682445961837\n",
      "best threshold:0.35000000000000003\n"
     ]
    }
   ],
   "source": [
    "print(f'cross validation F1: {max_score}')\n",
    "print(f'best threshold:{best_tr}')"
   ]
  },
  {
   "cell_type": "code",
   "execution_count": 55,
   "metadata": {},
   "outputs": [],
   "source": [
    "data_preprocessor = ColumnTransformer(\n",
    "transformers=[\n",
    "    ('encoder', OrdinalEncoder(handle_unknown = 'use_encoded_value', unknown_value = -1), ore_list)\n",
    "],remainder='passthrough')\n",
    "\n",
    "#DATA_PREPROCESSOR.fit(features)\n",
    "\n",
    "final_model = Pipeline(\n",
    "        steps=[(\"preprocessor\", data_preprocessor), (\"classifier\", RandomForestClassifier(n_estimators=best_n,max_depth=best_d,random_state=12345))]\n",
    ")"
   ]
  },
  {
   "cell_type": "code",
   "execution_count": 56,
   "metadata": {},
   "outputs": [
    {
     "data": {
      "text/plain": [
       "Pipeline(steps=[('preprocessor',\n",
       "                 ColumnTransformer(remainder='passthrough',\n",
       "                                   transformers=[('encoder',\n",
       "                                                  OrdinalEncoder(handle_unknown='use_encoded_value',\n",
       "                                                                 unknown_value=-1),\n",
       "                                                  ['arrival_date_year',\n",
       "                                                   'adults', 'children',\n",
       "                                                   'babies', 'meal', 'country',\n",
       "                                                   'distribution_channel',\n",
       "                                                   'is_repeated_guest',\n",
       "                                                   'previous_cancellations',\n",
       "                                                   'previous_bookings_not_canceled',\n",
       "                                                   'reserved_room_type',\n",
       "                                                   'booking_changes',\n",
       "                                                   'days_in_waiting_list',\n",
       "                                                   'customer_type',\n",
       "                                                   'required_car_parking_spaces',\n",
       "                                                   'total_of_special_requests',\n",
       "                                                   'total_nights',\n",
       "                                                   'season'])])),\n",
       "                ('classifier',\n",
       "                 RandomForestClassifier(max_depth=16, n_estimators=4,\n",
       "                                        random_state=12345))])"
      ]
     },
     "execution_count": 56,
     "metadata": {},
     "output_type": "execute_result"
    }
   ],
   "source": [
    "final_model.fit(features,target)"
   ]
  },
  {
   "cell_type": "code",
   "execution_count": 57,
   "metadata": {},
   "outputs": [],
   "source": [
    "def prepay(features,target,tr=0.5):\n",
    "    target = target.reset_index(drop=True)\n",
    "    probs = final_model.predict_proba(features)[:,1]\n",
    "    predictions= pd.Series(probs>tr)\n",
    "    return predictions&target"
   ]
  },
  {
   "cell_type": "code",
   "execution_count": 58,
   "metadata": {},
   "outputs": [],
   "source": [
    "def prepare_data(data):\n",
    "    features = data[features_list]\n",
    "    target = data['is_canceled']\n",
    "    return features,target"
   ]
  },
  {
   "cell_type": "code",
   "execution_count": 59,
   "metadata": {},
   "outputs": [],
   "source": [
    "def calculate_cost_prepay(row,tr=0.5):\n",
    "    total_cost = 0\n",
    "    \n",
    "    season = row['season']\n",
    "    room_type = row['reserved_room_type']\n",
    "    if (row['prepay']==1):\n",
    "        total_cost -= ((NIGHT_PRICE_TYPES[room_type])*SEASON_PRICE[season]+SERVICE_PRICE_TYPES[room_type])*0.2\n",
    "        return total_cost\n",
    "    if (row['is_canceled']==1):\n",
    "        total_cost -= NIGHT_PRICE_TYPES[room_type]*SEASON_PRICE[season]+SERVICE_PRICE_TYPES[room_type]\n",
    "        return total_cost\n",
    "    nights = row['total_nights']\n",
    "    nights_service = math.floor(nights/2)+1\n",
    "    nights_cost = nights*NIGHT_PRICE_TYPES[room_type]*SEASON_PRICE[season]\n",
    "    nights_service_cost = nights_service\n",
    "    total_cost = nights_cost-nights_service_cost\n",
    "    return total_cost"
   ]
  },
  {
   "cell_type": "markdown",
   "metadata": {},
   "source": [
    "#### Вывод"
   ]
  },
  {
   "cell_type": "markdown",
   "metadata": {},
   "source": [
    "Лучшие результаты показала модель: RandomForestClassifier со следующими гипперпараметрами: n_estimators-4,max_depth-16<br/>\n",
    "Порог примерно равен соотношению классов в тренировочной выборке 1 к 3 - 0.3.<br/>\n",
    "Результаты:<br/>\n",
    "F1-0.62<br/>"
   ]
  },
  {
   "cell_type": "markdown",
   "metadata": {},
   "source": [
    "#### Подготовка тестовых данных"
   ]
  },
  {
   "cell_type": "code",
   "execution_count": 60,
   "metadata": {},
   "outputs": [],
   "source": [
    "test_df = pd.read_csv('/datasets/hotel_test.csv',index_col='id')"
   ]
  },
  {
   "cell_type": "code",
   "execution_count": 61,
   "metadata": {},
   "outputs": [
    {
     "name": "stdout",
     "output_type": "stream",
     "text": [
      "<class 'pandas.core.frame.DataFrame'>\n",
      "Int64Index: 32412 entries, 6086 to 97903\n",
      "Data columns (total 24 columns):\n",
      " #   Column                          Non-Null Count  Dtype  \n",
      "---  ------                          --------------  -----  \n",
      " 0   is_canceled                     32412 non-null  int64  \n",
      " 1   lead_time                       32412 non-null  float64\n",
      " 2   arrival_date_year               32412 non-null  int64  \n",
      " 3   arrival_date_month              32412 non-null  object \n",
      " 4   arrival_date_week_number        32412 non-null  int64  \n",
      " 5   arrival_date_day_of_month       32412 non-null  int64  \n",
      " 6   stays_in_weekend_nights         32412 non-null  int64  \n",
      " 7   stays_in_week_nights            32412 non-null  int64  \n",
      " 8   adults                          32412 non-null  float64\n",
      " 9   children                        32412 non-null  float64\n",
      " 10  babies                          32412 non-null  float64\n",
      " 11  meal                            32412 non-null  object \n",
      " 12  country                         32412 non-null  object \n",
      " 13  distribution_channel            32412 non-null  object \n",
      " 14  is_repeated_guest               32412 non-null  int64  \n",
      " 15  previous_cancellations          32412 non-null  int64  \n",
      " 16  previous_bookings_not_canceled  32412 non-null  int64  \n",
      " 17  reserved_room_type              32412 non-null  object \n",
      " 18  booking_changes                 32412 non-null  int64  \n",
      " 19  days_in_waiting_list            32412 non-null  int64  \n",
      " 20  customer_type                   32412 non-null  object \n",
      " 21  required_car_parking_spaces     32412 non-null  int64  \n",
      " 22  total_of_special_requests       32412 non-null  int64  \n",
      " 23  total_nights                    32412 non-null  int64  \n",
      "dtypes: float64(4), int64(14), object(6)\n",
      "memory usage: 6.2+ MB\n"
     ]
    }
   ],
   "source": [
    "test_df.info()"
   ]
  },
  {
   "cell_type": "code",
   "execution_count": 62,
   "metadata": {},
   "outputs": [],
   "source": [
    "test_df = test_df.drop_duplicates()\n",
    "test_df['reserved_room_type']= test_df['reserved_room_type'].str.strip()\n",
    "test_df['country']= test_df['country'].str.strip()\n",
    "test_df['adults'] = test_df['adults'].replace(0,test_df['adults'].median())\n",
    "test_df.loc[test_df['previous_bookings_not_canceled']>1,'previous_bookings_not_canceled'] = 1\n",
    "test_df.loc[test_df['previous_cancellations']>1,'previous_cancellations'] = 1\n",
    "test_df.loc[test_df['days_in_waiting_list']>10,'days_in_waiting_list'] = test_df['days_in_waiting_list']/10"
   ]
  },
  {
   "cell_type": "code",
   "execution_count": 63,
   "metadata": {},
   "outputs": [],
   "source": [
    "test_df['season'] = test_df['arrival_date_month'].apply(apply_season)"
   ]
  },
  {
   "cell_type": "code",
   "execution_count": null,
   "metadata": {},
   "outputs": [],
   "source": [
    "ProfileReport(test_df)"
   ]
  },
  {
   "cell_type": "code",
   "execution_count": 65,
   "metadata": {},
   "outputs": [
    {
     "data": {
      "text/html": [
       "<div>\n",
       "<style scoped>\n",
       "    .dataframe tbody tr th:only-of-type {\n",
       "        vertical-align: middle;\n",
       "    }\n",
       "\n",
       "    .dataframe tbody tr th {\n",
       "        vertical-align: top;\n",
       "    }\n",
       "\n",
       "    .dataframe thead tr th {\n",
       "        text-align: left;\n",
       "    }\n",
       "</style>\n",
       "<table border=\"1\" class=\"dataframe\">\n",
       "  <thead>\n",
       "    <tr>\n",
       "      <th></th>\n",
       "      <th colspan=\"2\" halign=\"left\">is_canceled</th>\n",
       "      <th colspan=\"2\" halign=\"left\">lead_time</th>\n",
       "      <th colspan=\"2\" halign=\"left\">arrival_date_year</th>\n",
       "      <th colspan=\"2\" halign=\"left\">arrival_date_week_number</th>\n",
       "      <th colspan=\"2\" halign=\"left\">arrival_date_day_of_month</th>\n",
       "      <th>...</th>\n",
       "      <th colspan=\"2\" halign=\"left\">booking_changes</th>\n",
       "      <th colspan=\"2\" halign=\"left\">days_in_waiting_list</th>\n",
       "      <th colspan=\"2\" halign=\"left\">required_car_parking_spaces</th>\n",
       "      <th colspan=\"2\" halign=\"left\">total_of_special_requests</th>\n",
       "      <th colspan=\"2\" halign=\"left\">total_nights</th>\n",
       "    </tr>\n",
       "    <tr>\n",
       "      <th></th>\n",
       "      <th>self</th>\n",
       "      <th>other</th>\n",
       "      <th>self</th>\n",
       "      <th>other</th>\n",
       "      <th>self</th>\n",
       "      <th>other</th>\n",
       "      <th>self</th>\n",
       "      <th>other</th>\n",
       "      <th>self</th>\n",
       "      <th>other</th>\n",
       "      <th>...</th>\n",
       "      <th>self</th>\n",
       "      <th>other</th>\n",
       "      <th>self</th>\n",
       "      <th>other</th>\n",
       "      <th>self</th>\n",
       "      <th>other</th>\n",
       "      <th>self</th>\n",
       "      <th>other</th>\n",
       "      <th>self</th>\n",
       "      <th>other</th>\n",
       "    </tr>\n",
       "  </thead>\n",
       "  <tbody>\n",
       "    <tr>\n",
       "      <th>count</th>\n",
       "      <td>43852.000000</td>\n",
       "      <td>24695.000000</td>\n",
       "      <td>43852.000000</td>\n",
       "      <td>24695.000000</td>\n",
       "      <td>43852.000000</td>\n",
       "      <td>24695.0</td>\n",
       "      <td>43852.000000</td>\n",
       "      <td>24695.000000</td>\n",
       "      <td>43852.000000</td>\n",
       "      <td>24695.000000</td>\n",
       "      <td>...</td>\n",
       "      <td>43852.000000</td>\n",
       "      <td>24695.000000</td>\n",
       "      <td>43852.000000</td>\n",
       "      <td>24695.000000</td>\n",
       "      <td>43852.000000</td>\n",
       "      <td>24695.000000</td>\n",
       "      <td>43852.000000</td>\n",
       "      <td>24695.000000</td>\n",
       "      <td>43852.000000</td>\n",
       "      <td>24695.000000</td>\n",
       "    </tr>\n",
       "    <tr>\n",
       "      <th>mean</th>\n",
       "      <td>0.254219</td>\n",
       "      <td>0.315246</td>\n",
       "      <td>67.893779</td>\n",
       "      <td>88.834541</td>\n",
       "      <td>2015.775518</td>\n",
       "      <td>2017.0</td>\n",
       "      <td>31.091216</td>\n",
       "      <td>18.192833</td>\n",
       "      <td>15.919274</td>\n",
       "      <td>15.579348</td>\n",
       "      <td>...</td>\n",
       "      <td>0.249453</td>\n",
       "      <td>0.254343</td>\n",
       "      <td>0.085563</td>\n",
       "      <td>0.039360</td>\n",
       "      <td>0.082368</td>\n",
       "      <td>0.059567</td>\n",
       "      <td>0.670847</td>\n",
       "      <td>0.763272</td>\n",
       "      <td>3.208155</td>\n",
       "      <td>3.289492</td>\n",
       "    </tr>\n",
       "    <tr>\n",
       "      <th>std</th>\n",
       "      <td>0.435426</td>\n",
       "      <td>0.464623</td>\n",
       "      <td>73.990715</td>\n",
       "      <td>85.506551</td>\n",
       "      <td>0.417246</td>\n",
       "      <td>0.0</td>\n",
       "      <td>13.894327</td>\n",
       "      <td>9.438886</td>\n",
       "      <td>8.859208</td>\n",
       "      <td>8.776695</td>\n",
       "      <td>...</td>\n",
       "      <td>0.679791</td>\n",
       "      <td>0.698303</td>\n",
       "      <td>1.002407</td>\n",
       "      <td>0.573469</td>\n",
       "      <td>0.276086</td>\n",
       "      <td>0.247559</td>\n",
       "      <td>0.802964</td>\n",
       "      <td>0.861233</td>\n",
       "      <td>1.877202</td>\n",
       "      <td>1.818364</td>\n",
       "    </tr>\n",
       "    <tr>\n",
       "      <th>min</th>\n",
       "      <td>NaN</td>\n",
       "      <td>NaN</td>\n",
       "      <td>NaN</td>\n",
       "      <td>NaN</td>\n",
       "      <td>2015.000000</td>\n",
       "      <td>2017.0</td>\n",
       "      <td>NaN</td>\n",
       "      <td>NaN</td>\n",
       "      <td>NaN</td>\n",
       "      <td>NaN</td>\n",
       "      <td>...</td>\n",
       "      <td>NaN</td>\n",
       "      <td>NaN</td>\n",
       "      <td>NaN</td>\n",
       "      <td>NaN</td>\n",
       "      <td>NaN</td>\n",
       "      <td>NaN</td>\n",
       "      <td>NaN</td>\n",
       "      <td>NaN</td>\n",
       "      <td>NaN</td>\n",
       "      <td>NaN</td>\n",
       "    </tr>\n",
       "    <tr>\n",
       "      <th>25%</th>\n",
       "      <td>NaN</td>\n",
       "      <td>NaN</td>\n",
       "      <td>9.000000</td>\n",
       "      <td>16.000000</td>\n",
       "      <td>2016.000000</td>\n",
       "      <td>2017.0</td>\n",
       "      <td>20.000000</td>\n",
       "      <td>10.000000</td>\n",
       "      <td>NaN</td>\n",
       "      <td>NaN</td>\n",
       "      <td>...</td>\n",
       "      <td>NaN</td>\n",
       "      <td>NaN</td>\n",
       "      <td>NaN</td>\n",
       "      <td>NaN</td>\n",
       "      <td>NaN</td>\n",
       "      <td>NaN</td>\n",
       "      <td>NaN</td>\n",
       "      <td>NaN</td>\n",
       "      <td>NaN</td>\n",
       "      <td>NaN</td>\n",
       "    </tr>\n",
       "    <tr>\n",
       "      <th>50%</th>\n",
       "      <td>NaN</td>\n",
       "      <td>NaN</td>\n",
       "      <td>41.000000</td>\n",
       "      <td>63.000000</td>\n",
       "      <td>2016.000000</td>\n",
       "      <td>2017.0</td>\n",
       "      <td>33.000000</td>\n",
       "      <td>18.000000</td>\n",
       "      <td>16.000000</td>\n",
       "      <td>15.000000</td>\n",
       "      <td>...</td>\n",
       "      <td>NaN</td>\n",
       "      <td>NaN</td>\n",
       "      <td>NaN</td>\n",
       "      <td>NaN</td>\n",
       "      <td>NaN</td>\n",
       "      <td>NaN</td>\n",
       "      <td>0.000000</td>\n",
       "      <td>1.000000</td>\n",
       "      <td>NaN</td>\n",
       "      <td>NaN</td>\n",
       "    </tr>\n",
       "    <tr>\n",
       "      <th>75%</th>\n",
       "      <td>NaN</td>\n",
       "      <td>NaN</td>\n",
       "      <td>103.000000</td>\n",
       "      <td>143.000000</td>\n",
       "      <td>2016.000000</td>\n",
       "      <td>2017.0</td>\n",
       "      <td>43.000000</td>\n",
       "      <td>26.000000</td>\n",
       "      <td>24.000000</td>\n",
       "      <td>23.000000</td>\n",
       "      <td>...</td>\n",
       "      <td>NaN</td>\n",
       "      <td>NaN</td>\n",
       "      <td>NaN</td>\n",
       "      <td>NaN</td>\n",
       "      <td>NaN</td>\n",
       "      <td>NaN</td>\n",
       "      <td>NaN</td>\n",
       "      <td>NaN</td>\n",
       "      <td>NaN</td>\n",
       "      <td>NaN</td>\n",
       "    </tr>\n",
       "    <tr>\n",
       "      <th>max</th>\n",
       "      <td>NaN</td>\n",
       "      <td>NaN</td>\n",
       "      <td>374.000000</td>\n",
       "      <td>373.000000</td>\n",
       "      <td>2016.000000</td>\n",
       "      <td>2017.0</td>\n",
       "      <td>53.000000</td>\n",
       "      <td>35.000000</td>\n",
       "      <td>NaN</td>\n",
       "      <td>NaN</td>\n",
       "      <td>...</td>\n",
       "      <td>17.000000</td>\n",
       "      <td>18.000000</td>\n",
       "      <td>25.900000</td>\n",
       "      <td>22.300000</td>\n",
       "      <td>3.000000</td>\n",
       "      <td>8.000000</td>\n",
       "      <td>NaN</td>\n",
       "      <td>NaN</td>\n",
       "      <td>NaN</td>\n",
       "      <td>NaN</td>\n",
       "    </tr>\n",
       "  </tbody>\n",
       "</table>\n",
       "<p>8 rows × 36 columns</p>\n",
       "</div>"
      ],
      "text/plain": [
       "        is_canceled                   lead_time                \\\n",
       "               self         other          self         other   \n",
       "count  43852.000000  24695.000000  43852.000000  24695.000000   \n",
       "mean       0.254219      0.315246     67.893779     88.834541   \n",
       "std        0.435426      0.464623     73.990715     85.506551   \n",
       "min             NaN           NaN           NaN           NaN   \n",
       "25%             NaN           NaN      9.000000     16.000000   \n",
       "50%             NaN           NaN     41.000000     63.000000   \n",
       "75%             NaN           NaN    103.000000    143.000000   \n",
       "max             NaN           NaN    374.000000    373.000000   \n",
       "\n",
       "      arrival_date_year          arrival_date_week_number                \\\n",
       "                   self    other                     self         other   \n",
       "count      43852.000000  24695.0             43852.000000  24695.000000   \n",
       "mean        2015.775518   2017.0                31.091216     18.192833   \n",
       "std            0.417246      0.0                13.894327      9.438886   \n",
       "min         2015.000000   2017.0                      NaN           NaN   \n",
       "25%         2016.000000   2017.0                20.000000     10.000000   \n",
       "50%         2016.000000   2017.0                33.000000     18.000000   \n",
       "75%         2016.000000   2017.0                43.000000     26.000000   \n",
       "max         2016.000000   2017.0                53.000000     35.000000   \n",
       "\n",
       "      arrival_date_day_of_month                ... booking_changes  \\\n",
       "                           self         other  ...            self   \n",
       "count              43852.000000  24695.000000  ...    43852.000000   \n",
       "mean                  15.919274     15.579348  ...        0.249453   \n",
       "std                    8.859208      8.776695  ...        0.679791   \n",
       "min                         NaN           NaN  ...             NaN   \n",
       "25%                         NaN           NaN  ...             NaN   \n",
       "50%                   16.000000     15.000000  ...             NaN   \n",
       "75%                   24.000000     23.000000  ...             NaN   \n",
       "max                         NaN           NaN  ...       17.000000   \n",
       "\n",
       "                    days_in_waiting_list                \\\n",
       "              other                 self         other   \n",
       "count  24695.000000         43852.000000  24695.000000   \n",
       "mean       0.254343             0.085563      0.039360   \n",
       "std        0.698303             1.002407      0.573469   \n",
       "min             NaN                  NaN           NaN   \n",
       "25%             NaN                  NaN           NaN   \n",
       "50%             NaN                  NaN           NaN   \n",
       "75%             NaN                  NaN           NaN   \n",
       "max       18.000000            25.900000     22.300000   \n",
       "\n",
       "      required_car_parking_spaces               total_of_special_requests  \\\n",
       "                             self         other                      self   \n",
       "count                43852.000000  24695.000000              43852.000000   \n",
       "mean                     0.082368      0.059567                  0.670847   \n",
       "std                      0.276086      0.247559                  0.802964   \n",
       "min                           NaN           NaN                       NaN   \n",
       "25%                           NaN           NaN                       NaN   \n",
       "50%                           NaN           NaN                  0.000000   \n",
       "75%                           NaN           NaN                       NaN   \n",
       "max                      3.000000      8.000000                       NaN   \n",
       "\n",
       "                     total_nights                \n",
       "              other          self         other  \n",
       "count  24695.000000  43852.000000  24695.000000  \n",
       "mean       0.763272      3.208155      3.289492  \n",
       "std        0.861233      1.877202      1.818364  \n",
       "min             NaN           NaN           NaN  \n",
       "25%             NaN           NaN           NaN  \n",
       "50%        1.000000           NaN           NaN  \n",
       "75%             NaN           NaN           NaN  \n",
       "max             NaN           NaN           NaN  \n",
       "\n",
       "[8 rows x 36 columns]"
      ]
     },
     "execution_count": 65,
     "metadata": {},
     "output_type": "execute_result"
    }
   ],
   "source": [
    "df.drop('profit',axis=1).describe().compare(test_df.describe())"
   ]
  },
  {
   "cell_type": "code",
   "execution_count": 66,
   "metadata": {},
   "outputs": [],
   "source": [
    "features_test,target_test = prepare_data(test_df)\n",
    "test_df['prepay']=list(prepay(features_test,target_test,best_tr))"
   ]
  },
  {
   "cell_type": "code",
   "execution_count": 91,
   "metadata": {},
   "outputs": [
    {
     "name": "stdout",
     "output_type": "stream",
     "text": [
      "f1: 0.37983942908117757\n"
     ]
    }
   ],
   "source": [
    "probs = final_model.predict_proba(features_test)[:,1]\n",
    "predictions_test = probs>best_tr\n",
    "print(f'f1: {f1_score(target_test,predictions_test)}')"
   ]
  },
  {
   "cell_type": "code",
   "execution_count": 68,
   "metadata": {},
   "outputs": [],
   "source": [
    "test_df['profit_prepay']=test_df.apply(calculate_cost_prepay,axis=1)\n",
    "test_df['profit']=test_df.apply(calculate_cost,axis=1)"
   ]
  },
  {
   "cell_type": "code",
   "execution_count": 69,
   "metadata": {},
   "outputs": [
    {
     "data": {
      "text/plain": [
       "44976654.0"
      ]
     },
     "execution_count": 69,
     "metadata": {},
     "output_type": "execute_result"
    }
   ],
   "source": [
    "sum(test_df['profit'])"
   ]
  },
  {
   "cell_type": "code",
   "execution_count": 70,
   "metadata": {},
   "outputs": [
    {
     "data": {
      "text/plain": [
       "47326894.0"
      ]
     },
     "execution_count": 70,
     "metadata": {},
     "output_type": "execute_result"
    }
   ],
   "source": [
    "sum(test_df['profit_prepay'])"
   ]
  },
  {
   "cell_type": "code",
   "execution_count": 71,
   "metadata": {},
   "outputs": [
    {
     "data": {
      "text/plain": [
       "2350240.0"
      ]
     },
     "execution_count": 71,
     "metadata": {},
     "output_type": "execute_result"
    }
   ],
   "source": [
    "sum(test_df['profit_prepay'])-sum(test_df['profit'])"
   ]
  },
  {
   "cell_type": "code",
   "execution_count": 72,
   "metadata": {},
   "outputs": [],
   "source": [
    "test_df['prepay']=list(prepay(features_test,target_test,0.5))\n",
    "test_df['profit_prepay']=test_df.apply(calculate_cost_prepay,axis=1)\n",
    "test_df['profit']=test_df.apply(calculate_cost,axis=1)"
   ]
  },
  {
   "cell_type": "code",
   "execution_count": 73,
   "metadata": {},
   "outputs": [
    {
     "data": {
      "text/plain": [
       "1447600.0"
      ]
     },
     "execution_count": 73,
     "metadata": {},
     "output_type": "execute_result"
    }
   ],
   "source": [
    "sum(test_df['profit_prepay'])-sum(test_df['profit'])"
   ]
  },
  {
   "cell_type": "code",
   "execution_count": 74,
   "metadata": {},
   "outputs": [],
   "source": [
    "probs = final_model.predict_proba(features_test)[:,1]\n",
    "predictions= pd.Series(probs>best_tr)\n",
    "target_test = target_test.reset_index(drop=True)\n"
   ]
  },
  {
   "cell_type": "code",
   "execution_count": 75,
   "metadata": {},
   "outputs": [
    {
     "name": "stdout",
     "output_type": "stream",
     "text": [
      "0.07664104080425783\n"
     ]
    }
   ],
   "source": [
    "print(sum((predictions==1)&(target_test==0))/sum(target_test==0))"
   ]
  },
  {
   "cell_type": "code",
   "execution_count": 76,
   "metadata": {},
   "outputs": [
    {
     "name": "stdout",
     "output_type": "stream",
     "text": [
      "0.2734746307000642\n"
     ]
    }
   ],
   "source": [
    "print(sum((predictions==1)&(target_test==1))/sum(target_test==1))"
   ]
  },
  {
   "cell_type": "code",
   "execution_count": 77,
   "metadata": {},
   "outputs": [
    {
     "data": {
      "text/plain": [
       "<sklearn.metrics._plot.confusion_matrix.ConfusionMatrixDisplay at 0x7f88550cf4c0>"
      ]
     },
     "execution_count": 77,
     "metadata": {},
     "output_type": "execute_result"
    },
    {
     "data": {
      "image/png": "[encoded data removed]",
      "text/plain": [
       "<Figure size 432x288 with 2 Axes>"
      ]
     },
     "metadata": {
      "needs_background": "light"
     },
     "output_type": "display_data"
    }
   ],
   "source": [
    "c_m = confusion_matrix(target_test,predictions)\n",
    "disp = ConfusionMatrixDisplay(c_m)\n",
    "disp.plot()"
   ]
  },
  {
   "cell_type": "code",
   "execution_count": 78,
   "metadata": {},
   "outputs": [
    {
     "name": "stdout",
     "output_type": "stream",
     "text": [
      "0.03293908929627439\n",
      "0.16005138086062942\n"
     ]
    }
   ],
   "source": [
    "probs = final_model.predict_proba(features_test)[:,1]\n",
    "predictions= pd.Series(probs>0.5)\n",
    "target_test = target_test.reset_index(drop=True)\n",
    "print(sum((predictions==1)&(target_test==0))/sum(target_test==0))\n",
    "print(sum((predictions==1)&(target_test==1))/sum(target_test==1))"
   ]
  },
  {
   "cell_type": "code",
   "execution_count": 79,
   "metadata": {},
   "outputs": [
    {
     "data": {
      "text/plain": [
       "<sklearn.metrics._plot.confusion_matrix.ConfusionMatrixDisplay at 0x7f883cd16880>"
      ]
     },
     "execution_count": 79,
     "metadata": {},
     "output_type": "execute_result"
    },
    {
     "data": {
      "image/png": "[encoded data removed]",
      "text/plain": [
       "<Figure size 432x288 with 2 Axes>"
      ]
     },
     "metadata": {
      "needs_background": "light"
     },
     "output_type": "display_data"
    }
   ],
   "source": [
    "c_m = confusion_matrix(target_test,predictions)\n",
    "disp = ConfusionMatrixDisplay(c_m)\n",
    "disp.plot()"
   ]
  },
  {
   "cell_type": "markdown",
   "metadata": {},
   "source": [
    "#### Вывод"
   ]
  },
  {
   "cell_type": "markdown",
   "metadata": {},
   "source": [
    "Прибыль компании за год:<br/>\n",
    "1)Без внедрения депозитов: 44 976 654<br/>\n",
    "2)С внедрением депозитов: 47 326 894<br/>\n",
    "Разница: 2 350 240<br/>\n",
    "Доля клиентов, которые после использования модели внесли депозит и отказались от брони - 0.27<br/>\n",
    "Доля клиентов, которые после использования модели внесли депозит и не отказались от брони - 0.08<br/>\n",
    "\n",
    "**Следовательно модель окупает свою разработку - 400 000**. При этом присутсвует 8% людей, которые внесли депозит и при этом не отказываются от брони. В дальнейшем, это может отпугнуть будущих клиентов, так как исходя из описания проекта для привлечения клиентов отель ввел возможность брони без предоплаты. Для решения этой проблемы можно повысить порог, тем самым уменьшить качество модели, что в свою очередь повлечет снижение прибыли в годовом периоде, но из-за меньшей доли \"надежных\" клиентов, которым требуется внести депозит, в долгосрочной перспективе (2-5 лет) можно принести большую прибыль. Также стоит учитывать репутационные риски.\n",
    "\n",
    "К примеру, при использовании порога - 0.5 разница в прибыли составила 1 447 600, при этом:<br/>\n",
    "Доля клиентов, которые после использования модели внесли депозит и отказались от брони - 0.16<br/>\n",
    "Доля клиентов, которые после использования модели внесли депозит и не отказались от брони - 0.03<br/>"
   ]
  },
  {
   "cell_type": "markdown",
   "metadata": {},
   "source": [
    "### Шаг 5. Портрет «ненадёжного» клиента"
   ]
  },
  {
   "cell_type": "code",
   "execution_count": 80,
   "metadata": {},
   "outputs": [
    {
     "data": {
      "text/html": [
       "<div>\n",
       "<style scoped>\n",
       "    .dataframe tbody tr th:only-of-type {\n",
       "        vertical-align: middle;\n",
       "    }\n",
       "\n",
       "    .dataframe tbody tr th {\n",
       "        vertical-align: top;\n",
       "    }\n",
       "\n",
       "    .dataframe thead th {\n",
       "        text-align: right;\n",
       "    }\n",
       "</style>\n",
       "<table border=\"1\" class=\"dataframe\">\n",
       "  <thead>\n",
       "    <tr style=\"text-align: right;\">\n",
       "      <th></th>\n",
       "      <th>self</th>\n",
       "      <th>other</th>\n",
       "    </tr>\n",
       "  </thead>\n",
       "  <tbody>\n",
       "    <tr>\n",
       "      <th>count</th>\n",
       "      <td>32704.000000</td>\n",
       "      <td>11148.000000</td>\n",
       "    </tr>\n",
       "    <tr>\n",
       "      <th>mean</th>\n",
       "      <td>0.733763</td>\n",
       "      <td>0.486276</td>\n",
       "    </tr>\n",
       "    <tr>\n",
       "      <th>std</th>\n",
       "      <td>0.813850</td>\n",
       "      <td>0.739927</td>\n",
       "    </tr>\n",
       "    <tr>\n",
       "      <th>min</th>\n",
       "      <td>NaN</td>\n",
       "      <td>NaN</td>\n",
       "    </tr>\n",
       "    <tr>\n",
       "      <th>25%</th>\n",
       "      <td>NaN</td>\n",
       "      <td>NaN</td>\n",
       "    </tr>\n",
       "    <tr>\n",
       "      <th>50%</th>\n",
       "      <td>1.000000</td>\n",
       "      <td>0.000000</td>\n",
       "    </tr>\n",
       "    <tr>\n",
       "      <th>75%</th>\n",
       "      <td>NaN</td>\n",
       "      <td>NaN</td>\n",
       "    </tr>\n",
       "    <tr>\n",
       "      <th>max</th>\n",
       "      <td>5.000000</td>\n",
       "      <td>4.000000</td>\n",
       "    </tr>\n",
       "  </tbody>\n",
       "</table>\n",
       "</div>"
      ],
      "text/plain": [
       "               self         other\n",
       "count  32704.000000  11148.000000\n",
       "mean       0.733763      0.486276\n",
       "std        0.813850      0.739927\n",
       "min             NaN           NaN\n",
       "25%             NaN           NaN\n",
       "50%        1.000000      0.000000\n",
       "75%             NaN           NaN\n",
       "max        5.000000      4.000000"
      ]
     },
     "execution_count": 80,
     "metadata": {},
     "output_type": "execute_result"
    }
   ],
   "source": [
    "df.query('is_canceled == 0').describe().compare(df.query('is_canceled == 1').describe())['total_of_special_requests']"
   ]
  },
  {
   "cell_type": "code",
   "execution_count": 81,
   "metadata": {},
   "outputs": [
    {
     "data": {
      "text/html": [
       "<div>\n",
       "<style scoped>\n",
       "    .dataframe tbody tr th:only-of-type {\n",
       "        vertical-align: middle;\n",
       "    }\n",
       "\n",
       "    .dataframe tbody tr th {\n",
       "        vertical-align: top;\n",
       "    }\n",
       "\n",
       "    .dataframe thead tr th {\n",
       "        text-align: left;\n",
       "    }\n",
       "</style>\n",
       "<table border=\"1\" class=\"dataframe\">\n",
       "  <thead>\n",
       "    <tr>\n",
       "      <th></th>\n",
       "      <th colspan=\"2\" halign=\"left\">is_canceled</th>\n",
       "      <th colspan=\"2\" halign=\"left\">lead_time</th>\n",
       "      <th colspan=\"2\" halign=\"left\">arrival_date_year</th>\n",
       "      <th colspan=\"2\" halign=\"left\">arrival_date_week_number</th>\n",
       "      <th colspan=\"2\" halign=\"left\">arrival_date_day_of_month</th>\n",
       "      <th>...</th>\n",
       "      <th colspan=\"2\" halign=\"left\">required_car_parking_spaces</th>\n",
       "      <th colspan=\"2\" halign=\"left\">total_of_special_requests</th>\n",
       "      <th colspan=\"2\" halign=\"left\">total_nights</th>\n",
       "      <th colspan=\"2\" halign=\"left\">profit_prepay</th>\n",
       "      <th colspan=\"2\" halign=\"left\">profit</th>\n",
       "    </tr>\n",
       "    <tr>\n",
       "      <th></th>\n",
       "      <th>self</th>\n",
       "      <th>other</th>\n",
       "      <th>self</th>\n",
       "      <th>other</th>\n",
       "      <th>self</th>\n",
       "      <th>other</th>\n",
       "      <th>self</th>\n",
       "      <th>other</th>\n",
       "      <th>self</th>\n",
       "      <th>other</th>\n",
       "      <th>...</th>\n",
       "      <th>self</th>\n",
       "      <th>other</th>\n",
       "      <th>self</th>\n",
       "      <th>other</th>\n",
       "      <th>self</th>\n",
       "      <th>other</th>\n",
       "      <th>self</th>\n",
       "      <th>other</th>\n",
       "      <th>self</th>\n",
       "      <th>other</th>\n",
       "    </tr>\n",
       "  </thead>\n",
       "  <tbody>\n",
       "    <tr>\n",
       "      <th>count</th>\n",
       "      <td>16910.0</td>\n",
       "      <td>7785.0</td>\n",
       "      <td>16910.000000</td>\n",
       "      <td>7785.000000</td>\n",
       "      <td>16910.0</td>\n",
       "      <td>7785.0</td>\n",
       "      <td>16910.000000</td>\n",
       "      <td>7785.000000</td>\n",
       "      <td>16910.000000</td>\n",
       "      <td>7785.000000</td>\n",
       "      <td>...</td>\n",
       "      <td>16910.000000</td>\n",
       "      <td>7785.0</td>\n",
       "      <td>16910.000000</td>\n",
       "      <td>7785.000000</td>\n",
       "      <td>16910.00000</td>\n",
       "      <td>7785.000000</td>\n",
       "      <td>16910.000000</td>\n",
       "      <td>7785.000000</td>\n",
       "      <td>16910.000000</td>\n",
       "      <td>7785.000000</td>\n",
       "    </tr>\n",
       "    <tr>\n",
       "      <th>mean</th>\n",
       "      <td>0.0</td>\n",
       "      <td>1.0</td>\n",
       "      <td>75.869072</td>\n",
       "      <td>116.997174</td>\n",
       "      <td>NaN</td>\n",
       "      <td>NaN</td>\n",
       "      <td>17.774276</td>\n",
       "      <td>19.101991</td>\n",
       "      <td>15.651804</td>\n",
       "      <td>15.421965</td>\n",
       "      <td>...</td>\n",
       "      <td>0.086990</td>\n",
       "      <td>0.0</td>\n",
       "      <td>0.833590</td>\n",
       "      <td>0.610533</td>\n",
       "      <td>3.17948</td>\n",
       "      <td>3.528452</td>\n",
       "      <td>3284.945240</td>\n",
       "      <td>-1172.019268</td>\n",
       "      <td>3284.945240</td>\n",
       "      <td>-1357.966602</td>\n",
       "    </tr>\n",
       "    <tr>\n",
       "      <th>std</th>\n",
       "      <td>NaN</td>\n",
       "      <td>NaN</td>\n",
       "      <td>80.086818</td>\n",
       "      <td>90.019121</td>\n",
       "      <td>NaN</td>\n",
       "      <td>NaN</td>\n",
       "      <td>9.494004</td>\n",
       "      <td>9.253642</td>\n",
       "      <td>8.793293</td>\n",
       "      <td>8.739028</td>\n",
       "      <td>...</td>\n",
       "      <td>0.295154</td>\n",
       "      <td>0.0</td>\n",
       "      <td>0.887608</td>\n",
       "      <td>0.779452</td>\n",
       "      <td>1.82770</td>\n",
       "      <td>1.774692</td>\n",
       "      <td>2137.896475</td>\n",
       "      <td>543.108095</td>\n",
       "      <td>2137.896475</td>\n",
       "      <td>414.881252</td>\n",
       "    </tr>\n",
       "    <tr>\n",
       "      <th>min</th>\n",
       "      <td>0.0</td>\n",
       "      <td>1.0</td>\n",
       "      <td>NaN</td>\n",
       "      <td>NaN</td>\n",
       "      <td>NaN</td>\n",
       "      <td>NaN</td>\n",
       "      <td>NaN</td>\n",
       "      <td>NaN</td>\n",
       "      <td>NaN</td>\n",
       "      <td>NaN</td>\n",
       "      <td>...</td>\n",
       "      <td>NaN</td>\n",
       "      <td>NaN</td>\n",
       "      <td>NaN</td>\n",
       "      <td>NaN</td>\n",
       "      <td>NaN</td>\n",
       "      <td>NaN</td>\n",
       "      <td>349.000000</td>\n",
       "      <td>-1800.000000</td>\n",
       "      <td>349.000000</td>\n",
       "      <td>-1800.000000</td>\n",
       "    </tr>\n",
       "    <tr>\n",
       "      <th>25%</th>\n",
       "      <td>0.0</td>\n",
       "      <td>1.0</td>\n",
       "      <td>9.000000</td>\n",
       "      <td>39.000000</td>\n",
       "      <td>NaN</td>\n",
       "      <td>NaN</td>\n",
       "      <td>10.000000</td>\n",
       "      <td>12.000000</td>\n",
       "      <td>NaN</td>\n",
       "      <td>NaN</td>\n",
       "      <td>...</td>\n",
       "      <td>NaN</td>\n",
       "      <td>NaN</td>\n",
       "      <td>NaN</td>\n",
       "      <td>NaN</td>\n",
       "      <td>NaN</td>\n",
       "      <td>NaN</td>\n",
       "      <td>1399.000000</td>\n",
       "      <td>-1600.000000</td>\n",
       "      <td>1399.000000</td>\n",
       "      <td>-1800.000000</td>\n",
       "    </tr>\n",
       "    <tr>\n",
       "      <th>50%</th>\n",
       "      <td>0.0</td>\n",
       "      <td>1.0</td>\n",
       "      <td>46.000000</td>\n",
       "      <td>99.000000</td>\n",
       "      <td>NaN</td>\n",
       "      <td>NaN</td>\n",
       "      <td>18.000000</td>\n",
       "      <td>19.000000</td>\n",
       "      <td>16.000000</td>\n",
       "      <td>15.000000</td>\n",
       "      <td>...</td>\n",
       "      <td>NaN</td>\n",
       "      <td>NaN</td>\n",
       "      <td>1.000000</td>\n",
       "      <td>0.000000</td>\n",
       "      <td>NaN</td>\n",
       "      <td>NaN</td>\n",
       "      <td>2798.000000</td>\n",
       "      <td>-1400.000000</td>\n",
       "      <td>2798.000000</td>\n",
       "      <td>-1600.000000</td>\n",
       "    </tr>\n",
       "    <tr>\n",
       "      <th>75%</th>\n",
       "      <td>0.0</td>\n",
       "      <td>1.0</td>\n",
       "      <td>124.000000</td>\n",
       "      <td>176.000000</td>\n",
       "      <td>NaN</td>\n",
       "      <td>NaN</td>\n",
       "      <td>26.000000</td>\n",
       "      <td>27.000000</td>\n",
       "      <td>NaN</td>\n",
       "      <td>NaN</td>\n",
       "      <td>...</td>\n",
       "      <td>NaN</td>\n",
       "      <td>NaN</td>\n",
       "      <td>NaN</td>\n",
       "      <td>NaN</td>\n",
       "      <td>NaN</td>\n",
       "      <td>NaN</td>\n",
       "      <td>4198.000000</td>\n",
       "      <td>-750.000000</td>\n",
       "      <td>4198.000000</td>\n",
       "      <td>-920.000000</td>\n",
       "    </tr>\n",
       "    <tr>\n",
       "      <th>max</th>\n",
       "      <td>0.0</td>\n",
       "      <td>1.0</td>\n",
       "      <td>368.000000</td>\n",
       "      <td>373.000000</td>\n",
       "      <td>NaN</td>\n",
       "      <td>NaN</td>\n",
       "      <td>NaN</td>\n",
       "      <td>NaN</td>\n",
       "      <td>NaN</td>\n",
       "      <td>NaN</td>\n",
       "      <td>...</td>\n",
       "      <td>8.000000</td>\n",
       "      <td>0.0</td>\n",
       "      <td>NaN</td>\n",
       "      <td>NaN</td>\n",
       "      <td>NaN</td>\n",
       "      <td>NaN</td>\n",
       "      <td>13994.000000</td>\n",
       "      <td>-100.000000</td>\n",
       "      <td>13994.000000</td>\n",
       "      <td>-500.000000</td>\n",
       "    </tr>\n",
       "  </tbody>\n",
       "</table>\n",
       "<p>8 rows × 40 columns</p>\n",
       "</div>"
      ],
      "text/plain": [
       "      is_canceled             lead_time              arrival_date_year  \\\n",
       "             self   other          self        other              self   \n",
       "count     16910.0  7785.0  16910.000000  7785.000000           16910.0   \n",
       "mean          0.0     1.0     75.869072   116.997174               NaN   \n",
       "std           NaN     NaN     80.086818    90.019121               NaN   \n",
       "min           0.0     1.0           NaN          NaN               NaN   \n",
       "25%           0.0     1.0      9.000000    39.000000               NaN   \n",
       "50%           0.0     1.0     46.000000    99.000000               NaN   \n",
       "75%           0.0     1.0    124.000000   176.000000               NaN   \n",
       "max           0.0     1.0    368.000000   373.000000               NaN   \n",
       "\n",
       "              arrival_date_week_number              arrival_date_day_of_month  \\\n",
       "        other                     self        other                      self   \n",
       "count  7785.0             16910.000000  7785.000000              16910.000000   \n",
       "mean      NaN                17.774276    19.101991                 15.651804   \n",
       "std       NaN                 9.494004     9.253642                  8.793293   \n",
       "min       NaN                      NaN          NaN                       NaN   \n",
       "25%       NaN                10.000000    12.000000                       NaN   \n",
       "50%       NaN                18.000000    19.000000                 16.000000   \n",
       "75%       NaN                26.000000    27.000000                       NaN   \n",
       "max       NaN                      NaN          NaN                       NaN   \n",
       "\n",
       "                    ... required_car_parking_spaces          \\\n",
       "             other  ...                        self   other   \n",
       "count  7785.000000  ...                16910.000000  7785.0   \n",
       "mean     15.421965  ...                    0.086990     0.0   \n",
       "std       8.739028  ...                    0.295154     0.0   \n",
       "min            NaN  ...                         NaN     NaN   \n",
       "25%            NaN  ...                         NaN     NaN   \n",
       "50%      15.000000  ...                         NaN     NaN   \n",
       "75%            NaN  ...                         NaN     NaN   \n",
       "max            NaN  ...                    8.000000     0.0   \n",
       "\n",
       "      total_of_special_requests              total_nights               \\\n",
       "                           self        other         self        other   \n",
       "count              16910.000000  7785.000000  16910.00000  7785.000000   \n",
       "mean                   0.833590     0.610533      3.17948     3.528452   \n",
       "std                    0.887608     0.779452      1.82770     1.774692   \n",
       "min                         NaN          NaN          NaN          NaN   \n",
       "25%                         NaN          NaN          NaN          NaN   \n",
       "50%                    1.000000     0.000000          NaN          NaN   \n",
       "75%                         NaN          NaN          NaN          NaN   \n",
       "max                         NaN          NaN          NaN          NaN   \n",
       "\n",
       "      profit_prepay                     profit               \n",
       "               self        other          self        other  \n",
       "count  16910.000000  7785.000000  16910.000000  7785.000000  \n",
       "mean    3284.945240 -1172.019268   3284.945240 -1357.966602  \n",
       "std     2137.896475   543.108095   2137.896475   414.881252  \n",
       "min      349.000000 -1800.000000    349.000000 -1800.000000  \n",
       "25%     1399.000000 -1600.000000   1399.000000 -1800.000000  \n",
       "50%     2798.000000 -1400.000000   2798.000000 -1600.000000  \n",
       "75%     4198.000000  -750.000000   4198.000000  -920.000000  \n",
       "max    13994.000000  -100.000000  13994.000000  -500.000000  \n",
       "\n",
       "[8 rows x 40 columns]"
      ]
     },
     "execution_count": 81,
     "metadata": {},
     "output_type": "execute_result"
    }
   ],
   "source": [
    "test_df.query('is_canceled == 0').describe().compare(test_df.query('is_canceled == 1').describe())"
   ]
  },
  {
   "cell_type": "code",
   "execution_count": 82,
   "metadata": {},
   "outputs": [
    {
     "data": {
      "text/plain": [
       "array([0.04532131, 0.02597239, 0.0173457 , 0.00255427, 0.03473486,\n",
       "       0.15742754, 0.03999255, 0.00590674, 0.06831391, 0.01386323,\n",
       "       0.03695011, 0.04050333, 0.00278037, 0.05492036, 0.05024969,\n",
       "       0.09106979, 0.05895992, 0.03860656, 0.21452736])"
      ]
     },
     "execution_count": 82,
     "metadata": {},
     "output_type": "execute_result"
    }
   ],
   "source": [
    "final_model.steps[1][1].feature_importances_"
   ]
  },
  {
   "cell_type": "code",
   "execution_count": 83,
   "metadata": {},
   "outputs": [],
   "source": [
    "features_post_list = ore_list.copy()\n",
    "features_post_list.append('lead_time')"
   ]
  },
  {
   "cell_type": "code",
   "execution_count": 84,
   "metadata": {},
   "outputs": [
    {
     "data": {
      "text/plain": [
       "['arrival_date_year',\n",
       " 'adults',\n",
       " 'children',\n",
       " 'babies',\n",
       " 'meal',\n",
       " 'country',\n",
       " 'distribution_channel',\n",
       " 'is_repeated_guest',\n",
       " 'previous_cancellations',\n",
       " 'previous_bookings_not_canceled',\n",
       " 'reserved_room_type',\n",
       " 'booking_changes',\n",
       " 'days_in_waiting_list',\n",
       " 'customer_type',\n",
       " 'required_car_parking_spaces',\n",
       " 'total_of_special_requests',\n",
       " 'total_nights',\n",
       " 'season',\n",
       " 'lead_time']"
      ]
     },
     "execution_count": 84,
     "metadata": {},
     "output_type": "execute_result"
    }
   ],
   "source": [
    "features_post_list"
   ]
  },
  {
   "cell_type": "code",
   "execution_count": 85,
   "metadata": {},
   "outputs": [
    {
     "data": {
      "text/plain": [
       "is_canceled                       1.000000\n",
       "profit                            0.732630\n",
       "previous_cancellations            0.201926\n",
       "lead_time                         0.176093\n",
       "required_car_parking_spaces       0.174187\n",
       "total_of_special_requests         0.134206\n",
       "previous_bookings_not_canceled    0.085808\n",
       "booking_changes                   0.080964\n",
       "total_nights                      0.069679\n",
       "stays_in_week_nights              0.068193\n",
       "adults                            0.067246\n",
       "arrival_date_year                 0.057680\n",
       "is_repeated_guest                 0.056963\n",
       "children                          0.041750\n",
       "stays_in_weekend_nights           0.036411\n",
       "arrival_date_week_number          0.023653\n",
       "arrival_date_day_of_month         0.017457\n",
       "babies                            0.016678\n",
       "days_in_waiting_list              0.004443\n",
       "Name: is_canceled, dtype: float64"
      ]
     },
     "execution_count": 85,
     "metadata": {},
     "output_type": "execute_result"
    }
   ],
   "source": [
    "df.corr()['is_canceled'].abs().sort_values(ascending=False)"
   ]
  },
  {
   "cell_type": "code",
   "execution_count": 86,
   "metadata": {},
   "outputs": [
    {
     "data": {
      "text/plain": [
       "array([0])"
      ]
     },
     "execution_count": 86,
     "metadata": {},
     "output_type": "execute_result"
    }
   ],
   "source": [
    "df.query('is_canceled == 1')['required_car_parking_spaces'].unique()"
   ]
  },
  {
   "cell_type": "code",
   "execution_count": 87,
   "metadata": {},
   "outputs": [
    {
     "data": {
      "text/html": [
       "<div>\n",
       "<style scoped>\n",
       "    .dataframe tbody tr th:only-of-type {\n",
       "        vertical-align: middle;\n",
       "    }\n",
       "\n",
       "    .dataframe tbody tr th {\n",
       "        vertical-align: top;\n",
       "    }\n",
       "\n",
       "    .dataframe thead th {\n",
       "        text-align: right;\n",
       "    }\n",
       "</style>\n",
       "<table border=\"1\" class=\"dataframe\">\n",
       "  <thead>\n",
       "    <tr style=\"text-align: right;\">\n",
       "      <th></th>\n",
       "      <th>&lt;lambda_0&gt;</th>\n",
       "      <th>count</th>\n",
       "    </tr>\n",
       "    <tr>\n",
       "      <th>country</th>\n",
       "      <th></th>\n",
       "      <th></th>\n",
       "    </tr>\n",
       "  </thead>\n",
       "  <tbody>\n",
       "    <tr>\n",
       "      <th>PRT</th>\n",
       "      <td>0.351559</td>\n",
       "      <td>14467.0</td>\n",
       "    </tr>\n",
       "    <tr>\n",
       "      <th>FRA</th>\n",
       "      <td>0.155440</td>\n",
       "      <td>4825.0</td>\n",
       "    </tr>\n",
       "    <tr>\n",
       "      <th>GBR</th>\n",
       "      <td>0.167057</td>\n",
       "      <td>4274.0</td>\n",
       "    </tr>\n",
       "    <tr>\n",
       "      <th>ESP</th>\n",
       "      <td>0.221853</td>\n",
       "      <td>3908.0</td>\n",
       "    </tr>\n",
       "    <tr>\n",
       "      <th>DEU</th>\n",
       "      <td>0.166667</td>\n",
       "      <td>2754.0</td>\n",
       "    </tr>\n",
       "    <tr>\n",
       "      <th>...</th>\n",
       "      <td>...</td>\n",
       "      <td>...</td>\n",
       "    </tr>\n",
       "    <tr>\n",
       "      <th>NAM</th>\n",
       "      <td>0.000000</td>\n",
       "      <td>1.0</td>\n",
       "    </tr>\n",
       "    <tr>\n",
       "      <th>NIC</th>\n",
       "      <td>1.000000</td>\n",
       "      <td>1.0</td>\n",
       "    </tr>\n",
       "    <tr>\n",
       "      <th>PLW</th>\n",
       "      <td>0.000000</td>\n",
       "      <td>1.0</td>\n",
       "    </tr>\n",
       "    <tr>\n",
       "      <th>PRY</th>\n",
       "      <td>0.000000</td>\n",
       "      <td>1.0</td>\n",
       "    </tr>\n",
       "    <tr>\n",
       "      <th>ZWE</th>\n",
       "      <td>0.000000</td>\n",
       "      <td>1.0</td>\n",
       "    </tr>\n",
       "  </tbody>\n",
       "</table>\n",
       "<p>155 rows × 2 columns</p>\n",
       "</div>"
      ],
      "text/plain": [
       "         <lambda_0>    count\n",
       "country                     \n",
       "PRT        0.351559  14467.0\n",
       "FRA        0.155440   4825.0\n",
       "GBR        0.167057   4274.0\n",
       "ESP        0.221853   3908.0\n",
       "DEU        0.166667   2754.0\n",
       "...             ...      ...\n",
       "NAM        0.000000      1.0\n",
       "NIC        1.000000      1.0\n",
       "PLW        0.000000      1.0\n",
       "PRY        0.000000      1.0\n",
       "ZWE        0.000000      1.0\n",
       "\n",
       "[155 rows x 2 columns]"
      ]
     },
     "execution_count": 87,
     "metadata": {},
     "output_type": "execute_result"
    }
   ],
   "source": [
    "df.pivot_table(index='country',values='is_canceled',aggfunc = ('count',lambda x:sum(x)/len(x))).sort_values(by='count',ascending=False)"
   ]
  },
  {
   "cell_type": "code",
   "execution_count": 88,
   "metadata": {},
   "outputs": [
    {
     "data": {
      "text/plain": [
       "lead_time                         0.214527\n",
       "country                           0.157428\n",
       "total_of_special_requests         0.091070\n",
       "previous_cancellations            0.068314\n",
       "total_nights                      0.058960\n",
       "customer_type                     0.054920\n",
       "required_car_parking_spaces       0.050250\n",
       "arrival_date_year                 0.045321\n",
       "booking_changes                   0.040503\n",
       "distribution_channel              0.039993\n",
       "season                            0.038607\n",
       "reserved_room_type                0.036950\n",
       "meal                              0.034735\n",
       "adults                            0.025972\n",
       "children                          0.017346\n",
       "previous_bookings_not_canceled    0.013863\n",
       "is_repeated_guest                 0.005907\n",
       "days_in_waiting_list              0.002780\n",
       "babies                            0.002554\n",
       "dtype: float64"
      ]
     },
     "execution_count": 88,
     "metadata": {},
     "output_type": "execute_result"
    }
   ],
   "source": [
    "pd.Series(final_model.steps[1][1].feature_importances_,index=features_post_list).sort_values(ascending=False)"
   ]
  },
  {
   "cell_type": "code",
   "execution_count": 89,
   "metadata": {},
   "outputs": [
    {
     "data": {
      "text/html": [
       "<div>\n",
       "<style scoped>\n",
       "    .dataframe tbody tr th:only-of-type {\n",
       "        vertical-align: middle;\n",
       "    }\n",
       "\n",
       "    .dataframe tbody tr th {\n",
       "        vertical-align: top;\n",
       "    }\n",
       "\n",
       "    .dataframe thead th {\n",
       "        text-align: right;\n",
       "    }\n",
       "</style>\n",
       "<table border=\"1\" class=\"dataframe\">\n",
       "  <thead>\n",
       "    <tr style=\"text-align: right;\">\n",
       "      <th></th>\n",
       "      <th>&lt;lambda_0&gt;</th>\n",
       "      <th>count</th>\n",
       "    </tr>\n",
       "    <tr>\n",
       "      <th>total_nights</th>\n",
       "      <th></th>\n",
       "      <th></th>\n",
       "    </tr>\n",
       "  </thead>\n",
       "  <tbody>\n",
       "    <tr>\n",
       "      <th>1</th>\n",
       "      <td>0.181109</td>\n",
       "      <td>9359.0</td>\n",
       "    </tr>\n",
       "    <tr>\n",
       "      <th>2</th>\n",
       "      <td>0.258706</td>\n",
       "      <td>8442.0</td>\n",
       "    </tr>\n",
       "    <tr>\n",
       "      <th>3</th>\n",
       "      <td>0.275228</td>\n",
       "      <td>9632.0</td>\n",
       "    </tr>\n",
       "    <tr>\n",
       "      <th>4</th>\n",
       "      <td>0.275915</td>\n",
       "      <td>7216.0</td>\n",
       "    </tr>\n",
       "    <tr>\n",
       "      <th>5</th>\n",
       "      <td>0.269241</td>\n",
       "      <td>3599.0</td>\n",
       "    </tr>\n",
       "    <tr>\n",
       "      <th>6</th>\n",
       "      <td>0.320696</td>\n",
       "      <td>1609.0</td>\n",
       "    </tr>\n",
       "    <tr>\n",
       "      <th>7</th>\n",
       "      <td>0.277439</td>\n",
       "      <td>3280.0</td>\n",
       "    </tr>\n",
       "    <tr>\n",
       "      <th>8</th>\n",
       "      <td>0.322851</td>\n",
       "      <td>477.0</td>\n",
       "    </tr>\n",
       "    <tr>\n",
       "      <th>9</th>\n",
       "      <td>0.330645</td>\n",
       "      <td>124.0</td>\n",
       "    </tr>\n",
       "    <tr>\n",
       "      <th>10</th>\n",
       "      <td>0.324561</td>\n",
       "      <td>114.0</td>\n",
       "    </tr>\n",
       "  </tbody>\n",
       "</table>\n",
       "</div>"
      ],
      "text/plain": [
       "              <lambda_0>   count\n",
       "total_nights                    \n",
       "1               0.181109  9359.0\n",
       "2               0.258706  8442.0\n",
       "3               0.275228  9632.0\n",
       "4               0.275915  7216.0\n",
       "5               0.269241  3599.0\n",
       "6               0.320696  1609.0\n",
       "7               0.277439  3280.0\n",
       "8               0.322851   477.0\n",
       "9               0.330645   124.0\n",
       "10              0.324561   114.0"
      ]
     },
     "execution_count": 89,
     "metadata": {},
     "output_type": "execute_result"
    }
   ],
   "source": [
    "df.pivot_table(index='total_nights',values='is_canceled',aggfunc= ('count',lambda x:sum(x)/len(x)))"
   ]
  },
  {
   "cell_type": "code",
   "execution_count": 90,
   "metadata": {},
   "outputs": [
    {
     "data": {
      "text/html": [
       "<div>\n",
       "<style scoped>\n",
       "    .dataframe tbody tr th:only-of-type {\n",
       "        vertical-align: middle;\n",
       "    }\n",
       "\n",
       "    .dataframe tbody tr th {\n",
       "        vertical-align: top;\n",
       "    }\n",
       "\n",
       "    .dataframe thead th {\n",
       "        text-align: right;\n",
       "    }\n",
       "</style>\n",
       "<table border=\"1\" class=\"dataframe\">\n",
       "  <thead>\n",
       "    <tr style=\"text-align: right;\">\n",
       "      <th></th>\n",
       "      <th>&lt;lambda_0&gt;</th>\n",
       "      <th>count</th>\n",
       "    </tr>\n",
       "    <tr>\n",
       "      <th>customer_type</th>\n",
       "      <th></th>\n",
       "      <th></th>\n",
       "    </tr>\n",
       "  </thead>\n",
       "  <tbody>\n",
       "    <tr>\n",
       "      <th>Contract</th>\n",
       "      <td>0.197439</td>\n",
       "      <td>1874.0</td>\n",
       "    </tr>\n",
       "    <tr>\n",
       "      <th>Group</th>\n",
       "      <td>0.073359</td>\n",
       "      <td>259.0</td>\n",
       "    </tr>\n",
       "    <tr>\n",
       "      <th>Transient</th>\n",
       "      <td>0.273403</td>\n",
       "      <td>35369.0</td>\n",
       "    </tr>\n",
       "    <tr>\n",
       "      <th>Transient-Party</th>\n",
       "      <td>0.171496</td>\n",
       "      <td>6350.0</td>\n",
       "    </tr>\n",
       "  </tbody>\n",
       "</table>\n",
       "</div>"
      ],
      "text/plain": [
       "                 <lambda_0>    count\n",
       "customer_type                       \n",
       "Contract           0.197439   1874.0\n",
       "Group              0.073359    259.0\n",
       "Transient          0.273403  35369.0\n",
       "Transient-Party    0.171496   6350.0"
      ]
     },
     "execution_count": 90,
     "metadata": {},
     "output_type": "execute_result"
    }
   ],
   "source": [
    "df.pivot_table(index='customer_type',values='is_canceled',aggfunc= ('count',lambda x:sum(x)/len(x)))"
   ]
  },
  {
   "cell_type": "markdown",
   "metadata": {},
   "source": [
    "Исходя из результатов работы модели и корреляционной матрицы, можно выявить следующие признаки, которые могут охарактеризовать \"ненадежного\" клиента:\n",
    "\n",
    "lead time - чем больше времени между бронированием и преездом, тем выше шанс, что человек откажется от брони. Среднее время среди людей без отказа - 60, среди людей, которые отказались - 90.<br/>\n",
    "\n",
    "required_car_parking_spaces - если человеку необходимо место для автомобиля, то он точно не откажется от брони.<br/>\n",
    "\n",
    "previous_cancellations - чем больше у человека было отказов, тем выше шанс, что человек еще раз откажется от брони. Среднее значение среди людей с отказом в 10 раз выше, чем среди людей без отказа (0.08 и 0.07)<br/>\n",
    "\n",
    "country - гражднаство человека влияет на отказ от брони. К примеру, если человек - гражданин Португалии, то шанс, что он откажется от брони в 2 раза выше чем среди граждан Франции<br/>\n",
    "\n",
    "total_of_special_requests - чем меньше количество специальных отметок, тем выше шанс, что человек откажется от брони. Среднее значение среди людей с отказом в 1.5 раз меньше, чем среди людей без отказа (0.73 и 0.49)<br/>\n",
    "\n",
    "total_nights - с увеличением количества ночей, растет доля людей, отказавшихся от брони. К примеру: доля людей, у которых бронь на 2 ночи: 26%, на 5 ночей - 27%.\n",
    "\n",
    "customer_type - тип заказчика влияет на вероятность отказа от брони. Так, среди типа Transient — не связано с договором или групповым заездом, доля людей, отказавшихся от брони - 27%. Доля людей с типом Contract - договор с юридическим лицом, отказавшися от брони - 20%\n",
    "\n",
    "**Портрет «ненадёжного» клиента:**<br/>\n",
    "&nbsp;1)время между бронированием и преездом примерно 90<br/>\n",
    "&nbsp;2)не требуется место для автомобиля<br/>\n",
    "&nbsp;3)гражданство-Португалия<br/>\n",
    "&nbsp;4)как минимум 1 отмененная бронь<br/>\n",
    "&nbsp;5)количество специальных отметок меньше 2<br/>\n",
    "&nbsp;5)6 и более ночей<br/>\n",
    "&nbsp;5)тип заказчика - Transient<br/>"
   ]
  },
  {
   "cell_type": "markdown",
   "metadata": {},
   "source": [
    "#### Вывод"
   ]
  },
  {
   "cell_type": "markdown",
   "metadata": {},
   "source": [
    "Результаты проведенного исследования:<br/>\n",
    "<br/>\n",
    "Лучшие результаты показала модель: RandomForestClassifier со следующими гипперпараметрами: n_estimators-4,max_depth-16<br/>\n",
    "Порог примерно равен соотношению классов в тренировочной выборке 1 к 3 - 0.3.<br/>\n",
    "Результаты:<br/>\n",
    "F1-0.61<br/>\n",
    "F1 на тестовой выборке -0.61<br/>\n",
    "\n",
    "Прибыль компании за год:<br/>\n",
    "1)Без внедрения депозитов: 44 976 654<br/>\n",
    "2)С внедрением депозитов: 47 326 894<br/>\n",
    "Разница: 2 350 240<br/>\n",
    "Доля клиентов, которые после использования модели внесли депозит и отказались от брони - 0.27<br/>\n",
    "Доля клиентов, которые после использования модели внесли депозит и не отказались от брони - 0.08<br/>\n",
    "\n",
    "**Следовательно модель окупает свою разработку - 400 000**. При этом присутсвует 8% людей, которые внесли депозит и при этом не отказываются от брони. В дальнейшем, это может отпугнуть будущих клиентов, так как исходя из описания проекта для привлечения клиентов отель ввел возможность брони без предоплаты. Для решения этой проблемы можно повысить порог, тем самым уменьшить качество модели, что в свою очередь повлечет снижение прибыли в годовом периоде, но из-за меньшей доли \"надежных\" клиентов, которым требуется внести депозит, в долгосрочной перспективе (2-5 лет) можно принести большую прибыль. Также стоит учитывать репутационные риски.\n",
    "\n",
    "К примеру, при использовании порога - 0.5 разница в прибыли составила 1 447 600, при этом:<br/>\n",
    "Доля клиентов, которые после использования модели внесли депозит и отказались от брони - 0.16<br/>\n",
    "Доля клиентов, которые после использования модели внесли депозит и не отказались от брони - 0.03<br/>\n",
    "\n",
    "Рекомендация: для решения этой проблемы можно повысить порог, тем самым уменьшить качество модели, что в свою очередь повлечет снижение прибыли в годовом периоде, но из-за меньшей доли \"надежных\" клиентов, которым требуется внести депозит, в долгосрочной перспективе (2-5 лет) можно принести большую прибыль, так как возможно увеличение количества клиентов.\n",
    "Стоит провести анализ изменения количества клиентов после внедрения модели с заданным порогом (к примеру, 0.5).<br/>\n",
    "Общие рекомендации: увеличить выборку, увеличить количество признаков, использовать другие модели машинного обучения, объяснить причину аномалий и по необходимости провести повторный анализ.<br/>\n",
    "\n",
    "Исходя из работы модели:<br/>\n",
    "**Портрет «ненадёжного» клиента:**<br/>\n",
    "&nbsp;1)время между бронированием и преездом примерно 90<br/>\n",
    "&nbsp;2)не требуется место для автомобиля<br/>\n",
    "&nbsp;3)гражданство-Португалия<br/>\n",
    "&nbsp;4)как минимум 1 отмененная бронь<br/>\n",
    "&nbsp;5)количество специальных отметок меньше 2<br/>\n",
    "&nbsp;6)6 и более ночей<br/>\n",
    "&nbsp;7)тип заказчика - Transient<br/>"
   ]
  }
 ],
 "metadata": {
  "ExecuteTimeLog": [
   {
    "duration": 14257,
    "start_time": "2023-04-17T20:19:07.301Z"
   },
   {
    "duration": 57,
    "start_time": "2023-04-17T20:19:22.475Z"
   },
   {
    "duration": 2037,
    "start_time": "2023-04-17T20:19:41.375Z"
   },
   {
    "duration": 3,
    "start_time": "2023-04-17T20:19:50.491Z"
   },
   {
    "duration": 237,
    "start_time": "2023-04-17T20:20:23.910Z"
   },
   {
    "duration": 56,
    "start_time": "2023-04-17T20:20:26.816Z"
   },
   {
    "duration": 32,
    "start_time": "2023-04-17T20:20:32.244Z"
   },
   {
    "duration": 43426,
    "start_time": "2023-04-17T20:20:56.215Z"
   },
   {
    "duration": 181,
    "start_time": "2023-04-17T20:24:18.873Z"
   },
   {
    "duration": 12,
    "start_time": "2023-04-17T20:24:24.879Z"
   },
   {
    "duration": 14,
    "start_time": "2023-04-17T20:24:31.658Z"
   },
   {
    "duration": 18,
    "start_time": "2023-04-17T20:25:02.073Z"
   },
   {
    "duration": 168,
    "start_time": "2023-04-17T20:25:57.981Z"
   },
   {
    "duration": 37,
    "start_time": "2023-04-17T20:25:58.796Z"
   },
   {
    "duration": 6,
    "start_time": "2023-04-17T20:27:31.694Z"
   },
   {
    "duration": 35,
    "start_time": "2023-04-17T20:27:44.722Z"
   },
   {
    "duration": 8,
    "start_time": "2023-04-17T20:31:20.083Z"
   },
   {
    "duration": 5,
    "start_time": "2023-04-17T20:34:35.421Z"
   },
   {
    "duration": 15,
    "start_time": "2023-04-17T20:34:39.095Z"
   },
   {
    "duration": 145,
    "start_time": "2023-04-17T20:35:32.009Z"
   },
   {
    "duration": 29,
    "start_time": "2023-04-17T20:35:32.447Z"
   },
   {
    "duration": 5,
    "start_time": "2023-04-17T20:35:36.874Z"
   },
   {
    "duration": 33,
    "start_time": "2023-04-17T20:35:37.849Z"
   },
   {
    "duration": 5,
    "start_time": "2023-04-17T20:35:38.950Z"
   },
   {
    "duration": 6,
    "start_time": "2023-04-17T20:35:39.882Z"
   },
   {
    "duration": 136,
    "start_time": "2023-04-17T20:36:58.574Z"
   },
   {
    "duration": 7,
    "start_time": "2023-04-17T20:37:06.952Z"
   },
   {
    "duration": 8,
    "start_time": "2023-04-17T20:38:48.484Z"
   },
   {
    "duration": 56,
    "start_time": "2023-04-17T20:39:42.400Z"
   },
   {
    "duration": 118,
    "start_time": "2023-04-17T20:39:42.605Z"
   },
   {
    "duration": 162,
    "start_time": "2023-04-17T20:40:39.495Z"
   },
   {
    "duration": 7,
    "start_time": "2023-04-17T20:42:22.613Z"
   },
   {
    "duration": 17,
    "start_time": "2023-04-17T20:42:30.201Z"
   },
   {
    "duration": 24,
    "start_time": "2023-04-17T20:44:22.950Z"
   },
   {
    "duration": 5,
    "start_time": "2023-04-17T20:46:45.579Z"
   },
   {
    "duration": 11,
    "start_time": "2023-04-17T20:46:52.058Z"
   },
   {
    "duration": 69,
    "start_time": "2023-04-17T20:47:11.711Z"
   },
   {
    "duration": 9,
    "start_time": "2023-04-17T20:48:03.604Z"
   },
   {
    "duration": 26,
    "start_time": "2023-04-17T20:49:29.572Z"
   },
   {
    "duration": 150,
    "start_time": "2023-04-17T20:49:38.423Z"
   },
   {
    "duration": 6,
    "start_time": "2023-04-17T20:50:16.508Z"
   },
   {
    "duration": 8,
    "start_time": "2023-04-17T20:50:25.751Z"
   },
   {
    "duration": 10,
    "start_time": "2023-04-17T20:50:31.361Z"
   },
   {
    "duration": 145,
    "start_time": "2023-04-17T20:51:26.947Z"
   },
   {
    "duration": 8,
    "start_time": "2023-04-17T20:52:25.451Z"
   },
   {
    "duration": 8,
    "start_time": "2023-04-17T20:52:31.819Z"
   },
   {
    "duration": 5,
    "start_time": "2023-04-17T20:52:55.147Z"
   },
   {
    "duration": 36,
    "start_time": "2023-04-17T20:52:55.371Z"
   },
   {
    "duration": 33,
    "start_time": "2023-04-17T20:52:55.553Z"
   },
   {
    "duration": 5,
    "start_time": "2023-04-17T20:52:55.747Z"
   },
   {
    "duration": 5,
    "start_time": "2023-04-17T20:52:56.107Z"
   },
   {
    "duration": 8,
    "start_time": "2023-04-17T20:52:56.281Z"
   },
   {
    "duration": 141,
    "start_time": "2023-04-17T20:52:56.459Z"
   },
   {
    "duration": 5,
    "start_time": "2023-04-17T20:52:56.653Z"
   },
   {
    "duration": 7,
    "start_time": "2023-04-17T20:52:56.847Z"
   },
   {
    "duration": 6,
    "start_time": "2023-04-17T20:52:57.204Z"
   },
   {
    "duration": 163,
    "start_time": "2023-04-17T20:52:57.394Z"
   },
   {
    "duration": 5,
    "start_time": "2023-04-17T20:52:57.693Z"
   },
   {
    "duration": 7,
    "start_time": "2023-04-17T20:52:58.051Z"
   },
   {
    "duration": 7,
    "start_time": "2023-04-17T20:52:58.247Z"
   },
   {
    "duration": 21,
    "start_time": "2023-04-17T20:55:24.205Z"
   },
   {
    "duration": 13,
    "start_time": "2023-04-17T20:55:32.053Z"
   },
   {
    "duration": 5,
    "start_time": "2023-04-17T20:55:39.182Z"
   },
   {
    "duration": 6,
    "start_time": "2023-04-17T20:55:48.883Z"
   },
   {
    "duration": 12,
    "start_time": "2023-04-17T20:55:55.778Z"
   },
   {
    "duration": 6,
    "start_time": "2023-04-17T20:55:59.351Z"
   },
   {
    "duration": 4,
    "start_time": "2023-04-17T20:56:08.434Z"
   },
   {
    "duration": 7,
    "start_time": "2023-04-17T20:56:33.092Z"
   },
   {
    "duration": 6,
    "start_time": "2023-04-17T20:57:55.547Z"
   },
   {
    "duration": 6,
    "start_time": "2023-04-17T20:58:11.875Z"
   },
   {
    "duration": 6,
    "start_time": "2023-04-17T20:58:22.846Z"
   },
   {
    "duration": 4,
    "start_time": "2023-04-17T20:59:48.658Z"
   },
   {
    "duration": 5,
    "start_time": "2023-04-17T20:59:57.787Z"
   },
   {
    "duration": 8,
    "start_time": "2023-04-17T21:00:05.475Z"
   },
   {
    "duration": 34,
    "start_time": "2023-04-17T21:01:11.272Z"
   },
   {
    "duration": 2059,
    "start_time": "2023-04-17T21:01:36.730Z"
   },
   {
    "duration": 29,
    "start_time": "2023-04-17T21:01:47.532Z"
   },
   {
    "duration": 17,
    "start_time": "2023-04-17T21:06:01.105Z"
   },
   {
    "duration": 31,
    "start_time": "2023-04-17T21:06:09.023Z"
   },
   {
    "duration": 36,
    "start_time": "2023-04-17T21:06:16.203Z"
   },
   {
    "duration": 9,
    "start_time": "2023-04-17T21:07:08.735Z"
   },
   {
    "duration": 3,
    "start_time": "2023-04-17T21:10:52.100Z"
   },
   {
    "duration": 6,
    "start_time": "2023-04-17T21:12:37.200Z"
   },
   {
    "duration": 7,
    "start_time": "2023-04-17T21:12:45.876Z"
   },
   {
    "duration": 3,
    "start_time": "2023-04-17T21:14:25.453Z"
   },
   {
    "duration": 3,
    "start_time": "2023-04-17T21:15:46.373Z"
   },
   {
    "duration": 519,
    "start_time": "2023-04-17T21:16:15.697Z"
   },
   {
    "duration": 3,
    "start_time": "2023-04-17T21:16:29.413Z"
   },
   {
    "duration": 409,
    "start_time": "2023-04-17T21:16:30.473Z"
   },
   {
    "duration": 3,
    "start_time": "2023-04-17T21:16:35.873Z"
   },
   {
    "duration": 28,
    "start_time": "2023-04-17T21:16:36.192Z"
   },
   {
    "duration": 7,
    "start_time": "2023-04-17T21:16:45.730Z"
   },
   {
    "duration": 8,
    "start_time": "2023-04-17T21:17:09.076Z"
   },
   {
    "duration": 4,
    "start_time": "2023-04-17T21:17:09.630Z"
   },
   {
    "duration": 4,
    "start_time": "2023-04-17T21:17:10.289Z"
   },
   {
    "duration": 34,
    "start_time": "2023-04-17T21:17:10.705Z"
   },
   {
    "duration": 8,
    "start_time": "2023-04-17T21:17:11.071Z"
   },
   {
    "duration": 129,
    "start_time": "2023-04-17T21:22:51.030Z"
   },
   {
    "duration": 4,
    "start_time": "2023-04-17T21:23:11.633Z"
   },
   {
    "duration": 6,
    "start_time": "2023-04-17T21:24:55.327Z"
   },
   {
    "duration": 4,
    "start_time": "2023-04-17T21:26:51.676Z"
   },
   {
    "duration": 14,
    "start_time": "2023-04-17T21:27:19.900Z"
   },
   {
    "duration": 37,
    "start_time": "2023-04-17T21:27:23.809Z"
   },
   {
    "duration": 30,
    "start_time": "2023-04-17T21:27:28.586Z"
   },
   {
    "duration": 31,
    "start_time": "2023-04-17T21:27:33.717Z"
   },
   {
    "duration": 30,
    "start_time": "2023-04-17T21:27:38.803Z"
   },
   {
    "duration": 41,
    "start_time": "2023-04-17T21:27:42.280Z"
   },
   {
    "duration": 23,
    "start_time": "2023-04-17T21:27:46.404Z"
   },
   {
    "duration": 994,
    "start_time": "2023-04-17T21:27:50.194Z"
   },
   {
    "duration": 18,
    "start_time": "2023-04-17T21:27:56.486Z"
   },
   {
    "duration": 26,
    "start_time": "2023-04-17T21:28:17.539Z"
   },
   {
    "duration": 26,
    "start_time": "2023-04-17T21:28:36.681Z"
   },
   {
    "duration": 28,
    "start_time": "2023-04-17T21:28:40.679Z"
   },
   {
    "duration": 26,
    "start_time": "2023-04-17T21:28:49.114Z"
   },
   {
    "duration": 5,
    "start_time": "2023-04-17T21:29:01.750Z"
   },
   {
    "duration": 7,
    "start_time": "2023-04-17T21:29:08.018Z"
   },
   {
    "duration": 26,
    "start_time": "2023-04-17T21:30:09.633Z"
   },
   {
    "duration": 28,
    "start_time": "2023-04-17T21:30:16.815Z"
   },
   {
    "duration": 35,
    "start_time": "2023-04-17T21:30:38.772Z"
   },
   {
    "duration": 7,
    "start_time": "2023-04-17T21:30:44.673Z"
   },
   {
    "duration": 15,
    "start_time": "2023-04-17T21:30:49.384Z"
   },
   {
    "duration": 27,
    "start_time": "2023-04-17T21:31:00.025Z"
   },
   {
    "duration": 6,
    "start_time": "2023-04-17T21:33:16.660Z"
   },
   {
    "duration": 17,
    "start_time": "2023-04-17T21:33:17.242Z"
   },
   {
    "duration": 11,
    "start_time": "2023-04-17T21:33:23.000Z"
   },
   {
    "duration": 19,
    "start_time": "2023-04-17T21:33:30.701Z"
   },
   {
    "duration": 44,
    "start_time": "2023-04-17T21:33:44.426Z"
   },
   {
    "duration": 20,
    "start_time": "2023-04-17T21:33:53.275Z"
   },
   {
    "duration": 23,
    "start_time": "2023-04-17T21:33:57.579Z"
   },
   {
    "duration": 47,
    "start_time": "2023-04-17T21:34:03.875Z"
   },
   {
    "duration": 32,
    "start_time": "2023-04-17T21:34:10.407Z"
   },
   {
    "duration": 20,
    "start_time": "2023-04-17T21:34:23.177Z"
   },
   {
    "duration": 11,
    "start_time": "2023-04-17T21:34:29.902Z"
   },
   {
    "duration": 29,
    "start_time": "2023-04-17T21:34:38.045Z"
   },
   {
    "duration": 23,
    "start_time": "2023-04-17T21:34:51.531Z"
   },
   {
    "duration": 25,
    "start_time": "2023-04-17T21:35:01.632Z"
   },
   {
    "duration": 12,
    "start_time": "2023-04-17T21:35:07.241Z"
   },
   {
    "duration": 5094,
    "start_time": "2023-04-17T21:35:49.044Z"
   },
   {
    "duration": 4815,
    "start_time": "2023-04-17T21:37:30.828Z"
   },
   {
    "duration": 17363,
    "start_time": "2023-04-19T06:36:28.202Z"
   },
   {
    "duration": 2420,
    "start_time": "2023-04-19T06:36:45.567Z"
   },
   {
    "duration": 306,
    "start_time": "2023-04-19T06:36:47.989Z"
   },
   {
    "duration": 28,
    "start_time": "2023-04-19T06:36:48.298Z"
   },
   {
    "duration": 45280,
    "start_time": "2023-04-19T06:36:48.328Z"
   },
   {
    "duration": 10,
    "start_time": "2023-04-19T06:41:49.002Z"
   },
   {
    "duration": 361,
    "start_time": "2023-04-19T06:43:35.516Z"
   },
   {
    "duration": 47,
    "start_time": "2023-04-19T06:44:51.274Z"
   },
   {
    "duration": 12,
    "start_time": "2023-04-19T06:45:00.636Z"
   },
   {
    "duration": 10,
    "start_time": "2023-04-19T06:45:07.242Z"
   },
   {
    "duration": 12,
    "start_time": "2023-04-19T06:45:28.906Z"
   },
   {
    "duration": 50,
    "start_time": "2023-04-19T06:45:42.795Z"
   },
   {
    "duration": 66,
    "start_time": "2023-04-19T06:46:43.304Z"
   },
   {
    "duration": 71,
    "start_time": "2023-04-19T06:46:54.025Z"
   },
   {
    "duration": 91,
    "start_time": "2023-04-19T06:47:11.272Z"
   },
   {
    "duration": 8,
    "start_time": "2023-04-19T06:49:55.960Z"
   },
   {
    "duration": 23,
    "start_time": "2023-04-19T06:50:02.673Z"
   },
   {
    "duration": 66,
    "start_time": "2023-04-19T06:50:46.385Z"
   },
   {
    "duration": 4,
    "start_time": "2023-04-19T06:50:53.873Z"
   },
   {
    "duration": 11,
    "start_time": "2023-04-19T06:51:00.714Z"
   },
   {
    "duration": 18,
    "start_time": "2023-04-19T06:51:01.364Z"
   },
   {
    "duration": 50,
    "start_time": "2023-04-19T06:51:10.665Z"
   },
   {
    "duration": 33,
    "start_time": "2023-04-19T06:51:46.942Z"
   },
   {
    "duration": 6,
    "start_time": "2023-04-19T06:52:04.659Z"
   },
   {
    "duration": 40,
    "start_time": "2023-04-19T06:52:05.802Z"
   },
   {
    "duration": 27,
    "start_time": "2023-04-19T06:52:10.694Z"
   },
   {
    "duration": 7,
    "start_time": "2023-04-19T06:52:11.361Z"
   },
   {
    "duration": 7,
    "start_time": "2023-04-19T06:52:14.859Z"
   },
   {
    "duration": 12,
    "start_time": "2023-04-19T06:52:16.112Z"
   },
   {
    "duration": 160,
    "start_time": "2023-04-19T06:52:17.182Z"
   },
   {
    "duration": 6,
    "start_time": "2023-04-19T06:52:18.105Z"
   },
   {
    "duration": 10,
    "start_time": "2023-04-19T06:52:18.857Z"
   },
   {
    "duration": 7,
    "start_time": "2023-04-19T06:52:19.896Z"
   },
   {
    "duration": 185,
    "start_time": "2023-04-19T06:52:20.650Z"
   },
   {
    "duration": 6,
    "start_time": "2023-04-19T06:52:21.335Z"
   },
   {
    "duration": 12,
    "start_time": "2023-04-19T06:52:21.756Z"
   },
   {
    "duration": 10,
    "start_time": "2023-04-19T06:52:21.969Z"
   },
   {
    "duration": 28,
    "start_time": "2023-04-19T06:52:24.256Z"
   },
   {
    "duration": 18251,
    "start_time": "2023-04-19T09:07:36.001Z"
   },
   {
    "duration": 1943,
    "start_time": "2023-04-19T09:07:54.255Z"
   },
   {
    "duration": 307,
    "start_time": "2023-04-19T09:07:56.200Z"
   },
   {
    "duration": 25,
    "start_time": "2023-04-19T09:07:56.508Z"
   },
   {
    "duration": 51,
    "start_time": "2023-04-19T09:07:57.795Z"
   },
   {
    "duration": 18,
    "start_time": "2023-04-19T09:07:57.922Z"
   },
   {
    "duration": 5,
    "start_time": "2023-04-19T09:07:58.158Z"
   },
   {
    "duration": 27,
    "start_time": "2023-04-19T09:07:58.362Z"
   },
   {
    "duration": 5,
    "start_time": "2023-04-19T09:07:58.606Z"
   },
   {
    "duration": 33,
    "start_time": "2023-04-19T09:07:58.796Z"
   },
   {
    "duration": 12,
    "start_time": "2023-04-19T09:07:59.030Z"
   },
   {
    "duration": 4,
    "start_time": "2023-04-19T09:07:59.206Z"
   },
   {
    "duration": 5,
    "start_time": "2023-04-19T09:07:59.706Z"
   },
   {
    "duration": 7,
    "start_time": "2023-04-19T09:07:59.937Z"
   },
   {
    "duration": 112,
    "start_time": "2023-04-19T09:08:00.121Z"
   },
   {
    "duration": 4,
    "start_time": "2023-04-19T09:08:00.406Z"
   },
   {
    "duration": 8,
    "start_time": "2023-04-19T09:08:00.595Z"
   },
   {
    "duration": 5,
    "start_time": "2023-04-19T09:08:01.002Z"
   },
   {
    "duration": 152,
    "start_time": "2023-04-19T09:08:01.198Z"
   },
   {
    "duration": 6,
    "start_time": "2023-04-19T09:08:01.492Z"
   },
   {
    "duration": 8,
    "start_time": "2023-04-19T09:08:01.698Z"
   },
   {
    "duration": 7,
    "start_time": "2023-04-19T09:08:01.894Z"
   },
   {
    "duration": 23,
    "start_time": "2023-04-19T09:08:02.342Z"
   },
   {
    "duration": 6,
    "start_time": "2023-04-19T09:08:03.009Z"
   },
   {
    "duration": 3,
    "start_time": "2023-04-19T09:08:03.198Z"
   },
   {
    "duration": 3,
    "start_time": "2023-04-19T09:08:03.427Z"
   },
   {
    "duration": 3,
    "start_time": "2023-04-19T09:08:03.645Z"
   },
   {
    "duration": 34,
    "start_time": "2023-04-19T09:08:03.869Z"
   },
   {
    "duration": 7,
    "start_time": "2023-04-19T09:08:04.094Z"
   },
   {
    "duration": 5,
    "start_time": "2023-04-19T09:08:04.298Z"
   },
   {
    "duration": 12,
    "start_time": "2023-04-19T09:08:05.159Z"
   },
   {
    "duration": 9,
    "start_time": "2023-04-19T09:08:05.362Z"
   },
   {
    "duration": 3261,
    "start_time": "2023-04-19T09:08:06.455Z"
   },
   {
    "duration": 69,
    "start_time": "2023-04-19T09:08:41.912Z"
   },
   {
    "duration": 56,
    "start_time": "2023-04-19T09:08:49.660Z"
   },
   {
    "duration": 52,
    "start_time": "2023-04-19T09:09:02.361Z"
   },
   {
    "duration": 47,
    "start_time": "2023-04-19T09:09:18.311Z"
   },
   {
    "duration": 47,
    "start_time": "2023-04-19T09:09:32.911Z"
   },
   {
    "duration": 15041,
    "start_time": "2023-04-22T18:27:11.347Z"
   },
   {
    "duration": 1972,
    "start_time": "2023-04-22T18:27:26.390Z"
   },
   {
    "duration": 257,
    "start_time": "2023-04-22T18:27:28.364Z"
   },
   {
    "duration": 33,
    "start_time": "2023-04-22T18:27:28.623Z"
   },
   {
    "duration": 36294,
    "start_time": "2023-04-22T18:27:28.659Z"
   },
   {
    "duration": 123,
    "start_time": "2023-04-22T18:28:04.954Z"
   },
   {
    "duration": 99,
    "start_time": "2023-04-22T18:28:05.078Z"
   },
   {
    "duration": 85,
    "start_time": "2023-04-22T18:28:05.178Z"
   },
   {
    "duration": 6,
    "start_time": "2023-04-22T18:28:05.264Z"
   },
   {
    "duration": 72,
    "start_time": "2023-04-22T18:28:05.272Z"
   },
   {
    "duration": 21,
    "start_time": "2023-04-22T18:28:05.347Z"
   },
   {
    "duration": 68,
    "start_time": "2023-04-22T18:28:05.370Z"
   },
   {
    "duration": 24,
    "start_time": "2023-04-22T18:28:05.439Z"
   },
   {
    "duration": 9,
    "start_time": "2023-04-22T18:28:05.465Z"
   },
   {
    "duration": 19,
    "start_time": "2023-04-22T18:28:05.475Z"
   },
   {
    "duration": 18,
    "start_time": "2023-04-22T18:28:05.496Z"
   },
   {
    "duration": 118,
    "start_time": "2023-04-22T18:28:05.515Z"
   },
   {
    "duration": 6,
    "start_time": "2023-04-22T18:28:05.636Z"
   },
   {
    "duration": 31,
    "start_time": "2023-04-22T18:28:05.644Z"
   },
   {
    "duration": 5,
    "start_time": "2023-04-22T18:28:05.677Z"
   },
   {
    "duration": 164,
    "start_time": "2023-04-22T18:28:05.683Z"
   },
   {
    "duration": 4,
    "start_time": "2023-04-22T18:28:05.849Z"
   },
   {
    "duration": 13,
    "start_time": "2023-04-22T18:28:05.855Z"
   },
   {
    "duration": 24,
    "start_time": "2023-04-22T18:28:05.870Z"
   },
   {
    "duration": 29,
    "start_time": "2023-04-22T18:28:05.895Z"
   },
   {
    "duration": 27,
    "start_time": "2023-04-22T18:28:05.925Z"
   },
   {
    "duration": 6,
    "start_time": "2023-04-22T18:28:05.953Z"
   },
   {
    "duration": 6,
    "start_time": "2023-04-22T18:28:05.960Z"
   },
   {
    "duration": 9,
    "start_time": "2023-04-22T18:28:05.967Z"
   },
   {
    "duration": 22,
    "start_time": "2023-04-22T18:28:05.977Z"
   },
   {
    "duration": 5,
    "start_time": "2023-04-22T18:28:06.000Z"
   },
   {
    "duration": 18,
    "start_time": "2023-04-22T18:28:06.006Z"
   },
   {
    "duration": 22,
    "start_time": "2023-04-22T18:28:06.025Z"
   },
   {
    "duration": 18,
    "start_time": "2023-04-22T18:28:06.050Z"
   },
   {
    "duration": 3046,
    "start_time": "2023-04-22T18:28:06.069Z"
   },
   {
    "duration": 260,
    "start_time": "2023-04-22T18:28:09.117Z"
   },
   {
    "duration": 54,
    "start_time": "2023-04-22T18:29:48.500Z"
   },
   {
    "duration": 10,
    "start_time": "2023-04-22T18:33:10.172Z"
   },
   {
    "duration": 4,
    "start_time": "2023-04-22T18:33:16.204Z"
   },
   {
    "duration": 5,
    "start_time": "2023-04-22T18:33:25.760Z"
   },
   {
    "duration": 12,
    "start_time": "2023-04-22T18:33:28.684Z"
   },
   {
    "duration": 3,
    "start_time": "2023-04-22T18:33:31.171Z"
   },
   {
    "duration": 4,
    "start_time": "2023-04-22T18:33:39.430Z"
   },
   {
    "duration": 3,
    "start_time": "2023-04-22T18:36:52.469Z"
   },
   {
    "duration": 4,
    "start_time": "2023-04-22T18:37:09.660Z"
   },
   {
    "duration": 5,
    "start_time": "2023-04-22T18:37:20.192Z"
   },
   {
    "duration": 21,
    "start_time": "2023-04-22T18:37:23.757Z"
   },
   {
    "duration": 14,
    "start_time": "2023-04-22T18:38:09.853Z"
   },
   {
    "duration": 8,
    "start_time": "2023-04-22T18:38:24.564Z"
   },
   {
    "duration": 15,
    "start_time": "2023-04-22T18:38:31.223Z"
   },
   {
    "duration": 22,
    "start_time": "2023-04-22T18:38:44.660Z"
   },
   {
    "duration": 23,
    "start_time": "2023-04-22T18:39:09.911Z"
   },
   {
    "duration": 19,
    "start_time": "2023-04-22T18:39:14.825Z"
   },
   {
    "duration": 11,
    "start_time": "2023-04-22T18:39:48.276Z"
   },
   {
    "duration": 5,
    "start_time": "2023-04-22T18:39:52.770Z"
   },
   {
    "duration": 21,
    "start_time": "2023-04-22T18:40:12.031Z"
   },
   {
    "duration": 27,
    "start_time": "2023-04-22T18:40:20.152Z"
   },
   {
    "duration": 19,
    "start_time": "2023-04-22T18:41:20.382Z"
   },
   {
    "duration": 10,
    "start_time": "2023-04-22T18:41:27.469Z"
   },
   {
    "duration": 9,
    "start_time": "2023-04-22T18:41:35.700Z"
   },
   {
    "duration": 4,
    "start_time": "2023-04-22T18:42:51.207Z"
   },
   {
    "duration": 4,
    "start_time": "2023-04-22T18:42:59.550Z"
   },
   {
    "duration": 23,
    "start_time": "2023-04-22T18:43:16.551Z"
   },
   {
    "duration": 12,
    "start_time": "2023-04-22T18:43:30.293Z"
   },
   {
    "duration": 16,
    "start_time": "2023-04-22T18:43:31.568Z"
   },
   {
    "duration": 228,
    "start_time": "2023-04-22T18:44:04.501Z"
   },
   {
    "duration": 17,
    "start_time": "2023-04-22T18:44:28.791Z"
   },
   {
    "duration": 10,
    "start_time": "2023-04-22T18:45:01.078Z"
   },
   {
    "duration": 5,
    "start_time": "2023-04-22T18:45:09.813Z"
   },
   {
    "duration": 20,
    "start_time": "2023-04-22T18:45:14.185Z"
   },
   {
    "duration": 5,
    "start_time": "2023-04-22T18:45:18.325Z"
   },
   {
    "duration": 5,
    "start_time": "2023-04-22T18:46:58.719Z"
   },
   {
    "duration": 16,
    "start_time": "2023-04-22T18:46:59.782Z"
   },
   {
    "duration": 17,
    "start_time": "2023-04-22T18:47:00.366Z"
   },
   {
    "duration": 33,
    "start_time": "2023-04-22T18:47:03.123Z"
   },
   {
    "duration": 9,
    "start_time": "2023-04-22T18:47:38.394Z"
   },
   {
    "duration": 6,
    "start_time": "2023-04-22T18:47:43.368Z"
   },
   {
    "duration": 17,
    "start_time": "2023-04-22T18:47:47.974Z"
   },
   {
    "duration": 3,
    "start_time": "2023-04-22T18:48:00.374Z"
   },
   {
    "duration": 4,
    "start_time": "2023-04-22T18:48:07.182Z"
   },
   {
    "duration": 16,
    "start_time": "2023-04-22T18:48:36.192Z"
   },
   {
    "duration": 6,
    "start_time": "2023-04-22T18:48:45.253Z"
   },
   {
    "duration": 5,
    "start_time": "2023-04-22T18:48:49.860Z"
   },
   {
    "duration": 4,
    "start_time": "2023-04-22T18:48:52.606Z"
   },
   {
    "duration": 11,
    "start_time": "2023-04-22T18:49:10.795Z"
   },
   {
    "duration": 9,
    "start_time": "2023-04-22T18:49:11.136Z"
   },
   {
    "duration": 23,
    "start_time": "2023-04-22T18:49:11.804Z"
   },
   {
    "duration": 4,
    "start_time": "2023-04-22T18:49:23.715Z"
   },
   {
    "duration": 4,
    "start_time": "2023-04-22T18:49:26.476Z"
   },
   {
    "duration": 22,
    "start_time": "2023-04-22T18:52:13.564Z"
   },
   {
    "duration": 3,
    "start_time": "2023-04-22T18:53:41.566Z"
   },
   {
    "duration": 10061,
    "start_time": "2023-04-22T18:55:13.074Z"
   },
   {
    "duration": 170,
    "start_time": "2023-04-22T18:55:50.273Z"
   },
   {
    "duration": 26,
    "start_time": "2023-04-22T18:56:55.772Z"
   },
   {
    "duration": 2005,
    "start_time": "2023-04-22T19:00:07.877Z"
   },
   {
    "duration": 4,
    "start_time": "2023-04-22T19:00:18.645Z"
   },
   {
    "duration": 1801,
    "start_time": "2023-04-22T19:00:55.768Z"
   },
   {
    "duration": 2,
    "start_time": "2023-04-22T19:00:59.177Z"
   },
   {
    "duration": 34070,
    "start_time": "2023-04-22T19:01:08.909Z"
   },
   {
    "duration": 3,
    "start_time": "2023-04-22T19:01:42.981Z"
   },
   {
    "duration": 4,
    "start_time": "2023-04-22T19:01:57.748Z"
   },
   {
    "duration": 4,
    "start_time": "2023-04-22T19:02:30.871Z"
   },
   {
    "duration": 85,
    "start_time": "2023-04-22T19:03:01.587Z"
   },
   {
    "duration": 88,
    "start_time": "2023-04-22T19:03:09.901Z"
   },
   {
    "duration": 6,
    "start_time": "2023-04-22T19:03:25.927Z"
   },
   {
    "duration": 4,
    "start_time": "2023-04-22T19:05:33.575Z"
   },
   {
    "duration": 144,
    "start_time": "2023-04-22T19:05:33.815Z"
   },
   {
    "duration": 22,
    "start_time": "2023-04-22T19:06:28.723Z"
   },
   {
    "duration": 39,
    "start_time": "2023-04-22T19:06:44.057Z"
   },
   {
    "duration": 37,
    "start_time": "2023-04-22T19:06:52.231Z"
   },
   {
    "duration": 38,
    "start_time": "2023-04-22T19:07:37.778Z"
   },
   {
    "duration": 5,
    "start_time": "2023-04-22T19:07:56.125Z"
   },
   {
    "duration": 151,
    "start_time": "2023-04-22T19:08:00.479Z"
   },
   {
    "duration": 35,
    "start_time": "2023-04-22T19:10:34.121Z"
   },
   {
    "duration": 29,
    "start_time": "2023-04-22T19:10:41.864Z"
   },
   {
    "duration": 33,
    "start_time": "2023-04-22T19:10:46.275Z"
   },
   {
    "duration": 63,
    "start_time": "2023-04-22T19:11:00.838Z"
   },
   {
    "duration": 13,
    "start_time": "2023-04-22T19:11:06.810Z"
   },
   {
    "duration": 3,
    "start_time": "2023-04-22T19:12:03.996Z"
   },
   {
    "duration": 12,
    "start_time": "2023-04-22T19:12:28.013Z"
   },
   {
    "duration": 546,
    "start_time": "2023-04-22T19:12:35.480Z"
   },
   {
    "duration": 535,
    "start_time": "2023-04-22T19:12:49.584Z"
   },
   {
    "duration": 3,
    "start_time": "2023-04-22T19:12:54.712Z"
   },
   {
    "duration": 4,
    "start_time": "2023-04-22T19:13:01.245Z"
   },
   {
    "duration": 31,
    "start_time": "2023-04-22T19:13:53.583Z"
   },
   {
    "duration": 6,
    "start_time": "2023-04-22T19:14:48.336Z"
   },
   {
    "duration": 3,
    "start_time": "2023-04-22T19:15:49.627Z"
   },
   {
    "duration": 6,
    "start_time": "2023-04-22T19:15:49.800Z"
   },
   {
    "duration": 19,
    "start_time": "2023-04-22T19:15:49.978Z"
   },
   {
    "duration": 15,
    "start_time": "2023-04-22T19:15:50.181Z"
   },
   {
    "duration": 29,
    "start_time": "2023-04-22T19:15:50.388Z"
   },
   {
    "duration": 13,
    "start_time": "2023-04-22T19:15:50.582Z"
   },
   {
    "duration": 8,
    "start_time": "2023-04-22T19:15:50.785Z"
   },
   {
    "duration": 27,
    "start_time": "2023-04-22T19:15:50.979Z"
   },
   {
    "duration": 357,
    "start_time": "2023-04-22T19:15:51.180Z"
   },
   {
    "duration": 47600,
    "start_time": "2023-04-22T19:15:51.540Z"
   },
   {
    "duration": 4,
    "start_time": "2023-04-22T19:16:39.145Z"
   },
   {
    "duration": 172,
    "start_time": "2023-04-22T19:16:39.151Z"
   },
   {
    "duration": 812,
    "start_time": "2023-04-22T19:16:39.324Z"
   },
   {
    "duration": 45,
    "start_time": "2023-04-22T19:16:40.138Z"
   },
   {
    "duration": 903,
    "start_time": "2023-04-22T19:17:14.589Z"
   },
   {
    "duration": 12516,
    "start_time": "2023-04-22T19:17:26.393Z"
   },
   {
    "duration": 5,
    "start_time": "2023-04-22T19:17:49.256Z"
   },
   {
    "duration": 715,
    "start_time": "2023-04-22T19:18:12.360Z"
   },
   {
    "duration": 750,
    "start_time": "2023-04-22T19:29:41.059Z"
   },
   {
    "duration": 4,
    "start_time": "2023-04-22T19:31:21.053Z"
   },
   {
    "duration": 728,
    "start_time": "2023-04-22T19:31:33.757Z"
   },
   {
    "duration": 713,
    "start_time": "2023-04-22T19:31:54.780Z"
   },
   {
    "duration": 4,
    "start_time": "2023-04-22T19:33:44.911Z"
   },
   {
    "duration": 854,
    "start_time": "2023-04-22T19:33:45.269Z"
   },
   {
    "duration": 2,
    "start_time": "2023-04-22T19:35:34.330Z"
   },
   {
    "duration": 27,
    "start_time": "2023-04-22T19:35:37.459Z"
   },
   {
    "duration": 6,
    "start_time": "2023-04-22T19:37:25.446Z"
   },
   {
    "duration": 8,
    "start_time": "2023-04-22T19:37:43.753Z"
   },
   {
    "duration": 16,
    "start_time": "2023-04-22T19:37:46.857Z"
   },
   {
    "duration": 13,
    "start_time": "2023-04-22T19:37:51.115Z"
   },
   {
    "duration": 756,
    "start_time": "2023-04-22T19:38:11.320Z"
   },
   {
    "duration": 757,
    "start_time": "2023-04-22T19:38:52.060Z"
   },
   {
    "duration": 36,
    "start_time": "2023-04-22T19:39:03.540Z"
   },
   {
    "duration": 8,
    "start_time": "2023-04-22T19:39:04.603Z"
   },
   {
    "duration": 4,
    "start_time": "2023-04-22T19:39:06.406Z"
   },
   {
    "duration": 27,
    "start_time": "2023-04-22T19:39:06.778Z"
   },
   {
    "duration": 21,
    "start_time": "2023-04-22T19:39:07.104Z"
   },
   {
    "duration": 7,
    "start_time": "2023-04-22T19:39:13.613Z"
   },
   {
    "duration": 3,
    "start_time": "2023-04-22T19:39:13.806Z"
   },
   {
    "duration": 3,
    "start_time": "2023-04-22T19:39:14.029Z"
   },
   {
    "duration": 3,
    "start_time": "2023-04-22T19:39:14.388Z"
   },
   {
    "duration": 32,
    "start_time": "2023-04-22T19:39:14.777Z"
   },
   {
    "duration": 7,
    "start_time": "2023-04-22T19:39:15.181Z"
   },
   {
    "duration": 6,
    "start_time": "2023-04-22T19:39:19.445Z"
   },
   {
    "duration": 26,
    "start_time": "2023-04-22T19:39:19.780Z"
   },
   {
    "duration": 144,
    "start_time": "2023-04-22T19:39:32.732Z"
   },
   {
    "duration": 43,
    "start_time": "2023-04-22T19:39:35.881Z"
   },
   {
    "duration": 24,
    "start_time": "2023-04-22T19:39:36.341Z"
   },
   {
    "duration": 7,
    "start_time": "2023-04-22T19:39:36.560Z"
   },
   {
    "duration": 24,
    "start_time": "2023-04-22T19:39:37.736Z"
   },
   {
    "duration": 5,
    "start_time": "2023-04-22T19:39:38.285Z"
   },
   {
    "duration": 29,
    "start_time": "2023-04-22T19:39:40.653Z"
   },
   {
    "duration": 22,
    "start_time": "2023-04-22T19:39:40.957Z"
   },
   {
    "duration": 5,
    "start_time": "2023-04-22T19:39:41.200Z"
   },
   {
    "duration": 6,
    "start_time": "2023-04-22T19:39:41.803Z"
   },
   {
    "duration": 8,
    "start_time": "2023-04-22T19:39:42.031Z"
   },
   {
    "duration": 108,
    "start_time": "2023-04-22T19:39:42.676Z"
   },
   {
    "duration": 4,
    "start_time": "2023-04-22T19:39:42.958Z"
   },
   {
    "duration": 9,
    "start_time": "2023-04-22T19:39:43.243Z"
   },
   {
    "duration": 6,
    "start_time": "2023-04-22T19:39:44.223Z"
   },
   {
    "duration": 186,
    "start_time": "2023-04-22T19:39:44.625Z"
   },
   {
    "duration": 5,
    "start_time": "2023-04-22T19:39:45.103Z"
   },
   {
    "duration": 9,
    "start_time": "2023-04-22T19:39:45.500Z"
   },
   {
    "duration": 8,
    "start_time": "2023-04-22T19:39:45.846Z"
   },
   {
    "duration": 26,
    "start_time": "2023-04-22T19:39:48.300Z"
   },
   {
    "duration": 6,
    "start_time": "2023-04-22T19:39:53.529Z"
   },
   {
    "duration": 3,
    "start_time": "2023-04-22T19:39:53.785Z"
   },
   {
    "duration": 4,
    "start_time": "2023-04-22T19:39:54.014Z"
   },
   {
    "duration": 3,
    "start_time": "2023-04-22T19:39:54.211Z"
   },
   {
    "duration": 18,
    "start_time": "2023-04-22T19:39:54.433Z"
   },
   {
    "duration": 5,
    "start_time": "2023-04-22T19:39:54.822Z"
   },
   {
    "duration": 4,
    "start_time": "2023-04-22T19:39:55.262Z"
   },
   {
    "duration": 13,
    "start_time": "2023-04-22T19:39:55.842Z"
   },
   {
    "duration": 9,
    "start_time": "2023-04-22T19:39:57.269Z"
   },
   {
    "duration": 2750,
    "start_time": "2023-04-22T19:39:58.279Z"
   },
   {
    "duration": 49,
    "start_time": "2023-04-22T19:40:01.053Z"
   },
   {
    "duration": 5,
    "start_time": "2023-04-22T19:40:09.712Z"
   },
   {
    "duration": 3,
    "start_time": "2023-04-22T19:40:58.754Z"
   },
   {
    "duration": 6,
    "start_time": "2023-04-22T19:41:00.643Z"
   },
   {
    "duration": 27,
    "start_time": "2023-04-22T19:41:01.250Z"
   },
   {
    "duration": 21,
    "start_time": "2023-04-22T19:41:14.307Z"
   },
   {
    "duration": 31,
    "start_time": "2023-04-22T19:41:14.683Z"
   },
   {
    "duration": 24,
    "start_time": "2023-04-22T19:41:28.171Z"
   },
   {
    "duration": 10,
    "start_time": "2023-04-22T19:41:30.030Z"
   },
   {
    "duration": 6,
    "start_time": "2023-04-22T19:41:30.899Z"
   },
   {
    "duration": 22,
    "start_time": "2023-04-22T19:41:31.347Z"
   },
   {
    "duration": 233,
    "start_time": "2023-04-22T19:41:32.011Z"
   },
   {
    "duration": 34883,
    "start_time": "2023-04-22T19:41:37.204Z"
   },
   {
    "duration": 3,
    "start_time": "2023-04-22T19:42:12.089Z"
   },
   {
    "duration": 719,
    "start_time": "2023-04-22T19:42:21.984Z"
   },
   {
    "duration": 11344,
    "start_time": "2023-04-22T19:42:25.002Z"
   },
   {
    "duration": 4,
    "start_time": "2023-04-22T19:42:43.155Z"
   },
   {
    "duration": 20,
    "start_time": "2023-04-22T19:43:20.130Z"
   },
   {
    "duration": 28,
    "start_time": "2023-04-22T19:43:20.448Z"
   },
   {
    "duration": 3,
    "start_time": "2023-04-22T19:43:29.099Z"
   },
   {
    "duration": 4,
    "start_time": "2023-04-22T19:43:29.339Z"
   },
   {
    "duration": 17,
    "start_time": "2023-04-22T19:43:29.522Z"
   },
   {
    "duration": 13,
    "start_time": "2023-04-22T19:43:31.781Z"
   },
   {
    "duration": 23,
    "start_time": "2023-04-22T19:43:32.703Z"
   },
   {
    "duration": 10,
    "start_time": "2023-04-22T19:43:33.317Z"
   },
   {
    "duration": 7,
    "start_time": "2023-04-22T19:43:33.782Z"
   },
   {
    "duration": 21,
    "start_time": "2023-04-22T19:43:34.201Z"
   },
   {
    "duration": 215,
    "start_time": "2023-04-22T19:43:34.633Z"
   },
   {
    "duration": 117,
    "start_time": "2023-04-22T19:43:41.545Z"
   },
   {
    "duration": 3,
    "start_time": "2023-04-22T19:43:50.024Z"
   },
   {
    "duration": 5,
    "start_time": "2023-04-22T19:43:50.320Z"
   },
   {
    "duration": 22,
    "start_time": "2023-04-22T19:43:50.521Z"
   },
   {
    "duration": 19,
    "start_time": "2023-04-22T19:43:50.929Z"
   },
   {
    "duration": 29,
    "start_time": "2023-04-22T19:43:51.399Z"
   },
   {
    "duration": 11,
    "start_time": "2023-04-22T19:43:51.932Z"
   },
   {
    "duration": 7,
    "start_time": "2023-04-22T19:43:52.310Z"
   },
   {
    "duration": 22,
    "start_time": "2023-04-22T19:43:53.147Z"
   },
   {
    "duration": 223,
    "start_time": "2023-04-22T19:43:55.314Z"
   },
   {
    "duration": 26,
    "start_time": "2023-04-22T19:44:45.231Z"
   },
   {
    "duration": 3,
    "start_time": "2023-04-22T19:45:17.576Z"
   },
   {
    "duration": 6,
    "start_time": "2023-04-22T19:45:17.759Z"
   },
   {
    "duration": 22,
    "start_time": "2023-04-22T19:45:17.976Z"
   },
   {
    "duration": 21,
    "start_time": "2023-04-22T19:45:18.511Z"
   },
   {
    "duration": 24,
    "start_time": "2023-04-22T19:45:19.009Z"
   },
   {
    "duration": 11,
    "start_time": "2023-04-22T19:45:19.755Z"
   },
   {
    "duration": 6,
    "start_time": "2023-04-22T19:45:20.875Z"
   },
   {
    "duration": 14,
    "start_time": "2023-04-22T19:45:21.444Z"
   },
   {
    "duration": 25,
    "start_time": "2023-04-22T19:45:23.881Z"
   },
   {
    "duration": 275,
    "start_time": "2023-04-22T19:45:30.961Z"
   },
   {
    "duration": 38073,
    "start_time": "2023-04-22T19:45:35.808Z"
   },
   {
    "duration": 4,
    "start_time": "2023-04-22T19:46:13.883Z"
   },
   {
    "duration": 1176,
    "start_time": "2023-04-22T19:46:13.889Z"
   },
   {
    "duration": 15727,
    "start_time": "2023-04-22T19:46:15.068Z"
   },
   {
    "duration": 4,
    "start_time": "2023-04-22T19:46:30.797Z"
   },
   {
    "duration": 18,
    "start_time": "2023-04-22T19:48:15.010Z"
   },
   {
    "duration": 23,
    "start_time": "2023-04-22T19:48:15.331Z"
   },
   {
    "duration": 3,
    "start_time": "2023-04-22T19:48:48.583Z"
   },
   {
    "duration": 5,
    "start_time": "2023-04-22T19:48:48.948Z"
   },
   {
    "duration": 14,
    "start_time": "2023-04-22T19:48:49.344Z"
   },
   {
    "duration": 15,
    "start_time": "2023-04-22T19:48:50.053Z"
   },
   {
    "duration": 23,
    "start_time": "2023-04-22T19:49:10.786Z"
   },
   {
    "duration": 31,
    "start_time": "2023-04-22T19:49:11.557Z"
   },
   {
    "duration": 10,
    "start_time": "2023-04-22T19:49:16.537Z"
   },
   {
    "duration": 6,
    "start_time": "2023-04-22T19:49:16.885Z"
   },
   {
    "duration": 16,
    "start_time": "2023-04-22T19:49:17.469Z"
   },
   {
    "duration": 21,
    "start_time": "2023-04-22T19:49:19.084Z"
   },
   {
    "duration": 138,
    "start_time": "2023-04-22T19:49:20.403Z"
   },
   {
    "duration": 3,
    "start_time": "2023-04-22T19:50:01.434Z"
   },
   {
    "duration": 5,
    "start_time": "2023-04-22T19:50:01.612Z"
   },
   {
    "duration": 22,
    "start_time": "2023-04-22T19:50:01.806Z"
   },
   {
    "duration": 28,
    "start_time": "2023-04-22T19:50:02.260Z"
   },
   {
    "duration": 30,
    "start_time": "2023-04-22T19:50:03.324Z"
   },
   {
    "duration": 14,
    "start_time": "2023-04-22T19:50:03.518Z"
   },
   {
    "duration": 7,
    "start_time": "2023-04-22T19:50:03.707Z"
   },
   {
    "duration": 20,
    "start_time": "2023-04-22T19:50:03.908Z"
   },
   {
    "duration": 23,
    "start_time": "2023-04-22T19:50:04.142Z"
   },
   {
    "duration": 173,
    "start_time": "2023-04-22T19:50:04.375Z"
   },
   {
    "duration": 6,
    "start_time": "2023-04-22T19:50:31.949Z"
   },
   {
    "duration": 18,
    "start_time": "2023-04-22T19:50:32.115Z"
   },
   {
    "duration": 21,
    "start_time": "2023-04-22T19:50:32.870Z"
   },
   {
    "duration": 22,
    "start_time": "2023-04-22T19:50:33.461Z"
   },
   {
    "duration": 14,
    "start_time": "2023-04-22T19:50:38.317Z"
   },
   {
    "duration": 6,
    "start_time": "2023-04-22T19:50:38.504Z"
   },
   {
    "duration": 15,
    "start_time": "2023-04-22T19:50:38.984Z"
   },
   {
    "duration": 20,
    "start_time": "2023-04-22T19:50:39.364Z"
   },
   {
    "duration": 188,
    "start_time": "2023-04-22T19:50:40.353Z"
   },
   {
    "duration": 39384,
    "start_time": "2023-04-22T19:50:43.510Z"
   },
   {
    "duration": 3,
    "start_time": "2023-04-22T19:51:22.896Z"
   },
   {
    "duration": 347,
    "start_time": "2023-04-22T19:51:22.901Z"
   },
   {
    "duration": 4137,
    "start_time": "2023-04-22T19:51:23.251Z"
   },
   {
    "duration": 4,
    "start_time": "2023-04-22T19:51:27.389Z"
   },
   {
    "duration": 5,
    "start_time": "2023-04-22T19:53:35.600Z"
   },
   {
    "duration": 3,
    "start_time": "2023-04-22T19:54:29.883Z"
   },
   {
    "duration": 6,
    "start_time": "2023-04-22T19:54:30.275Z"
   },
   {
    "duration": 19,
    "start_time": "2023-04-22T19:54:30.708Z"
   },
   {
    "duration": 35,
    "start_time": "2023-04-22T19:54:31.207Z"
   },
   {
    "duration": 22,
    "start_time": "2023-04-22T19:54:31.628Z"
   },
   {
    "duration": 13,
    "start_time": "2023-04-22T19:54:37.305Z"
   },
   {
    "duration": 8,
    "start_time": "2023-04-22T19:54:37.808Z"
   },
   {
    "duration": 15,
    "start_time": "2023-04-22T19:54:38.184Z"
   },
   {
    "duration": 19,
    "start_time": "2023-04-22T19:54:38.547Z"
   },
   {
    "duration": 291,
    "start_time": "2023-04-22T19:54:41.250Z"
   },
   {
    "duration": 45288,
    "start_time": "2023-04-22T19:54:44.378Z"
   },
   {
    "duration": 3,
    "start_time": "2023-04-22T19:55:29.668Z"
   },
   {
    "duration": 148,
    "start_time": "2023-04-22T19:55:29.673Z"
   },
   {
    "duration": 724,
    "start_time": "2023-04-22T19:55:29.823Z"
   },
   {
    "duration": 5,
    "start_time": "2023-04-22T19:55:30.548Z"
   },
   {
    "duration": 3,
    "start_time": "2023-04-22T19:56:50.398Z"
   },
   {
    "duration": 5,
    "start_time": "2023-04-22T19:56:50.551Z"
   },
   {
    "duration": 15,
    "start_time": "2023-04-22T19:56:50.724Z"
   },
   {
    "duration": 32,
    "start_time": "2023-04-22T19:56:50.905Z"
   },
   {
    "duration": 23,
    "start_time": "2023-04-22T19:56:51.401Z"
   },
   {
    "duration": 13,
    "start_time": "2023-04-22T19:56:52.488Z"
   },
   {
    "duration": 6,
    "start_time": "2023-04-22T19:56:52.688Z"
   },
   {
    "duration": 14,
    "start_time": "2023-04-22T19:56:52.878Z"
   },
   {
    "duration": 19,
    "start_time": "2023-04-22T19:56:53.478Z"
   },
   {
    "duration": 212,
    "start_time": "2023-04-22T19:56:54.564Z"
   },
   {
    "duration": 41712,
    "start_time": "2023-04-22T19:56:57.547Z"
   },
   {
    "duration": 3,
    "start_time": "2023-04-22T19:57:39.261Z"
   },
   {
    "duration": 583,
    "start_time": "2023-04-22T19:57:39.266Z"
   },
   {
    "duration": 8957,
    "start_time": "2023-04-22T19:57:39.851Z"
   },
   {
    "duration": 4,
    "start_time": "2023-04-22T19:57:48.810Z"
   },
   {
    "duration": 3,
    "start_time": "2023-04-22T19:59:36.740Z"
   },
   {
    "duration": 6,
    "start_time": "2023-04-22T19:59:36.905Z"
   },
   {
    "duration": 16,
    "start_time": "2023-04-22T19:59:37.083Z"
   },
   {
    "duration": 28,
    "start_time": "2023-04-22T19:59:37.286Z"
   },
   {
    "duration": 22,
    "start_time": "2023-04-22T19:59:37.504Z"
   },
   {
    "duration": 12,
    "start_time": "2023-04-22T19:59:37.676Z"
   },
   {
    "duration": 6,
    "start_time": "2023-04-22T19:59:37.834Z"
   },
   {
    "duration": 19,
    "start_time": "2023-04-22T19:59:38.017Z"
   },
   {
    "duration": 21,
    "start_time": "2023-04-22T19:59:38.412Z"
   },
   {
    "duration": 164,
    "start_time": "2023-04-22T19:59:39.679Z"
   },
   {
    "duration": 14,
    "start_time": "2023-04-22T19:59:54.941Z"
   },
   {
    "duration": 20,
    "start_time": "2023-04-22T19:59:55.095Z"
   },
   {
    "duration": 17,
    "start_time": "2023-04-22T19:59:55.280Z"
   },
   {
    "duration": 7,
    "start_time": "2023-04-22T19:59:55.480Z"
   },
   {
    "duration": 15,
    "start_time": "2023-04-22T19:59:56.094Z"
   },
   {
    "duration": 21,
    "start_time": "2023-04-22T19:59:56.619Z"
   },
   {
    "duration": 165,
    "start_time": "2023-04-22T19:59:57.778Z"
   },
   {
    "duration": 5,
    "start_time": "2023-04-22T20:00:06.326Z"
   },
   {
    "duration": 17,
    "start_time": "2023-04-22T20:00:06.482Z"
   },
   {
    "duration": 33,
    "start_time": "2023-04-22T20:00:06.652Z"
   },
   {
    "duration": 22,
    "start_time": "2023-04-22T20:00:07.321Z"
   },
   {
    "duration": 13,
    "start_time": "2023-04-22T20:00:07.508Z"
   },
   {
    "duration": 7,
    "start_time": "2023-04-22T20:00:07.688Z"
   },
   {
    "duration": 16,
    "start_time": "2023-04-22T20:00:07.872Z"
   },
   {
    "duration": 22,
    "start_time": "2023-04-22T20:00:08.080Z"
   },
   {
    "duration": 336,
    "start_time": "2023-04-22T20:00:08.302Z"
   },
   {
    "duration": 2,
    "start_time": "2023-04-22T20:00:52.010Z"
   },
   {
    "duration": 5,
    "start_time": "2023-04-22T20:00:52.232Z"
   },
   {
    "duration": 17,
    "start_time": "2023-04-22T20:00:52.576Z"
   },
   {
    "duration": 32,
    "start_time": "2023-04-22T20:00:52.991Z"
   },
   {
    "duration": 22,
    "start_time": "2023-04-22T20:00:53.812Z"
   },
   {
    "duration": 12,
    "start_time": "2023-04-22T20:00:54.689Z"
   },
   {
    "duration": 6,
    "start_time": "2023-04-22T20:00:55.488Z"
   },
   {
    "duration": 14,
    "start_time": "2023-04-22T20:00:55.776Z"
   },
   {
    "duration": 19,
    "start_time": "2023-04-22T20:00:55.993Z"
   },
   {
    "duration": 335,
    "start_time": "2023-04-22T20:00:56.200Z"
   },
   {
    "duration": 23699,
    "start_time": "2023-04-22T20:00:56.646Z"
   },
   {
    "duration": 256370,
    "start_time": "2023-04-22T20:01:21.555Z"
   },
   {
    "duration": 0,
    "start_time": "2023-04-22T20:05:37.934Z"
   },
   {
    "duration": 3,
    "start_time": "2023-04-22T20:05:40.800Z"
   },
   {
    "duration": 173,
    "start_time": "2023-04-22T20:05:46.714Z"
   },
   {
    "duration": 779,
    "start_time": "2023-04-22T20:05:49.479Z"
   },
   {
    "duration": 4,
    "start_time": "2023-04-22T20:05:52.807Z"
   },
   {
    "duration": 39,
    "start_time": "2023-04-22T20:06:06.509Z"
   },
   {
    "duration": 114,
    "start_time": "2023-04-22T20:06:56.325Z"
   },
   {
    "duration": 6,
    "start_time": "2023-04-22T20:09:29.241Z"
   },
   {
    "duration": 6,
    "start_time": "2023-04-22T20:09:51.523Z"
   },
   {
    "duration": 10,
    "start_time": "2023-04-22T20:10:10.982Z"
   },
   {
    "duration": 7,
    "start_time": "2023-04-22T20:10:20.318Z"
   },
   {
    "duration": 8,
    "start_time": "2023-04-22T20:10:25.623Z"
   },
   {
    "duration": 7,
    "start_time": "2023-04-22T20:10:29.979Z"
   },
   {
    "duration": 3,
    "start_time": "2023-04-22T20:11:01.079Z"
   },
   {
    "duration": 5,
    "start_time": "2023-04-22T20:11:01.242Z"
   },
   {
    "duration": 16,
    "start_time": "2023-04-22T20:11:01.414Z"
   },
   {
    "duration": 30,
    "start_time": "2023-04-22T20:11:01.581Z"
   },
   {
    "duration": 24,
    "start_time": "2023-04-22T20:11:01.756Z"
   },
   {
    "duration": 12,
    "start_time": "2023-04-22T20:11:01.934Z"
   },
   {
    "duration": 8,
    "start_time": "2023-04-22T20:11:02.111Z"
   },
   {
    "duration": 18,
    "start_time": "2023-04-22T20:11:02.311Z"
   },
   {
    "duration": 30,
    "start_time": "2023-04-22T20:11:02.481Z"
   },
   {
    "duration": 377,
    "start_time": "2023-04-22T20:11:02.658Z"
   },
   {
    "duration": 3,
    "start_time": "2023-04-22T20:11:35.037Z"
   },
   {
    "duration": 6,
    "start_time": "2023-04-22T20:11:35.182Z"
   },
   {
    "duration": 20,
    "start_time": "2023-04-22T20:11:35.357Z"
   },
   {
    "duration": 27,
    "start_time": "2023-04-22T20:11:35.523Z"
   },
   {
    "duration": 25,
    "start_time": "2023-04-22T20:11:35.716Z"
   },
   {
    "duration": 11,
    "start_time": "2023-04-22T20:11:35.874Z"
   },
   {
    "duration": 7,
    "start_time": "2023-04-22T20:11:36.048Z"
   },
   {
    "duration": 21,
    "start_time": "2023-04-22T20:11:36.224Z"
   },
   {
    "duration": 20,
    "start_time": "2023-04-22T20:11:36.615Z"
   },
   {
    "duration": 222,
    "start_time": "2023-04-22T20:11:38.117Z"
   },
   {
    "duration": 41736,
    "start_time": "2023-04-22T20:11:46.513Z"
   },
   {
    "duration": 3,
    "start_time": "2023-04-22T20:12:28.251Z"
   },
   {
    "duration": 489,
    "start_time": "2023-04-22T20:12:28.256Z"
   },
   {
    "duration": 6982,
    "start_time": "2023-04-22T20:12:28.747Z"
   },
   {
    "duration": 4,
    "start_time": "2023-04-22T20:12:35.731Z"
   },
   {
    "duration": 31,
    "start_time": "2023-04-22T20:12:35.736Z"
   },
   {
    "duration": 415,
    "start_time": "2023-04-22T20:14:30.259Z"
   },
   {
    "duration": 4,
    "start_time": "2023-04-22T20:14:34.446Z"
   },
   {
    "duration": 421,
    "start_time": "2023-04-22T20:14:35.181Z"
   },
   {
    "duration": 5,
    "start_time": "2023-04-22T20:14:43.746Z"
   },
   {
    "duration": 1377,
    "start_time": "2023-04-22T20:14:44.854Z"
   },
   {
    "duration": 3,
    "start_time": "2023-04-22T20:15:30.358Z"
   },
   {
    "duration": 6,
    "start_time": "2023-04-22T20:15:30.577Z"
   },
   {
    "duration": 23,
    "start_time": "2023-04-22T20:15:30.756Z"
   },
   {
    "duration": 27,
    "start_time": "2023-04-22T20:15:31.173Z"
   },
   {
    "duration": 22,
    "start_time": "2023-04-22T20:15:31.369Z"
   },
   {
    "duration": 11,
    "start_time": "2023-04-22T20:15:31.631Z"
   },
   {
    "duration": 8,
    "start_time": "2023-04-22T20:15:31.824Z"
   },
   {
    "duration": 17,
    "start_time": "2023-04-22T20:15:32.041Z"
   },
   {
    "duration": 21,
    "start_time": "2023-04-22T20:15:32.337Z"
   },
   {
    "duration": 194,
    "start_time": "2023-04-22T20:15:33.449Z"
   },
   {
    "duration": 39153,
    "start_time": "2023-04-22T20:15:35.005Z"
   },
   {
    "duration": 4,
    "start_time": "2023-04-22T20:16:14.160Z"
   },
   {
    "duration": 423,
    "start_time": "2023-04-22T20:16:14.166Z"
   },
   {
    "duration": 4820,
    "start_time": "2023-04-22T20:16:14.591Z"
   },
   {
    "duration": 4,
    "start_time": "2023-04-22T20:16:19.413Z"
   },
   {
    "duration": 18,
    "start_time": "2023-04-22T20:16:19.418Z"
   },
   {
    "duration": 263,
    "start_time": "2023-04-22T20:16:19.438Z"
   },
   {
    "duration": 3,
    "start_time": "2023-04-22T20:16:19.703Z"
   },
   {
    "duration": 274,
    "start_time": "2023-04-22T20:16:19.707Z"
   },
   {
    "duration": 4,
    "start_time": "2023-04-22T20:16:19.983Z"
   },
   {
    "duration": 1110,
    "start_time": "2023-04-22T20:16:19.988Z"
   },
   {
    "duration": 15660,
    "start_time": "2023-04-23T13:49:00.869Z"
   },
   {
    "duration": 2538,
    "start_time": "2023-04-23T13:49:16.533Z"
   },
   {
    "duration": 333,
    "start_time": "2023-04-23T13:49:19.074Z"
   },
   {
    "duration": 30,
    "start_time": "2023-04-23T13:49:19.409Z"
   },
   {
    "duration": 42882,
    "start_time": "2023-04-23T13:49:19.443Z"
   },
   {
    "duration": 169,
    "start_time": "2023-04-23T13:50:02.327Z"
   },
   {
    "duration": 122,
    "start_time": "2023-04-23T13:50:02.498Z"
   },
   {
    "duration": 83,
    "start_time": "2023-04-23T13:50:02.623Z"
   },
   {
    "duration": 10,
    "start_time": "2023-04-23T13:50:02.708Z"
   },
   {
    "duration": 89,
    "start_time": "2023-04-23T13:50:02.719Z"
   },
   {
    "duration": 14,
    "start_time": "2023-04-23T13:50:02.811Z"
   },
   {
    "duration": 77,
    "start_time": "2023-04-23T13:50:02.827Z"
   },
   {
    "duration": 20,
    "start_time": "2023-04-23T13:50:02.906Z"
   },
   {
    "duration": 23,
    "start_time": "2023-04-23T13:50:02.929Z"
   },
   {
    "duration": 27,
    "start_time": "2023-04-23T13:50:02.954Z"
   },
   {
    "duration": 39,
    "start_time": "2023-04-23T13:50:02.982Z"
   },
   {
    "duration": 181,
    "start_time": "2023-04-23T13:50:03.024Z"
   },
   {
    "duration": 7,
    "start_time": "2023-04-23T13:50:03.207Z"
   },
   {
    "duration": 13,
    "start_time": "2023-04-23T13:50:03.216Z"
   },
   {
    "duration": 33,
    "start_time": "2023-04-23T13:50:03.230Z"
   },
   {
    "duration": 190,
    "start_time": "2023-04-23T13:50:03.266Z"
   },
   {
    "duration": 6,
    "start_time": "2023-04-23T13:50:03.458Z"
   },
   {
    "duration": 36,
    "start_time": "2023-04-23T13:50:03.466Z"
   },
   {
    "duration": 14,
    "start_time": "2023-04-23T13:50:03.504Z"
   },
   {
    "duration": 32,
    "start_time": "2023-04-23T13:50:03.519Z"
   },
   {
    "duration": 7,
    "start_time": "2023-04-23T13:50:03.552Z"
   },
   {
    "duration": 7,
    "start_time": "2023-04-23T13:50:03.561Z"
   },
   {
    "duration": 5,
    "start_time": "2023-04-23T13:50:03.588Z"
   },
   {
    "duration": 17,
    "start_time": "2023-04-23T13:50:03.601Z"
   },
   {
    "duration": 32,
    "start_time": "2023-04-23T13:50:03.619Z"
   },
   {
    "duration": 24,
    "start_time": "2023-04-23T13:50:03.653Z"
   },
   {
    "duration": 16,
    "start_time": "2023-04-23T13:50:03.679Z"
   },
   {
    "duration": 26,
    "start_time": "2023-04-23T13:50:03.697Z"
   },
   {
    "duration": 12,
    "start_time": "2023-04-23T13:50:03.724Z"
   },
   {
    "duration": 3479,
    "start_time": "2023-04-23T13:50:03.738Z"
   },
   {
    "duration": 135,
    "start_time": "2023-04-23T13:50:07.219Z"
   },
   {
    "duration": 6,
    "start_time": "2023-04-23T13:50:07.356Z"
   },
   {
    "duration": 13,
    "start_time": "2023-04-23T13:50:07.363Z"
   },
   {
    "duration": 3,
    "start_time": "2023-04-23T13:50:07.389Z"
   },
   {
    "duration": 9,
    "start_time": "2023-04-23T13:50:07.395Z"
   },
   {
    "duration": 25,
    "start_time": "2023-04-23T13:50:07.408Z"
   },
   {
    "duration": 40,
    "start_time": "2023-04-23T13:50:07.435Z"
   },
   {
    "duration": 54,
    "start_time": "2023-04-23T13:50:07.478Z"
   },
   {
    "duration": 11,
    "start_time": "2023-04-23T13:50:07.534Z"
   },
   {
    "duration": 7,
    "start_time": "2023-04-23T13:50:07.547Z"
   },
   {
    "duration": 53,
    "start_time": "2023-04-23T13:50:07.556Z"
   },
   {
    "duration": 23,
    "start_time": "2023-04-23T13:50:07.611Z"
   },
   {
    "duration": 273,
    "start_time": "2023-04-23T13:50:07.636Z"
   },
   {
    "duration": 47785,
    "start_time": "2023-04-23T13:50:07.912Z"
   },
   {
    "duration": 3,
    "start_time": "2023-04-23T13:50:55.698Z"
   },
   {
    "duration": 157,
    "start_time": "2023-04-23T13:50:55.705Z"
   },
   {
    "duration": 554,
    "start_time": "2023-04-23T13:50:55.864Z"
   },
   {
    "duration": 4,
    "start_time": "2023-04-23T13:50:56.420Z"
   },
   {
    "duration": 16,
    "start_time": "2023-04-23T13:50:56.426Z"
   },
   {
    "duration": 56,
    "start_time": "2023-04-23T13:50:56.444Z"
   },
   {
    "duration": 6,
    "start_time": "2023-04-23T13:50:56.506Z"
   },
   {
    "duration": 53,
    "start_time": "2023-04-23T13:50:56.514Z"
   },
   {
    "duration": 6,
    "start_time": "2023-04-23T13:50:56.569Z"
   },
   {
    "duration": 1426,
    "start_time": "2023-04-23T13:50:56.576Z"
   },
   {
    "duration": 26,
    "start_time": "2023-04-23T13:52:44.402Z"
   },
   {
    "duration": 15,
    "start_time": "2023-04-23T13:53:15.203Z"
   },
   {
    "duration": 66,
    "start_time": "2023-04-23T13:53:30.663Z"
   },
   {
    "duration": 50,
    "start_time": "2023-04-23T13:54:50.895Z"
   },
   {
    "duration": 35,
    "start_time": "2023-04-23T13:55:01.928Z"
   },
   {
    "duration": 28,
    "start_time": "2023-04-23T13:55:21.221Z"
   },
   {
    "duration": 31,
    "start_time": "2023-04-23T13:55:24.428Z"
   },
   {
    "duration": 31,
    "start_time": "2023-04-23T13:55:39.330Z"
   },
   {
    "duration": 4,
    "start_time": "2023-04-23T13:56:34.511Z"
   },
   {
    "duration": 8,
    "start_time": "2023-04-23T13:56:35.212Z"
   },
   {
    "duration": 36,
    "start_time": "2023-04-23T13:56:35.648Z"
   },
   {
    "duration": 31,
    "start_time": "2023-04-23T13:56:36.258Z"
   },
   {
    "duration": 3,
    "start_time": "2023-04-23T13:56:46.248Z"
   },
   {
    "duration": 9,
    "start_time": "2023-04-23T13:56:46.432Z"
   },
   {
    "duration": 23,
    "start_time": "2023-04-23T13:56:46.635Z"
   },
   {
    "duration": 64,
    "start_time": "2023-04-23T13:56:47.196Z"
   },
   {
    "duration": 26,
    "start_time": "2023-04-23T13:56:48.152Z"
   },
   {
    "duration": 31,
    "start_time": "2023-04-23T13:56:49.218Z"
   },
   {
    "duration": 8,
    "start_time": "2023-04-23T13:56:49.592Z"
   },
   {
    "duration": 19,
    "start_time": "2023-04-23T13:56:51.015Z"
   },
   {
    "duration": 21,
    "start_time": "2023-04-23T13:56:51.502Z"
   },
   {
    "duration": 362,
    "start_time": "2023-04-23T13:57:07.827Z"
   },
   {
    "duration": 94452,
    "start_time": "2023-04-23T13:57:10.966Z"
   },
   {
    "duration": 4,
    "start_time": "2023-04-23T13:58:45.420Z"
   },
   {
    "duration": 2674,
    "start_time": "2023-04-23T13:58:49.510Z"
   },
   {
    "duration": 44193,
    "start_time": "2023-04-23T13:58:56.552Z"
   },
   {
    "duration": 6,
    "start_time": "2023-04-23T13:59:40.748Z"
   },
   {
    "duration": 2343,
    "start_time": "2023-04-23T14:00:33.041Z"
   },
   {
    "duration": 20,
    "start_time": "2023-04-23T14:00:42.816Z"
   },
   {
    "duration": 2338,
    "start_time": "2023-04-23T14:02:06.791Z"
   },
   {
    "duration": 4,
    "start_time": "2023-04-23T14:02:10.931Z"
   },
   {
    "duration": 2302,
    "start_time": "2023-04-23T14:02:11.343Z"
   },
   {
    "duration": 5,
    "start_time": "2023-04-23T14:04:50.299Z"
   },
   {
    "duration": 8,
    "start_time": "2023-04-23T14:05:06.699Z"
   },
   {
    "duration": 36,
    "start_time": "2023-04-23T14:05:21.007Z"
   },
   {
    "duration": 2881,
    "start_time": "2023-04-23T14:05:39.254Z"
   },
   {
    "duration": 4,
    "start_time": "2023-04-23T14:06:06.299Z"
   },
   {
    "duration": 34,
    "start_time": "2023-04-23T14:06:06.752Z"
   },
   {
    "duration": 108,
    "start_time": "2023-04-23T14:06:07.398Z"
   },
   {
    "duration": 4,
    "start_time": "2023-04-23T14:06:32.604Z"
   },
   {
    "duration": 21,
    "start_time": "2023-04-23T14:06:32.960Z"
   },
   {
    "duration": 93,
    "start_time": "2023-04-23T14:06:33.604Z"
   },
   {
    "duration": 4,
    "start_time": "2023-04-23T14:06:59.014Z"
   },
   {
    "duration": 31,
    "start_time": "2023-04-23T14:06:59.324Z"
   },
   {
    "duration": 102,
    "start_time": "2023-04-23T14:06:59.791Z"
   },
   {
    "duration": 4,
    "start_time": "2023-04-23T14:07:07.154Z"
   },
   {
    "duration": 20,
    "start_time": "2023-04-23T14:07:07.310Z"
   },
   {
    "duration": 90,
    "start_time": "2023-04-23T14:07:07.464Z"
   },
   {
    "duration": 4,
    "start_time": "2023-04-23T14:07:25.126Z"
   },
   {
    "duration": 3,
    "start_time": "2023-04-23T14:07:25.446Z"
   },
   {
    "duration": 21,
    "start_time": "2023-04-23T14:07:25.826Z"
   },
   {
    "duration": 24,
    "start_time": "2023-04-23T14:07:26.441Z"
   },
   {
    "duration": 3,
    "start_time": "2023-04-23T14:07:35.202Z"
   },
   {
    "duration": 21,
    "start_time": "2023-04-23T14:07:35.460Z"
   },
   {
    "duration": 21,
    "start_time": "2023-04-23T14:07:35.902Z"
   },
   {
    "duration": 16,
    "start_time": "2023-04-23T14:08:09.091Z"
   },
   {
    "duration": 4,
    "start_time": "2023-04-23T14:08:41.744Z"
   },
   {
    "duration": 2,
    "start_time": "2023-04-23T14:08:42.112Z"
   },
   {
    "duration": 22,
    "start_time": "2023-04-23T14:08:42.462Z"
   },
   {
    "duration": 20,
    "start_time": "2023-04-23T14:08:43.000Z"
   },
   {
    "duration": 3,
    "start_time": "2023-04-23T14:08:54.137Z"
   },
   {
    "duration": 24,
    "start_time": "2023-04-23T14:08:54.353Z"
   },
   {
    "duration": 23,
    "start_time": "2023-04-23T14:08:54.828Z"
   },
   {
    "duration": 4,
    "start_time": "2023-04-23T14:09:06.161Z"
   },
   {
    "duration": 3,
    "start_time": "2023-04-23T14:09:06.338Z"
   },
   {
    "duration": 28,
    "start_time": "2023-04-23T14:09:06.511Z"
   },
   {
    "duration": 42,
    "start_time": "2023-04-23T14:09:06.700Z"
   },
   {
    "duration": 3,
    "start_time": "2023-04-23T14:09:15.451Z"
   },
   {
    "duration": 3,
    "start_time": "2023-04-23T14:09:15.621Z"
   },
   {
    "duration": 22,
    "start_time": "2023-04-23T14:09:15.796Z"
   },
   {
    "duration": 30,
    "start_time": "2023-04-23T14:09:16.696Z"
   },
   {
    "duration": 4,
    "start_time": "2023-04-23T14:09:41.185Z"
   },
   {
    "duration": 3,
    "start_time": "2023-04-23T14:09:41.313Z"
   },
   {
    "duration": 22,
    "start_time": "2023-04-23T14:09:41.496Z"
   },
   {
    "duration": 25,
    "start_time": "2023-04-23T14:09:41.713Z"
   },
   {
    "duration": 4,
    "start_time": "2023-04-23T14:10:15.801Z"
   },
   {
    "duration": 3,
    "start_time": "2023-04-23T14:10:16.054Z"
   },
   {
    "duration": 33,
    "start_time": "2023-04-23T14:10:16.419Z"
   },
   {
    "duration": 26,
    "start_time": "2023-04-23T14:10:16.962Z"
   },
   {
    "duration": 6,
    "start_time": "2023-04-23T14:10:30.705Z"
   },
   {
    "duration": 5,
    "start_time": "2023-04-23T14:10:30.879Z"
   },
   {
    "duration": 20,
    "start_time": "2023-04-23T14:10:31.038Z"
   },
   {
    "duration": 37,
    "start_time": "2023-04-23T14:10:31.206Z"
   },
   {
    "duration": 4,
    "start_time": "2023-04-23T14:10:53.031Z"
   },
   {
    "duration": 3,
    "start_time": "2023-04-23T14:10:53.131Z"
   },
   {
    "duration": 21,
    "start_time": "2023-04-23T14:10:53.326Z"
   },
   {
    "duration": 28,
    "start_time": "2023-04-23T14:10:53.802Z"
   },
   {
    "duration": 5,
    "start_time": "2023-04-23T14:11:00.200Z"
   },
   {
    "duration": 3,
    "start_time": "2023-04-23T14:11:00.324Z"
   },
   {
    "duration": 34,
    "start_time": "2023-04-23T14:11:00.510Z"
   },
   {
    "duration": 33,
    "start_time": "2023-04-23T14:11:00.723Z"
   },
   {
    "duration": 26,
    "start_time": "2023-04-23T14:11:13.103Z"
   },
   {
    "duration": 9,
    "start_time": "2023-04-23T14:11:18.993Z"
   },
   {
    "duration": 3,
    "start_time": "2023-04-23T14:11:19.143Z"
   },
   {
    "duration": 25,
    "start_time": "2023-04-23T14:11:19.303Z"
   },
   {
    "duration": 25,
    "start_time": "2023-04-23T14:11:19.499Z"
   },
   {
    "duration": 21,
    "start_time": "2023-04-23T14:11:33.142Z"
   },
   {
    "duration": 3,
    "start_time": "2023-04-23T14:15:49.869Z"
   },
   {
    "duration": 6,
    "start_time": "2023-04-23T14:15:50.137Z"
   },
   {
    "duration": 3,
    "start_time": "2023-04-23T14:15:56.407Z"
   },
   {
    "duration": 13,
    "start_time": "2023-04-23T14:18:05.822Z"
   },
   {
    "duration": 20,
    "start_time": "2023-04-23T14:18:41.212Z"
   },
   {
    "duration": 87,
    "start_time": "2023-04-23T14:19:00.635Z"
   },
   {
    "duration": 80,
    "start_time": "2023-04-23T14:21:27.239Z"
   },
   {
    "duration": 74,
    "start_time": "2023-04-23T14:21:32.647Z"
   },
   {
    "duration": 4,
    "start_time": "2023-04-23T14:21:36.655Z"
   },
   {
    "duration": 14,
    "start_time": "2023-04-23T14:21:47.042Z"
   },
   {
    "duration": 1980,
    "start_time": "2023-04-23T14:21:50.760Z"
   },
   {
    "duration": 0,
    "start_time": "2023-04-23T14:21:52.743Z"
   },
   {
    "duration": 2456,
    "start_time": "2023-04-23T14:22:01.721Z"
   },
   {
    "duration": 13,
    "start_time": "2023-04-23T14:23:57.702Z"
   },
   {
    "duration": 22,
    "start_time": "2023-04-23T14:24:23.689Z"
   },
   {
    "duration": 381,
    "start_time": "2023-04-23T14:24:26.185Z"
   },
   {
    "duration": 77,
    "start_time": "2023-04-23T14:24:27.886Z"
   },
   {
    "duration": 27,
    "start_time": "2023-04-23T14:24:39.242Z"
   },
   {
    "duration": 870,
    "start_time": "2023-04-23T14:24:44.997Z"
   },
   {
    "duration": 23,
    "start_time": "2023-04-23T14:25:11.226Z"
   },
   {
    "duration": 22,
    "start_time": "2023-04-23T14:25:15.444Z"
   },
   {
    "duration": 20,
    "start_time": "2023-04-23T14:26:54.651Z"
   },
   {
    "duration": 190,
    "start_time": "2023-04-23T14:26:55.309Z"
   },
   {
    "duration": 59,
    "start_time": "2023-04-23T14:26:59.791Z"
   },
   {
    "duration": 5,
    "start_time": "2023-04-23T14:29:43.915Z"
   },
   {
    "duration": 12,
    "start_time": "2023-04-23T14:31:16.885Z"
   },
   {
    "duration": 3,
    "start_time": "2023-04-23T14:33:35.785Z"
   },
   {
    "duration": 6,
    "start_time": "2023-04-23T14:33:37.237Z"
   },
   {
    "duration": 23,
    "start_time": "2023-04-23T14:33:38.986Z"
   },
   {
    "duration": 66,
    "start_time": "2023-04-23T14:33:42.287Z"
   },
   {
    "duration": 25,
    "start_time": "2023-04-23T14:33:42.882Z"
   },
   {
    "duration": 14,
    "start_time": "2023-04-23T14:41:18.283Z"
   },
   {
    "duration": 6,
    "start_time": "2023-04-23T14:41:39.954Z"
   },
   {
    "duration": 6,
    "start_time": "2023-04-23T14:49:46.200Z"
   },
   {
    "duration": 6,
    "start_time": "2023-04-23T14:50:03.497Z"
   },
   {
    "duration": 21,
    "start_time": "2023-04-23T14:50:15.494Z"
   },
   {
    "duration": 35,
    "start_time": "2023-04-23T14:50:31.491Z"
   },
   {
    "duration": 3,
    "start_time": "2023-04-23T14:51:40.996Z"
   },
   {
    "duration": 4,
    "start_time": "2023-04-23T14:52:05.287Z"
   },
   {
    "duration": 67,
    "start_time": "2023-04-23T14:52:19.054Z"
   },
   {
    "duration": 4,
    "start_time": "2023-04-23T14:52:29.197Z"
   },
   {
    "duration": 141,
    "start_time": "2023-04-23T14:52:29.743Z"
   },
   {
    "duration": 1888,
    "start_time": "2023-04-23T14:53:08.488Z"
   },
   {
    "duration": 12,
    "start_time": "2023-04-23T14:53:15.224Z"
   },
   {
    "duration": 127,
    "start_time": "2023-04-23T14:53:42.614Z"
   },
   {
    "duration": 123,
    "start_time": "2023-04-23T14:53:47.688Z"
   },
   {
    "duration": 1945,
    "start_time": "2023-04-23T14:53:58.702Z"
   },
   {
    "duration": 4,
    "start_time": "2023-04-23T14:54:46.800Z"
   },
   {
    "duration": 264,
    "start_time": "2023-04-23T14:54:47.567Z"
   },
   {
    "duration": 313,
    "start_time": "2023-04-23T14:54:50.599Z"
   },
   {
    "duration": 250,
    "start_time": "2023-04-23T14:55:05.610Z"
   },
   {
    "duration": 249,
    "start_time": "2023-04-23T14:55:36.210Z"
   },
   {
    "duration": 52,
    "start_time": "2023-04-23T14:55:41.771Z"
   },
   {
    "duration": 6,
    "start_time": "2023-04-23T14:57:43.208Z"
   },
   {
    "duration": 23,
    "start_time": "2023-04-23T14:57:43.569Z"
   },
   {
    "duration": 4,
    "start_time": "2023-04-23T14:57:45.714Z"
   },
   {
    "duration": 258,
    "start_time": "2023-04-23T14:57:46.821Z"
   },
   {
    "duration": 236,
    "start_time": "2023-04-23T14:57:48.257Z"
   },
   {
    "duration": 51,
    "start_time": "2023-04-23T14:57:49.537Z"
   },
   {
    "duration": 41,
    "start_time": "2023-04-23T14:57:54.508Z"
   },
   {
    "duration": 9,
    "start_time": "2023-04-23T14:57:55.365Z"
   },
   {
    "duration": 14,
    "start_time": "2023-04-23T14:57:56.956Z"
   },
   {
    "duration": 49,
    "start_time": "2023-04-23T14:57:57.511Z"
   },
   {
    "duration": 378,
    "start_time": "2023-04-23T14:58:02.110Z"
   },
   {
    "duration": 94784,
    "start_time": "2023-04-23T14:58:02.538Z"
   },
   {
    "duration": 3,
    "start_time": "2023-04-23T14:59:37.324Z"
   },
   {
    "duration": 2290,
    "start_time": "2023-04-23T14:59:37.329Z"
   },
   {
    "duration": 39736,
    "start_time": "2023-04-23T14:59:39.621Z"
   },
   {
    "duration": 4,
    "start_time": "2023-04-23T15:00:19.359Z"
   },
   {
    "duration": 2246,
    "start_time": "2023-04-23T15:00:19.364Z"
   },
   {
    "duration": 18,
    "start_time": "2023-04-23T15:00:21.612Z"
   },
   {
    "duration": 2191,
    "start_time": "2023-04-23T15:00:21.632Z"
   },
   {
    "duration": 24,
    "start_time": "2023-04-23T15:00:45.934Z"
   },
   {
    "duration": 5,
    "start_time": "2023-04-23T15:00:50.676Z"
   },
   {
    "duration": 3,
    "start_time": "2023-04-23T15:00:51.046Z"
   },
   {
    "duration": 21,
    "start_time": "2023-04-23T15:00:51.877Z"
   },
   {
    "duration": 31,
    "start_time": "2023-04-23T15:00:52.541Z"
   },
   {
    "duration": 3,
    "start_time": "2023-04-23T15:01:01.115Z"
   },
   {
    "duration": 32,
    "start_time": "2023-04-23T15:01:02.645Z"
   },
   {
    "duration": 6,
    "start_time": "2023-04-23T15:01:27.564Z"
   },
   {
    "duration": 2980,
    "start_time": "2023-04-23T15:01:34.226Z"
   },
   {
    "duration": 4,
    "start_time": "2023-04-23T15:02:09.419Z"
   },
   {
    "duration": 5,
    "start_time": "2023-04-23T15:02:11.515Z"
   },
   {
    "duration": 5,
    "start_time": "2023-04-23T15:02:18.115Z"
   },
   {
    "duration": 2978,
    "start_time": "2023-04-23T15:02:20.281Z"
   },
   {
    "duration": 5,
    "start_time": "2023-04-23T15:02:39.420Z"
   },
   {
    "duration": 19,
    "start_time": "2023-04-23T15:02:39.819Z"
   },
   {
    "duration": 3662,
    "start_time": "2023-04-23T15:02:40.142Z"
   },
   {
    "duration": 6,
    "start_time": "2023-04-23T15:02:57.585Z"
   },
   {
    "duration": 20,
    "start_time": "2023-04-23T15:02:57.818Z"
   },
   {
    "duration": 2076,
    "start_time": "2023-04-23T15:02:58.356Z"
   },
   {
    "duration": 5,
    "start_time": "2023-04-23T15:03:12.956Z"
   },
   {
    "duration": 20,
    "start_time": "2023-04-23T15:03:13.331Z"
   },
   {
    "duration": 2078,
    "start_time": "2023-04-23T15:03:13.582Z"
   },
   {
    "duration": 5,
    "start_time": "2023-04-23T15:03:21.720Z"
   },
   {
    "duration": 24,
    "start_time": "2023-04-23T15:03:32.723Z"
   },
   {
    "duration": 5,
    "start_time": "2023-04-23T15:03:38.559Z"
   },
   {
    "duration": 24,
    "start_time": "2023-04-23T15:03:45.119Z"
   },
   {
    "duration": 22,
    "start_time": "2023-04-23T15:03:48.222Z"
   },
   {
    "duration": 5,
    "start_time": "2023-04-23T15:03:51.763Z"
   },
   {
    "duration": 2050,
    "start_time": "2023-04-23T15:03:56.666Z"
   },
   {
    "duration": 7,
    "start_time": "2023-04-23T15:04:35.588Z"
   },
   {
    "duration": 21,
    "start_time": "2023-04-23T15:04:35.821Z"
   },
   {
    "duration": 2098,
    "start_time": "2023-04-23T15:04:35.972Z"
   },
   {
    "duration": 5,
    "start_time": "2023-04-23T15:05:02.455Z"
   },
   {
    "duration": 20,
    "start_time": "2023-04-23T15:05:03.319Z"
   },
   {
    "duration": 2192,
    "start_time": "2023-04-23T15:05:06.545Z"
   },
   {
    "duration": 7,
    "start_time": "2023-04-23T15:05:20.554Z"
   },
   {
    "duration": 2182,
    "start_time": "2023-04-23T15:05:20.927Z"
   },
   {
    "duration": 3,
    "start_time": "2023-04-23T15:05:55.013Z"
   },
   {
    "duration": 2203,
    "start_time": "2023-04-23T15:05:55.337Z"
   },
   {
    "duration": 3,
    "start_time": "2023-04-23T15:05:57.543Z"
   },
   {
    "duration": 6,
    "start_time": "2023-04-23T15:06:02.369Z"
   },
   {
    "duration": 2094,
    "start_time": "2023-04-23T15:06:05.423Z"
   },
   {
    "duration": 4,
    "start_time": "2023-04-23T15:06:32.629Z"
   },
   {
    "duration": 2061,
    "start_time": "2023-04-23T15:06:37.232Z"
   },
   {
    "duration": 3,
    "start_time": "2023-04-23T15:07:04.434Z"
   },
   {
    "duration": 2043,
    "start_time": "2023-04-23T15:07:07.683Z"
   },
   {
    "duration": 3128,
    "start_time": "2023-04-23T15:11:04.374Z"
   },
   {
    "duration": 5850,
    "start_time": "2023-04-23T15:11:17.931Z"
   },
   {
    "duration": 3,
    "start_time": "2023-04-23T15:11:30.300Z"
   },
   {
    "duration": 2190,
    "start_time": "2023-04-23T15:11:31.123Z"
   },
   {
    "duration": 4,
    "start_time": "2023-04-23T15:11:34.025Z"
   },
   {
    "duration": 5,
    "start_time": "2023-04-23T15:11:34.570Z"
   },
   {
    "duration": 2065,
    "start_time": "2023-04-23T15:11:35.724Z"
   },
   {
    "duration": 5,
    "start_time": "2023-04-23T15:11:38.995Z"
   },
   {
    "duration": 3237,
    "start_time": "2023-04-23T15:11:39.797Z"
   },
   {
    "duration": 5780,
    "start_time": "2023-04-23T15:11:43.036Z"
   },
   {
    "duration": 3,
    "start_time": "2023-04-23T15:11:59.523Z"
   },
   {
    "duration": 15,
    "start_time": "2023-04-23T15:12:48.441Z"
   },
   {
    "duration": 229,
    "start_time": "2023-04-23T15:13:27.826Z"
   },
   {
    "duration": 39,
    "start_time": "2023-04-23T15:13:32.070Z"
   },
   {
    "duration": 21,
    "start_time": "2023-04-23T15:14:25.238Z"
   },
   {
    "duration": 42,
    "start_time": "2023-04-23T15:15:47.430Z"
   },
   {
    "duration": 40656,
    "start_time": "2023-04-23T15:15:48.931Z"
   },
   {
    "duration": 111,
    "start_time": "2023-04-23T15:17:49.022Z"
   },
   {
    "duration": 21,
    "start_time": "2023-04-23T15:17:49.465Z"
   },
   {
    "duration": 36,
    "start_time": "2023-04-23T15:17:50.252Z"
   },
   {
    "duration": 35281,
    "start_time": "2023-04-23T15:17:50.797Z"
   },
   {
    "duration": 135,
    "start_time": "2023-04-23T15:20:54.127Z"
   },
   {
    "duration": 7,
    "start_time": "2023-04-23T15:22:12.933Z"
   },
   {
    "duration": 2208,
    "start_time": "2023-04-23T15:22:14.127Z"
   },
   {
    "duration": 5,
    "start_time": "2023-04-23T15:22:16.337Z"
   },
   {
    "duration": 4246,
    "start_time": "2023-04-23T15:22:24.093Z"
   },
   {
    "duration": 6502,
    "start_time": "2023-04-23T15:22:28.341Z"
   },
   {
    "duration": 4,
    "start_time": "2023-04-23T15:22:42.924Z"
   },
   {
    "duration": 13,
    "start_time": "2023-04-23T15:23:12.574Z"
   },
   {
    "duration": 59,
    "start_time": "2023-04-23T15:23:26.028Z"
   },
   {
    "duration": 879,
    "start_time": "2023-04-23T15:24:38.768Z"
   },
   {
    "duration": 15,
    "start_time": "2023-04-23T15:24:39.739Z"
   },
   {
    "duration": 54,
    "start_time": "2023-04-23T15:24:39.935Z"
   },
   {
    "duration": 38,
    "start_time": "2023-04-23T15:24:40.073Z"
   },
   {
    "duration": 7,
    "start_time": "2023-04-23T15:24:40.232Z"
   },
   {
    "duration": 863,
    "start_time": "2023-04-23T15:24:57.935Z"
   },
   {
    "duration": 7,
    "start_time": "2023-04-23T15:25:39.735Z"
   },
   {
    "duration": 3,
    "start_time": "2023-04-23T15:25:39.869Z"
   },
   {
    "duration": 4,
    "start_time": "2023-04-23T15:25:40.038Z"
   },
   {
    "duration": 3,
    "start_time": "2023-04-23T15:25:40.191Z"
   },
   {
    "duration": 34,
    "start_time": "2023-04-23T15:25:40.347Z"
   },
   {
    "duration": 8,
    "start_time": "2023-04-23T15:25:40.532Z"
   },
   {
    "duration": 5,
    "start_time": "2023-04-23T15:25:40.691Z"
   },
   {
    "duration": 14,
    "start_time": "2023-04-23T15:25:40.848Z"
   },
   {
    "duration": 10,
    "start_time": "2023-04-23T15:25:41.036Z"
   },
   {
    "duration": 3176,
    "start_time": "2023-04-23T15:25:41.225Z"
   },
   {
    "duration": 141,
    "start_time": "2023-04-23T15:25:44.404Z"
   },
   {
    "duration": 7,
    "start_time": "2023-04-23T15:25:44.547Z"
   },
   {
    "duration": 14,
    "start_time": "2023-04-23T15:25:44.557Z"
   },
   {
    "duration": 15,
    "start_time": "2023-04-23T15:25:44.574Z"
   },
   {
    "duration": 26,
    "start_time": "2023-04-23T15:25:44.591Z"
   },
   {
    "duration": 44,
    "start_time": "2023-04-23T15:25:44.619Z"
   },
   {
    "duration": 9,
    "start_time": "2023-04-23T15:25:44.666Z"
   },
   {
    "duration": 44,
    "start_time": "2023-04-23T15:25:44.677Z"
   },
   {
    "duration": 234,
    "start_time": "2023-04-23T15:26:10.968Z"
   },
   {
    "duration": 209,
    "start_time": "2023-04-23T15:26:12.554Z"
   },
   {
    "duration": 51,
    "start_time": "2023-04-23T15:26:12.793Z"
   },
   {
    "duration": 45,
    "start_time": "2023-04-23T15:26:12.967Z"
   },
   {
    "duration": 7,
    "start_time": "2023-04-23T15:26:13.143Z"
   },
   {
    "duration": 13,
    "start_time": "2023-04-23T15:26:13.331Z"
   },
   {
    "duration": 52,
    "start_time": "2023-04-23T15:26:13.530Z"
   },
   {
    "duration": 460,
    "start_time": "2023-04-23T15:26:13.731Z"
   },
   {
    "duration": 94874,
    "start_time": "2023-04-23T15:26:15.967Z"
   },
   {
    "duration": 4,
    "start_time": "2023-04-23T15:27:50.843Z"
   },
   {
    "duration": 2036,
    "start_time": "2023-04-23T15:27:50.849Z"
   },
   {
    "duration": 35261,
    "start_time": "2023-04-23T15:27:52.888Z"
   },
   {
    "duration": 4,
    "start_time": "2023-04-23T15:28:28.151Z"
   },
   {
    "duration": 1918,
    "start_time": "2023-04-23T15:28:28.156Z"
   },
   {
    "duration": 20,
    "start_time": "2023-04-23T15:28:30.076Z"
   },
   {
    "duration": 2038,
    "start_time": "2023-04-23T15:28:30.098Z"
   },
   {
    "duration": 4,
    "start_time": "2023-04-23T15:28:32.138Z"
   },
   {
    "duration": 1946,
    "start_time": "2023-04-23T15:28:32.145Z"
   },
   {
    "duration": 5,
    "start_time": "2023-04-23T15:28:34.093Z"
   },
   {
    "duration": 9,
    "start_time": "2023-04-23T15:28:34.099Z"
   },
   {
    "duration": 1834,
    "start_time": "2023-04-23T15:28:34.109Z"
   },
   {
    "duration": 5,
    "start_time": "2023-04-23T15:28:35.945Z"
   },
   {
    "duration": 3238,
    "start_time": "2023-04-23T15:28:35.952Z"
   },
   {
    "duration": 5712,
    "start_time": "2023-04-23T15:28:39.192Z"
   },
   {
    "duration": 4072,
    "start_time": "2023-04-23T15:28:44.906Z"
   },
   {
    "duration": 2111,
    "start_time": "2023-04-23T15:29:02.151Z"
   },
   {
    "duration": 4,
    "start_time": "2023-04-23T15:29:11.056Z"
   },
   {
    "duration": 145,
    "start_time": "2023-04-23T15:37:20.692Z"
   },
   {
    "duration": 2052,
    "start_time": "2023-04-23T15:38:34.936Z"
   },
   {
    "duration": 144,
    "start_time": "2023-04-23T15:38:51.123Z"
   },
   {
    "duration": 5,
    "start_time": "2023-04-23T15:40:28.842Z"
   },
   {
    "duration": 5,
    "start_time": "2023-04-23T15:40:33.472Z"
   },
   {
    "duration": 1847,
    "start_time": "2023-04-23T15:41:24.220Z"
   },
   {
    "duration": 1964,
    "start_time": "2023-04-23T15:41:30.597Z"
   },
   {
    "duration": 1905,
    "start_time": "2023-04-23T15:41:38.723Z"
   },
   {
    "duration": 1891,
    "start_time": "2023-04-23T15:42:13.222Z"
   },
   {
    "duration": 147,
    "start_time": "2023-04-23T15:42:19.430Z"
   },
   {
    "duration": 2053,
    "start_time": "2023-04-23T15:42:19.894Z"
   },
   {
    "duration": 65,
    "start_time": "2023-04-23T15:42:32.069Z"
   },
   {
    "duration": 2610,
    "start_time": "2023-04-23T15:42:35.461Z"
   },
   {
    "duration": 3223,
    "start_time": "2023-04-23T15:42:38.074Z"
   },
   {
    "duration": 241,
    "start_time": "2023-04-23T15:42:41.298Z"
   },
   {
    "duration": 29,
    "start_time": "2023-04-23T15:42:41.542Z"
   },
   {
    "duration": 40874,
    "start_time": "2023-04-23T15:42:41.574Z"
   },
   {
    "duration": 175,
    "start_time": "2023-04-23T15:43:22.450Z"
   },
   {
    "duration": 105,
    "start_time": "2023-04-23T15:43:22.626Z"
   },
   {
    "duration": 87,
    "start_time": "2023-04-23T15:43:22.733Z"
   },
   {
    "duration": 15,
    "start_time": "2023-04-23T15:43:22.822Z"
   },
   {
    "duration": 60,
    "start_time": "2023-04-23T15:43:22.841Z"
   },
   {
    "duration": 12,
    "start_time": "2023-04-23T15:43:22.903Z"
   },
   {
    "duration": 73,
    "start_time": "2023-04-23T15:43:22.916Z"
   },
   {
    "duration": 17,
    "start_time": "2023-04-23T15:43:22.991Z"
   },
   {
    "duration": 17,
    "start_time": "2023-04-23T15:43:23.010Z"
   },
   {
    "duration": 8,
    "start_time": "2023-04-23T15:43:23.029Z"
   },
   {
    "duration": 14,
    "start_time": "2023-04-23T15:43:23.039Z"
   },
   {
    "duration": 147,
    "start_time": "2023-04-23T15:43:23.055Z"
   },
   {
    "duration": 6,
    "start_time": "2023-04-23T15:43:23.204Z"
   },
   {
    "duration": 17,
    "start_time": "2023-04-23T15:43:23.211Z"
   },
   {
    "duration": 10,
    "start_time": "2023-04-23T15:43:23.230Z"
   },
   {
    "duration": 185,
    "start_time": "2023-04-23T15:43:23.242Z"
   },
   {
    "duration": 5,
    "start_time": "2023-04-23T15:43:23.429Z"
   },
   {
    "duration": 16,
    "start_time": "2023-04-23T15:43:23.436Z"
   },
   {
    "duration": 46,
    "start_time": "2023-04-23T15:43:23.454Z"
   },
   {
    "duration": 41,
    "start_time": "2023-04-23T15:43:23.502Z"
   },
   {
    "duration": 6,
    "start_time": "2023-04-23T15:43:23.545Z"
   },
   {
    "duration": 13,
    "start_time": "2023-04-23T15:43:23.553Z"
   },
   {
    "duration": 24,
    "start_time": "2023-04-23T15:43:23.571Z"
   },
   {
    "duration": 27,
    "start_time": "2023-04-23T15:43:23.597Z"
   },
   {
    "duration": 35,
    "start_time": "2023-04-23T15:43:23.627Z"
   },
   {
    "duration": 13,
    "start_time": "2023-04-23T15:43:23.664Z"
   },
   {
    "duration": 11,
    "start_time": "2023-04-23T15:43:23.679Z"
   },
   {
    "duration": 20,
    "start_time": "2023-04-23T15:43:23.692Z"
   },
   {
    "duration": 9,
    "start_time": "2023-04-23T15:43:23.714Z"
   },
   {
    "duration": 2726,
    "start_time": "2023-04-23T15:43:29.334Z"
   },
   {
    "duration": 2218,
    "start_time": "2023-04-23T15:43:32.062Z"
   },
   {
    "duration": 179,
    "start_time": "2023-04-23T15:43:34.282Z"
   },
   {
    "duration": 35,
    "start_time": "2023-04-23T15:43:34.463Z"
   },
   {
    "duration": 40711,
    "start_time": "2023-04-23T15:43:34.501Z"
   },
   {
    "duration": 172,
    "start_time": "2023-04-23T15:44:15.215Z"
   },
   {
    "duration": 130,
    "start_time": "2023-04-23T15:44:15.390Z"
   },
   {
    "duration": 76,
    "start_time": "2023-04-23T15:44:15.522Z"
   },
   {
    "duration": 7,
    "start_time": "2023-04-23T15:44:15.599Z"
   },
   {
    "duration": 18,
    "start_time": "2023-04-23T15:44:15.609Z"
   },
   {
    "duration": 12,
    "start_time": "2023-04-23T15:44:15.629Z"
   },
   {
    "duration": 66,
    "start_time": "2023-04-23T15:44:15.643Z"
   },
   {
    "duration": 17,
    "start_time": "2023-04-23T15:44:15.711Z"
   },
   {
    "duration": 5,
    "start_time": "2023-04-23T15:44:15.730Z"
   },
   {
    "duration": 12,
    "start_time": "2023-04-23T15:44:15.737Z"
   },
   {
    "duration": 16,
    "start_time": "2023-04-23T15:44:15.751Z"
   },
   {
    "duration": 145,
    "start_time": "2023-04-23T15:44:15.788Z"
   },
   {
    "duration": 5,
    "start_time": "2023-04-23T15:44:15.935Z"
   },
   {
    "duration": 19,
    "start_time": "2023-04-23T15:44:15.942Z"
   },
   {
    "duration": 6,
    "start_time": "2023-04-23T15:44:15.963Z"
   },
   {
    "duration": 192,
    "start_time": "2023-04-23T15:44:15.971Z"
   },
   {
    "duration": 6,
    "start_time": "2023-04-23T15:44:16.164Z"
   },
   {
    "duration": 22,
    "start_time": "2023-04-23T15:44:16.171Z"
   },
   {
    "duration": 10,
    "start_time": "2023-04-23T15:44:16.195Z"
   },
   {
    "duration": 32,
    "start_time": "2023-04-23T15:44:16.207Z"
   },
   {
    "duration": 7,
    "start_time": "2023-04-23T15:44:16.240Z"
   },
   {
    "duration": 10,
    "start_time": "2023-04-23T15:44:16.249Z"
   },
   {
    "duration": 9,
    "start_time": "2023-04-23T15:44:16.287Z"
   },
   {
    "duration": 15,
    "start_time": "2023-04-23T15:44:16.298Z"
   },
   {
    "duration": 39,
    "start_time": "2023-04-23T15:44:16.316Z"
   },
   {
    "duration": 9,
    "start_time": "2023-04-23T15:44:16.357Z"
   },
   {
    "duration": 19,
    "start_time": "2023-04-23T15:44:16.368Z"
   },
   {
    "duration": 22,
    "start_time": "2023-04-23T15:44:16.389Z"
   },
   {
    "duration": 10,
    "start_time": "2023-04-23T15:44:16.413Z"
   },
   {
    "duration": 3211,
    "start_time": "2023-04-23T15:44:16.425Z"
   },
   {
    "duration": 132,
    "start_time": "2023-04-23T15:44:19.638Z"
   },
   {
    "duration": 6,
    "start_time": "2023-04-23T15:44:19.773Z"
   },
   {
    "duration": 47,
    "start_time": "2023-04-23T15:44:19.788Z"
   },
   {
    "duration": 39,
    "start_time": "2023-04-23T15:44:19.836Z"
   },
   {
    "duration": 51,
    "start_time": "2023-04-23T15:44:19.877Z"
   },
   {
    "duration": 39,
    "start_time": "2023-04-23T15:44:19.930Z"
   },
   {
    "duration": 54,
    "start_time": "2023-04-23T15:44:19.971Z"
   },
   {
    "duration": 276,
    "start_time": "2023-04-23T15:44:20.029Z"
   },
   {
    "duration": 238,
    "start_time": "2023-04-23T15:44:20.307Z"
   },
   {
    "duration": 74,
    "start_time": "2023-04-23T15:44:20.548Z"
   },
   {
    "duration": 43,
    "start_time": "2023-04-23T15:44:20.625Z"
   },
   {
    "duration": 20,
    "start_time": "2023-04-23T15:44:20.670Z"
   },
   {
    "duration": 55,
    "start_time": "2023-04-23T15:44:20.692Z"
   },
   {
    "duration": 75,
    "start_time": "2023-04-23T15:44:20.750Z"
   },
   {
    "duration": 472,
    "start_time": "2023-04-23T15:44:20.827Z"
   },
   {
    "duration": 1873,
    "start_time": "2023-04-23T15:44:21.388Z"
   },
   {
    "duration": 0,
    "start_time": "2023-04-23T15:44:23.263Z"
   },
   {
    "duration": 0,
    "start_time": "2023-04-23T15:44:23.264Z"
   },
   {
    "duration": 0,
    "start_time": "2023-04-23T15:44:23.266Z"
   },
   {
    "duration": 0,
    "start_time": "2023-04-23T15:44:23.268Z"
   },
   {
    "duration": 0,
    "start_time": "2023-04-23T15:44:23.269Z"
   },
   {
    "duration": 0,
    "start_time": "2023-04-23T15:44:23.271Z"
   },
   {
    "duration": 0,
    "start_time": "2023-04-23T15:44:23.288Z"
   },
   {
    "duration": 0,
    "start_time": "2023-04-23T15:44:23.289Z"
   },
   {
    "duration": 0,
    "start_time": "2023-04-23T15:44:23.290Z"
   },
   {
    "duration": 0,
    "start_time": "2023-04-23T15:44:23.291Z"
   },
   {
    "duration": 0,
    "start_time": "2023-04-23T15:44:23.293Z"
   },
   {
    "duration": 0,
    "start_time": "2023-04-23T15:44:23.294Z"
   },
   {
    "duration": 0,
    "start_time": "2023-04-23T15:44:23.295Z"
   },
   {
    "duration": 0,
    "start_time": "2023-04-23T15:44:23.296Z"
   },
   {
    "duration": 0,
    "start_time": "2023-04-23T15:44:23.297Z"
   },
   {
    "duration": 0,
    "start_time": "2023-04-23T15:44:23.297Z"
   },
   {
    "duration": 0,
    "start_time": "2023-04-23T15:44:23.299Z"
   },
   {
    "duration": 0,
    "start_time": "2023-04-23T15:44:23.300Z"
   },
   {
    "duration": 0,
    "start_time": "2023-04-23T15:44:23.301Z"
   },
   {
    "duration": 0,
    "start_time": "2023-04-23T15:44:23.302Z"
   },
   {
    "duration": 0,
    "start_time": "2023-04-23T15:44:23.303Z"
   },
   {
    "duration": 0,
    "start_time": "2023-04-23T15:44:23.304Z"
   },
   {
    "duration": 0,
    "start_time": "2023-04-23T15:44:23.304Z"
   },
   {
    "duration": 0,
    "start_time": "2023-04-23T15:44:23.305Z"
   },
   {
    "duration": 0,
    "start_time": "2023-04-23T15:44:23.306Z"
   },
   {
    "duration": 0,
    "start_time": "2023-04-23T15:44:23.307Z"
   },
   {
    "duration": 0,
    "start_time": "2023-04-23T15:44:23.309Z"
   },
   {
    "duration": 2779,
    "start_time": "2023-04-23T15:44:28.620Z"
   },
   {
    "duration": 5,
    "start_time": "2023-04-23T15:44:31.402Z"
   },
   {
    "duration": 237,
    "start_time": "2023-04-23T15:44:31.409Z"
   },
   {
    "duration": 31,
    "start_time": "2023-04-23T15:44:31.648Z"
   },
   {
    "duration": 26,
    "start_time": "2023-04-23T15:44:31.687Z"
   },
   {
    "duration": 134,
    "start_time": "2023-04-23T15:44:31.715Z"
   },
   {
    "duration": 62,
    "start_time": "2023-04-23T15:44:31.851Z"
   },
   {
    "duration": 24,
    "start_time": "2023-04-23T15:44:31.915Z"
   },
   {
    "duration": 39,
    "start_time": "2023-04-23T15:44:31.941Z"
   },
   {
    "duration": 39,
    "start_time": "2023-04-23T15:44:31.982Z"
   },
   {
    "duration": 27,
    "start_time": "2023-04-23T15:44:32.023Z"
   },
   {
    "duration": 54,
    "start_time": "2023-04-23T15:44:32.052Z"
   },
   {
    "duration": 17,
    "start_time": "2023-04-23T15:44:32.107Z"
   },
   {
    "duration": 11,
    "start_time": "2023-04-23T15:44:32.127Z"
   },
   {
    "duration": 21,
    "start_time": "2023-04-23T15:44:32.139Z"
   },
   {
    "duration": 9,
    "start_time": "2023-04-23T15:44:32.162Z"
   },
   {
    "duration": 145,
    "start_time": "2023-04-23T15:44:32.187Z"
   },
   {
    "duration": 5,
    "start_time": "2023-04-23T15:44:32.334Z"
   },
   {
    "duration": 15,
    "start_time": "2023-04-23T15:44:32.341Z"
   },
   {
    "duration": 10,
    "start_time": "2023-04-23T15:44:32.358Z"
   },
   {
    "duration": 196,
    "start_time": "2023-04-23T15:44:32.370Z"
   },
   {
    "duration": 5,
    "start_time": "2023-04-23T15:44:32.568Z"
   },
   {
    "duration": 11,
    "start_time": "2023-04-23T15:44:32.589Z"
   },
   {
    "duration": 10,
    "start_time": "2023-04-23T15:44:32.602Z"
   },
   {
    "duration": 29,
    "start_time": "2023-04-23T15:44:32.613Z"
   },
   {
    "duration": 19,
    "start_time": "2023-04-23T15:44:32.644Z"
   },
   {
    "duration": 33,
    "start_time": "2023-04-23T15:44:32.665Z"
   },
   {
    "duration": 52,
    "start_time": "2023-04-23T15:44:32.700Z"
   },
   {
    "duration": 21,
    "start_time": "2023-04-23T15:44:32.755Z"
   },
   {
    "duration": 57,
    "start_time": "2023-04-23T15:44:32.778Z"
   },
   {
    "duration": 9,
    "start_time": "2023-04-23T15:44:32.837Z"
   },
   {
    "duration": 20,
    "start_time": "2023-04-23T15:44:32.847Z"
   },
   {
    "duration": 32,
    "start_time": "2023-04-23T15:44:32.868Z"
   },
   {
    "duration": 20,
    "start_time": "2023-04-23T15:44:32.902Z"
   },
   {
    "duration": 3153,
    "start_time": "2023-04-23T15:44:32.924Z"
   },
   {
    "duration": 136,
    "start_time": "2023-04-23T15:44:36.079Z"
   },
   {
    "duration": 5,
    "start_time": "2023-04-23T15:44:36.217Z"
   },
   {
    "duration": 38,
    "start_time": "2023-04-23T15:44:36.223Z"
   },
   {
    "duration": 29,
    "start_time": "2023-04-23T15:44:36.263Z"
   },
   {
    "duration": 40,
    "start_time": "2023-04-23T15:44:36.293Z"
   },
   {
    "duration": 28,
    "start_time": "2023-04-23T15:44:36.337Z"
   },
   {
    "duration": 53,
    "start_time": "2023-04-23T15:44:36.366Z"
   },
   {
    "duration": 275,
    "start_time": "2023-04-23T15:44:36.421Z"
   },
   {
    "duration": 215,
    "start_time": "2023-04-23T15:44:36.698Z"
   },
   {
    "duration": 52,
    "start_time": "2023-04-23T15:44:36.915Z"
   },
   {
    "duration": 58,
    "start_time": "2023-04-23T15:44:36.969Z"
   },
   {
    "duration": 9,
    "start_time": "2023-04-23T15:44:37.030Z"
   },
   {
    "duration": 18,
    "start_time": "2023-04-23T15:44:37.041Z"
   },
   {
    "duration": 66,
    "start_time": "2023-04-23T15:44:37.061Z"
   },
   {
    "duration": 559,
    "start_time": "2023-04-23T15:44:37.129Z"
   },
   {
    "duration": 2,
    "start_time": "2023-04-23T15:44:37.690Z"
   },
   {
    "duration": 10,
    "start_time": "2023-04-23T15:44:37.694Z"
   },
   {
    "duration": 2355,
    "start_time": "2023-04-23T15:44:37.705Z"
   },
   {
    "duration": 40297,
    "start_time": "2023-04-23T15:44:40.062Z"
   },
   {
    "duration": 11,
    "start_time": "2023-04-23T15:45:20.361Z"
   },
   {
    "duration": 2452,
    "start_time": "2023-04-23T15:45:20.374Z"
   },
   {
    "duration": 17,
    "start_time": "2023-04-23T15:45:22.828Z"
   },
   {
    "duration": 2256,
    "start_time": "2023-04-23T15:45:22.846Z"
   },
   {
    "duration": 4,
    "start_time": "2023-04-23T15:45:25.104Z"
   },
   {
    "duration": 2241,
    "start_time": "2023-04-23T15:45:25.110Z"
   },
   {
    "duration": 3,
    "start_time": "2023-04-23T15:45:27.354Z"
   },
   {
    "duration": 27,
    "start_time": "2023-04-23T15:45:27.358Z"
   },
   {
    "duration": 2213,
    "start_time": "2023-04-23T15:45:27.386Z"
   },
   {
    "duration": 6,
    "start_time": "2023-04-23T15:45:29.601Z"
   },
   {
    "duration": 3483,
    "start_time": "2023-04-23T15:45:29.609Z"
   },
   {
    "duration": 6057,
    "start_time": "2023-04-23T15:45:33.094Z"
   },
   {
    "duration": 217,
    "start_time": "2023-04-23T15:45:39.153Z"
   },
   {
    "duration": 24,
    "start_time": "2023-04-23T15:45:39.372Z"
   },
   {
    "duration": 37,
    "start_time": "2023-04-23T15:45:39.398Z"
   },
   {
    "duration": 3,
    "start_time": "2023-04-23T15:45:39.437Z"
   },
   {
    "duration": 159,
    "start_time": "2023-04-23T15:45:39.441Z"
   },
   {
    "duration": 13,
    "start_time": "2023-04-23T15:45:39.602Z"
   },
   {
    "duration": 4416,
    "start_time": "2023-04-23T15:45:39.617Z"
   },
   {
    "duration": 1804,
    "start_time": "2023-04-23T15:45:44.034Z"
   },
   {
    "duration": 4,
    "start_time": "2023-04-23T15:45:45.840Z"
   },
   {
    "duration": 157,
    "start_time": "2023-04-23T15:45:45.846Z"
   },
   {
    "duration": 2332,
    "start_time": "2023-04-23T15:45:46.004Z"
   },
   {
    "duration": 8,
    "start_time": "2023-04-23T15:45:48.338Z"
   },
   {
    "duration": 8,
    "start_time": "2023-04-23T15:46:01.823Z"
   },
   {
    "duration": 3,
    "start_time": "2023-04-23T15:47:00.138Z"
   },
   {
    "duration": 7,
    "start_time": "2023-04-23T15:47:00.523Z"
   },
   {
    "duration": 26,
    "start_time": "2023-04-23T15:47:01.922Z"
   },
   {
    "duration": 4,
    "start_time": "2023-04-23T15:47:04.446Z"
   },
   {
    "duration": 3,
    "start_time": "2023-04-23T15:47:11.956Z"
   },
   {
    "duration": 246,
    "start_time": "2023-04-23T15:47:12.593Z"
   },
   {
    "duration": 225,
    "start_time": "2023-04-23T15:47:14.437Z"
   },
   {
    "duration": 54,
    "start_time": "2023-04-23T15:47:16.327Z"
   },
   {
    "duration": 5,
    "start_time": "2023-04-23T15:47:26.846Z"
   },
   {
    "duration": 43,
    "start_time": "2023-04-23T15:47:45.892Z"
   },
   {
    "duration": 8,
    "start_time": "2023-04-23T15:47:46.222Z"
   },
   {
    "duration": 14,
    "start_time": "2023-04-23T15:47:46.660Z"
   },
   {
    "duration": 47,
    "start_time": "2023-04-23T15:47:47.124Z"
   },
   {
    "duration": 471,
    "start_time": "2023-04-23T15:47:47.822Z"
   },
   {
    "duration": 4,
    "start_time": "2023-04-23T15:47:48.297Z"
   },
   {
    "duration": 5,
    "start_time": "2023-04-23T15:47:48.389Z"
   },
   {
    "duration": 2590,
    "start_time": "2023-04-23T15:47:50.135Z"
   },
   {
    "duration": 47528,
    "start_time": "2023-04-23T15:47:52.727Z"
   },
   {
    "duration": 4,
    "start_time": "2023-04-23T15:48:40.258Z"
   },
   {
    "duration": 2782,
    "start_time": "2023-04-23T15:48:40.263Z"
   },
   {
    "duration": 18,
    "start_time": "2023-04-23T15:48:43.047Z"
   },
   {
    "duration": 2577,
    "start_time": "2023-04-23T15:48:43.067Z"
   },
   {
    "duration": 4,
    "start_time": "2023-04-23T15:48:49.196Z"
   },
   {
    "duration": 2891,
    "start_time": "2023-04-23T15:48:49.202Z"
   },
   {
    "duration": 4,
    "start_time": "2023-04-23T15:48:58.421Z"
   },
   {
    "duration": 5,
    "start_time": "2023-04-23T15:48:58.590Z"
   },
   {
    "duration": 2668,
    "start_time": "2023-04-23T15:48:58.762Z"
   },
   {
    "duration": 6,
    "start_time": "2023-04-23T15:49:01.433Z"
   },
   {
    "duration": 3217,
    "start_time": "2023-04-23T15:49:01.441Z"
   },
   {
    "duration": 6449,
    "start_time": "2023-04-23T15:49:04.660Z"
   },
   {
    "duration": 89,
    "start_time": "2023-04-23T15:49:11.111Z"
   },
   {
    "duration": 24,
    "start_time": "2023-04-23T15:49:11.202Z"
   },
   {
    "duration": 44,
    "start_time": "2023-04-23T15:49:11.228Z"
   },
   {
    "duration": 3,
    "start_time": "2023-04-23T15:49:11.274Z"
   },
   {
    "duration": 156,
    "start_time": "2023-04-23T15:49:11.278Z"
   },
   {
    "duration": 13,
    "start_time": "2023-04-23T15:49:11.437Z"
   },
   {
    "duration": 4742,
    "start_time": "2023-04-23T15:49:11.451Z"
   },
   {
    "duration": 1974,
    "start_time": "2023-04-23T15:49:16.195Z"
   },
   {
    "duration": 6,
    "start_time": "2023-04-23T15:49:18.171Z"
   },
   {
    "duration": 164,
    "start_time": "2023-04-23T15:49:18.188Z"
   },
   {
    "duration": 2749,
    "start_time": "2023-04-23T15:49:18.354Z"
   },
   {
    "duration": 10,
    "start_time": "2023-04-23T15:49:21.105Z"
   },
   {
    "duration": 9,
    "start_time": "2023-04-23T15:50:32.560Z"
   },
   {
    "duration": 9,
    "start_time": "2023-04-23T15:50:44.332Z"
   },
   {
    "duration": 137,
    "start_time": "2023-04-23T15:51:42.194Z"
   },
   {
    "duration": 131,
    "start_time": "2023-04-23T15:52:31.971Z"
   },
   {
    "duration": 881,
    "start_time": "2023-04-23T15:54:45.223Z"
   },
   {
    "duration": 317,
    "start_time": "2023-04-23T15:54:51.178Z"
   },
   {
    "duration": 3,
    "start_time": "2023-04-23T15:55:54.940Z"
   },
   {
    "duration": 27,
    "start_time": "2023-04-23T15:56:49.661Z"
   },
   {
    "duration": 24,
    "start_time": "2023-04-23T15:57:00.573Z"
   },
   {
    "duration": 12,
    "start_time": "2023-04-23T15:57:06.021Z"
   },
   {
    "duration": 9,
    "start_time": "2023-04-23T15:57:55.814Z"
   },
   {
    "duration": 9,
    "start_time": "2023-04-23T15:58:20.212Z"
   },
   {
    "duration": 10,
    "start_time": "2023-04-23T15:58:44.162Z"
   },
   {
    "duration": 5,
    "start_time": "2023-04-23T15:58:47.933Z"
   },
   {
    "duration": 10,
    "start_time": "2023-04-23T15:59:03.234Z"
   },
   {
    "duration": 3,
    "start_time": "2023-04-23T15:59:28.224Z"
   },
   {
    "duration": 8,
    "start_time": "2023-04-23T15:59:28.665Z"
   },
   {
    "duration": 26,
    "start_time": "2023-04-23T15:59:28.828Z"
   },
   {
    "duration": 3,
    "start_time": "2023-04-23T15:59:29.022Z"
   },
   {
    "duration": 270,
    "start_time": "2023-04-23T15:59:29.636Z"
   },
   {
    "duration": 243,
    "start_time": "2023-04-23T15:59:29.956Z"
   },
   {
    "duration": 54,
    "start_time": "2023-04-23T15:59:30.201Z"
   },
   {
    "duration": 48,
    "start_time": "2023-04-23T15:59:30.551Z"
   },
   {
    "duration": 8,
    "start_time": "2023-04-23T15:59:30.926Z"
   },
   {
    "duration": 15,
    "start_time": "2023-04-23T15:59:31.219Z"
   },
   {
    "duration": 48,
    "start_time": "2023-04-23T15:59:31.637Z"
   },
   {
    "duration": 458,
    "start_time": "2023-04-23T15:59:34.342Z"
   },
   {
    "duration": 2281,
    "start_time": "2023-04-23T15:59:49.631Z"
   },
   {
    "duration": 52,
    "start_time": "2023-04-23T16:00:37.904Z"
   },
   {
    "duration": 4,
    "start_time": "2023-04-23T16:01:19.283Z"
   },
   {
    "duration": 6,
    "start_time": "2023-04-23T16:01:19.448Z"
   },
   {
    "duration": 24,
    "start_time": "2023-04-23T16:01:19.630Z"
   },
   {
    "duration": 3,
    "start_time": "2023-04-23T16:01:19.819Z"
   },
   {
    "duration": 275,
    "start_time": "2023-04-23T16:01:20.322Z"
   },
   {
    "duration": 225,
    "start_time": "2023-04-23T16:01:21.192Z"
   },
   {
    "duration": 51,
    "start_time": "2023-04-23T16:01:21.691Z"
   },
   {
    "duration": 42,
    "start_time": "2023-04-23T16:01:22.731Z"
   },
   {
    "duration": 7,
    "start_time": "2023-04-23T16:01:23.090Z"
   },
   {
    "duration": 13,
    "start_time": "2023-04-23T16:01:23.730Z"
   },
   {
    "duration": 48,
    "start_time": "2023-04-23T16:01:25.958Z"
   },
   {
    "duration": 457,
    "start_time": "2023-04-23T16:01:27.640Z"
   },
   {
    "duration": 2571,
    "start_time": "2023-04-23T16:01:37.522Z"
   },
   {
    "duration": 5,
    "start_time": "2023-04-23T16:01:40.095Z"
   },
   {
    "duration": 184,
    "start_time": "2023-04-23T16:01:40.102Z"
   },
   {
    "duration": 31,
    "start_time": "2023-04-23T16:01:40.289Z"
   },
   {
    "duration": 3,
    "start_time": "2023-04-23T16:01:40.322Z"
   },
   {
    "duration": 98,
    "start_time": "2023-04-23T16:01:40.326Z"
   },
   {
    "duration": 52,
    "start_time": "2023-04-23T16:01:40.426Z"
   },
   {
    "duration": 30,
    "start_time": "2023-04-23T16:01:40.488Z"
   },
   {
    "duration": 7,
    "start_time": "2023-04-23T16:01:40.520Z"
   },
   {
    "duration": 21,
    "start_time": "2023-04-23T16:01:40.531Z"
   },
   {
    "duration": 35,
    "start_time": "2023-04-23T16:01:40.554Z"
   },
   {
    "duration": 41,
    "start_time": "2023-04-23T16:01:40.591Z"
   },
   {
    "duration": 24,
    "start_time": "2023-04-23T16:01:40.634Z"
   },
   {
    "duration": 27,
    "start_time": "2023-04-23T16:01:40.661Z"
   },
   {
    "duration": 8,
    "start_time": "2023-04-23T16:01:40.690Z"
   },
   {
    "duration": 24,
    "start_time": "2023-04-23T16:01:40.700Z"
   },
   {
    "duration": 149,
    "start_time": "2023-04-23T16:01:40.726Z"
   },
   {
    "duration": 10,
    "start_time": "2023-04-23T16:01:40.877Z"
   },
   {
    "duration": 8,
    "start_time": "2023-04-23T16:01:40.889Z"
   },
   {
    "duration": 7,
    "start_time": "2023-04-23T16:01:40.898Z"
   },
   {
    "duration": 186,
    "start_time": "2023-04-23T16:01:40.906Z"
   },
   {
    "duration": 5,
    "start_time": "2023-04-23T16:01:41.093Z"
   },
   {
    "duration": 11,
    "start_time": "2023-04-23T16:01:41.099Z"
   },
   {
    "duration": 10,
    "start_time": "2023-04-23T16:01:41.112Z"
   },
   {
    "duration": 34,
    "start_time": "2023-04-23T16:01:41.124Z"
   },
   {
    "duration": 30,
    "start_time": "2023-04-23T16:01:41.159Z"
   },
   {
    "duration": 3,
    "start_time": "2023-04-23T16:01:41.192Z"
   },
   {
    "duration": 27,
    "start_time": "2023-04-23T16:01:41.201Z"
   },
   {
    "duration": 14,
    "start_time": "2023-04-23T16:01:41.230Z"
   },
   {
    "duration": 28,
    "start_time": "2023-04-23T16:01:41.245Z"
   },
   {
    "duration": 17,
    "start_time": "2023-04-23T16:01:41.275Z"
   },
   {
    "duration": 15,
    "start_time": "2023-04-23T16:01:41.294Z"
   },
   {
    "duration": 39,
    "start_time": "2023-04-23T16:01:41.311Z"
   },
   {
    "duration": 10,
    "start_time": "2023-04-23T16:01:41.352Z"
   },
   {
    "duration": 3072,
    "start_time": "2023-04-23T16:01:41.363Z"
   },
   {
    "duration": 52,
    "start_time": "2023-04-23T16:01:44.436Z"
   },
   {
    "duration": 5,
    "start_time": "2023-04-23T16:01:44.490Z"
   },
   {
    "duration": 10,
    "start_time": "2023-04-23T16:01:44.497Z"
   },
   {
    "duration": 11,
    "start_time": "2023-04-23T16:01:44.509Z"
   },
   {
    "duration": 10,
    "start_time": "2023-04-23T16:01:44.522Z"
   },
   {
    "duration": 26,
    "start_time": "2023-04-23T16:01:44.534Z"
   },
   {
    "duration": 7,
    "start_time": "2023-04-23T16:01:44.562Z"
   },
   {
    "duration": 267,
    "start_time": "2023-04-23T16:01:44.570Z"
   },
   {
    "duration": 228,
    "start_time": "2023-04-23T16:01:44.838Z"
   },
   {
    "duration": 58,
    "start_time": "2023-04-23T16:01:45.067Z"
   },
   {
    "duration": 42,
    "start_time": "2023-04-23T16:01:45.127Z"
   },
   {
    "duration": 19,
    "start_time": "2023-04-23T16:01:45.171Z"
   },
   {
    "duration": 40,
    "start_time": "2023-04-23T16:01:45.191Z"
   },
   {
    "duration": 52,
    "start_time": "2023-04-23T16:01:45.232Z"
   },
   {
    "duration": 505,
    "start_time": "2023-04-23T16:01:45.285Z"
   },
   {
    "duration": 93,
    "start_time": "2023-04-23T16:01:45.793Z"
   },
   {
    "duration": 14,
    "start_time": "2023-04-23T16:01:45.888Z"
   },
   {
    "duration": 2443,
    "start_time": "2023-04-23T16:01:45.904Z"
   },
   {
    "duration": 41393,
    "start_time": "2023-04-23T16:01:48.349Z"
   },
   {
    "duration": 4,
    "start_time": "2023-04-23T16:02:29.744Z"
   },
   {
    "duration": 2428,
    "start_time": "2023-04-23T16:02:29.749Z"
   },
   {
    "duration": 22,
    "start_time": "2023-04-23T16:02:32.179Z"
   },
   {
    "duration": 2299,
    "start_time": "2023-04-23T16:02:32.203Z"
   },
   {
    "duration": 3,
    "start_time": "2023-04-23T16:02:34.503Z"
   },
   {
    "duration": 2380,
    "start_time": "2023-04-23T16:02:34.508Z"
   },
   {
    "duration": 3,
    "start_time": "2023-04-23T16:02:36.890Z"
   },
   {
    "duration": 8,
    "start_time": "2023-04-23T16:02:36.895Z"
   },
   {
    "duration": 2229,
    "start_time": "2023-04-23T16:02:36.904Z"
   },
   {
    "duration": 4,
    "start_time": "2023-04-23T16:02:39.135Z"
   },
   {
    "duration": 3241,
    "start_time": "2023-04-23T16:02:39.141Z"
   },
   {
    "duration": 5987,
    "start_time": "2023-04-23T16:02:42.384Z"
   },
   {
    "duration": 88,
    "start_time": "2023-04-23T16:02:48.373Z"
   },
   {
    "duration": 22,
    "start_time": "2023-04-23T16:02:48.462Z"
   },
   {
    "duration": 45,
    "start_time": "2023-04-23T16:02:48.486Z"
   },
   {
    "duration": 2,
    "start_time": "2023-04-23T16:02:48.533Z"
   },
   {
    "duration": 151,
    "start_time": "2023-04-23T16:02:48.537Z"
   },
   {
    "duration": 13,
    "start_time": "2023-04-23T16:02:48.690Z"
   },
   {
    "duration": 4536,
    "start_time": "2023-04-23T16:02:48.705Z"
   },
   {
    "duration": 1759,
    "start_time": "2023-04-23T16:02:53.243Z"
   },
   {
    "duration": 4,
    "start_time": "2023-04-23T16:02:55.004Z"
   },
   {
    "duration": 103,
    "start_time": "2023-04-23T16:02:55.010Z"
   },
   {
    "duration": 2372,
    "start_time": "2023-04-23T16:02:55.115Z"
   },
   {
    "duration": 7,
    "start_time": "2023-04-23T16:02:57.489Z"
   },
   {
    "duration": 139,
    "start_time": "2023-04-23T16:02:57.498Z"
   },
   {
    "duration": 129,
    "start_time": "2023-04-23T16:02:57.638Z"
   },
   {
    "duration": 309,
    "start_time": "2023-04-23T16:02:57.769Z"
   },
   {
    "duration": 0,
    "start_time": "2023-04-23T16:02:58.080Z"
   },
   {
    "duration": 0,
    "start_time": "2023-04-23T16:02:58.081Z"
   },
   {
    "duration": 0,
    "start_time": "2023-04-23T16:02:58.082Z"
   },
   {
    "duration": 2,
    "start_time": "2023-04-23T16:03:06.621Z"
   },
   {
    "duration": 10,
    "start_time": "2023-04-23T16:03:06.886Z"
   },
   {
    "duration": 5,
    "start_time": "2023-04-23T16:03:08.987Z"
   },
   {
    "duration": 2545,
    "start_time": "2023-04-23T16:04:05.322Z"
   },
   {
    "duration": 2178,
    "start_time": "2023-04-23T16:04:07.869Z"
   },
   {
    "duration": 187,
    "start_time": "2023-04-23T16:04:10.049Z"
   },
   {
    "duration": 29,
    "start_time": "2023-04-23T16:04:10.238Z"
   },
   {
    "duration": 3,
    "start_time": "2023-04-23T16:04:10.270Z"
   },
   {
    "duration": 87,
    "start_time": "2023-04-23T16:04:10.287Z"
   },
   {
    "duration": 53,
    "start_time": "2023-04-23T16:04:10.387Z"
   },
   {
    "duration": 49,
    "start_time": "2023-04-23T16:04:10.441Z"
   },
   {
    "duration": 9,
    "start_time": "2023-04-23T16:04:10.493Z"
   },
   {
    "duration": 47,
    "start_time": "2023-04-23T16:04:10.505Z"
   },
   {
    "duration": 5,
    "start_time": "2023-04-23T16:04:10.555Z"
   },
   {
    "duration": 64,
    "start_time": "2023-04-23T16:04:10.563Z"
   },
   {
    "duration": 24,
    "start_time": "2023-04-23T16:04:10.629Z"
   },
   {
    "duration": 7,
    "start_time": "2023-04-23T16:04:10.658Z"
   },
   {
    "duration": 22,
    "start_time": "2023-04-23T16:04:10.687Z"
   },
   {
    "duration": 16,
    "start_time": "2023-04-23T16:04:10.711Z"
   },
   {
    "duration": 270,
    "start_time": "2023-04-23T16:04:10.729Z"
   },
   {
    "duration": 4,
    "start_time": "2023-04-23T16:04:11.001Z"
   },
   {
    "duration": 11,
    "start_time": "2023-04-23T16:04:11.007Z"
   },
   {
    "duration": 10,
    "start_time": "2023-04-23T16:04:11.020Z"
   },
   {
    "duration": 212,
    "start_time": "2023-04-23T16:04:11.032Z"
   },
   {
    "duration": 4,
    "start_time": "2023-04-23T16:04:11.246Z"
   },
   {
    "duration": 18,
    "start_time": "2023-04-23T16:04:11.252Z"
   },
   {
    "duration": 19,
    "start_time": "2023-04-23T16:04:11.272Z"
   },
   {
    "duration": 32,
    "start_time": "2023-04-23T16:04:11.292Z"
   },
   {
    "duration": 6,
    "start_time": "2023-04-23T16:04:11.326Z"
   },
   {
    "duration": 5,
    "start_time": "2023-04-23T16:04:11.334Z"
   },
   {
    "duration": 7,
    "start_time": "2023-04-23T16:04:11.341Z"
   },
   {
    "duration": 38,
    "start_time": "2023-04-23T16:04:11.350Z"
   },
   {
    "duration": 19,
    "start_time": "2023-04-23T16:04:11.389Z"
   },
   {
    "duration": 9,
    "start_time": "2023-04-23T16:04:11.410Z"
   },
   {
    "duration": 5,
    "start_time": "2023-04-23T16:04:11.421Z"
   },
   {
    "duration": 17,
    "start_time": "2023-04-23T16:04:11.427Z"
   },
   {
    "duration": 44,
    "start_time": "2023-04-23T16:04:11.446Z"
   },
   {
    "duration": 3185,
    "start_time": "2023-04-23T16:04:11.491Z"
   },
   {
    "duration": 53,
    "start_time": "2023-04-23T16:04:14.678Z"
   },
   {
    "duration": 6,
    "start_time": "2023-04-23T16:04:14.732Z"
   },
   {
    "duration": 139,
    "start_time": "2023-04-23T16:04:14.740Z"
   },
   {
    "duration": 40,
    "start_time": "2023-04-23T16:04:14.881Z"
   },
   {
    "duration": 42,
    "start_time": "2023-04-23T16:04:14.923Z"
   },
   {
    "duration": 51,
    "start_time": "2023-04-23T16:04:14.970Z"
   },
   {
    "duration": 30,
    "start_time": "2023-04-23T16:04:15.023Z"
   },
   {
    "duration": 281,
    "start_time": "2023-04-23T16:04:15.055Z"
   },
   {
    "duration": 268,
    "start_time": "2023-04-23T16:04:15.338Z"
   },
   {
    "duration": 57,
    "start_time": "2023-04-23T16:04:15.608Z"
   },
   {
    "duration": 63,
    "start_time": "2023-04-23T16:04:15.667Z"
   },
   {
    "duration": 7,
    "start_time": "2023-04-23T16:04:15.732Z"
   },
   {
    "duration": 25,
    "start_time": "2023-04-23T16:04:15.741Z"
   },
   {
    "duration": 64,
    "start_time": "2023-04-23T16:04:15.768Z"
   },
   {
    "duration": 557,
    "start_time": "2023-04-23T16:04:15.834Z"
   },
   {
    "duration": 109754,
    "start_time": "2023-04-23T16:04:16.393Z"
   },
   {
    "duration": 3,
    "start_time": "2023-04-23T16:06:06.149Z"
   },
   {
    "duration": 1379,
    "start_time": "2023-04-23T16:06:06.154Z"
   },
   {
    "duration": 21648,
    "start_time": "2023-04-23T16:06:07.535Z"
   },
   {
    "duration": 4,
    "start_time": "2023-04-23T16:06:29.185Z"
   },
   {
    "duration": 1206,
    "start_time": "2023-04-23T16:06:29.191Z"
   },
   {
    "duration": 14,
    "start_time": "2023-04-23T16:06:30.399Z"
   },
   {
    "duration": 1310,
    "start_time": "2023-04-23T16:06:30.416Z"
   },
   {
    "duration": 5,
    "start_time": "2023-04-23T16:06:31.727Z"
   },
   {
    "duration": 1299,
    "start_time": "2023-04-23T16:06:31.733Z"
   },
   {
    "duration": 4,
    "start_time": "2023-04-23T16:06:33.033Z"
   },
   {
    "duration": 10,
    "start_time": "2023-04-23T16:06:33.039Z"
   },
   {
    "duration": 1173,
    "start_time": "2023-04-23T16:06:33.051Z"
   },
   {
    "duration": 5,
    "start_time": "2023-04-23T16:06:34.226Z"
   },
   {
    "duration": 2975,
    "start_time": "2023-04-23T16:06:34.233Z"
   },
   {
    "duration": 4827,
    "start_time": "2023-04-23T16:06:37.209Z"
   },
   {
    "duration": 87,
    "start_time": "2023-04-23T16:06:42.038Z"
   },
   {
    "duration": 20,
    "start_time": "2023-04-23T16:06:42.127Z"
   },
   {
    "duration": 51,
    "start_time": "2023-04-23T16:06:42.149Z"
   },
   {
    "duration": 3,
    "start_time": "2023-04-23T16:06:42.202Z"
   },
   {
    "duration": 134,
    "start_time": "2023-04-23T16:06:42.207Z"
   },
   {
    "duration": 12,
    "start_time": "2023-04-23T16:06:42.343Z"
   },
   {
    "duration": 3449,
    "start_time": "2023-04-23T16:06:42.357Z"
   },
   {
    "duration": 1772,
    "start_time": "2023-04-23T16:06:45.808Z"
   },
   {
    "duration": 4,
    "start_time": "2023-04-23T16:06:47.587Z"
   },
   {
    "duration": 174,
    "start_time": "2023-04-23T16:06:47.593Z"
   },
   {
    "duration": 1384,
    "start_time": "2023-04-23T16:06:47.769Z"
   },
   {
    "duration": 8,
    "start_time": "2023-04-23T16:06:49.155Z"
   },
   {
    "duration": 140,
    "start_time": "2023-04-23T16:06:49.165Z"
   },
   {
    "duration": 134,
    "start_time": "2023-04-23T16:06:49.306Z"
   },
   {
    "duration": 3,
    "start_time": "2023-04-23T16:06:49.441Z"
   },
   {
    "duration": 13,
    "start_time": "2023-04-23T16:06:49.446Z"
   },
   {
    "duration": 4,
    "start_time": "2023-04-23T16:06:49.460Z"
   },
   {
    "duration": 2620,
    "start_time": "2023-04-23T16:07:20.425Z"
   },
   {
    "duration": 5,
    "start_time": "2023-04-23T16:07:23.048Z"
   },
   {
    "duration": 163,
    "start_time": "2023-04-23T16:07:23.055Z"
   },
   {
    "duration": 30,
    "start_time": "2023-04-23T16:07:23.220Z"
   },
   {
    "duration": 3,
    "start_time": "2023-04-23T16:07:23.252Z"
   },
   {
    "duration": 93,
    "start_time": "2023-04-23T16:07:23.256Z"
   },
   {
    "duration": 53,
    "start_time": "2023-04-23T16:07:23.350Z"
   },
   {
    "duration": 22,
    "start_time": "2023-04-23T16:07:23.405Z"
   },
   {
    "duration": 15,
    "start_time": "2023-04-23T16:07:23.428Z"
   },
   {
    "duration": 20,
    "start_time": "2023-04-23T16:07:23.445Z"
   },
   {
    "duration": 7,
    "start_time": "2023-04-23T16:07:23.467Z"
   },
   {
    "duration": 39,
    "start_time": "2023-04-23T16:07:23.475Z"
   },
   {
    "duration": 17,
    "start_time": "2023-04-23T16:07:23.515Z"
   },
   {
    "duration": 5,
    "start_time": "2023-04-23T16:07:23.535Z"
   },
   {
    "duration": 16,
    "start_time": "2023-04-23T16:07:23.541Z"
   },
   {
    "duration": 34,
    "start_time": "2023-04-23T16:07:23.558Z"
   },
   {
    "duration": 139,
    "start_time": "2023-04-23T16:07:23.594Z"
   },
   {
    "duration": 4,
    "start_time": "2023-04-23T16:07:23.735Z"
   },
   {
    "duration": 15,
    "start_time": "2023-04-23T16:07:23.741Z"
   },
   {
    "duration": 28,
    "start_time": "2023-04-23T16:07:23.757Z"
   },
   {
    "duration": 170,
    "start_time": "2023-04-23T16:07:23.787Z"
   },
   {
    "duration": 5,
    "start_time": "2023-04-23T16:07:23.959Z"
   },
   {
    "duration": 31,
    "start_time": "2023-04-23T16:07:23.966Z"
   },
   {
    "duration": 18,
    "start_time": "2023-04-23T16:07:23.999Z"
   },
   {
    "duration": 44,
    "start_time": "2023-04-23T16:07:24.019Z"
   },
   {
    "duration": 6,
    "start_time": "2023-04-23T16:07:24.065Z"
   },
   {
    "duration": 33,
    "start_time": "2023-04-23T16:07:24.072Z"
   },
   {
    "duration": 13,
    "start_time": "2023-04-23T16:07:24.107Z"
   },
   {
    "duration": 23,
    "start_time": "2023-04-23T16:07:24.121Z"
   },
   {
    "duration": 50,
    "start_time": "2023-04-23T16:07:24.146Z"
   },
   {
    "duration": 20,
    "start_time": "2023-04-23T16:07:24.198Z"
   },
   {
    "duration": 9,
    "start_time": "2023-04-23T16:07:24.220Z"
   },
   {
    "duration": 28,
    "start_time": "2023-04-23T16:07:24.230Z"
   },
   {
    "duration": 23,
    "start_time": "2023-04-23T16:07:24.260Z"
   },
   {
    "duration": 3079,
    "start_time": "2023-04-23T16:07:24.285Z"
   },
   {
    "duration": 56,
    "start_time": "2023-04-23T16:07:27.366Z"
   },
   {
    "duration": 6,
    "start_time": "2023-04-23T16:07:27.424Z"
   },
   {
    "duration": 14,
    "start_time": "2023-04-23T16:07:27.432Z"
   },
   {
    "duration": 11,
    "start_time": "2023-04-23T16:07:27.448Z"
   },
   {
    "duration": 17,
    "start_time": "2023-04-23T16:07:27.461Z"
   },
   {
    "duration": 30,
    "start_time": "2023-04-23T16:07:27.482Z"
   },
   {
    "duration": 3,
    "start_time": "2023-04-23T16:07:27.514Z"
   },
   {
    "duration": 243,
    "start_time": "2023-04-23T16:07:27.519Z"
   },
   {
    "duration": 231,
    "start_time": "2023-04-23T16:07:27.764Z"
   },
   {
    "duration": 54,
    "start_time": "2023-04-23T16:07:27.997Z"
   },
   {
    "duration": 58,
    "start_time": "2023-04-23T16:07:28.053Z"
   },
   {
    "duration": 7,
    "start_time": "2023-04-23T16:07:28.113Z"
   },
   {
    "duration": 26,
    "start_time": "2023-04-23T16:07:28.122Z"
   },
   {
    "duration": 53,
    "start_time": "2023-04-23T16:07:28.150Z"
   },
   {
    "duration": 486,
    "start_time": "2023-04-23T16:07:28.204Z"
   },
   {
    "duration": 103548,
    "start_time": "2023-04-23T16:07:28.692Z"
   },
   {
    "duration": 3,
    "start_time": "2023-04-23T16:09:12.242Z"
   },
   {
    "duration": 1489,
    "start_time": "2023-04-23T16:09:12.248Z"
   },
   {
    "duration": 24183,
    "start_time": "2023-04-23T16:09:13.739Z"
   },
   {
    "duration": 4,
    "start_time": "2023-04-23T16:09:37.924Z"
   },
   {
    "duration": 1322,
    "start_time": "2023-04-23T16:09:37.929Z"
   },
   {
    "duration": 13,
    "start_time": "2023-04-23T16:09:39.252Z"
   },
   {
    "duration": 1345,
    "start_time": "2023-04-23T16:09:39.267Z"
   },
   {
    "duration": 5,
    "start_time": "2023-04-23T16:09:40.615Z"
   },
   {
    "duration": 1392,
    "start_time": "2023-04-23T16:09:40.622Z"
   },
   {
    "duration": 4,
    "start_time": "2023-04-23T16:09:42.016Z"
   },
   {
    "duration": 18,
    "start_time": "2023-04-23T16:09:42.022Z"
   },
   {
    "duration": 1285,
    "start_time": "2023-04-23T16:09:42.042Z"
   },
   {
    "duration": 6,
    "start_time": "2023-04-23T16:09:43.329Z"
   },
   {
    "duration": 3163,
    "start_time": "2023-04-23T16:09:43.337Z"
   },
   {
    "duration": 5086,
    "start_time": "2023-04-23T16:09:46.502Z"
   },
   {
    "duration": 87,
    "start_time": "2023-04-23T16:09:51.589Z"
   },
   {
    "duration": 21,
    "start_time": "2023-04-23T16:09:51.677Z"
   },
   {
    "duration": 37,
    "start_time": "2023-04-23T16:09:51.700Z"
   },
   {
    "duration": 3,
    "start_time": "2023-04-23T16:09:51.739Z"
   },
   {
    "duration": 154,
    "start_time": "2023-04-23T16:09:51.743Z"
   },
   {
    "duration": 12,
    "start_time": "2023-04-23T16:09:51.899Z"
   },
   {
    "duration": 3441,
    "start_time": "2023-04-23T16:09:51.913Z"
   },
   {
    "duration": 1738,
    "start_time": "2023-04-23T16:09:55.356Z"
   },
   {
    "duration": 3,
    "start_time": "2023-04-23T16:09:57.096Z"
   },
   {
    "duration": 162,
    "start_time": "2023-04-23T16:09:57.101Z"
   },
   {
    "duration": 1440,
    "start_time": "2023-04-23T16:09:57.265Z"
   },
   {
    "duration": 8,
    "start_time": "2023-04-23T16:09:58.706Z"
   },
   {
    "duration": 147,
    "start_time": "2023-04-23T16:09:58.716Z"
   },
   {
    "duration": 132,
    "start_time": "2023-04-23T16:09:58.865Z"
   },
   {
    "duration": 3,
    "start_time": "2023-04-23T16:09:58.999Z"
   },
   {
    "duration": 13,
    "start_time": "2023-04-23T16:09:59.004Z"
   },
   {
    "duration": 4,
    "start_time": "2023-04-23T16:09:59.019Z"
   },
   {
    "duration": 13634,
    "start_time": "2023-04-23T20:17:14.385Z"
   },
   {
    "duration": 1993,
    "start_time": "2023-04-23T20:17:28.021Z"
   },
   {
    "duration": 535,
    "start_time": "2023-04-23T20:17:30.015Z"
   },
   {
    "duration": 22,
    "start_time": "2023-04-23T20:17:30.552Z"
   },
   {
    "duration": 2,
    "start_time": "2023-04-23T20:17:30.576Z"
   },
   {
    "duration": 113,
    "start_time": "2023-04-23T20:17:30.579Z"
   },
   {
    "duration": 48,
    "start_time": "2023-04-23T20:17:30.694Z"
   },
   {
    "duration": 19,
    "start_time": "2023-04-23T20:17:30.743Z"
   },
   {
    "duration": 22,
    "start_time": "2023-04-23T20:17:30.764Z"
   },
   {
    "duration": 31,
    "start_time": "2023-04-23T20:17:30.787Z"
   },
   {
    "duration": 27,
    "start_time": "2023-04-23T20:17:30.820Z"
   },
   {
    "duration": 57,
    "start_time": "2023-04-23T20:17:30.848Z"
   },
   {
    "duration": 18,
    "start_time": "2023-04-23T20:17:30.907Z"
   },
   {
    "duration": 27,
    "start_time": "2023-04-23T20:17:30.928Z"
   },
   {
    "duration": 24,
    "start_time": "2023-04-23T20:17:30.957Z"
   },
   {
    "duration": 30,
    "start_time": "2023-04-23T20:17:30.983Z"
   },
   {
    "duration": 261,
    "start_time": "2023-04-23T20:17:31.015Z"
   },
   {
    "duration": 4,
    "start_time": "2023-04-23T20:17:31.278Z"
   },
   {
    "duration": 40,
    "start_time": "2023-04-23T20:17:31.284Z"
   },
   {
    "duration": 19,
    "start_time": "2023-04-23T20:17:31.326Z"
   },
   {
    "duration": 191,
    "start_time": "2023-04-23T20:17:31.346Z"
   },
   {
    "duration": 4,
    "start_time": "2023-04-23T20:17:31.539Z"
   },
   {
    "duration": 22,
    "start_time": "2023-04-23T20:17:31.544Z"
   },
   {
    "duration": 36,
    "start_time": "2023-04-23T20:17:31.568Z"
   },
   {
    "duration": 34,
    "start_time": "2023-04-23T20:17:31.605Z"
   },
   {
    "duration": 5,
    "start_time": "2023-04-23T20:17:31.641Z"
   },
   {
    "duration": 21,
    "start_time": "2023-04-23T20:17:31.648Z"
   },
   {
    "duration": 23,
    "start_time": "2023-04-23T20:17:31.671Z"
   },
   {
    "duration": 14,
    "start_time": "2023-04-23T20:17:31.696Z"
   },
   {
    "duration": 20,
    "start_time": "2023-04-23T20:17:31.712Z"
   },
   {
    "duration": 6,
    "start_time": "2023-04-23T20:17:31.734Z"
   },
   {
    "duration": 14,
    "start_time": "2023-04-23T20:17:31.742Z"
   },
   {
    "duration": 23,
    "start_time": "2023-04-23T20:17:31.757Z"
   },
   {
    "duration": 11,
    "start_time": "2023-04-23T20:17:31.781Z"
   },
   {
    "duration": 2562,
    "start_time": "2023-04-23T20:17:31.794Z"
   },
   {
    "duration": 48,
    "start_time": "2023-04-23T20:17:34.357Z"
   },
   {
    "duration": 5,
    "start_time": "2023-04-23T20:17:34.407Z"
   },
   {
    "duration": 5,
    "start_time": "2023-04-23T20:17:34.414Z"
   },
   {
    "duration": 3,
    "start_time": "2023-04-23T20:17:34.420Z"
   },
   {
    "duration": 7,
    "start_time": "2023-04-23T20:17:34.424Z"
   },
   {
    "duration": 19,
    "start_time": "2023-04-23T20:17:34.435Z"
   },
   {
    "duration": 3,
    "start_time": "2023-04-23T20:17:34.455Z"
   },
   {
    "duration": 242,
    "start_time": "2023-04-23T20:17:34.459Z"
   },
   {
    "duration": 212,
    "start_time": "2023-04-23T20:17:34.703Z"
   },
   {
    "duration": 46,
    "start_time": "2023-04-23T20:17:34.916Z"
   },
   {
    "duration": 55,
    "start_time": "2023-04-23T20:17:34.964Z"
   },
   {
    "duration": 7,
    "start_time": "2023-04-23T20:17:35.021Z"
   },
   {
    "duration": 12,
    "start_time": "2023-04-23T20:17:35.029Z"
   },
   {
    "duration": 57,
    "start_time": "2023-04-23T20:17:35.043Z"
   },
   {
    "duration": 493,
    "start_time": "2023-04-23T20:17:35.102Z"
   },
   {
    "duration": 84805,
    "start_time": "2023-04-23T20:17:35.597Z"
   },
   {
    "duration": 3,
    "start_time": "2023-04-23T20:19:00.404Z"
   },
   {
    "duration": 1845,
    "start_time": "2023-04-23T20:19:00.408Z"
   },
   {
    "duration": 30263,
    "start_time": "2023-04-23T20:19:02.255Z"
   },
   {
    "duration": 3,
    "start_time": "2023-04-23T20:19:32.519Z"
   },
   {
    "duration": 1693,
    "start_time": "2023-04-23T20:19:32.524Z"
   },
   {
    "duration": 14,
    "start_time": "2023-04-23T20:19:34.219Z"
   },
   {
    "duration": 1676,
    "start_time": "2023-04-23T20:19:34.235Z"
   },
   {
    "duration": 3,
    "start_time": "2023-04-23T20:19:35.913Z"
   },
   {
    "duration": 1714,
    "start_time": "2023-04-23T20:19:35.917Z"
   },
   {
    "duration": 3,
    "start_time": "2023-04-23T20:19:37.633Z"
   },
   {
    "duration": 21,
    "start_time": "2023-04-23T20:19:37.637Z"
   },
   {
    "duration": 1585,
    "start_time": "2023-04-23T20:19:37.659Z"
   },
   {
    "duration": 4,
    "start_time": "2023-04-23T20:19:39.245Z"
   },
   {
    "duration": 2589,
    "start_time": "2023-04-23T20:19:39.251Z"
   },
   {
    "duration": 4763,
    "start_time": "2023-04-23T20:19:41.841Z"
   },
   {
    "duration": 269,
    "start_time": "2023-04-23T20:19:46.605Z"
   },
   {
    "duration": 15,
    "start_time": "2023-04-23T20:19:46.876Z"
   },
   {
    "duration": 29,
    "start_time": "2023-04-23T20:19:46.892Z"
   },
   {
    "duration": 2,
    "start_time": "2023-04-23T20:19:46.922Z"
   },
   {
    "duration": 115,
    "start_time": "2023-04-23T20:19:46.926Z"
   },
   {
    "duration": 9,
    "start_time": "2023-04-23T20:19:47.043Z"
   },
   {
    "duration": 3783,
    "start_time": "2023-04-23T20:19:47.053Z"
   },
   {
    "duration": 1471,
    "start_time": "2023-04-23T20:19:50.837Z"
   },
   {
    "duration": 4,
    "start_time": "2023-04-23T20:19:52.310Z"
   },
   {
    "duration": 138,
    "start_time": "2023-04-23T20:19:52.316Z"
   },
   {
    "duration": 1970,
    "start_time": "2023-04-23T20:19:52.455Z"
   },
   {
    "duration": 11,
    "start_time": "2023-04-23T20:19:54.427Z"
   },
   {
    "duration": 134,
    "start_time": "2023-04-23T20:19:54.439Z"
   },
   {
    "duration": 120,
    "start_time": "2023-04-23T20:19:54.575Z"
   },
   {
    "duration": 2,
    "start_time": "2023-04-23T20:19:54.696Z"
   },
   {
    "duration": 18,
    "start_time": "2023-04-23T20:19:54.699Z"
   },
   {
    "duration": 7,
    "start_time": "2023-04-23T20:19:54.718Z"
   },
   {
    "duration": 4,
    "start_time": "2023-04-23T20:23:38.497Z"
   },
   {
    "duration": 2571,
    "start_time": "2023-04-23T20:24:15.575Z"
   },
   {
    "duration": 2485,
    "start_time": "2023-04-23T20:24:52.674Z"
   },
   {
    "duration": 2504,
    "start_time": "2023-04-23T20:25:04.998Z"
   },
   {
    "duration": 8002,
    "start_time": "2023-04-23T20:25:36.080Z"
   },
   {
    "duration": 14,
    "start_time": "2023-04-23T20:26:11.572Z"
   },
   {
    "duration": 3,
    "start_time": "2023-04-23T20:27:22.863Z"
   },
   {
    "duration": 7,
    "start_time": "2023-04-23T20:27:56.556Z"
   },
   {
    "duration": 1921,
    "start_time": "2023-04-23T20:31:06.133Z"
   },
   {
    "duration": 73,
    "start_time": "2023-04-23T20:32:52.897Z"
   },
   {
    "duration": 33,
    "start_time": "2023-04-23T20:32:54.449Z"
   },
   {
    "duration": 75,
    "start_time": "2023-04-23T20:33:32.577Z"
   },
   {
    "duration": 32,
    "start_time": "2023-04-23T20:33:34.368Z"
   },
   {
    "duration": 111,
    "start_time": "2023-04-23T20:33:37.400Z"
   },
   {
    "duration": 155,
    "start_time": "2023-04-23T20:33:42.109Z"
   },
   {
    "duration": 10,
    "start_time": "2023-04-23T20:34:02.844Z"
   },
   {
    "duration": 3,
    "start_time": "2023-04-23T20:34:03.648Z"
   },
   {
    "duration": 110,
    "start_time": "2023-04-23T20:34:03.831Z"
   },
   {
    "duration": 2007,
    "start_time": "2023-04-23T20:34:04.595Z"
   },
   {
    "duration": 27236,
    "start_time": "2023-04-23T20:34:49.657Z"
   },
   {
    "duration": 5,
    "start_time": "2023-04-23T20:40:40.799Z"
   },
   {
    "duration": 5,
    "start_time": "2023-04-23T20:40:45.768Z"
   },
   {
    "duration": 107,
    "start_time": "2023-04-23T20:42:13.101Z"
   },
   {
    "duration": 5,
    "start_time": "2023-04-23T20:42:46.485Z"
   },
   {
    "duration": 6,
    "start_time": "2023-04-23T20:44:04.319Z"
   },
   {
    "duration": 6,
    "start_time": "2023-04-23T20:44:16.987Z"
   },
   {
    "duration": 100,
    "start_time": "2023-04-23T20:44:30.809Z"
   },
   {
    "duration": 5,
    "start_time": "2023-04-23T20:44:45.357Z"
   },
   {
    "duration": 20,
    "start_time": "2023-04-23T20:45:31.165Z"
   },
   {
    "duration": 127,
    "start_time": "2023-04-23T20:45:45.824Z"
   },
   {
    "duration": 25,
    "start_time": "2023-04-23T20:45:54.245Z"
   },
   {
    "duration": 16,
    "start_time": "2023-04-23T20:46:10.237Z"
   },
   {
    "duration": 33,
    "start_time": "2023-04-23T20:46:25.039Z"
   },
   {
    "duration": 27,
    "start_time": "2023-04-23T20:46:29.946Z"
   },
   {
    "duration": 37,
    "start_time": "2023-04-23T20:46:33.039Z"
   },
   {
    "duration": 27,
    "start_time": "2023-04-23T20:46:35.195Z"
   },
   {
    "duration": 28,
    "start_time": "2023-04-23T20:46:37.114Z"
   },
   {
    "duration": 29,
    "start_time": "2023-04-23T20:46:40.709Z"
   },
   {
    "duration": 41,
    "start_time": "2023-04-23T20:46:49.759Z"
   },
   {
    "duration": 29,
    "start_time": "2023-04-23T20:46:52.610Z"
   },
   {
    "duration": 26,
    "start_time": "2023-04-23T20:46:56.008Z"
   },
   {
    "duration": 4,
    "start_time": "2023-04-23T20:47:19.206Z"
   },
   {
    "duration": 22437,
    "start_time": "2023-04-23T20:47:22.662Z"
   },
   {
    "duration": 106,
    "start_time": "2023-04-23T20:48:34.705Z"
   },
   {
    "duration": 2076,
    "start_time": "2023-04-23T20:49:25.155Z"
   },
   {
    "duration": 1798,
    "start_time": "2023-04-23T20:49:27.233Z"
   },
   {
    "duration": 134,
    "start_time": "2023-04-23T20:49:29.032Z"
   },
   {
    "duration": 20,
    "start_time": "2023-04-23T20:49:29.168Z"
   },
   {
    "duration": 2,
    "start_time": "2023-04-23T20:49:29.194Z"
   },
   {
    "duration": 74,
    "start_time": "2023-04-23T20:49:29.197Z"
   },
   {
    "duration": 55,
    "start_time": "2023-04-23T20:49:29.273Z"
   },
   {
    "duration": 16,
    "start_time": "2023-04-23T20:49:29.330Z"
   },
   {
    "duration": 10,
    "start_time": "2023-04-23T20:49:29.348Z"
   },
   {
    "duration": 19,
    "start_time": "2023-04-23T20:49:29.359Z"
   },
   {
    "duration": 12,
    "start_time": "2023-04-23T20:49:29.380Z"
   },
   {
    "duration": 41,
    "start_time": "2023-04-23T20:49:29.393Z"
   },
   {
    "duration": 17,
    "start_time": "2023-04-23T20:49:29.437Z"
   },
   {
    "duration": 4,
    "start_time": "2023-04-23T20:49:29.458Z"
   },
   {
    "duration": 5,
    "start_time": "2023-04-23T20:49:29.464Z"
   },
   {
    "duration": 28,
    "start_time": "2023-04-23T20:49:29.471Z"
   },
   {
    "duration": 208,
    "start_time": "2023-04-23T20:49:29.500Z"
   },
   {
    "duration": 4,
    "start_time": "2023-04-23T20:49:29.710Z"
   },
   {
    "duration": 7,
    "start_time": "2023-04-23T20:49:29.716Z"
   },
   {
    "duration": 6,
    "start_time": "2023-04-23T20:49:29.724Z"
   },
   {
    "duration": 168,
    "start_time": "2023-04-23T20:49:29.731Z"
   },
   {
    "duration": 4,
    "start_time": "2023-04-23T20:49:29.901Z"
   },
   {
    "duration": 8,
    "start_time": "2023-04-23T20:49:29.906Z"
   },
   {
    "duration": 6,
    "start_time": "2023-04-23T20:49:29.916Z"
   },
   {
    "duration": 21,
    "start_time": "2023-04-23T20:49:29.923Z"
   },
   {
    "duration": 4,
    "start_time": "2023-04-23T20:49:29.945Z"
   },
   {
    "duration": 133,
    "start_time": "2023-04-23T20:49:29.951Z"
   },
   {
    "duration": 9,
    "start_time": "2023-04-23T20:49:30.086Z"
   },
   {
    "duration": 30,
    "start_time": "2023-04-23T20:49:30.097Z"
   },
   {
    "duration": 4,
    "start_time": "2023-04-23T20:49:30.129Z"
   },
   {
    "duration": 14,
    "start_time": "2023-04-23T20:49:30.135Z"
   },
   {
    "duration": 15,
    "start_time": "2023-04-23T20:49:30.150Z"
   },
   {
    "duration": 11,
    "start_time": "2023-04-23T20:49:30.166Z"
   },
   {
    "duration": 12,
    "start_time": "2023-04-23T20:49:30.178Z"
   },
   {
    "duration": 14,
    "start_time": "2023-04-23T20:49:30.191Z"
   },
   {
    "duration": 33,
    "start_time": "2023-04-23T20:49:30.207Z"
   },
   {
    "duration": 19,
    "start_time": "2023-04-23T20:49:30.241Z"
   },
   {
    "duration": 23,
    "start_time": "2023-04-23T20:49:30.261Z"
   },
   {
    "duration": 30,
    "start_time": "2023-04-23T20:49:30.285Z"
   },
   {
    "duration": 8,
    "start_time": "2023-04-23T20:49:30.316Z"
   },
   {
    "duration": 2577,
    "start_time": "2023-04-23T20:49:30.327Z"
   },
   {
    "duration": 37,
    "start_time": "2023-04-23T20:49:32.906Z"
   },
   {
    "duration": 5,
    "start_time": "2023-04-23T20:49:32.944Z"
   },
   {
    "duration": 5,
    "start_time": "2023-04-23T20:49:32.950Z"
   },
   {
    "duration": 4,
    "start_time": "2023-04-23T20:49:32.956Z"
   },
   {
    "duration": 174,
    "start_time": "2023-04-23T20:49:32.961Z"
   },
   {
    "duration": 0,
    "start_time": "2023-04-23T20:49:33.136Z"
   },
   {
    "duration": 0,
    "start_time": "2023-04-23T20:49:33.137Z"
   },
   {
    "duration": 0,
    "start_time": "2023-04-23T20:49:33.138Z"
   },
   {
    "duration": 0,
    "start_time": "2023-04-23T20:49:33.139Z"
   },
   {
    "duration": 0,
    "start_time": "2023-04-23T20:49:33.140Z"
   },
   {
    "duration": 0,
    "start_time": "2023-04-23T20:49:33.141Z"
   },
   {
    "duration": 0,
    "start_time": "2023-04-23T20:49:33.141Z"
   },
   {
    "duration": 0,
    "start_time": "2023-04-23T20:49:33.142Z"
   },
   {
    "duration": 0,
    "start_time": "2023-04-23T20:49:33.143Z"
   },
   {
    "duration": 0,
    "start_time": "2023-04-23T20:49:33.144Z"
   },
   {
    "duration": 0,
    "start_time": "2023-04-23T20:49:33.145Z"
   },
   {
    "duration": 0,
    "start_time": "2023-04-23T20:49:33.146Z"
   },
   {
    "duration": 0,
    "start_time": "2023-04-23T20:49:33.147Z"
   },
   {
    "duration": 0,
    "start_time": "2023-04-23T20:49:33.148Z"
   },
   {
    "duration": 0,
    "start_time": "2023-04-23T20:49:33.149Z"
   },
   {
    "duration": 1,
    "start_time": "2023-04-23T20:49:33.149Z"
   },
   {
    "duration": 0,
    "start_time": "2023-04-23T20:49:33.151Z"
   },
   {
    "duration": 0,
    "start_time": "2023-04-23T20:49:33.151Z"
   },
   {
    "duration": 0,
    "start_time": "2023-04-23T20:49:33.152Z"
   },
   {
    "duration": 0,
    "start_time": "2023-04-23T20:49:33.153Z"
   },
   {
    "duration": 0,
    "start_time": "2023-04-23T20:49:33.155Z"
   },
   {
    "duration": 0,
    "start_time": "2023-04-23T20:49:33.155Z"
   },
   {
    "duration": 0,
    "start_time": "2023-04-23T20:49:33.156Z"
   },
   {
    "duration": 0,
    "start_time": "2023-04-23T20:49:33.157Z"
   },
   {
    "duration": 0,
    "start_time": "2023-04-23T20:49:33.158Z"
   },
   {
    "duration": 0,
    "start_time": "2023-04-23T20:49:33.194Z"
   },
   {
    "duration": 0,
    "start_time": "2023-04-23T20:49:33.195Z"
   },
   {
    "duration": 0,
    "start_time": "2023-04-23T20:49:33.196Z"
   },
   {
    "duration": 0,
    "start_time": "2023-04-23T20:49:33.197Z"
   },
   {
    "duration": 0,
    "start_time": "2023-04-23T20:49:33.198Z"
   },
   {
    "duration": 0,
    "start_time": "2023-04-23T20:49:33.198Z"
   },
   {
    "duration": 0,
    "start_time": "2023-04-23T20:49:33.199Z"
   },
   {
    "duration": 0,
    "start_time": "2023-04-23T20:49:33.200Z"
   },
   {
    "duration": 0,
    "start_time": "2023-04-23T20:49:33.201Z"
   },
   {
    "duration": 0,
    "start_time": "2023-04-23T20:49:33.202Z"
   },
   {
    "duration": 0,
    "start_time": "2023-04-23T20:49:33.203Z"
   },
   {
    "duration": 0,
    "start_time": "2023-04-23T20:49:33.204Z"
   },
   {
    "duration": 0,
    "start_time": "2023-04-23T20:49:33.205Z"
   },
   {
    "duration": 0,
    "start_time": "2023-04-23T20:49:33.206Z"
   },
   {
    "duration": 0,
    "start_time": "2023-04-23T20:49:33.206Z"
   },
   {
    "duration": 0,
    "start_time": "2023-04-23T20:49:33.207Z"
   },
   {
    "duration": 0,
    "start_time": "2023-04-23T20:49:33.208Z"
   },
   {
    "duration": 0,
    "start_time": "2023-04-23T20:49:33.209Z"
   },
   {
    "duration": 0,
    "start_time": "2023-04-23T20:49:33.210Z"
   },
   {
    "duration": 0,
    "start_time": "2023-04-23T20:49:33.211Z"
   },
   {
    "duration": 3,
    "start_time": "2023-04-23T20:50:04.828Z"
   },
   {
    "duration": 6,
    "start_time": "2023-04-23T20:50:05.215Z"
   },
   {
    "duration": 13,
    "start_time": "2023-04-23T20:50:13.510Z"
   },
   {
    "duration": 21,
    "start_time": "2023-04-23T20:50:13.526Z"
   },
   {
    "duration": 4,
    "start_time": "2023-04-23T20:50:13.548Z"
   },
   {
    "duration": 218,
    "start_time": "2023-04-23T20:50:13.553Z"
   },
   {
    "duration": 207,
    "start_time": "2023-04-23T20:50:13.773Z"
   },
   {
    "duration": 59,
    "start_time": "2023-04-23T20:50:13.982Z"
   },
   {
    "duration": 53,
    "start_time": "2023-04-23T20:50:14.044Z"
   },
   {
    "duration": 7,
    "start_time": "2023-04-23T20:50:14.100Z"
   },
   {
    "duration": 15,
    "start_time": "2023-04-23T20:50:14.109Z"
   },
   {
    "duration": 69,
    "start_time": "2023-04-23T20:50:14.126Z"
   },
   {
    "duration": 2598,
    "start_time": "2023-04-23T20:50:14.197Z"
   },
   {
    "duration": 93759,
    "start_time": "2023-04-23T20:50:16.797Z"
   },
   {
    "duration": 3,
    "start_time": "2023-04-23T20:51:50.558Z"
   },
   {
    "duration": 2087,
    "start_time": "2023-04-23T20:51:50.563Z"
   },
   {
    "duration": 34513,
    "start_time": "2023-04-23T20:51:52.651Z"
   },
   {
    "duration": 4,
    "start_time": "2023-04-23T20:52:27.166Z"
   },
   {
    "duration": 8448,
    "start_time": "2023-04-23T20:52:27.171Z"
   },
   {
    "duration": 14,
    "start_time": "2023-04-23T20:52:35.621Z"
   },
   {
    "duration": 13,
    "start_time": "2023-04-23T20:52:35.636Z"
   },
   {
    "duration": 1600,
    "start_time": "2023-04-23T20:52:35.650Z"
   },
   {
    "duration": 3,
    "start_time": "2023-04-23T20:52:37.252Z"
   },
   {
    "duration": 1622,
    "start_time": "2023-04-23T20:52:37.256Z"
   },
   {
    "duration": 3,
    "start_time": "2023-04-23T20:52:38.880Z"
   },
   {
    "duration": 12,
    "start_time": "2023-04-23T20:52:38.884Z"
   },
   {
    "duration": 1553,
    "start_time": "2023-04-23T20:52:38.898Z"
   },
   {
    "duration": 3,
    "start_time": "2023-04-23T20:52:40.453Z"
   },
   {
    "duration": 2583,
    "start_time": "2023-04-23T20:52:40.458Z"
   },
   {
    "duration": 4677,
    "start_time": "2023-04-23T20:52:43.042Z"
   },
   {
    "duration": 72,
    "start_time": "2023-04-23T20:52:47.720Z"
   },
   {
    "duration": 15,
    "start_time": "2023-04-23T20:52:47.794Z"
   },
   {
    "duration": 29,
    "start_time": "2023-04-23T20:52:47.811Z"
   },
   {
    "duration": 9,
    "start_time": "2023-04-23T20:52:47.842Z"
   },
   {
    "duration": 3,
    "start_time": "2023-04-23T20:52:47.853Z"
   },
   {
    "duration": 130,
    "start_time": "2023-04-23T20:52:47.858Z"
   },
   {
    "duration": 1841,
    "start_time": "2023-04-23T20:52:47.989Z"
   },
   {
    "duration": 3349,
    "start_time": "2023-04-23T20:52:49.832Z"
   },
   {
    "duration": 1484,
    "start_time": "2023-04-23T20:52:53.183Z"
   },
   {
    "duration": 3,
    "start_time": "2023-04-23T20:52:54.668Z"
   },
   {
    "duration": 126,
    "start_time": "2023-04-23T20:52:54.673Z"
   },
   {
    "duration": 1679,
    "start_time": "2023-04-23T20:52:54.801Z"
   },
   {
    "duration": 12,
    "start_time": "2023-04-23T20:52:56.483Z"
   },
   {
    "duration": 111,
    "start_time": "2023-04-23T20:52:56.496Z"
   },
   {
    "duration": 103,
    "start_time": "2023-04-23T20:52:56.609Z"
   },
   {
    "duration": 2,
    "start_time": "2023-04-23T20:52:56.714Z"
   },
   {
    "duration": 10,
    "start_time": "2023-04-23T20:52:56.717Z"
   },
   {
    "duration": 4,
    "start_time": "2023-04-23T20:52:56.729Z"
   },
   {
    "duration": 4,
    "start_time": "2023-04-23T20:53:07.528Z"
   },
   {
    "duration": 7,
    "start_time": "2023-04-23T20:53:41.076Z"
   },
   {
    "duration": 2,
    "start_time": "2023-04-23T20:54:04.451Z"
   },
   {
    "duration": 5,
    "start_time": "2023-04-23T20:54:04.777Z"
   },
   {
    "duration": 21,
    "start_time": "2023-04-23T20:54:05.397Z"
   },
   {
    "duration": 2,
    "start_time": "2023-04-23T20:54:10.095Z"
   },
   {
    "duration": 195,
    "start_time": "2023-04-23T20:54:11.611Z"
   },
   {
    "duration": 183,
    "start_time": "2023-04-23T20:54:12.347Z"
   },
   {
    "duration": 44,
    "start_time": "2023-04-23T20:54:12.757Z"
   },
   {
    "duration": 38,
    "start_time": "2023-04-23T20:54:14.603Z"
   },
   {
    "duration": 6,
    "start_time": "2023-04-23T20:54:14.990Z"
   },
   {
    "duration": 11,
    "start_time": "2023-04-23T20:54:15.515Z"
   },
   {
    "duration": 39,
    "start_time": "2023-04-23T20:54:18.278Z"
   },
   {
    "duration": 7454,
    "start_time": "2023-04-23T20:54:37.013Z"
   },
   {
    "duration": 13,
    "start_time": "2023-04-23T20:54:44.468Z"
   },
   {
    "duration": 19,
    "start_time": "2023-04-23T20:54:44.482Z"
   },
   {
    "duration": 1564,
    "start_time": "2023-04-23T20:54:44.503Z"
   },
   {
    "duration": 3,
    "start_time": "2023-04-23T20:54:46.069Z"
   },
   {
    "duration": 1624,
    "start_time": "2023-04-23T20:54:46.073Z"
   },
   {
    "duration": 3,
    "start_time": "2023-04-23T20:54:49.795Z"
   },
   {
    "duration": 5,
    "start_time": "2023-04-23T20:54:51.357Z"
   },
   {
    "duration": 1537,
    "start_time": "2023-04-23T20:54:53.761Z"
   },
   {
    "duration": 4,
    "start_time": "2023-04-23T20:54:55.300Z"
   },
   {
    "duration": 2604,
    "start_time": "2023-04-23T20:54:55.305Z"
   },
   {
    "duration": 4601,
    "start_time": "2023-04-23T20:54:57.911Z"
   },
   {
    "duration": 79,
    "start_time": "2023-04-23T20:55:02.514Z"
   },
   {
    "duration": 18,
    "start_time": "2023-04-23T20:55:02.595Z"
   },
   {
    "duration": 32,
    "start_time": "2023-04-23T20:55:02.615Z"
   },
   {
    "duration": 10,
    "start_time": "2023-04-23T20:55:02.649Z"
   },
   {
    "duration": 3,
    "start_time": "2023-04-23T20:55:02.661Z"
   },
   {
    "duration": 108,
    "start_time": "2023-04-23T20:55:03.025Z"
   },
   {
    "duration": 1875,
    "start_time": "2023-04-23T20:55:03.423Z"
   },
   {
    "duration": 3321,
    "start_time": "2023-04-23T20:55:05.301Z"
   },
   {
    "duration": 1437,
    "start_time": "2023-04-23T20:55:08.624Z"
   },
   {
    "duration": 3,
    "start_time": "2023-04-23T20:55:10.063Z"
   },
   {
    "duration": 4,
    "start_time": "2023-04-23T20:55:18.462Z"
   },
   {
    "duration": 119,
    "start_time": "2023-04-23T20:55:20.279Z"
   },
   {
    "duration": 1638,
    "start_time": "2023-04-23T20:55:20.882Z"
   },
   {
    "duration": 7,
    "start_time": "2023-04-23T20:55:22.522Z"
   },
   {
    "duration": 23480,
    "start_time": "2023-04-23T20:57:44.301Z"
   },
   {
    "duration": 265628,
    "start_time": "2023-04-23T21:00:47.965Z"
   },
   {
    "duration": 0,
    "start_time": "2023-04-23T21:05:13.594Z"
   },
   {
    "duration": 4,
    "start_time": "2023-04-23T21:05:16.446Z"
   },
   {
    "duration": 14,
    "start_time": "2023-04-23T21:05:50.808Z"
   },
   {
    "duration": 1259,
    "start_time": "2023-04-23T21:11:09.155Z"
   },
   {
    "duration": 13,
    "start_time": "2023-04-23T21:11:20.359Z"
   },
   {
    "duration": 10,
    "start_time": "2023-04-23T21:12:09.233Z"
   },
   {
    "duration": 4,
    "start_time": "2023-04-23T21:12:11.541Z"
   },
   {
    "duration": 8,
    "start_time": "2023-04-23T21:12:27.192Z"
   },
   {
    "duration": 8,
    "start_time": "2023-04-23T21:12:33.458Z"
   },
   {
    "duration": 93,
    "start_time": "2023-04-23T21:14:00.864Z"
   },
   {
    "duration": 22,
    "start_time": "2023-04-23T21:17:25.990Z"
   },
   {
    "duration": 26,
    "start_time": "2023-04-23T21:17:34.674Z"
   },
   {
    "duration": 28,
    "start_time": "2023-04-23T21:17:50.165Z"
   },
   {
    "duration": 27,
    "start_time": "2023-04-23T21:18:09.097Z"
   },
   {
    "duration": 91,
    "start_time": "2023-04-23T21:21:29.355Z"
   },
   {
    "duration": 13,
    "start_time": "2023-04-23T21:22:07.701Z"
   },
   {
    "duration": 35,
    "start_time": "2023-04-23T21:23:24.120Z"
   },
   {
    "duration": 32,
    "start_time": "2023-04-23T21:23:34.943Z"
   },
   {
    "duration": 32,
    "start_time": "2023-04-23T21:23:45.084Z"
   },
   {
    "duration": 9,
    "start_time": "2023-04-23T21:24:27.781Z"
   },
   {
    "duration": 29,
    "start_time": "2023-04-23T21:24:36.240Z"
   },
   {
    "duration": 56,
    "start_time": "2023-04-23T21:29:34.880Z"
   },
   {
    "duration": 41,
    "start_time": "2023-04-23T21:29:40.498Z"
   },
   {
    "duration": 40,
    "start_time": "2023-04-23T21:30:02.378Z"
   },
   {
    "duration": 13831,
    "start_time": "2023-04-24T08:12:33.987Z"
   },
   {
    "duration": 2192,
    "start_time": "2023-04-24T08:12:47.820Z"
   },
   {
    "duration": 609,
    "start_time": "2023-04-24T08:12:50.014Z"
   },
   {
    "duration": 8,
    "start_time": "2023-04-24T08:13:23.729Z"
   },
   {
    "duration": 5,
    "start_time": "2023-04-24T08:13:34.530Z"
   },
   {
    "duration": 175,
    "start_time": "2023-04-24T08:13:41.227Z"
   },
   {
    "duration": 9,
    "start_time": "2023-04-24T08:14:54.041Z"
   },
   {
    "duration": 9,
    "start_time": "2023-04-24T08:15:37.126Z"
   },
   {
    "duration": 7,
    "start_time": "2023-04-24T08:15:42.625Z"
   },
   {
    "duration": 7,
    "start_time": "2023-04-24T08:15:49.727Z"
   },
   {
    "duration": 250,
    "start_time": "2023-04-24T08:15:57.528Z"
   },
   {
    "duration": 5,
    "start_time": "2023-04-24T08:16:29.751Z"
   },
   {
    "duration": 172,
    "start_time": "2023-04-24T08:16:30.672Z"
   },
   {
    "duration": 79,
    "start_time": "2023-04-24T08:23:13.279Z"
   },
   {
    "duration": 54,
    "start_time": "2023-04-24T08:23:15.119Z"
   },
   {
    "duration": 39,
    "start_time": "2023-04-24T08:23:18.013Z"
   },
   {
    "duration": 19,
    "start_time": "2023-04-24T08:23:18.713Z"
   },
   {
    "duration": 6,
    "start_time": "2023-04-24T08:23:19.851Z"
   },
   {
    "duration": 15,
    "start_time": "2023-04-24T08:23:21.194Z"
   },
   {
    "duration": 5,
    "start_time": "2023-04-24T08:23:22.151Z"
   },
   {
    "duration": 35,
    "start_time": "2023-04-24T08:23:22.713Z"
   },
   {
    "duration": 15,
    "start_time": "2023-04-24T08:23:23.674Z"
   },
   {
    "duration": 6,
    "start_time": "2023-04-24T08:23:24.030Z"
   },
   {
    "duration": 6,
    "start_time": "2023-04-24T08:23:24.434Z"
   },
   {
    "duration": 8,
    "start_time": "2023-04-24T08:23:24.639Z"
   },
   {
    "duration": 120,
    "start_time": "2023-04-24T08:23:25.095Z"
   },
   {
    "duration": 4,
    "start_time": "2023-04-24T08:23:25.392Z"
   },
   {
    "duration": 7,
    "start_time": "2023-04-24T08:23:25.613Z"
   },
   {
    "duration": 6,
    "start_time": "2023-04-24T08:23:25.817Z"
   },
   {
    "duration": 173,
    "start_time": "2023-04-24T08:23:26.034Z"
   },
   {
    "duration": 4,
    "start_time": "2023-04-24T08:23:26.827Z"
   },
   {
    "duration": 8,
    "start_time": "2023-04-24T08:23:27.076Z"
   },
   {
    "duration": 6,
    "start_time": "2023-04-24T08:23:27.975Z"
   },
   {
    "duration": 5,
    "start_time": "2023-04-24T08:23:28.186Z"
   },
   {
    "duration": 138,
    "start_time": "2023-04-24T08:23:29.469Z"
   },
   {
    "duration": 31,
    "start_time": "2023-04-24T08:23:39.614Z"
   },
   {
    "duration": 13265,
    "start_time": "2023-04-24T19:02:30.064Z"
   },
   {
    "duration": 2093,
    "start_time": "2023-04-24T19:02:43.332Z"
   },
   {
    "duration": 569,
    "start_time": "2023-04-24T19:02:45.427Z"
   },
   {
    "duration": 22,
    "start_time": "2023-04-24T19:02:45.998Z"
   },
   {
    "duration": 3,
    "start_time": "2023-04-24T19:02:46.022Z"
   },
   {
    "duration": 79,
    "start_time": "2023-04-24T19:02:46.026Z"
   },
   {
    "duration": 45,
    "start_time": "2023-04-24T19:02:46.107Z"
   },
   {
    "duration": 18,
    "start_time": "2023-04-24T19:02:46.154Z"
   },
   {
    "duration": 26,
    "start_time": "2023-04-24T19:02:46.173Z"
   },
   {
    "duration": 19,
    "start_time": "2023-04-24T19:02:46.201Z"
   },
   {
    "duration": 5,
    "start_time": "2023-04-24T19:02:46.222Z"
   },
   {
    "duration": 41,
    "start_time": "2023-04-24T19:02:46.229Z"
   },
   {
    "duration": 29,
    "start_time": "2023-04-24T19:02:46.272Z"
   },
   {
    "duration": 4,
    "start_time": "2023-04-24T19:02:46.302Z"
   },
   {
    "duration": 6,
    "start_time": "2023-04-24T19:02:46.308Z"
   },
   {
    "duration": 8,
    "start_time": "2023-04-24T19:02:46.318Z"
   },
   {
    "duration": 245,
    "start_time": "2023-04-24T19:02:46.327Z"
   },
   {
    "duration": 4,
    "start_time": "2023-04-24T19:02:46.574Z"
   },
   {
    "duration": 15,
    "start_time": "2023-04-24T19:02:46.580Z"
   },
   {
    "duration": 6,
    "start_time": "2023-04-24T19:02:46.596Z"
   },
   {
    "duration": 184,
    "start_time": "2023-04-24T19:02:46.604Z"
   },
   {
    "duration": 5,
    "start_time": "2023-04-24T19:02:46.793Z"
   },
   {
    "duration": 9,
    "start_time": "2023-04-24T19:02:46.799Z"
   },
   {
    "duration": 6,
    "start_time": "2023-04-24T19:02:46.809Z"
   },
   {
    "duration": 6,
    "start_time": "2023-04-24T19:02:46.817Z"
   },
   {
    "duration": 143,
    "start_time": "2023-04-24T19:02:46.824Z"
   },
   {
    "duration": 32,
    "start_time": "2023-04-24T19:02:46.968Z"
   },
   {
    "duration": 26732,
    "start_time": "2023-04-24T19:02:47.004Z"
   },
   {
    "duration": 39,
    "start_time": "2023-04-24T19:13:29.848Z"
   },
   {
    "duration": 40,
    "start_time": "2023-04-24T19:13:41.061Z"
   },
   {
    "duration": 4,
    "start_time": "2023-04-24T19:23:17.923Z"
   },
   {
    "duration": 7,
    "start_time": "2023-04-24T19:23:31.108Z"
   },
   {
    "duration": 4,
    "start_time": "2023-04-24T19:23:31.321Z"
   },
   {
    "duration": 3,
    "start_time": "2023-04-24T19:23:31.533Z"
   },
   {
    "duration": 3,
    "start_time": "2023-04-24T19:23:31.735Z"
   },
   {
    "duration": 15,
    "start_time": "2023-04-24T19:23:32.324Z"
   },
   {
    "duration": 6,
    "start_time": "2023-04-24T19:23:32.559Z"
   },
   {
    "duration": 4,
    "start_time": "2023-04-24T19:23:32.748Z"
   },
   {
    "duration": 13,
    "start_time": "2023-04-24T19:23:32.949Z"
   },
   {
    "duration": 11,
    "start_time": "2023-04-24T19:23:33.494Z"
   },
   {
    "duration": 2760,
    "start_time": "2023-04-24T19:23:33.852Z"
   },
   {
    "duration": 39,
    "start_time": "2023-04-24T19:23:36.613Z"
   },
   {
    "duration": 5,
    "start_time": "2023-04-24T19:23:36.653Z"
   },
   {
    "duration": 4,
    "start_time": "2023-04-24T19:23:36.819Z"
   },
   {
    "duration": 3,
    "start_time": "2023-04-24T19:23:39.417Z"
   },
   {
    "duration": 5,
    "start_time": "2023-04-24T19:23:39.598Z"
   },
   {
    "duration": 20,
    "start_time": "2023-04-24T19:23:39.815Z"
   },
   {
    "duration": 3,
    "start_time": "2023-04-24T19:23:43.927Z"
   },
   {
    "duration": 212,
    "start_time": "2023-04-24T19:23:44.352Z"
   },
   {
    "duration": 210,
    "start_time": "2023-04-24T19:23:46.095Z"
   },
   {
    "duration": 57,
    "start_time": "2023-04-24T19:23:46.468Z"
   },
   {
    "duration": 40,
    "start_time": "2023-04-24T19:23:48.821Z"
   },
   {
    "duration": 164,
    "start_time": "2023-04-24T19:28:16.577Z"
   },
   {
    "duration": 82,
    "start_time": "2023-04-24T19:29:20.882Z"
   },
   {
    "duration": 151,
    "start_time": "2023-04-24T19:29:41.163Z"
   },
   {
    "duration": 89,
    "start_time": "2023-04-24T19:30:11.732Z"
   },
   {
    "duration": 150,
    "start_time": "2023-04-24T19:30:16.316Z"
   },
   {
    "duration": 218,
    "start_time": "2023-04-24T19:30:30.461Z"
   },
   {
    "duration": 59,
    "start_time": "2023-04-24T19:30:48.971Z"
   },
   {
    "duration": 198,
    "start_time": "2023-04-24T19:32:06.529Z"
   },
   {
    "duration": 191,
    "start_time": "2023-04-24T19:34:39.992Z"
   },
   {
    "duration": 199,
    "start_time": "2023-04-24T19:34:44.296Z"
   },
   {
    "duration": 199,
    "start_time": "2023-04-24T19:36:20.366Z"
   },
   {
    "duration": 198,
    "start_time": "2023-04-24T19:38:24.576Z"
   },
   {
    "duration": 122,
    "start_time": "2023-04-24T19:39:32.461Z"
   },
   {
    "duration": 122,
    "start_time": "2023-04-24T19:40:33.078Z"
   },
   {
    "duration": 123,
    "start_time": "2023-04-24T19:40:41.595Z"
   },
   {
    "duration": 83,
    "start_time": "2023-04-24T19:40:58.813Z"
   },
   {
    "duration": 102,
    "start_time": "2023-04-24T19:41:07.826Z"
   },
   {
    "duration": 86,
    "start_time": "2023-04-24T19:41:27.600Z"
   },
   {
    "duration": 10,
    "start_time": "2023-04-24T19:41:37.580Z"
   },
   {
    "duration": 193,
    "start_time": "2023-04-24T19:41:47.663Z"
   },
   {
    "duration": 45,
    "start_time": "2023-04-24T19:41:49.875Z"
   },
   {
    "duration": 4,
    "start_time": "2023-04-24T19:49:04.588Z"
   },
   {
    "duration": 3,
    "start_time": "2023-04-24T19:50:46.776Z"
   },
   {
    "duration": 5,
    "start_time": "2023-04-24T19:50:47.126Z"
   },
   {
    "duration": 20,
    "start_time": "2023-04-24T19:50:47.651Z"
   },
   {
    "duration": 3,
    "start_time": "2023-04-24T19:50:49.831Z"
   },
   {
    "duration": 202,
    "start_time": "2023-04-24T19:50:55.600Z"
   },
   {
    "duration": 182,
    "start_time": "2023-04-24T19:50:58.045Z"
   },
   {
    "duration": 43,
    "start_time": "2023-04-24T19:50:58.570Z"
   },
   {
    "duration": 38,
    "start_time": "2023-04-24T19:51:03.476Z"
   },
   {
    "duration": 7,
    "start_time": "2023-04-24T19:51:03.819Z"
   },
   {
    "duration": 13,
    "start_time": "2023-04-24T19:51:04.445Z"
   },
   {
    "duration": 39,
    "start_time": "2023-04-24T19:51:06.522Z"
   },
   {
    "duration": 128,
    "start_time": "2023-04-24T19:52:07.871Z"
   },
   {
    "duration": 3218,
    "start_time": "2023-04-24T19:52:22.379Z"
   },
   {
    "duration": 89299,
    "start_time": "2023-04-24T19:53:07.970Z"
   },
   {
    "duration": 3,
    "start_time": "2023-04-24T19:54:37.271Z"
   },
   {
    "duration": 1635,
    "start_time": "2023-04-24T19:54:37.276Z"
   },
   {
    "duration": 27301,
    "start_time": "2023-04-24T19:54:38.913Z"
   },
   {
    "duration": 4,
    "start_time": "2023-04-24T19:55:06.215Z"
   },
   {
    "duration": 4176,
    "start_time": "2023-04-24T19:55:06.220Z"
   },
   {
    "duration": 4,
    "start_time": "2023-04-24T19:56:14.317Z"
   },
   {
    "duration": 120,
    "start_time": "2023-04-24T20:01:16.940Z"
   },
   {
    "duration": 25,
    "start_time": "2023-04-24T20:01:17.110Z"
   },
   {
    "duration": 2,
    "start_time": "2023-04-24T20:01:17.281Z"
   },
   {
    "duration": 70,
    "start_time": "2023-04-24T20:01:17.460Z"
   },
   {
    "duration": 43,
    "start_time": "2023-04-24T20:01:17.841Z"
   },
   {
    "duration": 19,
    "start_time": "2023-04-24T20:01:18.024Z"
   },
   {
    "duration": 23,
    "start_time": "2023-04-24T20:01:18.305Z"
   },
   {
    "duration": 6,
    "start_time": "2023-04-24T20:01:18.480Z"
   },
   {
    "duration": 28,
    "start_time": "2023-04-24T20:01:18.702Z"
   },
   {
    "duration": 5,
    "start_time": "2023-04-24T20:01:18.903Z"
   },
   {
    "duration": 4,
    "start_time": "2023-04-24T20:01:19.099Z"
   },
   {
    "duration": 6,
    "start_time": "2023-04-24T20:01:19.503Z"
   },
   {
    "duration": 6,
    "start_time": "2023-04-24T20:01:19.709Z"
   },
   {
    "duration": 107,
    "start_time": "2023-04-24T20:01:20.419Z"
   },
   {
    "duration": 4,
    "start_time": "2023-04-24T20:01:22.284Z"
   },
   {
    "duration": 7,
    "start_time": "2023-04-24T20:01:22.478Z"
   },
   {
    "duration": 5,
    "start_time": "2023-04-24T20:01:22.640Z"
   },
   {
    "duration": 132,
    "start_time": "2023-04-24T20:01:23.062Z"
   },
   {
    "duration": 4,
    "start_time": "2023-04-24T20:01:23.272Z"
   },
   {
    "duration": 6,
    "start_time": "2023-04-24T20:01:24.968Z"
   },
   {
    "duration": 7,
    "start_time": "2023-04-24T20:01:25.359Z"
   },
   {
    "duration": 6,
    "start_time": "2023-04-24T20:01:27.370Z"
   },
   {
    "duration": 102,
    "start_time": "2023-04-24T20:01:30.329Z"
   },
   {
    "duration": 2025,
    "start_time": "2023-04-24T20:02:24.201Z"
   },
   {
    "duration": 1941,
    "start_time": "2023-04-24T20:02:26.227Z"
   },
   {
    "duration": 140,
    "start_time": "2023-04-24T20:02:28.170Z"
   },
   {
    "duration": 21,
    "start_time": "2023-04-24T20:02:28.312Z"
   },
   {
    "duration": 2,
    "start_time": "2023-04-24T20:02:28.334Z"
   },
   {
    "duration": 81,
    "start_time": "2023-04-24T20:02:28.338Z"
   },
   {
    "duration": 43,
    "start_time": "2023-04-24T20:02:28.420Z"
   },
   {
    "duration": 29,
    "start_time": "2023-04-24T20:02:28.465Z"
   },
   {
    "duration": 14,
    "start_time": "2023-04-24T20:02:28.495Z"
   },
   {
    "duration": 4,
    "start_time": "2023-04-24T20:02:28.512Z"
   },
   {
    "duration": 29,
    "start_time": "2023-04-24T20:02:28.518Z"
   },
   {
    "duration": 5,
    "start_time": "2023-04-24T20:02:28.548Z"
   },
   {
    "duration": 5,
    "start_time": "2023-04-24T20:02:28.554Z"
   },
   {
    "duration": 34,
    "start_time": "2023-04-24T20:02:28.560Z"
   },
   {
    "duration": 7,
    "start_time": "2023-04-24T20:02:28.595Z"
   },
   {
    "duration": 217,
    "start_time": "2023-04-24T20:02:28.603Z"
   },
   {
    "duration": 4,
    "start_time": "2023-04-24T20:02:28.821Z"
   },
   {
    "duration": 8,
    "start_time": "2023-04-24T20:02:28.826Z"
   },
   {
    "duration": 11,
    "start_time": "2023-04-24T20:02:28.835Z"
   },
   {
    "duration": 158,
    "start_time": "2023-04-24T20:02:28.848Z"
   },
   {
    "duration": 4,
    "start_time": "2023-04-24T20:02:29.008Z"
   },
   {
    "duration": 9,
    "start_time": "2023-04-24T20:02:29.013Z"
   },
   {
    "duration": 6,
    "start_time": "2023-04-24T20:02:29.023Z"
   },
   {
    "duration": 5,
    "start_time": "2023-04-24T20:02:29.030Z"
   },
   {
    "duration": 130,
    "start_time": "2023-04-24T20:02:29.036Z"
   },
   {
    "duration": 34,
    "start_time": "2023-04-24T20:02:29.167Z"
   },
   {
    "duration": 2,
    "start_time": "2023-04-24T20:02:29.203Z"
   },
   {
    "duration": 41,
    "start_time": "2023-04-24T20:02:29.207Z"
   },
   {
    "duration": 6,
    "start_time": "2023-04-24T20:02:29.249Z"
   },
   {
    "duration": 7,
    "start_time": "2023-04-24T20:02:29.256Z"
   },
   {
    "duration": 3,
    "start_time": "2023-04-24T20:02:29.270Z"
   },
   {
    "duration": 3,
    "start_time": "2023-04-24T20:02:29.294Z"
   },
   {
    "duration": 16,
    "start_time": "2023-04-24T20:02:29.298Z"
   },
   {
    "duration": 5,
    "start_time": "2023-04-24T20:02:29.316Z"
   },
   {
    "duration": 4,
    "start_time": "2023-04-24T20:02:29.323Z"
   },
   {
    "duration": 16,
    "start_time": "2023-04-24T20:02:29.328Z"
   },
   {
    "duration": 8,
    "start_time": "2023-04-24T20:02:29.345Z"
   },
   {
    "duration": 2698,
    "start_time": "2023-04-24T20:02:29.355Z"
   },
   {
    "duration": 46,
    "start_time": "2023-04-24T20:02:32.055Z"
   },
   {
    "duration": 4,
    "start_time": "2023-04-24T20:02:32.103Z"
   },
   {
    "duration": 3,
    "start_time": "2023-04-24T20:02:32.109Z"
   },
   {
    "duration": 5,
    "start_time": "2023-04-24T20:02:32.114Z"
   },
   {
    "duration": 19,
    "start_time": "2023-04-24T20:02:32.121Z"
   },
   {
    "duration": 2,
    "start_time": "2023-04-24T20:02:32.142Z"
   },
   {
    "duration": 237,
    "start_time": "2023-04-24T20:02:32.146Z"
   },
   {
    "duration": 204,
    "start_time": "2023-04-24T20:02:32.384Z"
   },
   {
    "duration": 45,
    "start_time": "2023-04-24T20:02:32.590Z"
   },
   {
    "duration": 57,
    "start_time": "2023-04-24T20:02:32.637Z"
   },
   {
    "duration": 6,
    "start_time": "2023-04-24T20:02:32.696Z"
   },
   {
    "duration": 16,
    "start_time": "2023-04-24T20:02:32.704Z"
   },
   {
    "duration": 41,
    "start_time": "2023-04-24T20:02:32.722Z"
   },
   {
    "duration": 3358,
    "start_time": "2023-04-24T20:02:32.764Z"
   },
   {
    "duration": 92110,
    "start_time": "2023-04-24T20:02:36.125Z"
   },
   {
    "duration": 3,
    "start_time": "2023-04-24T20:04:08.237Z"
   },
   {
    "duration": 2054,
    "start_time": "2023-04-24T20:04:08.242Z"
   },
   {
    "duration": 37118,
    "start_time": "2023-04-24T20:04:10.298Z"
   },
   {
    "duration": 4,
    "start_time": "2023-04-24T20:04:47.418Z"
   },
   {
    "duration": 8,
    "start_time": "2023-04-24T20:04:47.423Z"
   },
   {
    "duration": 4563,
    "start_time": "2023-04-24T20:04:47.432Z"
   },
   {
    "duration": 105,
    "start_time": "2023-04-24T20:04:52.000Z"
   },
   {
    "duration": 12,
    "start_time": "2023-04-24T20:04:52.106Z"
   },
   {
    "duration": 1978,
    "start_time": "2023-04-24T20:04:52.119Z"
   },
   {
    "duration": 4,
    "start_time": "2023-04-24T20:04:54.099Z"
   },
   {
    "duration": 1918,
    "start_time": "2023-04-24T20:04:54.104Z"
   },
   {
    "duration": 4,
    "start_time": "2023-04-24T20:04:56.023Z"
   },
   {
    "duration": 16,
    "start_time": "2023-04-24T20:04:56.028Z"
   },
   {
    "duration": 1656,
    "start_time": "2023-04-24T20:04:56.045Z"
   },
   {
    "duration": 4,
    "start_time": "2023-04-24T20:04:57.702Z"
   },
   {
    "duration": 2693,
    "start_time": "2023-04-24T20:04:57.708Z"
   },
   {
    "duration": 4901,
    "start_time": "2023-04-24T20:05:00.403Z"
   },
   {
    "duration": 340,
    "start_time": "2023-04-24T20:05:05.305Z"
   },
   {
    "duration": 16,
    "start_time": "2023-04-24T20:05:05.646Z"
   },
   {
    "duration": 33,
    "start_time": "2023-04-24T20:05:05.664Z"
   },
   {
    "duration": 11,
    "start_time": "2023-04-24T20:05:05.699Z"
   },
   {
    "duration": 17,
    "start_time": "2023-04-24T20:05:05.711Z"
   },
   {
    "duration": 113,
    "start_time": "2023-04-24T20:05:05.730Z"
   },
   {
    "duration": 1981,
    "start_time": "2023-04-24T20:05:05.845Z"
   },
   {
    "duration": 3478,
    "start_time": "2023-04-24T20:05:07.827Z"
   },
   {
    "duration": 1460,
    "start_time": "2023-04-24T20:05:11.307Z"
   },
   {
    "duration": 3,
    "start_time": "2023-04-24T20:05:12.769Z"
   },
   {
    "duration": 131,
    "start_time": "2023-04-24T20:05:12.773Z"
   },
   {
    "duration": 1802,
    "start_time": "2023-04-24T20:05:12.906Z"
   },
   {
    "duration": 6,
    "start_time": "2023-04-24T20:05:14.710Z"
   },
   {
    "duration": 101,
    "start_time": "2023-04-24T20:05:14.718Z"
   },
   {
    "duration": 116,
    "start_time": "2023-04-24T20:05:14.821Z"
   },
   {
    "duration": 12,
    "start_time": "2023-04-24T20:05:14.938Z"
   },
   {
    "duration": 56,
    "start_time": "2023-04-24T20:05:14.952Z"
   },
   {
    "duration": 8,
    "start_time": "2023-04-24T20:05:15.010Z"
   },
   {
    "duration": 33,
    "start_time": "2023-04-24T20:05:15.019Z"
   },
   {
    "duration": 112,
    "start_time": "2023-04-24T20:06:37.580Z"
   },
   {
    "duration": 11154,
    "start_time": "2023-04-24T20:06:49.946Z"
   },
   {
    "duration": 1881,
    "start_time": "2023-04-24T20:08:20.397Z"
   },
   {
    "duration": 3360,
    "start_time": "2023-04-24T20:08:22.279Z"
   },
   {
    "duration": 1669,
    "start_time": "2023-04-24T20:08:25.641Z"
   },
   {
    "duration": 5,
    "start_time": "2023-04-24T20:08:27.312Z"
   },
   {
    "duration": 1857,
    "start_time": "2023-04-24T20:08:27.318Z"
   },
   {
    "duration": 7,
    "start_time": "2023-04-24T20:08:29.177Z"
   },
   {
    "duration": 3,
    "start_time": "2023-04-24T20:08:34.528Z"
   },
   {
    "duration": 5,
    "start_time": "2023-04-24T20:09:38.913Z"
   },
   {
    "duration": 1909,
    "start_time": "2023-04-24T20:10:36.568Z"
   },
   {
    "duration": 8,
    "start_time": "2023-04-24T20:11:07.707Z"
   },
   {
    "duration": 1792,
    "start_time": "2023-04-24T20:11:28.868Z"
   },
   {
    "duration": 6,
    "start_time": "2023-04-24T20:11:30.662Z"
   },
   {
    "duration": 1801,
    "start_time": "2023-04-24T20:11:49.663Z"
   },
   {
    "duration": 6,
    "start_time": "2023-04-24T20:11:51.465Z"
   },
   {
    "duration": 1860,
    "start_time": "2023-04-24T20:12:25.913Z"
   },
   {
    "duration": 5,
    "start_time": "2023-04-24T20:12:27.775Z"
   },
   {
    "duration": 7,
    "start_time": "2023-04-24T20:12:30.725Z"
   },
   {
    "duration": 149,
    "start_time": "2023-04-24T20:12:37.965Z"
   },
   {
    "duration": 12,
    "start_time": "2023-04-24T20:12:51.522Z"
   },
   {
    "duration": 11,
    "start_time": "2023-04-24T20:13:02.217Z"
   },
   {
    "duration": 4,
    "start_time": "2023-04-24T20:13:58.204Z"
   },
   {
    "duration": 45,
    "start_time": "2023-04-24T20:14:04.922Z"
   },
   {
    "duration": 49,
    "start_time": "2023-04-24T20:14:19.596Z"
   },
   {
    "duration": 53,
    "start_time": "2023-04-24T20:14:26.623Z"
   },
   {
    "duration": 53,
    "start_time": "2023-04-24T20:14:31.279Z"
   },
   {
    "duration": 52,
    "start_time": "2023-04-24T20:15:11.898Z"
   },
   {
    "duration": 4,
    "start_time": "2023-04-24T20:16:03.133Z"
   },
   {
    "duration": 44,
    "start_time": "2023-04-24T20:16:45.190Z"
   },
   {
    "duration": 182,
    "start_time": "2023-04-24T20:17:00.038Z"
   },
   {
    "duration": 7,
    "start_time": "2023-04-24T20:19:11.937Z"
   },
   {
    "duration": 96,
    "start_time": "2023-04-24T20:37:21.017Z"
   },
   {
    "duration": 2107,
    "start_time": "2023-04-24T20:38:16.881Z"
   },
   {
    "duration": 2003,
    "start_time": "2023-04-24T20:38:18.990Z"
   },
   {
    "duration": 149,
    "start_time": "2023-04-24T20:38:20.995Z"
   },
   {
    "duration": 24,
    "start_time": "2023-04-24T20:38:21.145Z"
   },
   {
    "duration": 33918,
    "start_time": "2023-04-24T20:38:21.171Z"
   },
   {
    "duration": 124,
    "start_time": "2023-04-24T20:38:55.091Z"
   },
   {
    "duration": 90,
    "start_time": "2023-04-24T20:38:55.216Z"
   },
   {
    "duration": 18,
    "start_time": "2023-04-24T20:38:55.308Z"
   },
   {
    "duration": 67,
    "start_time": "2023-04-24T20:38:55.328Z"
   },
   {
    "duration": 20,
    "start_time": "2023-04-24T20:38:55.397Z"
   },
   {
    "duration": 33,
    "start_time": "2023-04-24T20:38:55.419Z"
   },
   {
    "duration": 6,
    "start_time": "2023-04-24T20:38:55.454Z"
   },
   {
    "duration": 6,
    "start_time": "2023-04-24T20:38:55.494Z"
   },
   {
    "duration": 6,
    "start_time": "2023-04-24T20:38:55.503Z"
   },
   {
    "duration": 13,
    "start_time": "2023-04-24T20:38:55.510Z"
   },
   {
    "duration": 149,
    "start_time": "2023-04-24T20:38:55.524Z"
   },
   {
    "duration": 4,
    "start_time": "2023-04-24T20:38:55.675Z"
   },
   {
    "duration": 14,
    "start_time": "2023-04-24T20:38:55.681Z"
   },
   {
    "duration": 16,
    "start_time": "2023-04-24T20:38:55.696Z"
   },
   {
    "duration": 143,
    "start_time": "2023-04-24T20:38:55.713Z"
   },
   {
    "duration": 5,
    "start_time": "2023-04-24T20:38:55.858Z"
   },
   {
    "duration": 29,
    "start_time": "2023-04-24T20:38:55.864Z"
   },
   {
    "duration": 10,
    "start_time": "2023-04-24T20:38:55.895Z"
   },
   {
    "duration": 11,
    "start_time": "2023-04-24T20:38:55.907Z"
   },
   {
    "duration": 126,
    "start_time": "2023-04-24T20:38:55.920Z"
   },
   {
    "duration": 28,
    "start_time": "2023-04-24T20:38:56.047Z"
   },
   {
    "duration": 26857,
    "start_time": "2023-04-24T20:38:56.077Z"
   },
   {
    "duration": 70,
    "start_time": "2023-04-24T20:39:22.936Z"
   },
   {
    "duration": 5,
    "start_time": "2023-04-24T20:39:23.008Z"
   },
   {
    "duration": 3,
    "start_time": "2023-04-24T20:39:23.015Z"
   },
   {
    "duration": 5,
    "start_time": "2023-04-24T20:39:23.019Z"
   },
   {
    "duration": 4,
    "start_time": "2023-04-24T20:39:23.025Z"
   },
   {
    "duration": 69,
    "start_time": "2023-04-24T20:39:23.030Z"
   },
   {
    "duration": 9,
    "start_time": "2023-04-24T20:39:23.102Z"
   },
   {
    "duration": 6,
    "start_time": "2023-04-24T20:39:23.113Z"
   },
   {
    "duration": 17,
    "start_time": "2023-04-24T20:39:23.121Z"
   },
   {
    "duration": 10,
    "start_time": "2023-04-24T20:39:23.194Z"
   },
   {
    "duration": 2823,
    "start_time": "2023-04-24T20:39:23.206Z"
   },
   {
    "duration": 38,
    "start_time": "2023-04-24T20:39:26.031Z"
   },
   {
    "duration": 4,
    "start_time": "2023-04-24T20:39:26.071Z"
   },
   {
    "duration": 3,
    "start_time": "2023-04-24T20:39:26.096Z"
   },
   {
    "duration": 9,
    "start_time": "2023-04-24T20:39:26.100Z"
   },
   {
    "duration": 23,
    "start_time": "2023-04-24T20:39:26.111Z"
   },
   {
    "duration": 5,
    "start_time": "2023-04-24T20:39:26.135Z"
   },
   {
    "duration": 211,
    "start_time": "2023-04-24T20:39:26.141Z"
   },
   {
    "duration": 192,
    "start_time": "2023-04-24T20:39:26.354Z"
   },
   {
    "duration": 63,
    "start_time": "2023-04-24T20:39:26.548Z"
   },
   {
    "duration": 40,
    "start_time": "2023-04-24T20:39:26.613Z"
   },
   {
    "duration": 6,
    "start_time": "2023-04-24T20:39:26.655Z"
   },
   {
    "duration": 34,
    "start_time": "2023-04-24T20:39:26.663Z"
   },
   {
    "duration": 41,
    "start_time": "2023-04-24T20:39:26.699Z"
   },
   {
    "duration": 3254,
    "start_time": "2023-04-24T20:39:26.742Z"
   },
   {
    "duration": 2049,
    "start_time": "2023-04-24T20:40:53.963Z"
   },
   {
    "duration": 1867,
    "start_time": "2023-04-24T20:40:56.014Z"
   },
   {
    "duration": 143,
    "start_time": "2023-04-24T20:40:57.883Z"
   },
   {
    "duration": 23,
    "start_time": "2023-04-24T20:40:58.028Z"
   },
   {
    "duration": 33316,
    "start_time": "2023-04-24T20:40:58.052Z"
   },
   {
    "duration": 137,
    "start_time": "2023-04-24T20:41:31.370Z"
   },
   {
    "duration": 99,
    "start_time": "2023-04-24T20:41:31.509Z"
   },
   {
    "duration": 20,
    "start_time": "2023-04-24T20:41:31.609Z"
   },
   {
    "duration": 25,
    "start_time": "2023-04-24T20:41:31.631Z"
   },
   {
    "duration": 39,
    "start_time": "2023-04-24T20:41:31.658Z"
   },
   {
    "duration": 32,
    "start_time": "2023-04-24T20:41:31.698Z"
   },
   {
    "duration": 5,
    "start_time": "2023-04-24T20:41:31.731Z"
   },
   {
    "duration": 14,
    "start_time": "2023-04-24T20:41:31.738Z"
   },
   {
    "duration": 15,
    "start_time": "2023-04-24T20:41:31.755Z"
   },
   {
    "duration": 38,
    "start_time": "2023-04-24T20:41:31.771Z"
   },
   {
    "duration": 116,
    "start_time": "2023-04-24T20:41:31.811Z"
   },
   {
    "duration": 6,
    "start_time": "2023-04-24T20:41:31.928Z"
   },
   {
    "duration": 23,
    "start_time": "2023-04-24T20:41:31.935Z"
   },
   {
    "duration": 17,
    "start_time": "2023-04-24T20:41:31.959Z"
   },
   {
    "duration": 133,
    "start_time": "2023-04-24T20:41:31.978Z"
   },
   {
    "duration": 4,
    "start_time": "2023-04-24T20:41:32.113Z"
   },
   {
    "duration": 8,
    "start_time": "2023-04-24T20:41:32.119Z"
   },
   {
    "duration": 13,
    "start_time": "2023-04-24T20:41:32.128Z"
   },
   {
    "duration": 12,
    "start_time": "2023-04-24T20:41:32.142Z"
   },
   {
    "duration": 118,
    "start_time": "2023-04-24T20:41:32.155Z"
   },
   {
    "duration": 31,
    "start_time": "2023-04-24T20:41:32.275Z"
   },
   {
    "duration": 26133,
    "start_time": "2023-04-24T20:41:32.307Z"
   },
   {
    "duration": 72,
    "start_time": "2023-04-24T20:41:58.443Z"
   },
   {
    "duration": 6,
    "start_time": "2023-04-24T20:41:58.516Z"
   },
   {
    "duration": 3,
    "start_time": "2023-04-24T20:41:58.524Z"
   },
   {
    "duration": 8,
    "start_time": "2023-04-24T20:41:58.528Z"
   },
   {
    "duration": 4,
    "start_time": "2023-04-24T20:41:58.538Z"
   },
   {
    "duration": 18,
    "start_time": "2023-04-24T20:41:58.595Z"
   },
   {
    "duration": 7,
    "start_time": "2023-04-24T20:41:58.614Z"
   },
   {
    "duration": 4,
    "start_time": "2023-04-24T20:41:58.623Z"
   },
   {
    "duration": 15,
    "start_time": "2023-04-24T20:41:58.628Z"
   },
   {
    "duration": 8,
    "start_time": "2023-04-24T20:41:58.644Z"
   },
   {
    "duration": 2682,
    "start_time": "2023-04-24T20:41:58.653Z"
   },
   {
    "duration": 39,
    "start_time": "2023-04-24T20:42:01.337Z"
   },
   {
    "duration": 17,
    "start_time": "2023-04-24T20:42:01.378Z"
   },
   {
    "duration": 32,
    "start_time": "2023-04-24T20:42:01.397Z"
   },
   {
    "duration": 39,
    "start_time": "2023-04-24T20:42:01.430Z"
   },
   {
    "duration": 56,
    "start_time": "2023-04-24T20:42:01.470Z"
   },
   {
    "duration": 34,
    "start_time": "2023-04-24T20:42:01.528Z"
   },
   {
    "duration": 242,
    "start_time": "2023-04-24T20:42:01.564Z"
   },
   {
    "duration": 205,
    "start_time": "2023-04-24T20:42:01.808Z"
   },
   {
    "duration": 43,
    "start_time": "2023-04-24T20:42:02.015Z"
   },
   {
    "duration": 56,
    "start_time": "2023-04-24T20:42:02.060Z"
   },
   {
    "duration": 6,
    "start_time": "2023-04-24T20:42:02.118Z"
   },
   {
    "duration": 52,
    "start_time": "2023-04-24T20:42:02.126Z"
   },
   {
    "duration": 59,
    "start_time": "2023-04-24T20:42:02.179Z"
   },
   {
    "duration": 3156,
    "start_time": "2023-04-24T20:42:02.239Z"
   },
   {
    "duration": 86694,
    "start_time": "2023-04-24T20:42:05.397Z"
   },
   {
    "duration": 4,
    "start_time": "2023-04-24T20:43:32.093Z"
   },
   {
    "duration": 1416,
    "start_time": "2023-04-24T20:43:32.098Z"
   },
   {
    "duration": 24392,
    "start_time": "2023-04-24T20:43:33.515Z"
   },
   {
    "duration": 4,
    "start_time": "2023-04-24T20:43:57.909Z"
   },
   {
    "duration": 5,
    "start_time": "2023-04-24T20:43:57.915Z"
   },
   {
    "duration": 8742,
    "start_time": "2023-04-24T20:43:57.921Z"
   },
   {
    "duration": 13,
    "start_time": "2023-04-24T20:44:06.665Z"
   },
   {
    "duration": 24,
    "start_time": "2023-04-24T20:44:06.680Z"
   },
   {
    "duration": 1402,
    "start_time": "2023-04-24T20:44:06.705Z"
   },
   {
    "duration": 3,
    "start_time": "2023-04-24T20:44:08.109Z"
   },
   {
    "duration": 1383,
    "start_time": "2023-04-24T20:44:08.114Z"
   },
   {
    "duration": 4,
    "start_time": "2023-04-24T20:44:09.499Z"
   },
   {
    "duration": 12,
    "start_time": "2023-04-24T20:44:09.505Z"
   },
   {
    "duration": 1334,
    "start_time": "2023-04-24T20:44:09.519Z"
   },
   {
    "duration": 4,
    "start_time": "2023-04-24T20:44:10.855Z"
   },
   {
    "duration": 2939,
    "start_time": "2023-04-24T20:44:10.860Z"
   },
   {
    "duration": 4894,
    "start_time": "2023-04-24T20:44:13.801Z"
   },
   {
    "duration": 85,
    "start_time": "2023-04-24T20:44:18.697Z"
   },
   {
    "duration": 20,
    "start_time": "2023-04-24T20:44:18.783Z"
   },
   {
    "duration": 37,
    "start_time": "2023-04-24T20:44:18.805Z"
   },
   {
    "duration": 13,
    "start_time": "2023-04-24T20:44:18.843Z"
   },
   {
    "duration": 26168,
    "start_time": "2023-04-24T20:44:18.857Z"
   },
   {
    "duration": 220,
    "start_time": "2023-04-24T20:44:45.028Z"
   },
   {
    "duration": 1585,
    "start_time": "2023-04-24T20:44:45.250Z"
   },
   {
    "duration": 3089,
    "start_time": "2023-04-24T20:44:46.836Z"
   },
   {
    "duration": 1584,
    "start_time": "2023-04-24T20:44:49.927Z"
   },
   {
    "duration": 4686,
    "start_time": "2023-04-24T20:44:51.513Z"
   },
   {
    "duration": 1477,
    "start_time": "2023-04-24T20:44:56.201Z"
   },
   {
    "duration": 11,
    "start_time": "2023-04-24T20:44:57.683Z"
   },
   {
    "duration": 7,
    "start_time": "2023-04-24T20:44:57.696Z"
   },
   {
    "duration": 175,
    "start_time": "2023-04-24T20:44:57.705Z"
   },
   {
    "duration": 114,
    "start_time": "2023-04-24T20:44:57.881Z"
   },
   {
    "duration": 127,
    "start_time": "2023-04-24T20:44:57.997Z"
   },
   {
    "duration": 11,
    "start_time": "2023-04-24T20:44:58.126Z"
   },
   {
    "duration": 57,
    "start_time": "2023-04-24T20:44:58.138Z"
   },
   {
    "duration": 7,
    "start_time": "2023-04-24T20:44:58.197Z"
   },
   {
    "duration": 26,
    "start_time": "2023-04-24T20:44:58.206Z"
   },
   {
    "duration": 4,
    "start_time": "2023-04-24T20:50:52.922Z"
   },
   {
    "duration": 3,
    "start_time": "2023-04-24T20:51:01.634Z"
   },
   {
    "duration": 182,
    "start_time": "2023-04-24T20:51:14.180Z"
   },
   {
    "duration": 3,
    "start_time": "2023-04-24T20:51:34.933Z"
   },
   {
    "duration": 5,
    "start_time": "2023-04-24T20:51:43.323Z"
   },
   {
    "duration": 5,
    "start_time": "2023-04-24T20:51:51.532Z"
   },
   {
    "duration": 3142,
    "start_time": "2023-04-24T20:52:08.924Z"
   },
   {
    "duration": 3088,
    "start_time": "2023-04-24T20:52:20.847Z"
   },
   {
    "duration": 2976,
    "start_time": "2023-04-24T20:52:36.898Z"
   },
   {
    "duration": 4617,
    "start_time": "2023-04-24T20:52:40.629Z"
   },
   {
    "duration": 1342,
    "start_time": "2023-04-24T20:53:11.498Z"
   },
   {
    "duration": 188,
    "start_time": "2023-04-24T20:53:14.828Z"
   },
   {
    "duration": 2306,
    "start_time": "2023-04-24T20:57:49.680Z"
   },
   {
    "duration": 2086,
    "start_time": "2023-04-24T20:57:51.989Z"
   },
   {
    "duration": 202,
    "start_time": "2023-04-24T20:57:54.077Z"
   },
   {
    "duration": 39,
    "start_time": "2023-04-24T20:57:54.282Z"
   },
   {
    "duration": 36651,
    "start_time": "2023-04-24T20:57:54.323Z"
   },
   {
    "duration": 142,
    "start_time": "2023-04-24T20:58:30.975Z"
   },
   {
    "duration": 105,
    "start_time": "2023-04-24T20:58:31.120Z"
   },
   {
    "duration": 18,
    "start_time": "2023-04-24T20:58:31.226Z"
   },
   {
    "duration": 25,
    "start_time": "2023-04-24T20:58:31.295Z"
   },
   {
    "duration": 60,
    "start_time": "2023-04-24T20:58:31.322Z"
   },
   {
    "duration": 71,
    "start_time": "2023-04-24T20:58:31.384Z"
   },
   {
    "duration": 7,
    "start_time": "2023-04-24T20:58:31.457Z"
   },
   {
    "duration": 14,
    "start_time": "2023-04-24T20:58:31.466Z"
   },
   {
    "duration": 37,
    "start_time": "2023-04-24T20:58:31.482Z"
   },
   {
    "duration": 7,
    "start_time": "2023-04-24T20:58:31.521Z"
   },
   {
    "duration": 124,
    "start_time": "2023-04-24T20:58:31.530Z"
   },
   {
    "duration": 5,
    "start_time": "2023-04-24T20:58:31.656Z"
   },
   {
    "duration": 17,
    "start_time": "2023-04-24T20:58:31.663Z"
   },
   {
    "duration": 24,
    "start_time": "2023-04-24T20:58:31.681Z"
   },
   {
    "duration": 145,
    "start_time": "2023-04-24T20:58:31.707Z"
   },
   {
    "duration": 5,
    "start_time": "2023-04-24T20:58:31.854Z"
   },
   {
    "duration": 17,
    "start_time": "2023-04-24T20:58:31.861Z"
   },
   {
    "duration": 25,
    "start_time": "2023-04-24T20:58:31.880Z"
   },
   {
    "duration": 17,
    "start_time": "2023-04-24T20:58:31.907Z"
   },
   {
    "duration": 140,
    "start_time": "2023-04-24T20:58:31.926Z"
   },
   {
    "duration": 38,
    "start_time": "2023-04-24T20:58:32.068Z"
   },
   {
    "duration": 28425,
    "start_time": "2023-04-24T20:58:32.112Z"
   },
   {
    "duration": 79,
    "start_time": "2023-04-24T20:59:00.541Z"
   },
   {
    "duration": 5,
    "start_time": "2023-04-24T20:59:00.622Z"
   },
   {
    "duration": 67,
    "start_time": "2023-04-24T20:59:00.628Z"
   },
   {
    "duration": 10,
    "start_time": "2023-04-24T20:59:00.697Z"
   },
   {
    "duration": 21,
    "start_time": "2023-04-24T20:59:00.713Z"
   },
   {
    "duration": 52,
    "start_time": "2023-04-24T20:59:00.736Z"
   },
   {
    "duration": 46,
    "start_time": "2023-04-24T20:59:00.790Z"
   },
   {
    "duration": 42,
    "start_time": "2023-04-24T20:59:00.837Z"
   },
   {
    "duration": 36,
    "start_time": "2023-04-24T20:59:00.881Z"
   },
   {
    "duration": 41,
    "start_time": "2023-04-24T20:59:00.918Z"
   },
   {
    "duration": 2972,
    "start_time": "2023-04-24T20:59:00.961Z"
   },
   {
    "duration": 3,
    "start_time": "2023-04-24T20:59:03.935Z"
   },
   {
    "duration": 11,
    "start_time": "2023-04-24T20:59:03.940Z"
   },
   {
    "duration": 577,
    "start_time": "2023-04-24T20:59:03.953Z"
   },
   {
    "duration": 6,
    "start_time": "2023-04-24T20:59:04.531Z"
   },
   {
    "duration": 237,
    "start_time": "2023-04-24T20:59:04.539Z"
   },
   {
    "duration": 208,
    "start_time": "2023-04-24T20:59:04.778Z"
   },
   {
    "duration": 53,
    "start_time": "2023-04-24T20:59:04.988Z"
   },
   {
    "duration": 60,
    "start_time": "2023-04-24T20:59:05.043Z"
   },
   {
    "duration": 11,
    "start_time": "2023-04-24T20:59:05.105Z"
   },
   {
    "duration": 24,
    "start_time": "2023-04-24T20:59:05.118Z"
   },
   {
    "duration": 62,
    "start_time": "2023-04-24T20:59:05.144Z"
   },
   {
    "duration": 3053,
    "start_time": "2023-04-24T20:59:05.209Z"
   },
   {
    "duration": 99296,
    "start_time": "2023-04-24T20:59:08.306Z"
   },
   {
    "duration": 9,
    "start_time": "2023-04-24T21:00:47.605Z"
   },
   {
    "duration": 1992,
    "start_time": "2023-04-24T21:00:47.617Z"
   },
   {
    "duration": 31980,
    "start_time": "2023-04-24T21:00:49.611Z"
   },
   {
    "duration": 7,
    "start_time": "2023-04-24T21:01:21.594Z"
   },
   {
    "duration": 14,
    "start_time": "2023-04-24T21:01:21.604Z"
   },
   {
    "duration": 10663,
    "start_time": "2023-04-24T21:01:21.620Z"
   },
   {
    "duration": 1688,
    "start_time": "2023-04-24T21:01:32.285Z"
   },
   {
    "duration": 3,
    "start_time": "2023-04-24T21:01:33.975Z"
   },
   {
    "duration": 5,
    "start_time": "2023-04-24T21:01:33.979Z"
   },
   {
    "duration": 6,
    "start_time": "2023-04-24T21:01:34.000Z"
   },
   {
    "duration": 1675,
    "start_time": "2023-04-24T21:01:34.008Z"
   },
   {
    "duration": 5,
    "start_time": "2023-04-24T21:01:35.684Z"
   },
   {
    "duration": 3037,
    "start_time": "2023-04-24T21:01:35.700Z"
   },
   {
    "duration": 5264,
    "start_time": "2023-04-24T21:01:38.739Z"
   },
   {
    "duration": 87,
    "start_time": "2023-04-24T21:01:44.005Z"
   },
   {
    "duration": 24,
    "start_time": "2023-04-24T21:01:44.099Z"
   },
   {
    "duration": 43,
    "start_time": "2023-04-24T21:01:44.125Z"
   },
   {
    "duration": 13,
    "start_time": "2023-04-24T21:01:44.170Z"
   },
   {
    "duration": 28487,
    "start_time": "2023-04-24T21:01:44.200Z"
   },
   {
    "duration": 226,
    "start_time": "2023-04-24T21:02:12.700Z"
   },
   {
    "duration": 1952,
    "start_time": "2023-04-24T21:02:12.928Z"
   },
   {
    "duration": 3673,
    "start_time": "2023-04-24T21:02:14.882Z"
   },
   {
    "duration": 1817,
    "start_time": "2023-04-24T21:02:18.556Z"
   },
   {
    "duration": 5565,
    "start_time": "2023-04-24T21:02:20.375Z"
   },
   {
    "duration": 5464,
    "start_time": "2023-04-24T21:02:25.942Z"
   },
   {
    "duration": 1777,
    "start_time": "2023-04-24T21:02:31.408Z"
   },
   {
    "duration": 13,
    "start_time": "2023-04-24T21:02:33.187Z"
   },
   {
    "duration": 15,
    "start_time": "2023-04-24T21:02:33.202Z"
   },
   {
    "duration": 201,
    "start_time": "2023-04-24T21:02:33.220Z"
   },
   {
    "duration": 1766,
    "start_time": "2023-04-24T21:02:33.424Z"
   },
   {
    "duration": 219,
    "start_time": "2023-04-24T21:02:35.195Z"
   },
   {
    "duration": 121,
    "start_time": "2023-04-24T21:02:35.417Z"
   },
   {
    "duration": 112,
    "start_time": "2023-04-24T21:02:35.540Z"
   },
   {
    "duration": 11,
    "start_time": "2023-04-24T21:02:35.654Z"
   },
   {
    "duration": 59,
    "start_time": "2023-04-24T21:02:35.667Z"
   },
   {
    "duration": 8,
    "start_time": "2023-04-24T21:02:35.727Z"
   },
   {
    "duration": 31,
    "start_time": "2023-04-24T21:02:35.737Z"
   },
   {
    "duration": 10835,
    "start_time": "2023-04-24T21:03:02.453Z"
   },
   {
    "duration": 2258,
    "start_time": "2023-04-24T21:03:32.578Z"
   },
   {
    "duration": 2037,
    "start_time": "2023-04-24T21:03:34.838Z"
   },
   {
    "duration": 189,
    "start_time": "2023-04-24T21:03:36.880Z"
   },
   {
    "duration": 24,
    "start_time": "2023-04-24T21:03:37.071Z"
   },
   {
    "duration": 37432,
    "start_time": "2023-04-24T21:03:37.097Z"
   },
   {
    "duration": 165,
    "start_time": "2023-04-24T21:04:14.531Z"
   },
   {
    "duration": 105,
    "start_time": "2023-04-24T21:04:14.698Z"
   },
   {
    "duration": 21,
    "start_time": "2023-04-24T21:04:14.805Z"
   },
   {
    "duration": 12,
    "start_time": "2023-04-24T21:04:14.828Z"
   },
   {
    "duration": 4,
    "start_time": "2023-04-24T21:04:14.843Z"
   },
   {
    "duration": 73,
    "start_time": "2023-04-24T21:04:14.848Z"
   },
   {
    "duration": 5,
    "start_time": "2023-04-24T21:04:14.923Z"
   },
   {
    "duration": 5,
    "start_time": "2023-04-24T21:04:14.930Z"
   },
   {
    "duration": 6,
    "start_time": "2023-04-24T21:04:14.937Z"
   },
   {
    "duration": 6,
    "start_time": "2023-04-24T21:04:14.945Z"
   },
   {
    "duration": 147,
    "start_time": "2023-04-24T21:04:14.952Z"
   },
   {
    "duration": 11,
    "start_time": "2023-04-24T21:04:15.101Z"
   },
   {
    "duration": 18,
    "start_time": "2023-04-24T21:04:15.115Z"
   },
   {
    "duration": 5,
    "start_time": "2023-04-24T21:04:15.136Z"
   },
   {
    "duration": 226,
    "start_time": "2023-04-24T21:04:15.143Z"
   },
   {
    "duration": 5,
    "start_time": "2023-04-24T21:04:15.370Z"
   },
   {
    "duration": 22,
    "start_time": "2023-04-24T21:04:15.377Z"
   },
   {
    "duration": 14,
    "start_time": "2023-04-24T21:04:15.401Z"
   },
   {
    "duration": 8,
    "start_time": "2023-04-24T21:04:15.417Z"
   },
   {
    "duration": 154,
    "start_time": "2023-04-24T21:04:15.426Z"
   },
   {
    "duration": 51,
    "start_time": "2023-04-24T21:04:15.582Z"
   },
   {
    "duration": 29338,
    "start_time": "2023-04-24T21:04:15.635Z"
   },
   {
    "duration": 111,
    "start_time": "2023-04-24T21:04:44.994Z"
   },
   {
    "duration": 11,
    "start_time": "2023-04-24T21:04:45.107Z"
   },
   {
    "duration": 12,
    "start_time": "2023-04-24T21:04:45.120Z"
   },
   {
    "duration": 7,
    "start_time": "2023-04-24T21:04:45.133Z"
   },
   {
    "duration": 3,
    "start_time": "2023-04-24T21:04:45.142Z"
   },
   {
    "duration": 68,
    "start_time": "2023-04-24T21:04:45.147Z"
   },
   {
    "duration": 6,
    "start_time": "2023-04-24T21:04:45.216Z"
   },
   {
    "duration": 28,
    "start_time": "2023-04-24T21:04:45.223Z"
   },
   {
    "duration": 27,
    "start_time": "2023-04-24T21:04:45.253Z"
   },
   {
    "duration": 9,
    "start_time": "2023-04-24T21:04:45.282Z"
   },
   {
    "duration": 3459,
    "start_time": "2023-04-24T21:04:45.293Z"
   },
   {
    "duration": 3,
    "start_time": "2023-04-24T21:04:48.754Z"
   },
   {
    "duration": 7,
    "start_time": "2023-04-24T21:04:48.759Z"
   },
   {
    "duration": 36,
    "start_time": "2023-04-24T21:04:48.767Z"
   },
   {
    "duration": 4,
    "start_time": "2023-04-24T21:04:48.810Z"
   },
   {
    "duration": 240,
    "start_time": "2023-04-24T21:04:48.816Z"
   },
   {
    "duration": 209,
    "start_time": "2023-04-24T21:04:49.058Z"
   },
   {
    "duration": 60,
    "start_time": "2023-04-24T21:04:49.269Z"
   },
   {
    "duration": 43,
    "start_time": "2023-04-24T21:04:49.331Z"
   },
   {
    "duration": 8,
    "start_time": "2023-04-24T21:04:49.376Z"
   },
   {
    "duration": 34,
    "start_time": "2023-04-24T21:04:49.385Z"
   },
   {
    "duration": 38,
    "start_time": "2023-04-24T21:04:49.421Z"
   },
   {
    "duration": 3640,
    "start_time": "2023-04-24T21:04:49.461Z"
   },
   {
    "duration": 96625,
    "start_time": "2023-04-24T21:04:53.103Z"
   },
   {
    "duration": 3,
    "start_time": "2023-04-24T21:06:29.729Z"
   },
   {
    "duration": 1323,
    "start_time": "2023-04-24T21:06:29.734Z"
   },
   {
    "duration": 21679,
    "start_time": "2023-04-24T21:06:31.059Z"
   },
   {
    "duration": 3,
    "start_time": "2023-04-24T21:06:52.740Z"
   },
   {
    "duration": 4,
    "start_time": "2023-04-24T21:06:52.745Z"
   },
   {
    "duration": 7487,
    "start_time": "2023-04-24T21:06:52.751Z"
   },
   {
    "duration": 1238,
    "start_time": "2023-04-24T21:07:00.240Z"
   },
   {
    "duration": 3,
    "start_time": "2023-04-24T21:07:01.480Z"
   },
   {
    "duration": 44,
    "start_time": "2023-04-24T21:07:01.485Z"
   },
   {
    "duration": 55,
    "start_time": "2023-04-24T21:07:01.531Z"
   },
   {
    "duration": 1208,
    "start_time": "2023-04-24T21:07:01.588Z"
   },
   {
    "duration": 6,
    "start_time": "2023-04-24T21:07:02.797Z"
   },
   {
    "duration": 3134,
    "start_time": "2023-04-24T21:07:02.805Z"
   },
   {
    "duration": 4970,
    "start_time": "2023-04-24T21:07:05.941Z"
   },
   {
    "duration": 78,
    "start_time": "2023-04-24T21:07:10.913Z"
   },
   {
    "duration": 29,
    "start_time": "2023-04-24T21:07:10.993Z"
   },
   {
    "duration": 36,
    "start_time": "2023-04-24T21:07:11.023Z"
   },
   {
    "duration": 10,
    "start_time": "2023-04-24T21:07:11.060Z"
   },
   {
    "duration": 28115,
    "start_time": "2023-04-24T21:07:11.072Z"
   },
   {
    "duration": 251,
    "start_time": "2023-04-24T21:07:39.200Z"
   },
   {
    "duration": 1317,
    "start_time": "2023-04-24T21:07:39.453Z"
   },
   {
    "duration": 3122,
    "start_time": "2023-04-24T21:07:40.773Z"
   },
   {
    "duration": 1720,
    "start_time": "2023-04-24T21:07:43.897Z"
   },
   {
    "duration": 5087,
    "start_time": "2023-04-24T21:07:45.620Z"
   },
   {
    "duration": 5280,
    "start_time": "2023-04-24T21:07:50.710Z"
   },
   {
    "duration": 1347,
    "start_time": "2023-04-24T21:07:55.991Z"
   },
   {
    "duration": 6,
    "start_time": "2023-04-24T21:07:57.340Z"
   },
   {
    "duration": 6,
    "start_time": "2023-04-24T21:07:57.347Z"
   },
   {
    "duration": 212,
    "start_time": "2023-04-24T21:07:57.355Z"
   },
   {
    "duration": 1400,
    "start_time": "2023-04-24T21:07:57.569Z"
   },
   {
    "duration": 208,
    "start_time": "2023-04-24T21:07:58.974Z"
   },
   {
    "duration": 129,
    "start_time": "2023-04-24T21:07:59.184Z"
   },
   {
    "duration": 127,
    "start_time": "2023-04-24T21:07:59.314Z"
   },
   {
    "duration": 12,
    "start_time": "2023-04-24T21:07:59.443Z"
   },
   {
    "duration": 85,
    "start_time": "2023-04-24T21:07:59.457Z"
   },
   {
    "duration": 9,
    "start_time": "2023-04-24T21:07:59.544Z"
   },
   {
    "duration": 49,
    "start_time": "2023-04-24T21:07:59.555Z"
   },
   {
    "duration": 4906,
    "start_time": "2023-04-24T21:08:34.854Z"
   },
   {
    "duration": 13647,
    "start_time": "2023-04-29T09:07:03.852Z"
   },
   {
    "duration": 2251,
    "start_time": "2023-04-29T09:07:17.501Z"
   },
   {
    "duration": 217,
    "start_time": "2023-04-29T09:07:19.754Z"
   },
   {
    "duration": 26,
    "start_time": "2023-04-29T09:07:19.973Z"
   },
   {
    "duration": 32448,
    "start_time": "2023-04-29T09:07:20.000Z"
   },
   {
    "duration": 129,
    "start_time": "2023-04-29T09:07:52.449Z"
   },
   {
    "duration": 98,
    "start_time": "2023-04-29T09:07:52.579Z"
   },
   {
    "duration": 19,
    "start_time": "2023-04-29T09:07:52.679Z"
   },
   {
    "duration": 14,
    "start_time": "2023-04-29T09:07:52.699Z"
   },
   {
    "duration": 10,
    "start_time": "2023-04-29T09:07:52.715Z"
   },
   {
    "duration": 69,
    "start_time": "2023-04-29T09:07:52.727Z"
   },
   {
    "duration": 5,
    "start_time": "2023-04-29T09:07:52.797Z"
   },
   {
    "duration": 15,
    "start_time": "2023-04-29T09:07:52.803Z"
   },
   {
    "duration": 7,
    "start_time": "2023-04-29T09:07:52.819Z"
   },
   {
    "duration": 11,
    "start_time": "2023-04-29T09:07:52.827Z"
   },
   {
    "duration": 129,
    "start_time": "2023-04-29T09:07:52.839Z"
   },
   {
    "duration": 5,
    "start_time": "2023-04-29T09:07:52.970Z"
   },
   {
    "duration": 11,
    "start_time": "2023-04-29T09:07:52.976Z"
   },
   {
    "duration": 8,
    "start_time": "2023-04-29T09:07:52.988Z"
   },
   {
    "duration": 527,
    "start_time": "2023-04-29T09:07:52.997Z"
   },
   {
    "duration": 4,
    "start_time": "2023-04-29T09:07:53.525Z"
   },
   {
    "duration": 16,
    "start_time": "2023-04-29T09:07:53.531Z"
   },
   {
    "duration": 9,
    "start_time": "2023-04-29T09:07:53.548Z"
   },
   {
    "duration": 14,
    "start_time": "2023-04-29T09:07:53.558Z"
   },
   {
    "duration": 114,
    "start_time": "2023-04-29T09:07:53.573Z"
   },
   {
    "duration": 29,
    "start_time": "2023-04-29T09:07:53.688Z"
   },
   {
    "duration": 21583,
    "start_time": "2023-04-29T09:07:53.718Z"
   },
   {
    "duration": 0,
    "start_time": "2023-04-29T09:08:15.303Z"
   },
   {
    "duration": 0,
    "start_time": "2023-04-29T09:08:15.304Z"
   },
   {
    "duration": 0,
    "start_time": "2023-04-29T09:08:15.305Z"
   },
   {
    "duration": 0,
    "start_time": "2023-04-29T09:08:15.306Z"
   },
   {
    "duration": 0,
    "start_time": "2023-04-29T09:08:15.307Z"
   },
   {
    "duration": 0,
    "start_time": "2023-04-29T09:08:15.308Z"
   },
   {
    "duration": 0,
    "start_time": "2023-04-29T09:08:15.309Z"
   },
   {
    "duration": 0,
    "start_time": "2023-04-29T09:08:15.310Z"
   },
   {
    "duration": 0,
    "start_time": "2023-04-29T09:08:15.311Z"
   },
   {
    "duration": 50,
    "start_time": "2023-04-29T09:08:20.956Z"
   },
   {
    "duration": 6,
    "start_time": "2023-04-29T09:08:23.623Z"
   },
   {
    "duration": 3,
    "start_time": "2023-04-29T09:08:23.888Z"
   },
   {
    "duration": 3,
    "start_time": "2023-04-29T09:08:24.402Z"
   },
   {
    "duration": 3,
    "start_time": "2023-04-29T09:08:27.065Z"
   },
   {
    "duration": 17,
    "start_time": "2023-04-29T09:08:27.240Z"
   },
   {
    "duration": 6,
    "start_time": "2023-04-29T09:08:27.751Z"
   },
   {
    "duration": 3,
    "start_time": "2023-04-29T09:08:28.416Z"
   },
   {
    "duration": 40,
    "start_time": "2023-04-29T09:08:31.078Z"
   },
   {
    "duration": 49,
    "start_time": "2023-04-29T09:09:10.329Z"
   },
   {
    "duration": 4,
    "start_time": "2023-04-29T09:09:17.823Z"
   },
   {
    "duration": 33,
    "start_time": "2023-04-29T09:09:20.073Z"
   },
   {
    "duration": 4,
    "start_time": "2023-04-29T09:09:26.917Z"
   },
   {
    "duration": 571,
    "start_time": "2023-04-29T09:09:30.342Z"
   },
   {
    "duration": 6,
    "start_time": "2023-04-29T09:09:35.138Z"
   },
   {
    "duration": 332,
    "start_time": "2023-04-29T09:09:57.872Z"
   },
   {
    "duration": 13,
    "start_time": "2023-04-29T09:10:05.250Z"
   },
   {
    "duration": 11,
    "start_time": "2023-04-29T09:10:08.988Z"
   },
   {
    "duration": 8,
    "start_time": "2023-04-29T09:10:20.377Z"
   },
   {
    "duration": 33,
    "start_time": "2023-04-29T09:10:29.877Z"
   },
   {
    "duration": 8,
    "start_time": "2023-04-29T09:10:39.195Z"
   },
   {
    "duration": 8,
    "start_time": "2023-04-29T09:10:42.553Z"
   },
   {
    "duration": 19,
    "start_time": "2023-04-29T09:10:49.086Z"
   },
   {
    "duration": 14,
    "start_time": "2023-04-29T09:10:52.001Z"
   },
   {
    "duration": 19,
    "start_time": "2023-04-29T09:10:54.673Z"
   },
   {
    "duration": 9,
    "start_time": "2023-04-29T09:11:00.278Z"
   },
   {
    "duration": 55,
    "start_time": "2023-04-29T09:11:15.999Z"
   },
   {
    "duration": 5,
    "start_time": "2023-04-29T09:11:27.062Z"
   },
   {
    "duration": 166,
    "start_time": "2023-04-29T09:12:18.925Z"
   },
   {
    "duration": 12,
    "start_time": "2023-04-29T09:12:29.363Z"
   },
   {
    "duration": 12,
    "start_time": "2023-04-29T09:13:11.586Z"
   },
   {
    "duration": 12,
    "start_time": "2023-04-29T09:13:38.446Z"
   },
   {
    "duration": 2,
    "start_time": "2023-04-29T09:13:45.268Z"
   },
   {
    "duration": 6,
    "start_time": "2023-04-29T09:13:45.688Z"
   },
   {
    "duration": 27,
    "start_time": "2023-04-29T09:13:46.056Z"
   },
   {
    "duration": 3,
    "start_time": "2023-04-29T09:13:46.421Z"
   },
   {
    "duration": 193,
    "start_time": "2023-04-29T09:13:46.965Z"
   },
   {
    "duration": 177,
    "start_time": "2023-04-29T09:13:49.024Z"
   },
   {
    "duration": 35,
    "start_time": "2023-04-29T09:13:49.456Z"
   },
   {
    "duration": 12,
    "start_time": "2023-04-29T09:14:08.226Z"
   },
   {
    "duration": 2404,
    "start_time": "2023-04-29T09:14:23.768Z"
   },
   {
    "duration": 2352,
    "start_time": "2023-04-29T09:14:42.120Z"
   },
   {
    "duration": 2300,
    "start_time": "2023-04-29T09:14:52.672Z"
   },
   {
    "duration": 6,
    "start_time": "2023-04-29T09:16:41.670Z"
   },
   {
    "duration": 23,
    "start_time": "2023-04-29T09:16:43.288Z"
   },
   {
    "duration": 2878,
    "start_time": "2023-04-29T09:16:45.939Z"
   },
   {
    "duration": 5,
    "start_time": "2023-04-29T09:19:19.738Z"
   },
   {
    "duration": 92,
    "start_time": "2023-04-29T09:19:20.718Z"
   },
   {
    "duration": 2832,
    "start_time": "2023-04-29T09:19:26.953Z"
   },
   {
    "duration": 1054,
    "start_time": "2023-04-29T09:20:38.248Z"
   },
   {
    "duration": 0,
    "start_time": "2023-04-29T09:20:39.304Z"
   },
   {
    "duration": 379201,
    "start_time": "2023-04-29T09:20:53.143Z"
   },
   {
    "duration": 0,
    "start_time": "2023-04-29T09:27:12.346Z"
   },
   {
    "duration": 46,
    "start_time": "2023-04-29T09:28:33.763Z"
   },
   {
    "duration": 4,
    "start_time": "2023-04-29T09:28:42.429Z"
   },
   {
    "duration": 2952,
    "start_time": "2023-04-29T09:28:46.421Z"
   },
   {
    "duration": 8472,
    "start_time": "2023-04-29T09:28:56.820Z"
   },
   {
    "duration": 4,
    "start_time": "2023-04-29T09:29:46.769Z"
   },
   {
    "duration": 5,
    "start_time": "2023-04-29T09:34:06.819Z"
   },
   {
    "duration": 2948,
    "start_time": "2023-04-29T09:34:09.526Z"
   },
   {
    "duration": 478176,
    "start_time": "2023-04-29T09:34:20.432Z"
   },
   {
    "duration": 6,
    "start_time": "2023-04-29T09:42:18.610Z"
   },
   {
    "duration": 21,
    "start_time": "2023-04-29T09:44:35.070Z"
   },
   {
    "duration": 23,
    "start_time": "2023-04-29T09:45:21.439Z"
   },
   {
    "duration": 22,
    "start_time": "2023-04-29T09:45:38.220Z"
   },
   {
    "duration": 36,
    "start_time": "2023-04-29T09:46:10.411Z"
   },
   {
    "duration": 76,
    "start_time": "2023-04-29T09:46:20.662Z"
   },
   {
    "duration": 76,
    "start_time": "2023-04-29T09:46:26.588Z"
   },
   {
    "duration": 265,
    "start_time": "2023-04-29T09:47:02.634Z"
   },
   {
    "duration": 95,
    "start_time": "2023-04-29T09:47:54.465Z"
   },
   {
    "duration": 89,
    "start_time": "2023-04-29T09:48:17.935Z"
   },
   {
    "duration": 82,
    "start_time": "2023-04-29T09:48:47.507Z"
   },
   {
    "duration": 87,
    "start_time": "2023-04-29T09:48:54.615Z"
   },
   {
    "duration": 86,
    "start_time": "2023-04-29T09:49:02.744Z"
   },
   {
    "duration": 76,
    "start_time": "2023-04-29T09:49:10.227Z"
   },
   {
    "duration": 80,
    "start_time": "2023-04-29T09:49:19.578Z"
   },
   {
    "duration": 73,
    "start_time": "2023-04-29T09:49:24.344Z"
   },
   {
    "duration": 77,
    "start_time": "2023-04-29T09:49:30.439Z"
   },
   {
    "duration": 73,
    "start_time": "2023-04-29T09:49:33.190Z"
   },
   {
    "duration": 76,
    "start_time": "2023-04-29T09:49:36.802Z"
   },
   {
    "duration": 78,
    "start_time": "2023-04-29T09:49:42.731Z"
   },
   {
    "duration": 82,
    "start_time": "2023-04-29T09:50:06.851Z"
   },
   {
    "duration": 73,
    "start_time": "2023-04-29T09:51:11.904Z"
   },
   {
    "duration": 107,
    "start_time": "2023-04-29T09:51:22.742Z"
   },
   {
    "duration": 82,
    "start_time": "2023-04-29T09:54:13.679Z"
   },
   {
    "duration": 92,
    "start_time": "2023-04-29T09:54:18.057Z"
   },
   {
    "duration": 86,
    "start_time": "2023-04-29T09:54:25.559Z"
   },
   {
    "duration": 80,
    "start_time": "2023-04-29T09:54:33.319Z"
   },
   {
    "duration": 280,
    "start_time": "2023-04-29T09:54:51.069Z"
   },
   {
    "duration": 100,
    "start_time": "2023-04-29T09:56:38.803Z"
   },
   {
    "duration": 74,
    "start_time": "2023-04-29T09:56:50.511Z"
   },
   {
    "duration": 90,
    "start_time": "2023-04-29T09:56:53.776Z"
   },
   {
    "duration": 4287,
    "start_time": "2023-04-29T09:57:40.921Z"
   },
   {
    "duration": 3,
    "start_time": "2023-04-29T09:57:45.210Z"
   },
   {
    "duration": 4,
    "start_time": "2023-04-29T09:58:16.302Z"
   },
   {
    "duration": 2903,
    "start_time": "2023-04-29T09:58:17.369Z"
   },
   {
    "duration": 2713,
    "start_time": "2023-04-29T09:58:21.867Z"
   },
   {
    "duration": 6,
    "start_time": "2023-04-29T10:03:55.655Z"
   },
   {
    "duration": 2847,
    "start_time": "2023-04-29T10:03:57.457Z"
   },
   {
    "duration": 2273,
    "start_time": "2023-04-29T10:04:01.246Z"
   },
   {
    "duration": 4,
    "start_time": "2023-04-29T10:04:15.298Z"
   },
   {
    "duration": 2636,
    "start_time": "2023-04-29T11:15:12.443Z"
   },
   {
    "duration": 6,
    "start_time": "2023-04-29T11:15:15.081Z"
   },
   {
    "duration": 145,
    "start_time": "2023-04-29T11:15:15.089Z"
   },
   {
    "duration": 22,
    "start_time": "2023-04-29T11:15:15.236Z"
   },
   {
    "duration": 72,
    "start_time": "2023-04-29T11:15:17.183Z"
   },
   {
    "duration": 44,
    "start_time": "2023-04-29T11:15:17.395Z"
   },
   {
    "duration": 18,
    "start_time": "2023-04-29T11:15:17.805Z"
   },
   {
    "duration": 14,
    "start_time": "2023-04-29T11:15:18.024Z"
   },
   {
    "duration": 5,
    "start_time": "2023-04-29T11:15:18.595Z"
   },
   {
    "duration": 31,
    "start_time": "2023-04-29T11:15:18.776Z"
   },
   {
    "duration": 4,
    "start_time": "2023-04-29T11:15:18.964Z"
   },
   {
    "duration": 5,
    "start_time": "2023-04-29T11:15:19.351Z"
   },
   {
    "duration": 6,
    "start_time": "2023-04-29T11:15:19.731Z"
   },
   {
    "duration": 10,
    "start_time": "2023-04-29T11:15:19.908Z"
   },
   {
    "duration": 110,
    "start_time": "2023-04-29T11:15:20.104Z"
   },
   {
    "duration": 4,
    "start_time": "2023-04-29T11:15:20.296Z"
   },
   {
    "duration": 14,
    "start_time": "2023-04-29T11:15:20.491Z"
   },
   {
    "duration": 7,
    "start_time": "2023-04-29T11:15:20.704Z"
   },
   {
    "duration": 156,
    "start_time": "2023-04-29T11:15:21.117Z"
   },
   {
    "duration": 6,
    "start_time": "2023-04-29T11:15:21.332Z"
   },
   {
    "duration": 7,
    "start_time": "2023-04-29T11:15:23.290Z"
   },
   {
    "duration": 8,
    "start_time": "2023-04-29T11:15:23.452Z"
   },
   {
    "duration": 7,
    "start_time": "2023-04-29T11:15:23.624Z"
   },
   {
    "duration": 111,
    "start_time": "2023-04-29T11:15:23.806Z"
   },
   {
    "duration": 30,
    "start_time": "2023-04-29T11:15:24.001Z"
   },
   {
    "duration": 25546,
    "start_time": "2023-04-29T11:15:25.115Z"
   },
   {
    "duration": 101,
    "start_time": "2023-04-29T11:15:50.671Z"
   },
   {
    "duration": 6,
    "start_time": "2023-04-29T11:15:50.774Z"
   },
   {
    "duration": 4,
    "start_time": "2023-04-29T11:15:50.782Z"
   },
   {
    "duration": 9,
    "start_time": "2023-04-29T11:15:50.788Z"
   },
   {
    "duration": 19,
    "start_time": "2023-04-29T11:15:50.799Z"
   },
   {
    "duration": 61,
    "start_time": "2023-04-29T11:15:50.820Z"
   },
   {
    "duration": 6,
    "start_time": "2023-04-29T11:15:50.883Z"
   },
   {
    "duration": 6,
    "start_time": "2023-04-29T11:15:50.891Z"
   },
   {
    "duration": 583,
    "start_time": "2023-04-29T11:15:56.122Z"
   },
   {
    "duration": 14,
    "start_time": "2023-04-29T11:15:57.523Z"
   },
   {
    "duration": 10,
    "start_time": "2023-04-29T11:15:57.921Z"
   },
   {
    "duration": 5,
    "start_time": "2023-04-29T11:15:58.341Z"
   },
   {
    "duration": 4,
    "start_time": "2023-04-29T11:16:05.956Z"
   },
   {
    "duration": 4,
    "start_time": "2023-04-29T11:17:32.350Z"
   },
   {
    "duration": 8,
    "start_time": "2023-04-29T11:17:34.182Z"
   },
   {
    "duration": 38,
    "start_time": "2023-04-29T11:17:34.846Z"
   },
   {
    "duration": 2,
    "start_time": "2023-04-29T11:18:26.439Z"
   },
   {
    "duration": 5,
    "start_time": "2023-04-29T11:18:30.636Z"
   },
   {
    "duration": 3,
    "start_time": "2023-04-29T11:18:34.020Z"
   },
   {
    "duration": 4,
    "start_time": "2023-04-29T11:18:35.941Z"
   },
   {
    "duration": 3,
    "start_time": "2023-04-29T11:19:35.908Z"
   },
   {
    "duration": 6,
    "start_time": "2023-04-29T11:19:37.644Z"
   },
   {
    "duration": 24,
    "start_time": "2023-04-29T11:19:38.681Z"
   },
   {
    "duration": 3,
    "start_time": "2023-04-29T11:20:44.931Z"
   },
   {
    "duration": 22,
    "start_time": "2023-04-29T11:20:48.246Z"
   },
   {
    "duration": 102,
    "start_time": "2023-04-29T11:21:02.847Z"
   },
   {
    "duration": 6,
    "start_time": "2023-04-29T11:21:44.714Z"
   },
   {
    "duration": 11,
    "start_time": "2023-04-29T11:21:49.864Z"
   },
   {
    "duration": 3,
    "start_time": "2023-04-29T11:22:04.769Z"
   },
   {
    "duration": 3,
    "start_time": "2023-04-29T11:22:21.349Z"
   },
   {
    "duration": 3,
    "start_time": "2023-04-29T11:22:29.063Z"
   },
   {
    "duration": 4,
    "start_time": "2023-04-29T11:22:33.100Z"
   },
   {
    "duration": 101,
    "start_time": "2023-04-29T11:22:46.160Z"
   },
   {
    "duration": 4,
    "start_time": "2023-04-29T11:23:01.944Z"
   },
   {
    "duration": 3177,
    "start_time": "2023-04-29T11:23:04.122Z"
   },
   {
    "duration": 242068,
    "start_time": "2023-04-29T11:23:17.591Z"
   },
   {
    "duration": 3,
    "start_time": "2023-04-29T11:27:19.661Z"
   },
   {
    "duration": 6,
    "start_time": "2023-04-29T11:38:27.350Z"
   },
   {
    "duration": 6,
    "start_time": "2023-04-29T11:38:45.841Z"
   },
   {
    "duration": 13,
    "start_time": "2023-04-29T11:40:56.416Z"
   },
   {
    "duration": 2,
    "start_time": "2023-04-29T11:41:03.614Z"
   },
   {
    "duration": 4,
    "start_time": "2023-04-29T11:41:13.211Z"
   },
   {
    "duration": 30,
    "start_time": "2023-04-29T11:44:09.893Z"
   },
   {
    "duration": 36,
    "start_time": "2023-04-29T11:45:22.617Z"
   },
   {
    "duration": 4552,
    "start_time": "2023-04-29T11:47:44.817Z"
   },
   {
    "duration": 3,
    "start_time": "2023-04-29T11:47:53.018Z"
   },
   {
    "duration": 5292,
    "start_time": "2023-04-29T11:48:17.954Z"
   },
   {
    "duration": 3,
    "start_time": "2023-04-29T11:48:23.247Z"
   },
   {
    "duration": 5,
    "start_time": "2023-04-29T11:48:27.033Z"
   },
   {
    "duration": 5,
    "start_time": "2023-04-29T11:48:42.152Z"
   },
   {
    "duration": 4929,
    "start_time": "2023-04-29T11:49:13.586Z"
   },
   {
    "duration": 34,
    "start_time": "2023-04-29T11:49:50.712Z"
   },
   {
    "duration": 134,
    "start_time": "2023-04-29T11:50:33.090Z"
   },
   {
    "duration": 2063,
    "start_time": "2023-04-29T12:03:47.530Z"
   },
   {
    "duration": 110,
    "start_time": "2023-04-29T12:04:03.090Z"
   },
   {
    "duration": 4808,
    "start_time": "2023-04-29T12:04:40.526Z"
   },
   {
    "duration": 4609,
    "start_time": "2023-04-29T12:08:17.085Z"
   },
   {
    "duration": 3,
    "start_time": "2023-04-29T12:08:38.081Z"
   },
   {
    "duration": 4593,
    "start_time": "2023-04-29T12:08:38.916Z"
   },
   {
    "duration": 4590,
    "start_time": "2023-04-29T12:10:38.942Z"
   },
   {
    "duration": 5665,
    "start_time": "2023-04-29T12:11:45.783Z"
   },
   {
    "duration": 4,
    "start_time": "2023-04-29T12:14:04.578Z"
   },
   {
    "duration": 4620,
    "start_time": "2023-04-29T12:14:35.809Z"
   },
   {
    "duration": 4623,
    "start_time": "2023-04-29T12:14:48.930Z"
   },
   {
    "duration": 4647,
    "start_time": "2023-04-29T12:15:04.469Z"
   },
   {
    "duration": 25,
    "start_time": "2023-04-29T12:16:37.237Z"
   },
   {
    "duration": 5,
    "start_time": "2023-04-29T12:16:45.875Z"
   },
   {
    "duration": 6,
    "start_time": "2023-04-29T12:18:05.701Z"
   },
   {
    "duration": 7,
    "start_time": "2023-04-29T12:18:18.672Z"
   },
   {
    "duration": 23,
    "start_time": "2023-04-29T12:18:19.552Z"
   },
   {
    "duration": 3,
    "start_time": "2023-04-29T12:18:22.393Z"
   },
   {
    "duration": 22,
    "start_time": "2023-04-29T12:18:23.010Z"
   },
   {
    "duration": 116,
    "start_time": "2023-04-29T12:18:27.349Z"
   },
   {
    "duration": 5,
    "start_time": "2023-04-29T12:18:31.514Z"
   },
   {
    "duration": 3351,
    "start_time": "2023-04-29T12:18:32.332Z"
   },
   {
    "duration": 246115,
    "start_time": "2023-04-29T12:18:39.726Z"
   },
   {
    "duration": 3,
    "start_time": "2023-04-29T12:22:45.842Z"
   },
   {
    "duration": 10,
    "start_time": "2023-04-29T12:22:45.846Z"
   },
   {
    "duration": 33,
    "start_time": "2023-04-29T12:23:23.397Z"
   },
   {
    "duration": 5062,
    "start_time": "2023-04-29T12:23:28.513Z"
   },
   {
    "duration": 24,
    "start_time": "2023-04-29T12:23:42.707Z"
   },
   {
    "duration": 6,
    "start_time": "2023-04-29T12:23:46.646Z"
   },
   {
    "duration": 4894,
    "start_time": "2023-04-29T12:26:30.566Z"
   },
   {
    "duration": 5173,
    "start_time": "2023-04-29T12:26:54.394Z"
   },
   {
    "duration": 4686,
    "start_time": "2023-04-29T12:28:40.699Z"
   },
   {
    "duration": 5159,
    "start_time": "2023-04-29T12:28:56.889Z"
   },
   {
    "duration": 5043,
    "start_time": "2023-04-29T12:29:22.640Z"
   },
   {
    "duration": 4,
    "start_time": "2023-04-29T12:29:36.807Z"
   },
   {
    "duration": 196,
    "start_time": "2023-04-29T12:30:49.864Z"
   },
   {
    "duration": 5565,
    "start_time": "2023-04-29T12:31:01.699Z"
   },
   {
    "duration": 4808,
    "start_time": "2023-04-29T12:33:12.746Z"
   },
   {
    "duration": 2,
    "start_time": "2023-04-29T12:34:22.121Z"
   },
   {
    "duration": 4633,
    "start_time": "2023-04-29T12:34:25.644Z"
   },
   {
    "duration": 3,
    "start_time": "2023-04-29T12:34:36.628Z"
   },
   {
    "duration": 3,
    "start_time": "2023-04-29T12:34:53.454Z"
   },
   {
    "duration": 5626,
    "start_time": "2023-04-29T12:35:05.378Z"
   },
   {
    "duration": 3,
    "start_time": "2023-04-29T12:35:13.122Z"
   },
   {
    "duration": 4880,
    "start_time": "2023-04-29T12:35:16.404Z"
   },
   {
    "duration": 4,
    "start_time": "2023-04-29T12:35:22.657Z"
   },
   {
    "duration": 3,
    "start_time": "2023-04-29T12:35:24.007Z"
   },
   {
    "duration": 10,
    "start_time": "2023-04-29T12:36:22.508Z"
   },
   {
    "duration": 3,
    "start_time": "2023-04-29T12:36:34.686Z"
   },
   {
    "duration": 3,
    "start_time": "2023-04-29T12:36:35.448Z"
   },
   {
    "duration": 4,
    "start_time": "2023-04-29T12:36:37.431Z"
   },
   {
    "duration": 23,
    "start_time": "2023-04-29T12:36:40.354Z"
   },
   {
    "duration": 106,
    "start_time": "2023-04-29T12:38:12.425Z"
   },
   {
    "duration": 3,
    "start_time": "2023-04-29T12:40:14.586Z"
   },
   {
    "duration": 5,
    "start_time": "2023-04-29T12:40:21.501Z"
   },
   {
    "duration": 26,
    "start_time": "2023-04-29T12:40:23.228Z"
   },
   {
    "duration": 23,
    "start_time": "2023-04-29T12:40:28.975Z"
   },
   {
    "duration": 43,
    "start_time": "2023-04-29T12:42:15.671Z"
   },
   {
    "duration": 4,
    "start_time": "2023-04-29T12:44:21.009Z"
   },
   {
    "duration": 187,
    "start_time": "2023-04-29T12:44:38.190Z"
   },
   {
    "duration": 91,
    "start_time": "2023-04-29T12:45:01.910Z"
   },
   {
    "duration": 11,
    "start_time": "2023-04-29T12:45:12.657Z"
   },
   {
    "duration": 206,
    "start_time": "2023-04-29T12:45:22.595Z"
   },
   {
    "duration": 37,
    "start_time": "2023-04-29T12:45:26.924Z"
   },
   {
    "duration": 14,
    "start_time": "2023-04-29T12:46:20.518Z"
   },
   {
    "duration": 11,
    "start_time": "2023-04-29T12:46:33.931Z"
   },
   {
    "duration": 62,
    "start_time": "2023-04-29T12:46:41.678Z"
   },
   {
    "duration": 4,
    "start_time": "2023-04-29T12:50:22.987Z"
   },
   {
    "duration": 200,
    "start_time": "2023-04-29T12:50:26.507Z"
   },
   {
    "duration": 4,
    "start_time": "2023-04-29T12:51:14.176Z"
   },
   {
    "duration": 3,
    "start_time": "2023-04-29T12:51:17.178Z"
   },
   {
    "duration": 5,
    "start_time": "2023-04-29T12:51:20.332Z"
   },
   {
    "duration": 13,
    "start_time": "2023-04-29T12:51:23.025Z"
   },
   {
    "duration": 16,
    "start_time": "2023-04-29T12:51:52.434Z"
   },
   {
    "duration": 18,
    "start_time": "2023-04-29T12:52:35.127Z"
   },
   {
    "duration": 864,
    "start_time": "2023-04-29T12:52:39.433Z"
   },
   {
    "duration": 6,
    "start_time": "2023-04-29T12:52:48.412Z"
   },
   {
    "duration": 42,
    "start_time": "2023-04-29T12:58:38.742Z"
   },
   {
    "duration": 5,
    "start_time": "2023-04-29T12:59:02.843Z"
   },
   {
    "duration": 5,
    "start_time": "2023-04-29T12:59:16.184Z"
   },
   {
    "duration": 18,
    "start_time": "2023-04-29T12:59:34.711Z"
   },
   {
    "duration": 6,
    "start_time": "2023-04-29T13:00:00.500Z"
   },
   {
    "duration": 64,
    "start_time": "2023-04-29T13:00:00.543Z"
   },
   {
    "duration": 4,
    "start_time": "2023-04-29T13:01:04.834Z"
   },
   {
    "duration": 11,
    "start_time": "2023-04-29T13:02:50.514Z"
   },
   {
    "duration": 12,
    "start_time": "2023-04-29T13:02:59.052Z"
   },
   {
    "duration": 4,
    "start_time": "2023-04-29T13:03:14.743Z"
   },
   {
    "duration": 17,
    "start_time": "2023-04-29T13:03:15.949Z"
   },
   {
    "duration": 3,
    "start_time": "2023-04-29T13:03:20.989Z"
   },
   {
    "duration": 11,
    "start_time": "2023-04-29T13:03:22.011Z"
   },
   {
    "duration": 3,
    "start_time": "2023-04-29T13:03:25.409Z"
   },
   {
    "duration": 11,
    "start_time": "2023-04-29T13:03:26.810Z"
   },
   {
    "duration": 3,
    "start_time": "2023-04-29T13:03:43.338Z"
   },
   {
    "duration": 12,
    "start_time": "2023-04-29T13:03:48.018Z"
   },
   {
    "duration": 11,
    "start_time": "2023-04-29T13:03:56.279Z"
   },
   {
    "duration": 16,
    "start_time": "2023-04-29T13:04:06.029Z"
   },
   {
    "duration": 4,
    "start_time": "2023-04-29T13:04:16.584Z"
   },
   {
    "duration": 6,
    "start_time": "2023-04-29T13:04:19.142Z"
   },
   {
    "duration": 15,
    "start_time": "2023-04-29T13:05:44.137Z"
   },
   {
    "duration": 17,
    "start_time": "2023-04-29T13:06:32.113Z"
   },
   {
    "duration": 19,
    "start_time": "2023-04-29T13:06:44.857Z"
   },
   {
    "duration": 18,
    "start_time": "2023-04-29T13:06:50.711Z"
   },
   {
    "duration": 32,
    "start_time": "2023-04-29T13:07:16.946Z"
   },
   {
    "duration": 5,
    "start_time": "2023-04-29T13:08:16.205Z"
   },
   {
    "duration": 3,
    "start_time": "2023-04-29T13:08:17.989Z"
   },
   {
    "duration": 2,
    "start_time": "2023-04-29T13:08:18.303Z"
   },
   {
    "duration": 5,
    "start_time": "2023-04-29T13:08:18.658Z"
   },
   {
    "duration": 91,
    "start_time": "2023-04-29T13:08:45.921Z"
   },
   {
    "duration": 22,
    "start_time": "2023-04-29T13:08:46.158Z"
   },
   {
    "duration": 34,
    "start_time": "2023-04-29T13:08:47.890Z"
   },
   {
    "duration": 11,
    "start_time": "2023-04-29T13:08:48.218Z"
   },
   {
    "duration": 111,
    "start_time": "2023-04-29T13:08:50.204Z"
   },
   {
    "duration": 61,
    "start_time": "2023-04-29T13:09:30.287Z"
   },
   {
    "duration": 61,
    "start_time": "2023-04-29T13:09:38.046Z"
   },
   {
    "duration": 32,
    "start_time": "2023-04-29T13:09:41.152Z"
   },
   {
    "duration": 50,
    "start_time": "2023-04-29T13:09:52.827Z"
   },
   {
    "duration": 16,
    "start_time": "2023-04-29T13:09:57.749Z"
   },
   {
    "duration": 21,
    "start_time": "2023-04-29T13:10:07.803Z"
   },
   {
    "duration": 58,
    "start_time": "2023-04-29T13:10:20.703Z"
   },
   {
    "duration": 58,
    "start_time": "2023-04-29T13:10:34.207Z"
   },
   {
    "duration": 5,
    "start_time": "2023-04-29T13:10:37.741Z"
   },
   {
    "duration": 18,
    "start_time": "2023-04-29T13:11:12.605Z"
   },
   {
    "duration": 62,
    "start_time": "2023-04-29T13:11:23.005Z"
   },
   {
    "duration": 58,
    "start_time": "2023-04-29T13:11:37.643Z"
   },
   {
    "duration": 68,
    "start_time": "2023-04-29T13:11:44.007Z"
   },
   {
    "duration": 64,
    "start_time": "2023-04-29T13:11:50.989Z"
   },
   {
    "duration": 58,
    "start_time": "2023-04-29T13:11:58.542Z"
   },
   {
    "duration": 6,
    "start_time": "2023-04-29T13:12:07.851Z"
   },
   {
    "duration": 57,
    "start_time": "2023-04-29T13:12:17.207Z"
   },
   {
    "duration": 37,
    "start_time": "2023-04-29T13:12:20.529Z"
   },
   {
    "duration": 74,
    "start_time": "2023-04-29T13:12:31.927Z"
   },
   {
    "duration": 63,
    "start_time": "2023-04-29T13:13:21.773Z"
   },
   {
    "duration": 3,
    "start_time": "2023-04-29T13:13:40.534Z"
   },
   {
    "duration": 351,
    "start_time": "2023-04-29T13:14:05.286Z"
   },
   {
    "duration": 5,
    "start_time": "2023-04-29T13:14:12.983Z"
   },
   {
    "duration": 661,
    "start_time": "2023-04-29T13:14:41.052Z"
   },
   {
    "duration": 5,
    "start_time": "2023-04-29T13:14:43.458Z"
   },
   {
    "duration": 4,
    "start_time": "2023-04-29T13:14:48.632Z"
   },
   {
    "duration": 6,
    "start_time": "2023-04-29T13:15:00.239Z"
   },
   {
    "duration": 58,
    "start_time": "2023-04-29T13:15:37.450Z"
   },
   {
    "duration": 710,
    "start_time": "2023-04-29T13:15:44.266Z"
   },
   {
    "duration": 6,
    "start_time": "2023-04-29T13:15:53.020Z"
   },
   {
    "duration": 76,
    "start_time": "2023-04-29T13:16:51.683Z"
   },
   {
    "duration": 11,
    "start_time": "2023-04-29T13:16:57.605Z"
   },
   {
    "duration": 6,
    "start_time": "2023-04-29T13:17:05.207Z"
   },
   {
    "duration": 171,
    "start_time": "2023-04-29T13:17:15.406Z"
   },
   {
    "duration": 64,
    "start_time": "2023-04-29T13:17:29.330Z"
   },
   {
    "duration": 167,
    "start_time": "2023-04-29T13:17:31.839Z"
   },
   {
    "duration": 2093,
    "start_time": "2023-04-29T13:17:45.554Z"
   },
   {
    "duration": 2111,
    "start_time": "2023-04-29T13:17:47.648Z"
   },
   {
    "duration": 124,
    "start_time": "2023-04-29T13:17:49.760Z"
   },
   {
    "duration": 24,
    "start_time": "2023-04-29T13:17:49.886Z"
   },
   {
    "duration": 32785,
    "start_time": "2023-04-29T13:17:49.911Z"
   },
   {
    "duration": 107,
    "start_time": "2023-04-29T13:18:22.698Z"
   },
   {
    "duration": 98,
    "start_time": "2023-04-29T13:18:22.806Z"
   },
   {
    "duration": 6,
    "start_time": "2023-04-29T13:18:22.906Z"
   },
   {
    "duration": 75,
    "start_time": "2023-04-29T13:18:22.914Z"
   },
   {
    "duration": 13,
    "start_time": "2023-04-29T13:18:22.991Z"
   },
   {
    "duration": 8,
    "start_time": "2023-04-29T13:18:23.005Z"
   },
   {
    "duration": 79,
    "start_time": "2023-04-29T13:18:23.015Z"
   },
   {
    "duration": 5,
    "start_time": "2023-04-29T13:18:23.096Z"
   },
   {
    "duration": 11,
    "start_time": "2023-04-29T13:18:23.102Z"
   },
   {
    "duration": 11,
    "start_time": "2023-04-29T13:18:23.114Z"
   },
   {
    "duration": 6,
    "start_time": "2023-04-29T13:18:23.127Z"
   },
   {
    "duration": 126,
    "start_time": "2023-04-29T13:18:23.134Z"
   },
   {
    "duration": 11,
    "start_time": "2023-04-29T13:18:23.262Z"
   },
   {
    "duration": 7,
    "start_time": "2023-04-29T13:18:23.274Z"
   },
   {
    "duration": 5,
    "start_time": "2023-04-29T13:18:23.283Z"
   },
   {
    "duration": 143,
    "start_time": "2023-04-29T13:18:23.289Z"
   },
   {
    "duration": 4,
    "start_time": "2023-04-29T13:18:23.433Z"
   },
   {
    "duration": 12,
    "start_time": "2023-04-29T13:18:23.438Z"
   },
   {
    "duration": 26,
    "start_time": "2023-04-29T13:18:23.452Z"
   },
   {
    "duration": 13,
    "start_time": "2023-04-29T13:18:23.480Z"
   },
   {
    "duration": 108,
    "start_time": "2023-04-29T13:18:23.495Z"
   },
   {
    "duration": 25,
    "start_time": "2023-04-29T13:18:23.605Z"
   },
   {
    "duration": 24512,
    "start_time": "2023-04-29T13:18:23.634Z"
   },
   {
    "duration": 62,
    "start_time": "2023-04-29T13:18:48.148Z"
   },
   {
    "duration": 5,
    "start_time": "2023-04-29T13:18:48.211Z"
   },
   {
    "duration": 56,
    "start_time": "2023-04-29T13:18:48.217Z"
   },
   {
    "duration": 34,
    "start_time": "2023-04-29T13:18:48.274Z"
   },
   {
    "duration": 11,
    "start_time": "2023-04-29T13:18:48.310Z"
   },
   {
    "duration": 31,
    "start_time": "2023-04-29T13:18:48.322Z"
   },
   {
    "duration": 5,
    "start_time": "2023-04-29T13:18:48.355Z"
   },
   {
    "duration": 4,
    "start_time": "2023-04-29T13:18:48.361Z"
   },
   {
    "duration": 535,
    "start_time": "2023-04-29T13:18:48.366Z"
   },
   {
    "duration": 11,
    "start_time": "2023-04-29T13:18:48.902Z"
   },
   {
    "duration": 6,
    "start_time": "2023-04-29T13:18:48.914Z"
   },
   {
    "duration": 5,
    "start_time": "2023-04-29T13:18:48.921Z"
   },
   {
    "duration": 14,
    "start_time": "2023-04-29T13:18:48.928Z"
   },
   {
    "duration": 14,
    "start_time": "2023-04-29T13:18:48.944Z"
   },
   {
    "duration": 13,
    "start_time": "2023-04-29T13:18:48.959Z"
   },
   {
    "duration": 21,
    "start_time": "2023-04-29T13:18:48.974Z"
   },
   {
    "duration": 2,
    "start_time": "2023-04-29T13:18:48.996Z"
   },
   {
    "duration": 22,
    "start_time": "2023-04-29T13:18:49.000Z"
   },
   {
    "duration": 128,
    "start_time": "2023-04-29T13:18:49.023Z"
   },
   {
    "duration": 4,
    "start_time": "2023-04-29T13:18:49.153Z"
   },
   {
    "duration": 3417,
    "start_time": "2023-04-29T13:18:49.159Z"
   },
   {
    "duration": 212295,
    "start_time": "2023-04-29T13:18:52.578Z"
   },
   {
    "duration": 0,
    "start_time": "2023-04-29T13:22:24.876Z"
   },
   {
    "duration": 0,
    "start_time": "2023-04-29T13:22:24.877Z"
   },
   {
    "duration": 0,
    "start_time": "2023-04-29T13:22:24.878Z"
   },
   {
    "duration": 0,
    "start_time": "2023-04-29T13:22:24.880Z"
   },
   {
    "duration": 0,
    "start_time": "2023-04-29T13:22:24.882Z"
   },
   {
    "duration": 0,
    "start_time": "2023-04-29T13:22:24.883Z"
   },
   {
    "duration": 0,
    "start_time": "2023-04-29T13:22:24.884Z"
   },
   {
    "duration": 0,
    "start_time": "2023-04-29T13:22:24.885Z"
   },
   {
    "duration": 0,
    "start_time": "2023-04-29T13:22:24.885Z"
   },
   {
    "duration": 0,
    "start_time": "2023-04-29T13:22:24.886Z"
   },
   {
    "duration": 0,
    "start_time": "2023-04-29T13:22:24.887Z"
   },
   {
    "duration": 0,
    "start_time": "2023-04-29T13:22:24.888Z"
   },
   {
    "duration": 0,
    "start_time": "2023-04-29T13:22:24.889Z"
   },
   {
    "duration": 0,
    "start_time": "2023-04-29T13:22:24.890Z"
   },
   {
    "duration": 1,
    "start_time": "2023-04-29T13:22:24.890Z"
   },
   {
    "duration": 0,
    "start_time": "2023-04-29T13:22:24.892Z"
   },
   {
    "duration": 0,
    "start_time": "2023-04-29T13:22:24.892Z"
   },
   {
    "duration": 0,
    "start_time": "2023-04-29T13:22:24.894Z"
   },
   {
    "duration": 0,
    "start_time": "2023-04-29T13:22:24.894Z"
   },
   {
    "duration": 0,
    "start_time": "2023-04-29T13:22:24.895Z"
   },
   {
    "duration": 0,
    "start_time": "2023-04-29T13:22:24.897Z"
   },
   {
    "duration": 0,
    "start_time": "2023-04-29T13:22:24.898Z"
   },
   {
    "duration": 0,
    "start_time": "2023-04-29T13:22:24.899Z"
   },
   {
    "duration": 0,
    "start_time": "2023-04-29T13:22:24.900Z"
   },
   {
    "duration": 0,
    "start_time": "2023-04-29T13:22:24.902Z"
   },
   {
    "duration": 0,
    "start_time": "2023-04-29T13:22:24.903Z"
   },
   {
    "duration": 0,
    "start_time": "2023-04-29T13:22:24.904Z"
   },
   {
    "duration": 0,
    "start_time": "2023-04-29T13:22:24.905Z"
   },
   {
    "duration": 0,
    "start_time": "2023-04-29T13:22:24.906Z"
   },
   {
    "duration": 0,
    "start_time": "2023-04-29T13:22:24.908Z"
   },
   {
    "duration": 0,
    "start_time": "2023-04-29T13:22:24.909Z"
   },
   {
    "duration": 0,
    "start_time": "2023-04-29T13:22:24.910Z"
   },
   {
    "duration": 0,
    "start_time": "2023-04-29T13:22:24.911Z"
   },
   {
    "duration": 0,
    "start_time": "2023-04-29T13:22:24.912Z"
   },
   {
    "duration": 0,
    "start_time": "2023-04-29T13:22:24.913Z"
   },
   {
    "duration": 0,
    "start_time": "2023-04-29T13:22:24.972Z"
   },
   {
    "duration": 0,
    "start_time": "2023-04-29T13:22:24.973Z"
   },
   {
    "duration": 0,
    "start_time": "2023-04-29T13:22:24.974Z"
   },
   {
    "duration": 4,
    "start_time": "2023-04-29T13:23:18.048Z"
   },
   {
    "duration": 4,
    "start_time": "2023-04-29T13:23:19.324Z"
   },
   {
    "duration": 8,
    "start_time": "2023-04-29T13:23:24.841Z"
   },
   {
    "duration": 45,
    "start_time": "2023-04-29T13:23:25.484Z"
   },
   {
    "duration": 2,
    "start_time": "2023-04-29T13:23:33.323Z"
   },
   {
    "duration": 40,
    "start_time": "2023-04-29T13:23:36.683Z"
   },
   {
    "duration": 136,
    "start_time": "2023-04-29T13:23:41.685Z"
   },
   {
    "duration": 4,
    "start_time": "2023-04-29T13:23:44.186Z"
   },
   {
    "duration": 3682,
    "start_time": "2023-04-29T13:23:45.791Z"
   },
   {
    "duration": 265536,
    "start_time": "2023-04-29T13:24:08.929Z"
   },
   {
    "duration": 3,
    "start_time": "2023-04-29T13:28:34.467Z"
   },
   {
    "duration": 2,
    "start_time": "2023-04-29T13:28:42.377Z"
   },
   {
    "duration": 1741,
    "start_time": "2023-04-29T13:28:42.904Z"
   },
   {
    "duration": 4,
    "start_time": "2023-04-29T13:28:44.647Z"
   },
   {
    "duration": 2109,
    "start_time": "2023-04-29T13:30:34.786Z"
   },
   {
    "duration": 1774,
    "start_time": "2023-04-29T13:30:36.897Z"
   },
   {
    "duration": 137,
    "start_time": "2023-04-29T13:30:38.673Z"
   },
   {
    "duration": 23,
    "start_time": "2023-04-29T13:30:38.812Z"
   },
   {
    "duration": 33379,
    "start_time": "2023-04-29T13:30:38.836Z"
   },
   {
    "duration": 89,
    "start_time": "2023-04-29T13:31:12.217Z"
   },
   {
    "duration": 179,
    "start_time": "2023-04-29T13:31:12.308Z"
   },
   {
    "duration": 7,
    "start_time": "2023-04-29T13:31:12.489Z"
   },
   {
    "duration": 83,
    "start_time": "2023-04-29T13:31:12.498Z"
   },
   {
    "duration": 90,
    "start_time": "2023-04-29T13:31:12.585Z"
   },
   {
    "duration": 5,
    "start_time": "2023-04-29T13:31:12.677Z"
   },
   {
    "duration": 45,
    "start_time": "2023-04-29T13:31:12.684Z"
   },
   {
    "duration": 6,
    "start_time": "2023-04-29T13:31:12.730Z"
   },
   {
    "duration": 20,
    "start_time": "2023-04-29T13:31:12.737Z"
   },
   {
    "duration": 17,
    "start_time": "2023-04-29T13:31:12.759Z"
   },
   {
    "duration": 7,
    "start_time": "2023-04-29T13:31:12.778Z"
   },
   {
    "duration": 129,
    "start_time": "2023-04-29T13:31:12.787Z"
   },
   {
    "duration": 4,
    "start_time": "2023-04-29T13:31:12.918Z"
   },
   {
    "duration": 23,
    "start_time": "2023-04-29T13:31:12.924Z"
   },
   {
    "duration": 7,
    "start_time": "2023-04-29T13:31:12.948Z"
   },
   {
    "duration": 212,
    "start_time": "2023-04-29T13:31:12.957Z"
   },
   {
    "duration": 4,
    "start_time": "2023-04-29T13:31:13.171Z"
   },
   {
    "duration": 10,
    "start_time": "2023-04-29T13:31:13.176Z"
   },
   {
    "duration": 8,
    "start_time": "2023-04-29T13:31:13.188Z"
   },
   {
    "duration": 6,
    "start_time": "2023-04-29T13:31:13.198Z"
   },
   {
    "duration": 153,
    "start_time": "2023-04-29T13:31:13.207Z"
   },
   {
    "duration": 47,
    "start_time": "2023-04-29T13:31:13.361Z"
   },
   {
    "duration": 26719,
    "start_time": "2023-04-29T13:31:13.413Z"
   },
   {
    "duration": 79,
    "start_time": "2023-04-29T13:31:40.134Z"
   },
   {
    "duration": 61,
    "start_time": "2023-04-29T13:31:40.214Z"
   },
   {
    "duration": 3,
    "start_time": "2023-04-29T13:31:40.276Z"
   },
   {
    "duration": 9,
    "start_time": "2023-04-29T13:31:40.281Z"
   },
   {
    "duration": 10,
    "start_time": "2023-04-29T13:31:40.291Z"
   },
   {
    "duration": 76,
    "start_time": "2023-04-29T13:31:40.302Z"
   },
   {
    "duration": 8,
    "start_time": "2023-04-29T13:31:40.380Z"
   },
   {
    "duration": 18,
    "start_time": "2023-04-29T13:31:40.389Z"
   },
   {
    "duration": 624,
    "start_time": "2023-04-29T13:31:40.409Z"
   },
   {
    "duration": 10,
    "start_time": "2023-04-29T13:31:41.035Z"
   },
   {
    "duration": 12,
    "start_time": "2023-04-29T13:31:41.046Z"
   },
   {
    "duration": 16,
    "start_time": "2023-04-29T13:31:41.060Z"
   },
   {
    "duration": 10,
    "start_time": "2023-04-29T13:31:41.077Z"
   },
   {
    "duration": 16,
    "start_time": "2023-04-29T13:31:41.088Z"
   },
   {
    "duration": 13,
    "start_time": "2023-04-29T13:31:41.105Z"
   },
   {
    "duration": 29,
    "start_time": "2023-04-29T13:31:41.119Z"
   },
   {
    "duration": 6,
    "start_time": "2023-04-29T13:31:41.149Z"
   },
   {
    "duration": 36,
    "start_time": "2023-04-29T13:31:41.156Z"
   },
   {
    "duration": 109,
    "start_time": "2023-04-29T13:31:41.193Z"
   },
   {
    "duration": 5,
    "start_time": "2023-04-29T13:31:41.304Z"
   },
   {
    "duration": 3471,
    "start_time": "2023-04-29T13:31:41.310Z"
   },
   {
    "duration": 242737,
    "start_time": "2023-04-29T13:31:44.783Z"
   },
   {
    "duration": 4,
    "start_time": "2023-04-29T13:35:47.521Z"
   },
   {
    "duration": 30,
    "start_time": "2023-04-29T13:35:47.527Z"
   },
   {
    "duration": 4515,
    "start_time": "2023-04-29T13:35:47.559Z"
   },
   {
    "duration": 3,
    "start_time": "2023-04-29T13:35:52.076Z"
   },
   {
    "duration": 14,
    "start_time": "2023-04-29T13:35:52.080Z"
   },
   {
    "duration": 177,
    "start_time": "2023-04-29T13:35:52.095Z"
   },
   {
    "duration": 0,
    "start_time": "2023-04-29T13:35:52.274Z"
   },
   {
    "duration": 0,
    "start_time": "2023-04-29T13:35:52.275Z"
   },
   {
    "duration": 0,
    "start_time": "2023-04-29T13:35:52.277Z"
   },
   {
    "duration": 0,
    "start_time": "2023-04-29T13:35:52.278Z"
   },
   {
    "duration": 0,
    "start_time": "2023-04-29T13:35:52.279Z"
   },
   {
    "duration": 0,
    "start_time": "2023-04-29T13:35:52.281Z"
   },
   {
    "duration": 0,
    "start_time": "2023-04-29T13:35:52.282Z"
   },
   {
    "duration": 0,
    "start_time": "2023-04-29T13:35:52.283Z"
   },
   {
    "duration": 0,
    "start_time": "2023-04-29T13:35:52.284Z"
   },
   {
    "duration": 0,
    "start_time": "2023-04-29T13:35:52.285Z"
   },
   {
    "duration": 0,
    "start_time": "2023-04-29T13:35:52.286Z"
   },
   {
    "duration": 0,
    "start_time": "2023-04-29T13:35:52.287Z"
   },
   {
    "duration": 0,
    "start_time": "2023-04-29T13:35:52.288Z"
   },
   {
    "duration": 0,
    "start_time": "2023-04-29T13:35:52.289Z"
   },
   {
    "duration": 0,
    "start_time": "2023-04-29T13:35:52.290Z"
   },
   {
    "duration": 0,
    "start_time": "2023-04-29T13:35:52.291Z"
   },
   {
    "duration": 0,
    "start_time": "2023-04-29T13:35:52.291Z"
   },
   {
    "duration": 0,
    "start_time": "2023-04-29T13:35:52.292Z"
   },
   {
    "duration": 0,
    "start_time": "2023-04-29T13:35:52.293Z"
   },
   {
    "duration": 0,
    "start_time": "2023-04-29T13:35:52.294Z"
   },
   {
    "duration": 0,
    "start_time": "2023-04-29T13:35:52.295Z"
   },
   {
    "duration": 0,
    "start_time": "2023-04-29T13:35:52.297Z"
   },
   {
    "duration": 0,
    "start_time": "2023-04-29T13:35:52.298Z"
   },
   {
    "duration": 0,
    "start_time": "2023-04-29T13:35:52.299Z"
   },
   {
    "duration": 0,
    "start_time": "2023-04-29T13:35:52.300Z"
   },
   {
    "duration": 0,
    "start_time": "2023-04-29T13:35:52.301Z"
   },
   {
    "duration": 0,
    "start_time": "2023-04-29T13:35:52.303Z"
   },
   {
    "duration": 0,
    "start_time": "2023-04-29T13:35:52.304Z"
   },
   {
    "duration": 0,
    "start_time": "2023-04-29T13:35:52.305Z"
   },
   {
    "duration": 0,
    "start_time": "2023-04-29T13:35:52.307Z"
   },
   {
    "duration": 5,
    "start_time": "2023-04-29T13:36:05.924Z"
   },
   {
    "duration": 9,
    "start_time": "2023-04-29T13:36:05.931Z"
   },
   {
    "duration": 189,
    "start_time": "2023-04-29T13:36:05.941Z"
   },
   {
    "duration": 4,
    "start_time": "2023-04-29T13:36:06.132Z"
   },
   {
    "duration": 5,
    "start_time": "2023-04-29T13:36:06.138Z"
   },
   {
    "duration": 37,
    "start_time": "2023-04-29T13:36:06.144Z"
   },
   {
    "duration": 85,
    "start_time": "2023-04-29T13:36:06.183Z"
   },
   {
    "duration": 21,
    "start_time": "2023-04-29T13:36:06.269Z"
   },
   {
    "duration": 55,
    "start_time": "2023-04-29T13:36:06.291Z"
   },
   {
    "duration": 13,
    "start_time": "2023-04-29T13:36:06.348Z"
   },
   {
    "duration": 20228,
    "start_time": "2023-04-29T13:36:06.363Z"
   },
   {
    "duration": 0,
    "start_time": "2023-04-29T13:36:26.594Z"
   },
   {
    "duration": 0,
    "start_time": "2023-04-29T13:36:26.594Z"
   },
   {
    "duration": 0,
    "start_time": "2023-04-29T13:36:26.596Z"
   },
   {
    "duration": 0,
    "start_time": "2023-04-29T13:36:26.597Z"
   },
   {
    "duration": 0,
    "start_time": "2023-04-29T13:36:26.598Z"
   },
   {
    "duration": 0,
    "start_time": "2023-04-29T13:36:26.598Z"
   },
   {
    "duration": 0,
    "start_time": "2023-04-29T13:36:26.599Z"
   },
   {
    "duration": 0,
    "start_time": "2023-04-29T13:36:26.600Z"
   },
   {
    "duration": 0,
    "start_time": "2023-04-29T13:36:26.601Z"
   },
   {
    "duration": 0,
    "start_time": "2023-04-29T13:36:26.602Z"
   },
   {
    "duration": 0,
    "start_time": "2023-04-29T13:36:26.603Z"
   },
   {
    "duration": 0,
    "start_time": "2023-04-29T13:36:26.604Z"
   },
   {
    "duration": 0,
    "start_time": "2023-04-29T13:36:26.605Z"
   },
   {
    "duration": 0,
    "start_time": "2023-04-29T13:36:26.606Z"
   },
   {
    "duration": 0,
    "start_time": "2023-04-29T13:36:26.607Z"
   },
   {
    "duration": 0,
    "start_time": "2023-04-29T13:36:26.608Z"
   },
   {
    "duration": 0,
    "start_time": "2023-04-29T13:36:26.609Z"
   },
   {
    "duration": 0,
    "start_time": "2023-04-29T13:36:26.611Z"
   },
   {
    "duration": 0,
    "start_time": "2023-04-29T13:36:26.612Z"
   },
   {
    "duration": 0,
    "start_time": "2023-04-29T13:36:26.613Z"
   },
   {
    "duration": 0,
    "start_time": "2023-04-29T13:36:26.614Z"
   },
   {
    "duration": 79,
    "start_time": "2023-04-29T13:36:51.349Z"
   },
   {
    "duration": 18,
    "start_time": "2023-04-29T13:36:51.671Z"
   },
   {
    "duration": 41,
    "start_time": "2023-04-29T13:36:52.152Z"
   },
   {
    "duration": 10,
    "start_time": "2023-04-29T13:36:56.710Z"
   },
   {
    "duration": 23971,
    "start_time": "2023-04-29T13:36:56.723Z"
   },
   {
    "duration": 202,
    "start_time": "2023-04-29T13:37:20.697Z"
   },
   {
    "duration": 0,
    "start_time": "2023-04-29T13:37:20.901Z"
   },
   {
    "duration": 0,
    "start_time": "2023-04-29T13:37:20.902Z"
   },
   {
    "duration": 0,
    "start_time": "2023-04-29T13:37:20.903Z"
   },
   {
    "duration": 0,
    "start_time": "2023-04-29T13:37:20.904Z"
   },
   {
    "duration": 0,
    "start_time": "2023-04-29T13:37:20.905Z"
   },
   {
    "duration": 0,
    "start_time": "2023-04-29T13:37:20.906Z"
   },
   {
    "duration": 0,
    "start_time": "2023-04-29T13:37:20.907Z"
   },
   {
    "duration": 0,
    "start_time": "2023-04-29T13:37:20.907Z"
   },
   {
    "duration": 0,
    "start_time": "2023-04-29T13:37:20.908Z"
   },
   {
    "duration": 0,
    "start_time": "2023-04-29T13:37:20.909Z"
   },
   {
    "duration": 0,
    "start_time": "2023-04-29T13:37:20.910Z"
   },
   {
    "duration": 0,
    "start_time": "2023-04-29T13:37:20.911Z"
   },
   {
    "duration": 0,
    "start_time": "2023-04-29T13:37:20.911Z"
   },
   {
    "duration": 0,
    "start_time": "2023-04-29T13:37:20.912Z"
   },
   {
    "duration": 0,
    "start_time": "2023-04-29T13:37:20.913Z"
   },
   {
    "duration": 0,
    "start_time": "2023-04-29T13:37:20.914Z"
   },
   {
    "duration": 0,
    "start_time": "2023-04-29T13:37:20.914Z"
   },
   {
    "duration": 0,
    "start_time": "2023-04-29T13:37:20.915Z"
   },
   {
    "duration": 0,
    "start_time": "2023-04-29T13:37:20.916Z"
   },
   {
    "duration": 0,
    "start_time": "2023-04-29T13:37:20.916Z"
   },
   {
    "duration": 37,
    "start_time": "2023-04-29T13:37:38.085Z"
   },
   {
    "duration": 38,
    "start_time": "2023-04-29T13:38:08.026Z"
   },
   {
    "duration": 109,
    "start_time": "2023-04-29T13:38:16.925Z"
   },
   {
    "duration": 69,
    "start_time": "2023-04-29T13:38:18.847Z"
   },
   {
    "duration": 85,
    "start_time": "2023-04-29T13:38:19.027Z"
   },
   {
    "duration": 709,
    "start_time": "2023-04-29T13:38:19.174Z"
   },
   {
    "duration": 6,
    "start_time": "2023-04-29T13:38:19.884Z"
   },
   {
    "duration": 11,
    "start_time": "2023-04-29T13:38:19.891Z"
   },
   {
    "duration": 9,
    "start_time": "2023-04-29T13:38:19.903Z"
   },
   {
    "duration": 715,
    "start_time": "2023-04-29T13:38:19.913Z"
   },
   {
    "duration": 6,
    "start_time": "2023-04-29T13:38:20.630Z"
   },
   {
    "duration": 69,
    "start_time": "2023-04-29T13:38:20.638Z"
   },
   {
    "duration": 6,
    "start_time": "2023-04-29T13:38:20.708Z"
   },
   {
    "duration": 20,
    "start_time": "2023-04-29T13:38:20.716Z"
   },
   {
    "duration": 187,
    "start_time": "2023-04-29T13:38:20.833Z"
   },
   {
    "duration": 78,
    "start_time": "2023-04-29T13:38:21.023Z"
   },
   {
    "duration": 186,
    "start_time": "2023-04-29T13:38:21.163Z"
   },
   {
    "duration": 95,
    "start_time": "2023-04-29T13:39:08.230Z"
   },
   {
    "duration": 101,
    "start_time": "2023-04-29T13:39:08.392Z"
   },
   {
    "duration": 7,
    "start_time": "2023-04-29T13:39:08.577Z"
   },
   {
    "duration": 50,
    "start_time": "2023-04-29T13:39:08.727Z"
   },
   {
    "duration": 9,
    "start_time": "2023-04-29T13:39:08.923Z"
   },
   {
    "duration": 26,
    "start_time": "2023-04-29T13:39:09.132Z"
   },
   {
    "duration": 11,
    "start_time": "2023-04-29T13:39:28.018Z"
   },
   {
    "duration": 9,
    "start_time": "2023-04-29T13:39:38.324Z"
   },
   {
    "duration": 6,
    "start_time": "2023-04-29T13:39:42.536Z"
   },
   {
    "duration": 4,
    "start_time": "2023-04-29T13:39:47.928Z"
   },
   {
    "duration": 4,
    "start_time": "2023-04-29T13:39:51.224Z"
   },
   {
    "duration": 10,
    "start_time": "2023-04-29T13:39:55.030Z"
   },
   {
    "duration": 5,
    "start_time": "2023-04-29T13:40:01.186Z"
   },
   {
    "duration": 9,
    "start_time": "2023-04-29T13:40:15.925Z"
   },
   {
    "duration": 11,
    "start_time": "2023-04-29T13:41:39.578Z"
   },
   {
    "duration": 5,
    "start_time": "2023-04-29T13:41:45.349Z"
   },
   {
    "duration": 9,
    "start_time": "2023-04-29T13:41:52.026Z"
   },
   {
    "duration": 11,
    "start_time": "2023-04-29T13:41:56.028Z"
   },
   {
    "duration": 5,
    "start_time": "2023-04-29T13:41:59.527Z"
   },
   {
    "duration": 4,
    "start_time": "2023-04-29T13:42:09.276Z"
   },
   {
    "duration": 10,
    "start_time": "2023-04-29T13:42:14.632Z"
   },
   {
    "duration": 4,
    "start_time": "2023-04-29T13:42:18.125Z"
   },
   {
    "duration": 4,
    "start_time": "2023-04-29T13:42:19.873Z"
   },
   {
    "duration": 4,
    "start_time": "2023-04-29T13:42:22.522Z"
   },
   {
    "duration": 3,
    "start_time": "2023-04-29T13:42:30.830Z"
   },
   {
    "duration": 5,
    "start_time": "2023-04-29T13:42:52.137Z"
   },
   {
    "duration": 3,
    "start_time": "2023-04-29T13:44:10.979Z"
   },
   {
    "duration": 3,
    "start_time": "2023-04-29T13:44:13.947Z"
   },
   {
    "duration": 2,
    "start_time": "2023-04-29T13:44:15.822Z"
   },
   {
    "duration": 2,
    "start_time": "2023-04-29T13:44:44.833Z"
   },
   {
    "duration": 3,
    "start_time": "2023-04-29T13:44:50.831Z"
   },
   {
    "duration": 3,
    "start_time": "2023-04-29T13:44:51.025Z"
   },
   {
    "duration": 6,
    "start_time": "2023-04-29T13:45:04.921Z"
   },
   {
    "duration": 7,
    "start_time": "2023-04-29T13:45:42.018Z"
   },
   {
    "duration": 6,
    "start_time": "2023-04-29T13:45:53.435Z"
   },
   {
    "duration": 4,
    "start_time": "2023-04-29T13:59:28.918Z"
   },
   {
    "duration": 3,
    "start_time": "2023-04-29T13:59:29.323Z"
   },
   {
    "duration": 4,
    "start_time": "2023-04-29T13:59:29.723Z"
   },
   {
    "duration": 72,
    "start_time": "2023-04-29T13:59:32.357Z"
   },
   {
    "duration": 17,
    "start_time": "2023-04-29T13:59:32.621Z"
   },
   {
    "duration": 39,
    "start_time": "2023-04-29T13:59:35.445Z"
   },
   {
    "duration": 10,
    "start_time": "2023-04-29T13:59:37.001Z"
   },
   {
    "duration": 62,
    "start_time": "2023-04-29T13:59:44.614Z"
   },
   {
    "duration": 64,
    "start_time": "2023-04-29T13:59:47.026Z"
   },
   {
    "duration": 636,
    "start_time": "2023-04-29T13:59:48.210Z"
   },
   {
    "duration": 6,
    "start_time": "2023-04-29T13:59:49.415Z"
   },
   {
    "duration": 5,
    "start_time": "2023-04-29T13:59:50.721Z"
   },
   {
    "duration": 10,
    "start_time": "2023-04-29T13:59:51.858Z"
   },
   {
    "duration": 813,
    "start_time": "2023-04-29T13:59:57.016Z"
   },
   {
    "duration": 7,
    "start_time": "2023-04-29T13:59:58.227Z"
   },
   {
    "duration": 58,
    "start_time": "2023-04-29T14:00:00.720Z"
   },
   {
    "duration": 8,
    "start_time": "2023-04-29T14:00:01.107Z"
   },
   {
    "duration": 8,
    "start_time": "2023-04-29T14:00:01.617Z"
   },
   {
    "duration": 179,
    "start_time": "2023-04-29T14:00:02.921Z"
   },
   {
    "duration": 66,
    "start_time": "2023-04-29T14:00:04.859Z"
   },
   {
    "duration": 163,
    "start_time": "2023-04-29T14:00:05.079Z"
   },
   {
    "duration": 18,
    "start_time": "2023-04-29T14:08:07.128Z"
   },
   {
    "duration": 23,
    "start_time": "2023-04-29T14:08:26.815Z"
   },
   {
    "duration": 31,
    "start_time": "2023-04-29T14:10:57.016Z"
   },
   {
    "duration": 2257,
    "start_time": "2023-04-29T14:17:08.191Z"
   },
   {
    "duration": 2183,
    "start_time": "2023-04-29T14:17:10.450Z"
   },
   {
    "duration": 141,
    "start_time": "2023-04-29T14:17:12.634Z"
   },
   {
    "duration": 27,
    "start_time": "2023-04-29T14:17:12.776Z"
   },
   {
    "duration": 32003,
    "start_time": "2023-04-29T14:17:12.805Z"
   },
   {
    "duration": 93,
    "start_time": "2023-04-29T14:17:44.810Z"
   },
   {
    "duration": 96,
    "start_time": "2023-04-29T14:17:44.904Z"
   },
   {
    "duration": 6,
    "start_time": "2023-04-29T14:17:45.001Z"
   },
   {
    "duration": 85,
    "start_time": "2023-04-29T14:17:45.008Z"
   },
   {
    "duration": 35,
    "start_time": "2023-04-29T14:17:45.095Z"
   },
   {
    "duration": 5,
    "start_time": "2023-04-29T14:17:45.132Z"
   },
   {
    "duration": 58,
    "start_time": "2023-04-29T14:17:45.138Z"
   },
   {
    "duration": 5,
    "start_time": "2023-04-29T14:17:45.197Z"
   },
   {
    "duration": 9,
    "start_time": "2023-04-29T14:17:45.205Z"
   },
   {
    "duration": 57,
    "start_time": "2023-04-29T14:17:45.216Z"
   },
   {
    "duration": 7,
    "start_time": "2023-04-29T14:17:45.275Z"
   },
   {
    "duration": 120,
    "start_time": "2023-04-29T14:17:45.283Z"
   },
   {
    "duration": 3,
    "start_time": "2023-04-29T14:17:45.404Z"
   },
   {
    "duration": 7,
    "start_time": "2023-04-29T14:17:45.409Z"
   },
   {
    "duration": 9,
    "start_time": "2023-04-29T14:17:45.418Z"
   },
   {
    "duration": 144,
    "start_time": "2023-04-29T14:17:45.429Z"
   },
   {
    "duration": 4,
    "start_time": "2023-04-29T14:17:45.575Z"
   },
   {
    "duration": 10,
    "start_time": "2023-04-29T14:17:45.580Z"
   },
   {
    "duration": 10,
    "start_time": "2023-04-29T14:17:45.591Z"
   },
   {
    "duration": 8,
    "start_time": "2023-04-29T14:17:45.602Z"
   },
   {
    "duration": 117,
    "start_time": "2023-04-29T14:17:45.611Z"
   },
   {
    "duration": 31,
    "start_time": "2023-04-29T14:17:45.729Z"
   },
   {
    "duration": 25983,
    "start_time": "2023-04-29T14:17:45.761Z"
   },
   {
    "duration": 68,
    "start_time": "2023-04-29T14:18:11.746Z"
   },
   {
    "duration": 57,
    "start_time": "2023-04-29T14:18:11.816Z"
   },
   {
    "duration": 2,
    "start_time": "2023-04-29T14:18:11.875Z"
   },
   {
    "duration": 10,
    "start_time": "2023-04-29T14:18:11.879Z"
   },
   {
    "duration": 13,
    "start_time": "2023-04-29T14:18:11.891Z"
   },
   {
    "duration": 20,
    "start_time": "2023-04-29T14:18:11.905Z"
   },
   {
    "duration": 51,
    "start_time": "2023-04-29T14:18:11.927Z"
   },
   {
    "duration": 4,
    "start_time": "2023-04-29T14:18:11.979Z"
   },
   {
    "duration": 609,
    "start_time": "2023-04-29T14:18:11.985Z"
   },
   {
    "duration": 11,
    "start_time": "2023-04-29T14:18:12.595Z"
   },
   {
    "duration": 8,
    "start_time": "2023-04-29T14:18:12.607Z"
   },
   {
    "duration": 7,
    "start_time": "2023-04-29T14:18:12.616Z"
   },
   {
    "duration": 3,
    "start_time": "2023-04-29T14:18:12.627Z"
   },
   {
    "duration": 15,
    "start_time": "2023-04-29T14:18:12.631Z"
   },
   {
    "duration": 8,
    "start_time": "2023-04-29T14:18:12.648Z"
   },
   {
    "duration": 26,
    "start_time": "2023-04-29T14:18:12.672Z"
   },
   {
    "duration": 3,
    "start_time": "2023-04-29T14:18:12.699Z"
   },
   {
    "duration": 25,
    "start_time": "2023-04-29T14:18:12.703Z"
   },
   {
    "duration": 134,
    "start_time": "2023-04-29T14:18:12.729Z"
   },
   {
    "duration": 7,
    "start_time": "2023-04-29T14:18:12.865Z"
   },
   {
    "duration": 3327,
    "start_time": "2023-04-29T14:18:12.873Z"
   },
   {
    "duration": 235341,
    "start_time": "2023-04-29T14:18:16.202Z"
   },
   {
    "duration": 2,
    "start_time": "2023-04-29T14:22:11.545Z"
   },
   {
    "duration": 6,
    "start_time": "2023-04-29T14:22:11.549Z"
   },
   {
    "duration": 4797,
    "start_time": "2023-04-29T14:22:11.556Z"
   },
   {
    "duration": 3,
    "start_time": "2023-04-29T14:22:16.354Z"
   },
   {
    "duration": 14,
    "start_time": "2023-04-29T14:22:16.359Z"
   },
   {
    "duration": 190,
    "start_time": "2023-04-29T14:22:16.374Z"
   },
   {
    "duration": 7,
    "start_time": "2023-04-29T14:22:16.565Z"
   },
   {
    "duration": 5,
    "start_time": "2023-04-29T14:22:16.573Z"
   },
   {
    "duration": 7,
    "start_time": "2023-04-29T14:22:16.579Z"
   },
   {
    "duration": 70,
    "start_time": "2023-04-29T14:22:16.588Z"
   },
   {
    "duration": 15,
    "start_time": "2023-04-29T14:22:16.660Z"
   },
   {
    "duration": 39,
    "start_time": "2023-04-29T14:22:16.676Z"
   },
   {
    "duration": 10,
    "start_time": "2023-04-29T14:22:16.717Z"
   },
   {
    "duration": 23624,
    "start_time": "2023-04-29T14:22:16.728Z"
   },
   {
    "duration": 167,
    "start_time": "2023-04-29T14:22:40.354Z"
   },
   {
    "duration": 95,
    "start_time": "2023-04-29T14:22:40.522Z"
   },
   {
    "duration": 70,
    "start_time": "2023-04-29T14:22:40.618Z"
   },
   {
    "duration": 670,
    "start_time": "2023-04-29T14:22:40.689Z"
   },
   {
    "duration": 5,
    "start_time": "2023-04-29T14:22:41.360Z"
   },
   {
    "duration": 5,
    "start_time": "2023-04-29T14:22:41.372Z"
   },
   {
    "duration": 20,
    "start_time": "2023-04-29T14:22:41.379Z"
   },
   {
    "duration": 718,
    "start_time": "2023-04-29T14:22:41.400Z"
   },
   {
    "duration": 6,
    "start_time": "2023-04-29T14:22:42.120Z"
   },
   {
    "duration": 64,
    "start_time": "2023-04-29T14:22:42.128Z"
   },
   {
    "duration": 5,
    "start_time": "2023-04-29T14:22:42.194Z"
   },
   {
    "duration": 9,
    "start_time": "2023-04-29T14:22:42.200Z"
   },
   {
    "duration": 177,
    "start_time": "2023-04-29T14:22:42.210Z"
   },
   {
    "duration": 62,
    "start_time": "2023-04-29T14:22:42.389Z"
   },
   {
    "duration": 180,
    "start_time": "2023-04-29T14:22:42.453Z"
   },
   {
    "duration": 98,
    "start_time": "2023-04-29T14:22:42.634Z"
   },
   {
    "duration": 103,
    "start_time": "2023-04-29T14:22:42.734Z"
   },
   {
    "duration": 5,
    "start_time": "2023-04-29T14:22:42.838Z"
   },
   {
    "duration": 5,
    "start_time": "2023-04-29T14:22:42.845Z"
   },
   {
    "duration": 6,
    "start_time": "2023-04-29T14:22:42.851Z"
   },
   {
    "duration": 62,
    "start_time": "2023-04-29T14:22:42.858Z"
   },
   {
    "duration": 7,
    "start_time": "2023-04-29T14:22:42.921Z"
   },
   {
    "duration": 42,
    "start_time": "2023-04-29T14:22:42.930Z"
   },
   {
    "duration": 6,
    "start_time": "2023-04-29T14:22:42.973Z"
   },
   {
    "duration": 20,
    "start_time": "2023-04-29T14:22:42.980Z"
   },
   {
    "duration": 21,
    "start_time": "2023-04-29T14:22:43.001Z"
   },
   {
    "duration": 60,
    "start_time": "2023-04-29T14:22:53.180Z"
   }
  ],
  "kernelspec": {
   "display_name": "Python 3 (ipykernel)",
   "language": "python",
   "name": "python3"
  },
  "language_info": {
   "codemirror_mode": {
    "name": "ipython",
    "version": 3
   },
   "file_extension": ".py",
   "mimetype": "text/x-python",
   "name": "python",
   "nbconvert_exporter": "python",
   "pygments_lexer": "ipython3",
   "version": "3.9.5"
  },
  "toc": {
   "base_numbering": 1,
   "nav_menu": {},
   "number_sections": true,
   "sideBar": true,
   "skip_h1_title": true,
   "title_cell": "Table of Contents",
   "title_sidebar": "Contents",
   "toc_cell": false,
   "toc_position": {},
   "toc_section_display": true,
   "toc_window_display": false
  }
 },
 "nbformat": 4,
 "nbformat_minor": 2
}
